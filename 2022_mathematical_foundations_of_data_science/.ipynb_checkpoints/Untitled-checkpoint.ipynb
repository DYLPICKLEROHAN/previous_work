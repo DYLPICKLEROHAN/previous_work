{
 "cells": [
  {
   "cell_type": "markdown",
   "id": "841f0a3f",
   "metadata": {},
   "source": [
    "Dylan Rohan - a1844790\n",
    "***"
   ]
  },
  {
   "cell_type": "markdown",
   "id": "fc2c1c64",
   "metadata": {},
   "source": [
    "## Assessment 2: Functions, Probability and Linear Algebra"
   ]
  },
  {
   "cell_type": "code",
   "execution_count": 1,
   "id": "ef921960",
   "metadata": {},
   "outputs": [],
   "source": [
    "# Importing the modules needed for this assignment\n",
    "import pandas as pd \n",
    "import numpy as np\n",
    "import matplotlib.pyplot as plt\n",
    "import numpy as np\n",
    "import scipy.stats as stats\n",
    "import plotly.express as px\n",
    "import sklearn.metrics\n",
    "%matplotlib inline"
   ]
  },
  {
   "cell_type": "markdown",
   "id": "fbc4f203",
   "metadata": {},
   "source": [
    "### Question 1\n",
    "#### Question 1.a.i)\n",
    "This question can be interpreted as follows:\n",
    "\n",
    "We have distinct 'containers' (people), and 'objects' (scores) are not identical because the ranges differ between people. \n",
    "\n",
    "Interpretted this way:\n",
    "$$\n",
    "\\begin{aligned}\n",
    "n = 10 \\\\\n",
    "r = 5 \\\\\n",
    "\\\\\n",
    "combinations = 10^{5}\\\\\n",
    "combinations = 100000\n",
    "\\end{aligned}\n",
    "\\\\\n",
    "$$\n",
    "Five people with ten different options (assuming no two scorers put the same weight on any of the scores, eg. judge 1 and judge 2 having an equivalent threshold on what constitutes a score of 2) can produce 10,000 combinations.\n",
    "However, I'm yet to see a data scientist account for the differences in individual scoring interpretation; which makes me think that data scientist usually assume uniformity in scales. With this assumption:\n",
    "$$\n",
    "\\begin{array}{c}\n",
    "n = 10 \\\\\n",
    "r = 5 \\\\\n",
    "\\left(\\begin{array}{c}\n",
    "r+(n-1) \\\\\n",
    "r\n",
    "\\end{array}\\right)=\\left(\\begin{array}{c}\n",
    "5+(10-1) \\\\\n",
    "5\n",
    "\\end{array}\\right)=\\left(\\begin{array}{l}\n",
    "14 \\\\\n",
    "5\n",
    "\\end{array}\\right)\n",
    "\\end{array}\n",
    "$$\n",
    "<br/>\n",
    "$$\n",
    "\\begin{aligned}\n",
    "\\left(\\begin{array}{l}\n",
    "14 \\\\\n",
    "5\n",
    "\\end{array}\\right)=\\frac{14 !}{(14 -5) ! 5 !} &=\\frac{14 \\times 13 \\times 12 \\times 11 \\times 10 \\times 9!}{9 ! 5 !} \\\\\n",
    "&=2002\n",
    "\\end{aligned}\n",
    "$$\n",
    "\n",
    "\n",
    "This is interesting because it implies that a data scientist will only see 2002 possibilities when in reality there could be as many as 100,000!"
   ]
  },
  {
   "cell_type": "markdown",
   "id": "a6d1d899",
   "metadata": {},
   "source": [
    "#### Question 1.a.ii)\n",
    "Order is not important because Tom, Dick, and Harry is the same as Dick, Harry and Tom (a combination question), and repetition is not possible.\n",
    "\n",
    "$$\n",
    "{ }^n C_r=\\frac{n !}{(n-r) ! r !}\n",
    "$$\n",
    "$$\n",
    "{ }^{25} C_8=\\frac{25 !}{(25-8) ! 8 !}\n",
    "$$\n",
    "$$\n",
    "\\begin{array}{l}\n",
    "=\\frac{25 \\times 24 \\times 23 \\times 22 \\times 21 \\times 20 \\times 19 \\times 18 \\times 17 !}{17! \\times 8 !} \\\\\n",
    "=1,081575 \\quad\n",
    "\\end{array}\n",
    "$$\n",
    "\n",
    "There are 1,081575 possible groups"
   ]
  },
  {
   "cell_type": "markdown",
   "id": "14134cf4",
   "metadata": {},
   "source": [
    "#### Question 1.a.iii)\n",
    "This appears to relate to the line \"The number of ways of allocating r identical objects to n containers\" in the course material. However, I'm not sure if INDIVIDUAL popcorn pieces is meant to imply that they are distinct pieces and not identical.\n",
    "\n",
    "If they are not identical:\n",
    "On your first selection you have three options, same for your second, and third, etc.\n",
    "$$\n",
    "combinations = 3^{500}\\\\\n",
    "combinations = 3.636\\times10^{238}\n",
    "$$\n",
    "\n",
    "However, it's possible that the popcorn pieces are not meant to be interpretted as distinct. In which case:\n",
    "$$\n",
    "\\begin{aligned}\n",
    "\\left(\\begin{array}{l}\n",
    "500 +(3-1) \\\\\n",
    "3\n",
    "\\end{array}\\right)=\\frac{502!}{(502-3)!3!} &=\\frac{502 \\times 501 \\times 500 \\times 499 !}{499! 3!} \\\\\n",
    "&=20958500\n",
    "\\end{aligned}\n",
    "$$\n",
    "\n",
    "There are $3.636\\times10^{238}$ ways to distribute 500 distinct peices of popcorn into three bowls, but only $20958500$ ways to distribute 500 identical pieces of popcorn into three bowls; I suspect the course is after the second response but I'm having trouble interpretting the question."
   ]
  },
  {
   "cell_type": "markdown",
   "id": "523454a0",
   "metadata": {},
   "source": [
    "<span style=\"page-break-before: always !important\"></span>"
   ]
  },
  {
   "cell_type": "markdown",
   "id": "260a0023",
   "metadata": {},
   "source": [
    "#### Question 1.a.iv)\n",
    "$$\n",
    "\\text { Number of movies }=10+8+6=24\\\\\n",
    "\\text { Probability of a given genre:}\n",
    "$$\n",
    "\n",
    "$$\n",
    "\\begin{array}{l}\n",
    "\\operatorname{P}(H)=\\frac{10}{24}= \\frac{5}{12} \\\\\n",
    "\\operatorname{Pr}(C)=8 / 24=\\frac{1}{3} \\\\\n",
    "\\operatorname{Pr}(R)=6 / 24=\\frac{5}{4} \\\\\n",
    "\\end{array}\n",
    "$$\n",
    "\n",
    "$$\n",
    "\\text { Number of movies with positive reviews }=3+4+4=11\\\\\n",
    "\\text { Probability of a positive reiew, and genre given a positive review:}\n",
    "$$\n",
    "$$\n",
    "\\begin{array}{l}\n",
    "\\operatorname{Pr}(P)=11 / 24\\\\\n",
    "\\operatorname{Pr}(H \\backslash P)=\\frac{3}{11} \\\\\n",
    "\\operatorname{Pr}(C \\backslash P)=\\frac{4}{11} \\\\\n",
    "\\operatorname{Pr}(R \\backslash P)=\\frac{4}{11}\n",
    "\\end{array}\n",
    "$$\n",
    "$$\n",
    "\\text {Probability of a positive review positive review for a given genre}\n",
    "$$\n",
    "$$\n",
    "\\begin{array}{l}\n",
    "\\operatorname{Pr}(P \\backslash H)=\\frac{3}{10} \\\\\n",
    "\\operatorname{Pr}(P \\backslash C)=\\frac{4}{8}=\\frac{1}{2}\\\\\n",
    "\\operatorname{Pr}(P \\backslash R)=\\frac{4}{6}=\\frac{2}{3}\n",
    "\\end{array}\n",
    "$$\n",
    "\n",
    "As above $\\operatorname{Pr}(H \\backslash P)=3 / 11$ but you probably want to see:\n",
    "$$\n",
    "\\operatorname{Pr}(H \\backslash P)=\\frac{\\operatorname{Pr}(H) \\times \\operatorname{Pr}(P \\backslash H)}{\\operatorname{Pr}(P)}=\\frac{(\\frac{5}{12}) \\times(\\frac{3}{10})}{(\\frac{11}{24})} =\\frac{3}{11}\n",
    "$$\n",
    "\n",
    "The probability that you are watching a horror movie is $\\frac{3}{11}$."
   ]
  },
  {
   "cell_type": "markdown",
   "id": "1a55104b",
   "metadata": {},
   "source": [
    "#### Question 1.b.i)"
   ]
  },
  {
   "cell_type": "code",
   "execution_count": 2,
   "id": "67652adf",
   "metadata": {},
   "outputs": [
    {
     "name": "stdout",
     "output_type": "stream",
     "text": [
      "Table 1\n"
     ]
    },
    {
     "data": {
      "text/html": [
       "<div>\n",
       "<style scoped>\n",
       "    .dataframe tbody tr th:only-of-type {\n",
       "        vertical-align: middle;\n",
       "    }\n",
       "\n",
       "    .dataframe tbody tr th {\n",
       "        vertical-align: top;\n",
       "    }\n",
       "\n",
       "    .dataframe thead th {\n",
       "        text-align: right;\n",
       "    }\n",
       "</style>\n",
       "<table border=\"1\" class=\"dataframe\">\n",
       "  <thead>\n",
       "    <tr style=\"text-align: right;\">\n",
       "      <th></th>\n",
       "      <th>Words</th>\n",
       "      <th>Count (+ve)</th>\n",
       "      <th>Count (-ve)</th>\n",
       "      <th>Count (Total)</th>\n",
       "    </tr>\n",
       "  </thead>\n",
       "  <tbody>\n",
       "    <tr>\n",
       "      <th>0</th>\n",
       "      <td>recommend</td>\n",
       "      <td>81</td>\n",
       "      <td>57</td>\n",
       "      <td>138</td>\n",
       "    </tr>\n",
       "    <tr>\n",
       "      <th>1</th>\n",
       "      <td>hilarious</td>\n",
       "      <td>62</td>\n",
       "      <td>19</td>\n",
       "      <td>81</td>\n",
       "    </tr>\n",
       "    <tr>\n",
       "      <th>2</th>\n",
       "      <td>obvious</td>\n",
       "      <td>34</td>\n",
       "      <td>62</td>\n",
       "      <td>96</td>\n",
       "    </tr>\n",
       "    <tr>\n",
       "      <th>3</th>\n",
       "      <td>problems</td>\n",
       "      <td>31</td>\n",
       "      <td>30</td>\n",
       "      <td>61</td>\n",
       "    </tr>\n",
       "    <tr>\n",
       "      <th>4</th>\n",
       "      <td>awkward</td>\n",
       "      <td>8</td>\n",
       "      <td>6</td>\n",
       "      <td>14</td>\n",
       "    </tr>\n",
       "    <tr>\n",
       "      <th>5</th>\n",
       "      <td>boredom</td>\n",
       "      <td>0</td>\n",
       "      <td>12</td>\n",
       "      <td>12</td>\n",
       "    </tr>\n",
       "    <tr>\n",
       "      <th>6</th>\n",
       "      <td>Column totals</td>\n",
       "      <td>216</td>\n",
       "      <td>186</td>\n",
       "      <td>402</td>\n",
       "    </tr>\n",
       "  </tbody>\n",
       "</table>\n",
       "</div>"
      ],
      "text/plain": [
       "           Words  Count (+ve)  Count (-ve)  Count (Total)\n",
       "0      recommend           81           57            138\n",
       "1      hilarious           62           19             81\n",
       "2        obvious           34           62             96\n",
       "3       problems           31           30             61\n",
       "4        awkward            8            6             14\n",
       "5        boredom            0           12             12\n",
       "6  Column totals          216          186            402"
      ]
     },
     "execution_count": 2,
     "metadata": {},
     "output_type": "execute_result"
    }
   ],
   "source": [
    "words = ['recommend', 'hilarious', 'obvious', 'problems', 'awkward', 'boredom', 'Column totals']\n",
    "count_positive = [81, 62, 34, 31, 8, 0, 216]\n",
    "count_negative = [57, 19, 62, 30, 6, 12, 186]\n",
    "count_total =   [138, 81, 96, 61, 14, 12, 402]\n",
    "\n",
    "\n",
    "Qb = pd.concat([pd.Series(words, name = 'Words'), \n",
    "                  pd.Series(count_positive, name = 'Count (+ve)'),\n",
    "                  pd.Series(count_negative, name = 'Count (-ve)'),\n",
    "                  pd.Series(count_total, name = 'Count (Total)')], axis=1)\n",
    "print(\"Table 1\")\n",
    "Qb"
   ]
  },
  {
   "cell_type": "code",
   "execution_count": 3,
   "id": "f36828e8",
   "metadata": {},
   "outputs": [
    {
     "name": "stdout",
     "output_type": "stream",
     "text": [
      "See below the conditional probabilities table:\n"
     ]
    },
    {
     "data": {
      "text/html": [
       "<div>\n",
       "<style scoped>\n",
       "    .dataframe tbody tr th:only-of-type {\n",
       "        vertical-align: middle;\n",
       "    }\n",
       "\n",
       "    .dataframe tbody tr th {\n",
       "        vertical-align: top;\n",
       "    }\n",
       "\n",
       "    .dataframe thead th {\n",
       "        text-align: right;\n",
       "    }\n",
       "</style>\n",
       "<table border=\"1\" class=\"dataframe\">\n",
       "  <thead>\n",
       "    <tr style=\"text-align: right;\">\n",
       "      <th></th>\n",
       "      <th>Words</th>\n",
       "      <th>Count (+ve)</th>\n",
       "      <th>Count (-ve)</th>\n",
       "      <th>Count (Total)</th>\n",
       "    </tr>\n",
       "  </thead>\n",
       "  <tbody>\n",
       "    <tr>\n",
       "      <th>0</th>\n",
       "      <td>recommend</td>\n",
       "      <td>0.375000</td>\n",
       "      <td>0.306452</td>\n",
       "      <td>0.343284</td>\n",
       "    </tr>\n",
       "    <tr>\n",
       "      <th>1</th>\n",
       "      <td>hilarious</td>\n",
       "      <td>0.287037</td>\n",
       "      <td>0.102151</td>\n",
       "      <td>0.201493</td>\n",
       "    </tr>\n",
       "    <tr>\n",
       "      <th>2</th>\n",
       "      <td>obvious</td>\n",
       "      <td>0.157407</td>\n",
       "      <td>0.333333</td>\n",
       "      <td>0.238806</td>\n",
       "    </tr>\n",
       "    <tr>\n",
       "      <th>3</th>\n",
       "      <td>problems</td>\n",
       "      <td>0.143519</td>\n",
       "      <td>0.161290</td>\n",
       "      <td>0.151741</td>\n",
       "    </tr>\n",
       "    <tr>\n",
       "      <th>4</th>\n",
       "      <td>awkward</td>\n",
       "      <td>0.037037</td>\n",
       "      <td>0.032258</td>\n",
       "      <td>0.034826</td>\n",
       "    </tr>\n",
       "    <tr>\n",
       "      <th>5</th>\n",
       "      <td>boredom</td>\n",
       "      <td>0.000000</td>\n",
       "      <td>0.064516</td>\n",
       "      <td>0.029851</td>\n",
       "    </tr>\n",
       "  </tbody>\n",
       "</table>\n",
       "</div>"
      ],
      "text/plain": [
       "       Words  Count (+ve)  Count (-ve)  Count (Total)\n",
       "0  recommend     0.375000     0.306452       0.343284\n",
       "1  hilarious     0.287037     0.102151       0.201493\n",
       "2    obvious     0.157407     0.333333       0.238806\n",
       "3   problems     0.143519     0.161290       0.151741\n",
       "4    awkward     0.037037     0.032258       0.034826\n",
       "5    boredom     0.000000     0.064516       0.029851"
      ]
     },
     "execution_count": 3,
     "metadata": {},
     "output_type": "execute_result"
    }
   ],
   "source": [
    "print(\"See below the conditional probabilities table:\")\n",
    "Qb[\"Count (+ve)\"] =Qb[\"Count (+ve)\"].div(216)\n",
    "Qb[\"Count (-ve)\"] =Qb['Count (-ve)'].div(186)\n",
    "Qb[\"Count (Total)\"] =Qb[\"Count (Total)\"].div(402)\n",
    "Qb.iloc[0:6,:]"
   ]
  },
  {
   "cell_type": "markdown",
   "id": "0fcaeac7",
   "metadata": {},
   "source": [
    "#### Question 1.b.ii)\n",
    "$$\n",
    "\\begin{aligned}\n",
    "P(\\text { -ve\\\"awkward\" }) &=\\frac{\\operatorname{Pr}(-ve) \\times \\operatorname{Pr}(\\text { \"awkward\" \\ -ve) }}{\\operatorname{Pr}(\\text { \"awkward\") }} \\\\\n",
    "&=\\frac{\\left(\\frac{186}{402}\\right) \\times 0.0322258}{0.034826} \\\\\n",
    "&=0.429\n",
    "\\end{aligned}\n",
    "$$\n",
    "\n",
    "There is a 42.9% chance of a review being negative given it contains the word 'awkward'."
   ]
  },
  {
   "cell_type": "markdown",
   "id": "78c33672",
   "metadata": {},
   "source": [
    "#### Question 1.b.iii)\n",
    "$H=$ hilarious\n",
    "$O=$ obvious\n",
    "$P=$ problems\n",
    "$$\n",
    "\\operatorname{Pr}(+ve\\backslash H, O, P)=\\frac{\\operatorname{Pr}(H \\backslash+ve) \\times \\operatorname{Pr}(O \\backslash+ve) \\times \\operatorname{Pr}(P \\backslash+ve) \\times \\operatorname{Pr}(+ve)}{\\operatorname{Pr}(H, O, P)}\n",
    "$$\n",
    "$$\n",
    "\\begin{aligned}\n",
    "&=\\frac{0.287037 \\times 0.157407 \\times 0.143519 \\times\\left(\\frac{216}{402}\\right)}{\\operatorname{Pr}(H, 0, P)} \\\\\n",
    "&=\\frac{0.003484}{\\operatorname{Pr}(H, O, P)}\n",
    "\\end{aligned}\n",
    "$$\n",
    " <br />\n",
    "  <br />\n",
    "$$\n",
    "\\begin{aligned}\n",
    "\\operatorname{Pr}(-v e \\backslash H, O, P) &=\\frac{\\operatorname{Pr}(H \\backslash-v e) \\times \\operatorname{Pr}(O \\backslash-v e) \\times \\operatorname{Pr}(P\\backslash-v e) \\times \\operatorname{Pr}(\\text {-ve })}{\\operatorname{Pr}(H, O, P)} \\\\\n",
    "&=\\frac{0.102151 \\times\\left(\\frac{1}{3}\\right) \\times 0.161290 \\times\\left(\\frac{186}{402}\\right)}{\\operatorname{Pr}(H, O, P)} \\\\\n",
    "&=\\frac{0.002541}{\\operatorname{Pr}(H, O, P)}\n",
    "\\end{aligned}\n",
    "$$\n",
    "\n",
    "Such a review is more likely to be positive as the numerator is larger, and so $\\operatorname{Pr}(+ve\\backslash H, O, P)$ will always be larger than $\\operatorname{Pr}(-v e \\backslash H, O, P)$"
   ]
  },
  {
   "cell_type": "markdown",
   "id": "13a5d961",
   "metadata": {},
   "source": [
    "#### Question 1.b.iv)\n",
    "$B=$ \"boredom\"\n",
    "$R=$ \"recommend\"\n",
    "$$\n",
    "\\operatorname{Pr}(\\text { -ve } \\backslash B, R)=\\frac{\\operatorname{Pr}(B \\backslash-ve) \\times \\operatorname{Pr}(R\\backslash-ve) \\times \\operatorname{Pr}(\\text { -ve })}{\\operatorname{Pr}(B, R)}\n",
    "$$\n",
    "\n",
    "$$\n",
    "\\begin{aligned}\n",
    "&=\\frac{0 \\times 0.375000 \\times\\left(\\frac{216}{402}\\right)}{\\operatorname{Pr}(B, R)}\\\\\n",
    "&=\\frac{0}{\\operatorname{Pr}(B, R)}\n",
    "\\end{aligned}\n",
    "$$\n",
    " <br />\n",
    "  <br />\n",
    "   <br />\n",
    "$$\n",
    "\\begin{aligned}\n",
    "\\operatorname{Pr}(-v e \\mid B, R) &=\\frac{\\operatorname{Pr}(B \\backslash-v e) \\times \\operatorname{Pr}(R \\backslash-v e) \\times \\operatorname{Pr}(-v e)}{\\operatorname{Pr}(B, R)} \\\\\n",
    "&=\\frac{0.064516 \\times 0.306452 \\times\\left(\\frac{186}{407}\\right)}{\\operatorname{Pr}(B, R)}\\\\\n",
    "&=\\frac{0.009035}{\\operatorname{Pr}(B, R)}\n",
    "\\end{aligned}\n",
    "$$\n",
    "\n",
    "Based on the table, $\\operatorname{Pr}(\\text { -ve } \\backslash B, R)$ is equal to zero, so the review will be positive."
   ]
  },
  {
   "cell_type": "markdown",
   "id": "6a907932",
   "metadata": {},
   "source": [
    "#### Question 1.b.v)\n",
    "As the probability of 'boredom' occuring in a positive review is zero, it incorrectly assumes all new reviews with the word 'boredom' couldn't possibly be positive. This technique is therefore highly dependent on the assumption that the trainning data is representative of all possibilities."
   ]
  },
  {
   "cell_type": "markdown",
   "id": "ab72d2e0",
   "metadata": {},
   "source": [
    "#### Question 1.b.vi)"
   ]
  },
  {
   "cell_type": "code",
   "execution_count": 4,
   "id": "004e5fb5",
   "metadata": {},
   "outputs": [
    {
     "name": "stdout",
     "output_type": "stream",
     "text": [
      "Table 2\n"
     ]
    },
    {
     "data": {
      "text/html": [
       "<div>\n",
       "<style scoped>\n",
       "    .dataframe tbody tr th:only-of-type {\n",
       "        vertical-align: middle;\n",
       "    }\n",
       "\n",
       "    .dataframe tbody tr th {\n",
       "        vertical-align: top;\n",
       "    }\n",
       "\n",
       "    .dataframe thead th {\n",
       "        text-align: right;\n",
       "    }\n",
       "</style>\n",
       "<table border=\"1\" class=\"dataframe\">\n",
       "  <thead>\n",
       "    <tr style=\"text-align: right;\">\n",
       "      <th></th>\n",
       "      <th>Words</th>\n",
       "      <th>Count (+ve)</th>\n",
       "      <th>Count (-ve)</th>\n",
       "      <th>Count (Total)</th>\n",
       "    </tr>\n",
       "  </thead>\n",
       "  <tbody>\n",
       "    <tr>\n",
       "      <th>0</th>\n",
       "      <td>recommend</td>\n",
       "      <td>82</td>\n",
       "      <td>58</td>\n",
       "      <td>140</td>\n",
       "    </tr>\n",
       "    <tr>\n",
       "      <th>1</th>\n",
       "      <td>hilarious</td>\n",
       "      <td>63</td>\n",
       "      <td>20</td>\n",
       "      <td>83</td>\n",
       "    </tr>\n",
       "    <tr>\n",
       "      <th>2</th>\n",
       "      <td>obvious</td>\n",
       "      <td>35</td>\n",
       "      <td>63</td>\n",
       "      <td>98</td>\n",
       "    </tr>\n",
       "    <tr>\n",
       "      <th>3</th>\n",
       "      <td>problems</td>\n",
       "      <td>32</td>\n",
       "      <td>31</td>\n",
       "      <td>63</td>\n",
       "    </tr>\n",
       "    <tr>\n",
       "      <th>4</th>\n",
       "      <td>awkward</td>\n",
       "      <td>9</td>\n",
       "      <td>7</td>\n",
       "      <td>16</td>\n",
       "    </tr>\n",
       "    <tr>\n",
       "      <th>5</th>\n",
       "      <td>boredom</td>\n",
       "      <td>1</td>\n",
       "      <td>13</td>\n",
       "      <td>14</td>\n",
       "    </tr>\n",
       "    <tr>\n",
       "      <th>6</th>\n",
       "      <td>Column totals</td>\n",
       "      <td>222</td>\n",
       "      <td>192</td>\n",
       "      <td>414</td>\n",
       "    </tr>\n",
       "  </tbody>\n",
       "</table>\n",
       "</div>"
      ],
      "text/plain": [
       "           Words  Count (+ve)  Count (-ve)  Count (Total)\n",
       "0      recommend           82           58            140\n",
       "1      hilarious           63           20             83\n",
       "2        obvious           35           63             98\n",
       "3       problems           32           31             63\n",
       "4        awkward            9            7             16\n",
       "5        boredom            1           13             14\n",
       "6  Column totals          222          192            414"
      ]
     },
     "execution_count": 4,
     "metadata": {},
     "output_type": "execute_result"
    }
   ],
   "source": [
    "words = ['recommend', 'hilarious', 'obvious', 'problems', 'awkward', 'boredom', 'Column totals']\n",
    "count_positive = [81, 62, 34, 31, 8, 0, 221]\n",
    "count_negative = [57, 19, 62, 30, 6, 12, 191]\n",
    "count_total =   [139, 82, 97, 62, 15, 13, 413]\n",
    "\n",
    "\n",
    "Qb = pd.concat([pd.Series(words, name = 'Words'), \n",
    "                  pd.Series(count_positive, name = 'Count (+ve)'),\n",
    "                  pd.Series(count_negative, name = 'Count (-ve)'),\n",
    "                  pd.Series(count_total, name = 'Count (Total)')], axis=1)\n",
    "\n",
    "print(\"Table 2\")\n",
    "Qb.iloc[:,1:] = Qb.iloc[:,1:]+1\n",
    "Qb\n"
   ]
  },
  {
   "cell_type": "code",
   "execution_count": 12,
   "id": "635dc197",
   "metadata": {},
   "outputs": [
    {
     "name": "stdout",
     "output_type": "stream",
     "text": [
      "See below the conditional probabilities for table 2 :\n"
     ]
    },
    {
     "data": {
      "text/html": [
       "<div>\n",
       "<style scoped>\n",
       "    .dataframe tbody tr th:only-of-type {\n",
       "        vertical-align: middle;\n",
       "    }\n",
       "\n",
       "    .dataframe tbody tr th {\n",
       "        vertical-align: top;\n",
       "    }\n",
       "\n",
       "    .dataframe thead th {\n",
       "        text-align: right;\n",
       "    }\n",
       "</style>\n",
       "<table border=\"1\" class=\"dataframe\">\n",
       "  <thead>\n",
       "    <tr style=\"text-align: right;\">\n",
       "      <th></th>\n",
       "      <th>Words</th>\n",
       "      <th>Count (+ve)</th>\n",
       "      <th>Count (-ve)</th>\n",
       "      <th>Count (Total)</th>\n",
       "    </tr>\n",
       "  </thead>\n",
       "  <tbody>\n",
       "    <tr>\n",
       "      <th>0</th>\n",
       "      <td>recommend</td>\n",
       "      <td>0.001664</td>\n",
       "      <td>0.001573</td>\n",
       "      <td>0.000817</td>\n",
       "    </tr>\n",
       "    <tr>\n",
       "      <th>1</th>\n",
       "      <td>hilarious</td>\n",
       "      <td>0.001278</td>\n",
       "      <td>0.000543</td>\n",
       "      <td>0.000484</td>\n",
       "    </tr>\n",
       "    <tr>\n",
       "      <th>2</th>\n",
       "      <td>obvious</td>\n",
       "      <td>0.000710</td>\n",
       "      <td>0.001709</td>\n",
       "      <td>0.000572</td>\n",
       "    </tr>\n",
       "    <tr>\n",
       "      <th>3</th>\n",
       "      <td>problems</td>\n",
       "      <td>0.000649</td>\n",
       "      <td>0.000841</td>\n",
       "      <td>0.000368</td>\n",
       "    </tr>\n",
       "    <tr>\n",
       "      <th>4</th>\n",
       "      <td>awkward</td>\n",
       "      <td>0.000183</td>\n",
       "      <td>0.000190</td>\n",
       "      <td>0.000093</td>\n",
       "    </tr>\n",
       "    <tr>\n",
       "      <th>5</th>\n",
       "      <td>boredom</td>\n",
       "      <td>0.000020</td>\n",
       "      <td>0.000353</td>\n",
       "      <td>0.000082</td>\n",
       "    </tr>\n",
       "  </tbody>\n",
       "</table>\n",
       "</div>"
      ],
      "text/plain": [
       "       Words  Count (+ve)  Count (-ve)  Count (Total)\n",
       "0  recommend     0.001664     0.001573       0.000817\n",
       "1  hilarious     0.001278     0.000543       0.000484\n",
       "2    obvious     0.000710     0.001709       0.000572\n",
       "3   problems     0.000649     0.000841       0.000368\n",
       "4    awkward     0.000183     0.000190       0.000093\n",
       "5    boredom     0.000020     0.000353       0.000082"
      ]
     },
     "execution_count": 12,
     "metadata": {},
     "output_type": "execute_result"
    }
   ],
   "source": [
    "print(\"See below the conditional probabilities for table 2 :\")\n",
    "Qb[\"Count (+ve)\"] =Qb[\"Count (+ve)\"].div(222)\n",
    "Qb[\"Count (-ve)\"] =Qb['Count (-ve)'].div(192)\n",
    "Qb[\"Count (Total)\"] =Qb[\"Count (Total)\"].div(414)\n",
    "Qb.iloc[0:6,:]"
   ]
  },
  {
   "cell_type": "markdown",
   "id": "fb232c75",
   "metadata": {},
   "source": [
    "#### Recalculating with the la place smoothing technique:\n",
    "$$\n",
    "\\begin{aligned}\n",
    "\\operatorname{Pr}(+ve\\backslash B, R) &=\\frac{\\operatorname{Pr}(B\\backslash+ve) \\times \\operatorname{Pr}(R\\backslash+ve) \\times \\operatorname{Pr}(+ve)}{\\operatorname{Pr}(B, R)} \\\\\n",
    "&=\\frac{0.004505 \\times 0.369369 \\times\\left(\\frac{222}{414}\\right)}{\\operatorname{Pr}(B, R)} \\\\\n",
    "&=\\frac{0.000892}{\\text { Pr(B, R) }}\n",
    "\\end{aligned}\n",
    "$$\n",
    " <br />\n",
    "  <br />\n",
    "   <br />\n",
    "$$\n",
    "\\begin{aligned}\n",
    "\\operatorname{Pr}(-ve \\backslash B, R) &=\\frac{\\operatorname{Pr}(B \\backslash-ve) \\times \\operatorname{Pr}(R\\backslash-ve) \\times \\operatorname{Pr}(-ve)}{\\operatorname{Pr}(B, R)} \\\\\n",
    "&=\\frac{0.067708 \\times 0.302083 \\times\\left(\\frac{192}{414}\\right)}{\\operatorname{Pr}(B, R)} \\\\\n",
    "&=\\frac{0.009486}{\\operatorname{Pr}(B, R)}\n",
    "\\end{aligned}\n",
    "$$\n",
    "\n",
    "Such a review is more likely to be negative as $\\operatorname{Pr}(-v e \\backslash B, R)$ will always be greater than $\\operatorname{Pr}(+v e \\backslash B, R)$ as a result of the difference in numerators but a common denominator."
   ]
  },
  {
   "cell_type": "markdown",
   "id": "484f145c",
   "metadata": {},
   "source": [
    "### Question 2\n",
    "#### Question 2.a.i)\n",
    "$$\n",
    "X=\\left[\\begin{array}{lll}\n",
    "1 & 0 & 0 \\\\\n",
    "1 & 3 & 9 \\\\\n",
    "1 & 6 & 36\n",
    "\\end{array}\\right]\n",
    "$$\n",
    " <br />\n",
    "$$\n",
    "X^{\\top} X=\\left[\\begin{array}{lll}\n",
    "1 & 1 & 1 \\\\\n",
    "0 & 3 & 6 \\\\\n",
    "0 & 9 & 36\n",
    "\\end{array}\\right]\\left[\\begin{array}{lll}\n",
    "1 & 0 & 0 \\\\\n",
    "1 & 3 & 9 \\\\\n",
    "1 & 6 & 36\n",
    "\\end{array}\\right]\n",
    "$$\n",
    " <br />\n",
    "$$\n",
    "=\\left[\\begin{array}{lll}\n",
    "1+1+1 & 0+3+6 & 0+9+36 \\\\\n",
    "0+3+6 & 0+9+36 & 0+27+216 \\\\\n",
    "0+9+36 & 0+27+216 & 0+81+1296\n",
    "\\end{array}\\right]\n",
    "$$\n",
    " <br />\n",
    "$$\n",
    "=\\left[\\begin{array}{ccc}\n",
    "3 & 9 & 45 \\\\\n",
    "9 & 45 & 243 \\\\\n",
    "45 & 243 & 1377\n",
    "\\end{array}\\right]\n",
    "$$\n",
    "\n",
    "So $X^TX = \\left[\\begin{array}{ccc}\n",
    "3 & 9 & 45 \\\\\n",
    "9 & 45 & 243 \\\\\n",
    "45 & 243 & 1377\n",
    "\\end{array}\\right]\n",
    "$"
   ]
  },
  {
   "cell_type": "markdown",
   "id": "1ce0b80c",
   "metadata": {},
   "source": [
    "#### Question 2.a.ii)\n",
    "$$\n",
    "\\left(X^{\\top} X\\right)^{-1}=\\left[\\begin{array}{ccc|ccc}\n",
    "3 & 9 & 45 & 1 & 0 & 0 \\\\\n",
    "9 & 45 & 243 & 0 & 1 & 0 \\\\\n",
    "45 & 243 & 1377 & 0 & 0 & 1\n",
    "\\end{array}\\right]\n",
    "$$\n",
    " <br />\n",
    "$$\n",
    "R_1 \\rightarrow R_1 / 3=\\left[\\begin{array}{ccc|ccc}\n",
    "1 & 3 & 15 & \\frac{1}{3} & 0 & 0 \\\\\n",
    "9 & 45 & 243 & 0 & 1 & 0 \\\\\n",
    "45 & 243 & 1377 & 0 & 0 & 1\n",
    "\\end{array}\\right]\n",
    "$$\n",
    " <br />\n",
    "$$\n",
    "R_2 \\rightarrow R_2-9 R_1=\\left[\\begin{array}{ccc|ccc}\n",
    "1 & 3 & 15 & \\frac{1}{3} & 0 & 0 \\\\\n",
    "0 & 18 & 108 & -3 & 1 & 0 \\\\\n",
    "45 & 243 & 1377 & 0 & 0 & 1\n",
    "\\end{array}\\right]\n",
    "$$\n",
    " <br />\n",
    "$$\n",
    "R_3 \\rightarrow R_3-45 \\times R_1=\\left[\\begin{array}{ccc|ccc}\n",
    "1 & 3 & 15 & \\frac{1}{3} & 0 & 0 \\\\\n",
    "0 & 18 & 108 & -3 & 1 & 0 \\\\\n",
    "0 & 108 & 702 & -15 & 0 & 1\n",
    "\\end{array}\\right]\n",
    "$$\n",
    " <br />\n",
    "$$\n",
    "R_2 \\rightarrow R_2 / 18=\\left[\\begin{array}{ccc|cccc}\n",
    "1 & 3 & 15 & \\frac{1}{3} & 0 & 0 \\\\\n",
    "0 & 1 & 6 & \\frac{-1}{6}& \\frac{1}{18} & 0 \\\\\n",
    "0 & 108 & 702 & -15 & 0 & 1\n",
    "\\end{array}\\right]\n",
    "$$\n",
    " <br />\n",
    "$$\n",
    "R_3 \\rightarrow R_3-108 R_2=\\left[\\begin{array}{ccc|ccc}\n",
    "1 & 3 & 15 & \\frac{1}{3} & 0 & 0 \\\\\n",
    "0 & 1 & 6 & \\frac{-1}{6} & \\frac{1}{18} & 0 \\\\\n",
    "0 & 0 & 54 & 3 & -6 & 1\n",
    "\\end{array}\\right]\n",
    "$$\n",
    " <br />\n",
    "$$\n",
    "\\begin{aligned}\n",
    "R_3 \\rightarrow R_3 / 54 &=\\left[\\begin{array}{lll|lll}\n",
    "1 & 3 & 15 & \\frac{1}{3} & 0 &0\\\\\n",
    "0 & 1 & 6 & \\frac{-1}{6} & \\frac{1}{18} & 0 \\\\\n",
    "0 & 0 & 1 & \\frac{1}{18} & \\frac{-1}{9} & \\frac{1}{54}\n",
    "\\end{array}\\right]\n",
    "\\end{aligned}\n",
    "$$\n",
    " <br />\n",
    "$$\n",
    "R_2 \\rightarrow R_2-R_3=\\left[\\begin{array}{ccc|ccc}\n",
    "1 & 3 & 15 & \\frac{1}{3} & 0 & 0 \\\\\n",
    "0 & 1 & 5 & \\frac{-2}{9} & \\frac{1}{6} & -\\frac{1}{54} \\\\\n",
    "0 & 0 & 1 & \\frac{1}{18} & \\frac{-1}{9} & \\frac{1}{54}\n",
    "\\end{array}\\right]\n",
    "$$\n",
    " <br />\n",
    "$$\n",
    "R_1 \\rightarrow R_1-3 R_2=\\left[\\begin{array}{ccc|ccc}\n",
    "1 & 0 & 0 & 1 & \\frac{-1}{2} & \\frac{1}{18} \\\\\n",
    "0 & 1 & 5 & \\frac{-2}{9} & \\frac{1}{6} & \\frac{-1}{54} \\\\\n",
    "0 & 0 & 1 & \\frac{1}{18} & \\frac{-1}{9} & \\frac{1}{54}\n",
    "\\end{array}\\right]\n",
    "$$\n",
    " <br />\n",
    "$$\n",
    "R_2 \\rightarrow R_2-5 R_3=\\left[\\begin{array}{lll|ccc}\n",
    "1 & 0 & 0 & 1 & \\frac{-1}{2} & \\frac{1}{18} \\\\\n",
    "0 & 1 & 0 & \\frac{-1}{2} & \\frac{13}{18} & \\frac{-1}{9} \\\\\n",
    "0 & 0 & 1 & \\frac{1}{18} & \\frac{-1}{9} & \\frac{1}{54}\n",
    "\\end{array}\\right]\n",
    "$$\n",
    " <br />\n",
    "And so $\n",
    "\\left(X^{\\top} X\\right)^{-1}=\\left[\\begin{array}{ccc}\n",
    "1 & \\frac{-1}{2} & \\frac{1}{18} \\\\\n",
    "\\frac{-1}{2} & \\frac{13}{18} & \\frac{-1}{9} \\\\\n",
    "\\frac{1}{18} & \\frac{-1}{9} & \\frac{1}{54}\n",
    "\\end{array}\\right]\n",
    "$\n"
   ]
  },
  {
   "cell_type": "markdown",
   "id": "e5555586",
   "metadata": {},
   "source": [
    "#### Question 2.a.iii)\n",
    "$$\n",
    "\\hat{\\beta}=\\left(x^{\\top} x\\right)^{-1} x^{\\top} y\n",
    "$$\n",
    " <br />\n",
    "$$\n",
    "\\hat{\\beta}=\\left[\\begin{array}{ccc}\n",
    "1 & \\frac{-1}{2} & \\frac{1}{18} \\\\\n",
    "\\frac{-1}{2} & \\frac{13}{18} & \\frac{-1}{9} \\\\\n",
    "\\frac{1}{18} & \\frac{-1}{9} & \\frac{1}{54}\n",
    "\\end{array}\\right]\\left[\\begin{array}{lll}\n",
    "1 & 1 & 1 \\\\\n",
    "0 & 3 & 6 \\\\\n",
    "0 & 9 & 36\n",
    "\\end{array}\\right] \\times\\left[\\begin{array}{l}\n",
    "34 \\\\\n",
    "17 \\\\\n",
    "20\n",
    "\\end{array}\\right]\n",
    "$$\n",
    " <br />\n",
    "$$\n",
    "=\\left[\\begin{array}{ccc}\n",
    "1+0+0 & 1-\\frac{3}{2}+\\frac{1}{2}& 1-3+2 \\\\\n",
    "\\frac{-1}{2} +0+0 & \\frac{-1}{2}+\\frac{13}{6}-1 & \\frac{-1}{2}+\\frac{13}{3}-4 \\\\\n",
    "\\frac{1}{18}+0+0 & \\frac{1}{18}-\\frac{1}{3}+\\frac{1}{6} & \\frac{1}{18}-\\frac{2}{3}+\\frac{2}{3}\n",
    "\\end{array}\\right]\\left[\\begin{array}{l}\n",
    "34 \\\\\n",
    "17 \\\\\n",
    "20\n",
    "\\end{array}\\right]\n",
    "$$\n",
    " <br />\n"
   ]
  },
  {
   "cell_type": "markdown",
   "id": "298894b3",
   "metadata": {},
   "source": [
    "$$\n",
    "=\\left[\\begin{array}{ccc}\n",
    "1 & 0 & 0 \\\\\n",
    "\\frac{-1}{2} & \\frac{2}{3} & \\frac{-1}{6} \\\\\n",
    "\\frac{1}{18} & \\frac{-1}{9} & \\frac{1}{18}\n",
    "\\end{array}\\right]\\left[\\begin{array}{c}\n",
    "34 \\\\\n",
    "17 \\\\\n",
    "20\n",
    "\\end{array}\\right]\n",
    "$$\n",
    " <br />\n",
    "$$\n",
    "=\\left[\\begin{array}{l}\n",
    "34+0+0 \\\\\n",
    "-17+\\frac{34}{3}-\\frac{10}{3} \\\\\n",
    "\\frac{17}{9}-\\frac{17}{9}+\\frac{10}{9}\n",
    "\\end{array}\\right]\n",
    "$$\n",
    " <br />\n",
    "$$\n",
    "\\hat{\\beta}=\\left[\\begin{array}{c}\n",
    "34 \\\\\n",
    "-9 \\\\\n",
    "\\frac{10}{9}\n",
    "\\end{array}\\right]\n",
    "$$\n",
    "\n",
    "This can be interpreted as $\\beta_0 = 34$, $\\hat{\\beta}_1 = -9$, and $\\hat{\\beta}_{2} = \\frac{10}{9}$.\n"
   ]
  },
  {
   "cell_type": "markdown",
   "id": "836e7bbd",
   "metadata": {},
   "source": [
    "#### Question 2.a.iv)\n",
    "$$\n",
    "y=\\beta_0+\\hat{\\beta}_1 x^2_{1i}+\\hat{\\beta}_2x_{2 i}+\\varepsilon_i\\\\\n",
    "y=34-9 x^2_{1i}+\\frac{10}{9}x_{2 i}+\\varepsilon_i\n",
    "$$\n",
    " <br />\n",
    "$$\n",
    "\\begin{array}{l}\n",
    "\\text{When } (x,y) = (0, 34):\\\\\n",
    "34=34+-9(0)+\\frac{10}{9}(0)+\\varepsilon_1 \\\\\n",
    "34=34+\\varepsilon_1 \\quad \\therefore \\varepsilon_1=0\n",
    "\\end{array}\n",
    "$$\n",
    " <br />\n",
    "$$\n",
    "\\begin{array}{l}\\\n",
    "\\text{When } (x,y) = (3, 17):\\\\\n",
    "17=34-9(3)+\\frac{10}{9}(9)+\\varepsilon_2 \\\\\n",
    "17=34-27+10+\\varepsilon_2, \\quad \\therefore \\varepsilon_2=0\n",
    "\\end{array}\n",
    "$$\n",
    " <br />\n",
    "$$\n",
    "\\begin{array}{l}\n",
    "\\text{When } (x,y) = (6, 20):\\\\\n",
    "20=34-9(6)+\\frac{10}{9}(36)+\\varepsilon_3 \\\\\n",
    "20=34-54+40+\\varepsilon_3,\\quad \\therefore \\varepsilon_3=0\n",
    "\\end{array}\n",
    "$$\n",
    "\n",
    "The error terms are zero because the residuals of each point are zero.\n",
    "The model perfectly predicts the equation because there can be no variation in y for any value of x, therfore there will be no noise or error associated with the curve. "
   ]
  },
  {
   "cell_type": "markdown",
   "id": "8da2ccf8",
   "metadata": {},
   "source": [
    "#### Question 2.b"
   ]
  },
  {
   "cell_type": "code",
   "execution_count": 6,
   "id": "c817e964",
   "metadata": {},
   "outputs": [
    {
     "data": {
      "text/html": [
       "<div>\n",
       "<style scoped>\n",
       "    .dataframe tbody tr th:only-of-type {\n",
       "        vertical-align: middle;\n",
       "    }\n",
       "\n",
       "    .dataframe tbody tr th {\n",
       "        vertical-align: top;\n",
       "    }\n",
       "\n",
       "    .dataframe thead th {\n",
       "        text-align: right;\n",
       "    }\n",
       "</style>\n",
       "<table border=\"1\" class=\"dataframe\">\n",
       "  <thead>\n",
       "    <tr style=\"text-align: right;\">\n",
       "      <th></th>\n",
       "      <th>activation</th>\n",
       "      <th>trading_error</th>\n",
       "    </tr>\n",
       "  </thead>\n",
       "  <tbody>\n",
       "    <tr>\n",
       "      <th>0</th>\n",
       "      <td>4.327314</td>\n",
       "      <td>22.544251</td>\n",
       "    </tr>\n",
       "    <tr>\n",
       "      <th>1</th>\n",
       "      <td>4.852512</td>\n",
       "      <td>31.717818</td>\n",
       "    </tr>\n",
       "    <tr>\n",
       "      <th>2</th>\n",
       "      <td>9.430645</td>\n",
       "      <td>46.129748</td>\n",
       "    </tr>\n",
       "    <tr>\n",
       "      <th>3</th>\n",
       "      <td>7.123846</td>\n",
       "      <td>21.546863</td>\n",
       "    </tr>\n",
       "    <tr>\n",
       "      <th>4</th>\n",
       "      <td>5.372109</td>\n",
       "      <td>32.469794</td>\n",
       "    </tr>\n",
       "    <tr>\n",
       "      <th>...</th>\n",
       "      <td>...</td>\n",
       "      <td>...</td>\n",
       "    </tr>\n",
       "    <tr>\n",
       "      <th>136</th>\n",
       "      <td>3.709443</td>\n",
       "      <td>20.600183</td>\n",
       "    </tr>\n",
       "    <tr>\n",
       "      <th>137</th>\n",
       "      <td>6.128338</td>\n",
       "      <td>41.701795</td>\n",
       "    </tr>\n",
       "    <tr>\n",
       "      <th>138</th>\n",
       "      <td>6.447178</td>\n",
       "      <td>46.103249</td>\n",
       "    </tr>\n",
       "    <tr>\n",
       "      <th>139</th>\n",
       "      <td>4.340873</td>\n",
       "      <td>15.436870</td>\n",
       "    </tr>\n",
       "    <tr>\n",
       "      <th>140</th>\n",
       "      <td>6.620448</td>\n",
       "      <td>38.509721</td>\n",
       "    </tr>\n",
       "  </tbody>\n",
       "</table>\n",
       "<p>141 rows × 2 columns</p>\n",
       "</div>"
      ],
      "text/plain": [
       "     activation  trading_error\n",
       "0      4.327314      22.544251\n",
       "1      4.852512      31.717818\n",
       "2      9.430645      46.129748\n",
       "3      7.123846      21.546863\n",
       "4      5.372109      32.469794\n",
       "..          ...            ...\n",
       "136    3.709443      20.600183\n",
       "137    6.128338      41.701795\n",
       "138    6.447178      46.103249\n",
       "139    4.340873      15.436870\n",
       "140    6.620448      38.509721\n",
       "\n",
       "[141 rows x 2 columns]"
      ]
     },
     "execution_count": 6,
     "metadata": {},
     "output_type": "execute_result"
    }
   ],
   "source": [
    "# Reading in the csv file\n",
    "df = pd.read_csv('simulated_sentiment_data_t5.csv')\n",
    "df"
   ]
  },
  {
   "cell_type": "code",
   "execution_count": 17,
   "id": "f5fa3516",
   "metadata": {},
   "outputs": [
    {
     "data": {
      "application/vnd.plotly.v1+json": {
       "config": {
        "plotlyServerURL": "https://plot.ly"
       },
       "data": [
        {
         "hovertemplate": "Emotional Activation=%{x}<br>Trading Error=%{y}<extra></extra>",
         "legendgroup": "",
         "marker": {
          "color": "#636efa",
          "symbol": "circle"
         },
         "mode": "markers",
         "name": "",
         "orientation": "v",
         "showlegend": false,
         "type": "scatter",
         "x": [
          4.32731368023308,
          4.85251156386622,
          9.4306450723044,
          7.12384565911605,
          5.37210874557675,
          5.0469345907603,
          4.74162467477847,
          2.89016254715273,
          1.37348651795886,
          2.35562880081556,
          8.5230052499702,
          6.52548211843175,
          7.4186109921538,
          5.0242335813117,
          6.22845693710175,
          7.7442276708912,
          1.28931819777686,
          0.93453189897442,
          8.38004086320425,
          8.37610381553975,
          5.49236488648935,
          3.44131763061174,
          8.9368037403081,
          2.93354628263577,
          5.9673364702815,
          3.55069663414336,
          3.68956851990096,
          1.80672194796853,
          8.08871781892095,
          2.33328204510018,
          4.33339831671262,
          1.63308375283687,
          0.875917142663095,
          6.87311922207895,
          0.0868943421305095,
          3.36576876276647,
          0.0217658216837509,
          5.0470502397476,
          4.46232802435166,
          3.31797374617736,
          8.8672146353351,
          2.6670049911551,
          0.698295019094565,
          0.497708088715471,
          8.7725446192811,
          0.957686279498755,
          4.05195736436877,
          8.7409352244172,
          6.4391371893666,
          3.9447546334268,
          3.31837220149413,
          3.51231973504117,
          1.30295034584028,
          8.8945758110503,
          8.6075321519783,
          5.4393079945335,
          4.66648968428601,
          1.23527947727203,
          7.81759344841055,
          5.5391075802591,
          6.95519974360425,
          9.73068132494305,
          0.113217862730002,
          5.80811918674485,
          6.0188311232315,
          2.66109277377502,
          0.769946770125075,
          7.87768730881355,
          4.33227157759831,
          7.85073158030035,
          3.34916602421126,
          9.6841415552248,
          3.95773320385896,
          0.455818663570865,
          0.367819366724852,
          3.91058684674622,
          9.71669839830545,
          7.2837489411696,
          8.32706450117375,
          0.603025214510705,
          2.61187162488179,
          2.66381099861757,
          9.9461154497363,
          3.18894022809851,
          8.5060050267381,
          0.0093941369549213,
          2.20664473067158,
          2.92973656484734,
          9.54408810322815,
          3.1279234392095,
          8.80232943349335,
          3.44845644272189,
          6.0773637045981,
          1.1478353989803,
          8.8837542992702,
          0.850340134337585,
          0.939213781280755,
          1.27090817414524,
          5.64053542652645,
          2.6738211054594,
          1.18635395609726,
          4.05551424893499,
          1.99717539451032,
          9.1647167726009,
          0.186604887868871,
          6.5739337008851,
          4.9173890833864,
          8.6224240226132,
          4.49732914424616,
          3.17900144304072,
          9.2790187267053,
          2.18809169053669,
          2.35090028559352,
          0.386638525476755,
          2.78461668510013,
          1.10781013755523,
          3.80882655707198,
          3.54365755831425,
          9.46599371046515,
          5.1234004878306,
          2.84504074158803,
          6.6944844035716,
          2.06181775193082,
          3.28324846799991,
          7.5055931037398,
          3.65026394471271,
          7.35715638214945,
          2.21055061335929,
          9.52129739694865,
          3.40313583753682,
          8.72276628849105,
          5.9992121703569,
          8.9554431989443,
          7.7741393843302,
          9.4585267121445,
          5.1560424687605,
          3.70944311769761,
          6.12833782145015,
          6.44717828072975,
          4.3408733567502,
          6.62044821666725
         ],
         "xaxis": "x",
         "y": [
          22.544250825331,
          31.7178176660132,
          46.1297480347581,
          21.5468633442691,
          32.4697936615763,
          30.6430166026949,
          20.9948136370331,
          24.806642932345,
          33.5658109051195,
          33.4558354517886,
          26.1196782020301,
          15.6589154865495,
          39.0327690738042,
          29.0318181219868,
          25.4336800734793,
          25.5460119899252,
          15.2902769259419,
          7.94334120430906,
          13.7909233119171,
          18.2178394965907,
          12.5487780946572,
          32.7266777476104,
          34.6794659081145,
          17.4465374322218,
          11.3083999785168,
          23.4680668566714,
          9.28208781011508,
          13.5132807903588,
          36.2445494514251,
          28.1932550161874,
          20.6765179144549,
          11.2271971053142,
          34.0414688821722,
          35.6952408906539,
          44.0418853164388,
          14.8841449157641,
          26.1924485051198,
          27.3384698057032,
          20.0710729193504,
          5.03401427470632,
          38.2384422488018,
          35.1840860866609,
          45.7810660382479,
          18.7796367643232,
          22.2791426950039,
          13.8745968508398,
          32.3850355807128,
          9.34474362708547,
          14.2588399372621,
          62.3717611479092,
          32.428617320792,
          26.3026096157325,
          24.5891502721859,
          58.497860914421,
          15.324886622007,
          16.1547363335795,
          11.6244804775505,
          37.4119264019219,
          53.9383633832574,
          12.5473772810249,
          28.3778581090766,
          54.4657749672199,
          27.6193604393047,
          27.9482278989888,
          6.10352163686366,
          21.4087491978475,
          29.6092001645629,
          35.3681212193286,
          10.9900187658797,
          36.5201684905566,
          20.2194842971757,
          48.2670877872447,
          11.1556804610181,
          27.2108702074617,
          28.9808214296778,
          18.9664778507185,
          45.8327620251146,
          43.7552743349075,
          25.6933059910538,
          22.2555335724943,
          45.4844934364269,
          18.4995868577439,
          30.3589646391126,
          22.856390650325,
          30.31718220189,
          34.0237417092951,
          6.79492028995504,
          23.8053857238351,
          31.4083752788849,
          35.9436474377793,
          22.0324408924837,
          22.8279146399836,
          20.3510187085427,
          44.7934544766324,
          31.4483466965861,
          32.4096704621338,
          40.0999529819677,
          30.6550972339972,
          8.48129585837671,
          26.9156952944748,
          50.5872881311762,
          24.8426003893912,
          28.9753107119148,
          28.9455380013846,
          23.4331719830788,
          35.5713081156916,
          10.6705387294094,
          24.3028897063948,
          15.9141689245552,
          28.1441406093758,
          19.7850047348949,
          41.3899995478393,
          23.4470588611979,
          18.9153555331824,
          17.8463602151374,
          16.3274365616769,
          30.7054642402539,
          15.1063573873677,
          19.2319021107721,
          24.8138921463161,
          26.7475581373361,
          22.2600354374174,
          37.059933179826,
          32.1744115792848,
          38.9057941125917,
          15.799198771976,
          32.792528494443,
          22.1837752073353,
          32.7375346000981,
          16.0608151886093,
          42.8603998360256,
          35.4300811637252,
          53.5361583182407,
          23.4209121822077,
          78.6082157933937,
          7.32716447751762,
          20.6001832045891,
          41.7017954643257,
          46.1032487951377,
          15.4368703416016,
          38.5097210068091
         ],
         "yaxis": "y"
        },
        {
         "alignmentgroup": "True",
         "bingroup": "x",
         "hovertemplate": "Emotional Activation=%{x}<br>count=%{y}<extra></extra>",
         "legendgroup": "",
         "marker": {
          "color": "#636efa"
         },
         "name": "",
         "offsetgroup": "",
         "opacity": 0.5,
         "showlegend": false,
         "type": "histogram",
         "x": [
          4.32731368023308,
          4.85251156386622,
          9.4306450723044,
          7.12384565911605,
          5.37210874557675,
          5.0469345907603,
          4.74162467477847,
          2.89016254715273,
          1.37348651795886,
          2.35562880081556,
          8.5230052499702,
          6.52548211843175,
          7.4186109921538,
          5.0242335813117,
          6.22845693710175,
          7.7442276708912,
          1.28931819777686,
          0.93453189897442,
          8.38004086320425,
          8.37610381553975,
          5.49236488648935,
          3.44131763061174,
          8.9368037403081,
          2.93354628263577,
          5.9673364702815,
          3.55069663414336,
          3.68956851990096,
          1.80672194796853,
          8.08871781892095,
          2.33328204510018,
          4.33339831671262,
          1.63308375283687,
          0.875917142663095,
          6.87311922207895,
          0.0868943421305095,
          3.36576876276647,
          0.0217658216837509,
          5.0470502397476,
          4.46232802435166,
          3.31797374617736,
          8.8672146353351,
          2.6670049911551,
          0.698295019094565,
          0.497708088715471,
          8.7725446192811,
          0.957686279498755,
          4.05195736436877,
          8.7409352244172,
          6.4391371893666,
          3.9447546334268,
          3.31837220149413,
          3.51231973504117,
          1.30295034584028,
          8.8945758110503,
          8.6075321519783,
          5.4393079945335,
          4.66648968428601,
          1.23527947727203,
          7.81759344841055,
          5.5391075802591,
          6.95519974360425,
          9.73068132494305,
          0.113217862730002,
          5.80811918674485,
          6.0188311232315,
          2.66109277377502,
          0.769946770125075,
          7.87768730881355,
          4.33227157759831,
          7.85073158030035,
          3.34916602421126,
          9.6841415552248,
          3.95773320385896,
          0.455818663570865,
          0.367819366724852,
          3.91058684674622,
          9.71669839830545,
          7.2837489411696,
          8.32706450117375,
          0.603025214510705,
          2.61187162488179,
          2.66381099861757,
          9.9461154497363,
          3.18894022809851,
          8.5060050267381,
          0.0093941369549213,
          2.20664473067158,
          2.92973656484734,
          9.54408810322815,
          3.1279234392095,
          8.80232943349335,
          3.44845644272189,
          6.0773637045981,
          1.1478353989803,
          8.8837542992702,
          0.850340134337585,
          0.939213781280755,
          1.27090817414524,
          5.64053542652645,
          2.6738211054594,
          1.18635395609726,
          4.05551424893499,
          1.99717539451032,
          9.1647167726009,
          0.186604887868871,
          6.5739337008851,
          4.9173890833864,
          8.6224240226132,
          4.49732914424616,
          3.17900144304072,
          9.2790187267053,
          2.18809169053669,
          2.35090028559352,
          0.386638525476755,
          2.78461668510013,
          1.10781013755523,
          3.80882655707198,
          3.54365755831425,
          9.46599371046515,
          5.1234004878306,
          2.84504074158803,
          6.6944844035716,
          2.06181775193082,
          3.28324846799991,
          7.5055931037398,
          3.65026394471271,
          7.35715638214945,
          2.21055061335929,
          9.52129739694865,
          3.40313583753682,
          8.72276628849105,
          5.9992121703569,
          8.9554431989443,
          7.7741393843302,
          9.4585267121445,
          5.1560424687605,
          3.70944311769761,
          6.12833782145015,
          6.44717828072975,
          4.3408733567502,
          6.62044821666725
         ],
         "xaxis": "x3",
         "yaxis": "y3"
        },
        {
         "alignmentgroup": "True",
         "bingroup": "y",
         "hovertemplate": "Trading Error=%{y}<br>count=%{x}<extra></extra>",
         "legendgroup": "",
         "marker": {
          "color": "#636efa"
         },
         "name": "",
         "offsetgroup": "",
         "opacity": 0.5,
         "showlegend": false,
         "type": "histogram",
         "xaxis": "x2",
         "y": [
          22.544250825331,
          31.7178176660132,
          46.1297480347581,
          21.5468633442691,
          32.4697936615763,
          30.6430166026949,
          20.9948136370331,
          24.806642932345,
          33.5658109051195,
          33.4558354517886,
          26.1196782020301,
          15.6589154865495,
          39.0327690738042,
          29.0318181219868,
          25.4336800734793,
          25.5460119899252,
          15.2902769259419,
          7.94334120430906,
          13.7909233119171,
          18.2178394965907,
          12.5487780946572,
          32.7266777476104,
          34.6794659081145,
          17.4465374322218,
          11.3083999785168,
          23.4680668566714,
          9.28208781011508,
          13.5132807903588,
          36.2445494514251,
          28.1932550161874,
          20.6765179144549,
          11.2271971053142,
          34.0414688821722,
          35.6952408906539,
          44.0418853164388,
          14.8841449157641,
          26.1924485051198,
          27.3384698057032,
          20.0710729193504,
          5.03401427470632,
          38.2384422488018,
          35.1840860866609,
          45.7810660382479,
          18.7796367643232,
          22.2791426950039,
          13.8745968508398,
          32.3850355807128,
          9.34474362708547,
          14.2588399372621,
          62.3717611479092,
          32.428617320792,
          26.3026096157325,
          24.5891502721859,
          58.497860914421,
          15.324886622007,
          16.1547363335795,
          11.6244804775505,
          37.4119264019219,
          53.9383633832574,
          12.5473772810249,
          28.3778581090766,
          54.4657749672199,
          27.6193604393047,
          27.9482278989888,
          6.10352163686366,
          21.4087491978475,
          29.6092001645629,
          35.3681212193286,
          10.9900187658797,
          36.5201684905566,
          20.2194842971757,
          48.2670877872447,
          11.1556804610181,
          27.2108702074617,
          28.9808214296778,
          18.9664778507185,
          45.8327620251146,
          43.7552743349075,
          25.6933059910538,
          22.2555335724943,
          45.4844934364269,
          18.4995868577439,
          30.3589646391126,
          22.856390650325,
          30.31718220189,
          34.0237417092951,
          6.79492028995504,
          23.8053857238351,
          31.4083752788849,
          35.9436474377793,
          22.0324408924837,
          22.8279146399836,
          20.3510187085427,
          44.7934544766324,
          31.4483466965861,
          32.4096704621338,
          40.0999529819677,
          30.6550972339972,
          8.48129585837671,
          26.9156952944748,
          50.5872881311762,
          24.8426003893912,
          28.9753107119148,
          28.9455380013846,
          23.4331719830788,
          35.5713081156916,
          10.6705387294094,
          24.3028897063948,
          15.9141689245552,
          28.1441406093758,
          19.7850047348949,
          41.3899995478393,
          23.4470588611979,
          18.9153555331824,
          17.8463602151374,
          16.3274365616769,
          30.7054642402539,
          15.1063573873677,
          19.2319021107721,
          24.8138921463161,
          26.7475581373361,
          22.2600354374174,
          37.059933179826,
          32.1744115792848,
          38.9057941125917,
          15.799198771976,
          32.792528494443,
          22.1837752073353,
          32.7375346000981,
          16.0608151886093,
          42.8603998360256,
          35.4300811637252,
          53.5361583182407,
          23.4209121822077,
          78.6082157933937,
          7.32716447751762,
          20.6001832045891,
          41.7017954643257,
          46.1032487951377,
          15.4368703416016,
          38.5097210068091
         ],
         "yaxis": "y2"
        }
       ],
       "layout": {
        "barmode": "overlay",
        "height": 600,
        "legend": {
         "tracegroupgap": 0
        },
        "template": {
         "data": {
          "bar": [
           {
            "error_x": {
             "color": "#2a3f5f"
            },
            "error_y": {
             "color": "#2a3f5f"
            },
            "marker": {
             "line": {
              "color": "#E5ECF6",
              "width": 0.5
             },
             "pattern": {
              "fillmode": "overlay",
              "size": 10,
              "solidity": 0.2
             }
            },
            "type": "bar"
           }
          ],
          "barpolar": [
           {
            "marker": {
             "line": {
              "color": "#E5ECF6",
              "width": 0.5
             },
             "pattern": {
              "fillmode": "overlay",
              "size": 10,
              "solidity": 0.2
             }
            },
            "type": "barpolar"
           }
          ],
          "carpet": [
           {
            "aaxis": {
             "endlinecolor": "#2a3f5f",
             "gridcolor": "white",
             "linecolor": "white",
             "minorgridcolor": "white",
             "startlinecolor": "#2a3f5f"
            },
            "baxis": {
             "endlinecolor": "#2a3f5f",
             "gridcolor": "white",
             "linecolor": "white",
             "minorgridcolor": "white",
             "startlinecolor": "#2a3f5f"
            },
            "type": "carpet"
           }
          ],
          "choropleth": [
           {
            "colorbar": {
             "outlinewidth": 0,
             "ticks": ""
            },
            "type": "choropleth"
           }
          ],
          "contour": [
           {
            "colorbar": {
             "outlinewidth": 0,
             "ticks": ""
            },
            "colorscale": [
             [
              0,
              "#0d0887"
             ],
             [
              0.1111111111111111,
              "#46039f"
             ],
             [
              0.2222222222222222,
              "#7201a8"
             ],
             [
              0.3333333333333333,
              "#9c179e"
             ],
             [
              0.4444444444444444,
              "#bd3786"
             ],
             [
              0.5555555555555556,
              "#d8576b"
             ],
             [
              0.6666666666666666,
              "#ed7953"
             ],
             [
              0.7777777777777778,
              "#fb9f3a"
             ],
             [
              0.8888888888888888,
              "#fdca26"
             ],
             [
              1,
              "#f0f921"
             ]
            ],
            "type": "contour"
           }
          ],
          "contourcarpet": [
           {
            "colorbar": {
             "outlinewidth": 0,
             "ticks": ""
            },
            "type": "contourcarpet"
           }
          ],
          "heatmap": [
           {
            "colorbar": {
             "outlinewidth": 0,
             "ticks": ""
            },
            "colorscale": [
             [
              0,
              "#0d0887"
             ],
             [
              0.1111111111111111,
              "#46039f"
             ],
             [
              0.2222222222222222,
              "#7201a8"
             ],
             [
              0.3333333333333333,
              "#9c179e"
             ],
             [
              0.4444444444444444,
              "#bd3786"
             ],
             [
              0.5555555555555556,
              "#d8576b"
             ],
             [
              0.6666666666666666,
              "#ed7953"
             ],
             [
              0.7777777777777778,
              "#fb9f3a"
             ],
             [
              0.8888888888888888,
              "#fdca26"
             ],
             [
              1,
              "#f0f921"
             ]
            ],
            "type": "heatmap"
           }
          ],
          "heatmapgl": [
           {
            "colorbar": {
             "outlinewidth": 0,
             "ticks": ""
            },
            "colorscale": [
             [
              0,
              "#0d0887"
             ],
             [
              0.1111111111111111,
              "#46039f"
             ],
             [
              0.2222222222222222,
              "#7201a8"
             ],
             [
              0.3333333333333333,
              "#9c179e"
             ],
             [
              0.4444444444444444,
              "#bd3786"
             ],
             [
              0.5555555555555556,
              "#d8576b"
             ],
             [
              0.6666666666666666,
              "#ed7953"
             ],
             [
              0.7777777777777778,
              "#fb9f3a"
             ],
             [
              0.8888888888888888,
              "#fdca26"
             ],
             [
              1,
              "#f0f921"
             ]
            ],
            "type": "heatmapgl"
           }
          ],
          "histogram": [
           {
            "marker": {
             "pattern": {
              "fillmode": "overlay",
              "size": 10,
              "solidity": 0.2
             }
            },
            "type": "histogram"
           }
          ],
          "histogram2d": [
           {
            "colorbar": {
             "outlinewidth": 0,
             "ticks": ""
            },
            "colorscale": [
             [
              0,
              "#0d0887"
             ],
             [
              0.1111111111111111,
              "#46039f"
             ],
             [
              0.2222222222222222,
              "#7201a8"
             ],
             [
              0.3333333333333333,
              "#9c179e"
             ],
             [
              0.4444444444444444,
              "#bd3786"
             ],
             [
              0.5555555555555556,
              "#d8576b"
             ],
             [
              0.6666666666666666,
              "#ed7953"
             ],
             [
              0.7777777777777778,
              "#fb9f3a"
             ],
             [
              0.8888888888888888,
              "#fdca26"
             ],
             [
              1,
              "#f0f921"
             ]
            ],
            "type": "histogram2d"
           }
          ],
          "histogram2dcontour": [
           {
            "colorbar": {
             "outlinewidth": 0,
             "ticks": ""
            },
            "colorscale": [
             [
              0,
              "#0d0887"
             ],
             [
              0.1111111111111111,
              "#46039f"
             ],
             [
              0.2222222222222222,
              "#7201a8"
             ],
             [
              0.3333333333333333,
              "#9c179e"
             ],
             [
              0.4444444444444444,
              "#bd3786"
             ],
             [
              0.5555555555555556,
              "#d8576b"
             ],
             [
              0.6666666666666666,
              "#ed7953"
             ],
             [
              0.7777777777777778,
              "#fb9f3a"
             ],
             [
              0.8888888888888888,
              "#fdca26"
             ],
             [
              1,
              "#f0f921"
             ]
            ],
            "type": "histogram2dcontour"
           }
          ],
          "mesh3d": [
           {
            "colorbar": {
             "outlinewidth": 0,
             "ticks": ""
            },
            "type": "mesh3d"
           }
          ],
          "parcoords": [
           {
            "line": {
             "colorbar": {
              "outlinewidth": 0,
              "ticks": ""
             }
            },
            "type": "parcoords"
           }
          ],
          "pie": [
           {
            "automargin": true,
            "type": "pie"
           }
          ],
          "scatter": [
           {
            "marker": {
             "colorbar": {
              "outlinewidth": 0,
              "ticks": ""
             }
            },
            "type": "scatter"
           }
          ],
          "scatter3d": [
           {
            "line": {
             "colorbar": {
              "outlinewidth": 0,
              "ticks": ""
             }
            },
            "marker": {
             "colorbar": {
              "outlinewidth": 0,
              "ticks": ""
             }
            },
            "type": "scatter3d"
           }
          ],
          "scattercarpet": [
           {
            "marker": {
             "colorbar": {
              "outlinewidth": 0,
              "ticks": ""
             }
            },
            "type": "scattercarpet"
           }
          ],
          "scattergeo": [
           {
            "marker": {
             "colorbar": {
              "outlinewidth": 0,
              "ticks": ""
             }
            },
            "type": "scattergeo"
           }
          ],
          "scattergl": [
           {
            "marker": {
             "colorbar": {
              "outlinewidth": 0,
              "ticks": ""
             }
            },
            "type": "scattergl"
           }
          ],
          "scattermapbox": [
           {
            "marker": {
             "colorbar": {
              "outlinewidth": 0,
              "ticks": ""
             }
            },
            "type": "scattermapbox"
           }
          ],
          "scatterpolar": [
           {
            "marker": {
             "colorbar": {
              "outlinewidth": 0,
              "ticks": ""
             }
            },
            "type": "scatterpolar"
           }
          ],
          "scatterpolargl": [
           {
            "marker": {
             "colorbar": {
              "outlinewidth": 0,
              "ticks": ""
             }
            },
            "type": "scatterpolargl"
           }
          ],
          "scatterternary": [
           {
            "marker": {
             "colorbar": {
              "outlinewidth": 0,
              "ticks": ""
             }
            },
            "type": "scatterternary"
           }
          ],
          "surface": [
           {
            "colorbar": {
             "outlinewidth": 0,
             "ticks": ""
            },
            "colorscale": [
             [
              0,
              "#0d0887"
             ],
             [
              0.1111111111111111,
              "#46039f"
             ],
             [
              0.2222222222222222,
              "#7201a8"
             ],
             [
              0.3333333333333333,
              "#9c179e"
             ],
             [
              0.4444444444444444,
              "#bd3786"
             ],
             [
              0.5555555555555556,
              "#d8576b"
             ],
             [
              0.6666666666666666,
              "#ed7953"
             ],
             [
              0.7777777777777778,
              "#fb9f3a"
             ],
             [
              0.8888888888888888,
              "#fdca26"
             ],
             [
              1,
              "#f0f921"
             ]
            ],
            "type": "surface"
           }
          ],
          "table": [
           {
            "cells": {
             "fill": {
              "color": "#EBF0F8"
             },
             "line": {
              "color": "white"
             }
            },
            "header": {
             "fill": {
              "color": "#C8D4E3"
             },
             "line": {
              "color": "white"
             }
            },
            "type": "table"
           }
          ]
         },
         "layout": {
          "annotationdefaults": {
           "arrowcolor": "#2a3f5f",
           "arrowhead": 0,
           "arrowwidth": 1
          },
          "autotypenumbers": "strict",
          "coloraxis": {
           "colorbar": {
            "outlinewidth": 0,
            "ticks": ""
           }
          },
          "colorscale": {
           "diverging": [
            [
             0,
             "#8e0152"
            ],
            [
             0.1,
             "#c51b7d"
            ],
            [
             0.2,
             "#de77ae"
            ],
            [
             0.3,
             "#f1b6da"
            ],
            [
             0.4,
             "#fde0ef"
            ],
            [
             0.5,
             "#f7f7f7"
            ],
            [
             0.6,
             "#e6f5d0"
            ],
            [
             0.7,
             "#b8e186"
            ],
            [
             0.8,
             "#7fbc41"
            ],
            [
             0.9,
             "#4d9221"
            ],
            [
             1,
             "#276419"
            ]
           ],
           "sequential": [
            [
             0,
             "#0d0887"
            ],
            [
             0.1111111111111111,
             "#46039f"
            ],
            [
             0.2222222222222222,
             "#7201a8"
            ],
            [
             0.3333333333333333,
             "#9c179e"
            ],
            [
             0.4444444444444444,
             "#bd3786"
            ],
            [
             0.5555555555555556,
             "#d8576b"
            ],
            [
             0.6666666666666666,
             "#ed7953"
            ],
            [
             0.7777777777777778,
             "#fb9f3a"
            ],
            [
             0.8888888888888888,
             "#fdca26"
            ],
            [
             1,
             "#f0f921"
            ]
           ],
           "sequentialminus": [
            [
             0,
             "#0d0887"
            ],
            [
             0.1111111111111111,
             "#46039f"
            ],
            [
             0.2222222222222222,
             "#7201a8"
            ],
            [
             0.3333333333333333,
             "#9c179e"
            ],
            [
             0.4444444444444444,
             "#bd3786"
            ],
            [
             0.5555555555555556,
             "#d8576b"
            ],
            [
             0.6666666666666666,
             "#ed7953"
            ],
            [
             0.7777777777777778,
             "#fb9f3a"
            ],
            [
             0.8888888888888888,
             "#fdca26"
            ],
            [
             1,
             "#f0f921"
            ]
           ]
          },
          "colorway": [
           "#636efa",
           "#EF553B",
           "#00cc96",
           "#ab63fa",
           "#FFA15A",
           "#19d3f3",
           "#FF6692",
           "#B6E880",
           "#FF97FF",
           "#FECB52"
          ],
          "font": {
           "color": "#2a3f5f"
          },
          "geo": {
           "bgcolor": "white",
           "lakecolor": "white",
           "landcolor": "#E5ECF6",
           "showlakes": true,
           "showland": true,
           "subunitcolor": "white"
          },
          "hoverlabel": {
           "align": "left"
          },
          "hovermode": "closest",
          "mapbox": {
           "style": "light"
          },
          "paper_bgcolor": "white",
          "plot_bgcolor": "#E5ECF6",
          "polar": {
           "angularaxis": {
            "gridcolor": "white",
            "linecolor": "white",
            "ticks": ""
           },
           "bgcolor": "#E5ECF6",
           "radialaxis": {
            "gridcolor": "white",
            "linecolor": "white",
            "ticks": ""
           }
          },
          "scene": {
           "xaxis": {
            "backgroundcolor": "#E5ECF6",
            "gridcolor": "white",
            "gridwidth": 2,
            "linecolor": "white",
            "showbackground": true,
            "ticks": "",
            "zerolinecolor": "white"
           },
           "yaxis": {
            "backgroundcolor": "#E5ECF6",
            "gridcolor": "white",
            "gridwidth": 2,
            "linecolor": "white",
            "showbackground": true,
            "ticks": "",
            "zerolinecolor": "white"
           },
           "zaxis": {
            "backgroundcolor": "#E5ECF6",
            "gridcolor": "white",
            "gridwidth": 2,
            "linecolor": "white",
            "showbackground": true,
            "ticks": "",
            "zerolinecolor": "white"
           }
          },
          "shapedefaults": {
           "line": {
            "color": "#2a3f5f"
           }
          },
          "ternary": {
           "aaxis": {
            "gridcolor": "white",
            "linecolor": "white",
            "ticks": ""
           },
           "baxis": {
            "gridcolor": "white",
            "linecolor": "white",
            "ticks": ""
           },
           "bgcolor": "#E5ECF6",
           "caxis": {
            "gridcolor": "white",
            "linecolor": "white",
            "ticks": ""
           }
          },
          "title": {
           "x": 0.05
          },
          "xaxis": {
           "automargin": true,
           "gridcolor": "white",
           "linecolor": "white",
           "ticks": "",
           "title": {
            "standoff": 15
           },
           "zerolinecolor": "white",
           "zerolinewidth": 2
          },
          "yaxis": {
           "automargin": true,
           "gridcolor": "white",
           "linecolor": "white",
           "ticks": "",
           "title": {
            "standoff": 15
           },
           "zerolinecolor": "white",
           "zerolinewidth": 2
          }
         }
        },
        "title": {
         "text": "Simple EDA of Trading Error and Emotional Activation"
        },
        "width": 600,
        "xaxis": {
         "anchor": "y",
         "domain": [
          0,
          0.7363
         ],
         "title": {
          "text": "Emotional Activation"
         }
        },
        "xaxis2": {
         "anchor": "y2",
         "domain": [
          0.7413,
          1
         ],
         "matches": "x2",
         "showgrid": true,
         "showline": false,
         "showticklabels": false,
         "ticks": ""
        },
        "xaxis3": {
         "anchor": "y3",
         "domain": [
          0,
          0.7363
         ],
         "matches": "x",
         "showgrid": true,
         "showticklabels": false
        },
        "xaxis4": {
         "anchor": "y4",
         "domain": [
          0.7413,
          1
         ],
         "matches": "x2",
         "showgrid": true,
         "showline": false,
         "showticklabels": false,
         "ticks": ""
        },
        "yaxis": {
         "anchor": "x",
         "domain": [
          0,
          0.7326
         ],
         "title": {
          "text": "Trading Error"
         }
        },
        "yaxis2": {
         "anchor": "x2",
         "domain": [
          0,
          0.7326
         ],
         "matches": "y",
         "showgrid": true,
         "showticklabels": false
        },
        "yaxis3": {
         "anchor": "x3",
         "domain": [
          0.7426,
          1
         ],
         "matches": "y3",
         "showgrid": true,
         "showline": false,
         "showticklabels": false,
         "ticks": ""
        },
        "yaxis4": {
         "anchor": "x4",
         "domain": [
          0.7426,
          1
         ],
         "matches": "y3",
         "showgrid": true,
         "showline": false,
         "showticklabels": false,
         "ticks": ""
        }
       }
      },
      "text/html": [
       "<div>                            <div id=\"ba0dec01-70f4-4795-9005-10073ad80602\" class=\"plotly-graph-div\" style=\"height:600px; width:600px;\"></div>            <script type=\"text/javascript\">                require([\"plotly\"], function(Plotly) {                    window.PLOTLYENV=window.PLOTLYENV || {};                                    if (document.getElementById(\"ba0dec01-70f4-4795-9005-10073ad80602\")) {                    Plotly.newPlot(                        \"ba0dec01-70f4-4795-9005-10073ad80602\",                        [{\"hovertemplate\":\"Emotional Activation=%{x}<br>Trading Error=%{y}<extra></extra>\",\"legendgroup\":\"\",\"marker\":{\"color\":\"#636efa\",\"symbol\":\"circle\"},\"mode\":\"markers\",\"name\":\"\",\"orientation\":\"v\",\"showlegend\":false,\"x\":[4.32731368023308,4.85251156386622,9.4306450723044,7.12384565911605,5.37210874557675,5.0469345907603,4.74162467477847,2.89016254715273,1.37348651795886,2.35562880081556,8.5230052499702,6.52548211843175,7.4186109921538,5.0242335813117,6.22845693710175,7.7442276708912,1.28931819777686,0.93453189897442,8.38004086320425,8.37610381553975,5.49236488648935,3.44131763061174,8.9368037403081,2.93354628263577,5.9673364702815,3.55069663414336,3.68956851990096,1.80672194796853,8.08871781892095,2.33328204510018,4.33339831671262,1.63308375283687,0.875917142663095,6.87311922207895,0.0868943421305095,3.36576876276647,0.0217658216837509,5.0470502397476,4.46232802435166,3.31797374617736,8.8672146353351,2.6670049911551,0.698295019094565,0.497708088715471,8.7725446192811,0.957686279498755,4.05195736436877,8.7409352244172,6.4391371893666,3.9447546334268,3.31837220149413,3.51231973504117,1.30295034584028,8.8945758110503,8.6075321519783,5.4393079945335,4.66648968428601,1.23527947727203,7.81759344841055,5.5391075802591,6.95519974360425,9.73068132494305,0.113217862730002,5.80811918674485,6.0188311232315,2.66109277377502,0.769946770125075,7.87768730881355,4.33227157759831,7.85073158030035,3.34916602421126,9.6841415552248,3.95773320385896,0.455818663570865,0.367819366724852,3.91058684674622,9.71669839830545,7.2837489411696,8.32706450117375,0.603025214510705,2.61187162488179,2.66381099861757,9.9461154497363,3.18894022809851,8.5060050267381,0.0093941369549213,2.20664473067158,2.92973656484734,9.54408810322815,3.1279234392095,8.80232943349335,3.44845644272189,6.0773637045981,1.1478353989803,8.8837542992702,0.850340134337585,0.939213781280755,1.27090817414524,5.64053542652645,2.6738211054594,1.18635395609726,4.05551424893499,1.99717539451032,9.1647167726009,0.186604887868871,6.5739337008851,4.9173890833864,8.6224240226132,4.49732914424616,3.17900144304072,9.2790187267053,2.18809169053669,2.35090028559352,0.386638525476755,2.78461668510013,1.10781013755523,3.80882655707198,3.54365755831425,9.46599371046515,5.1234004878306,2.84504074158803,6.6944844035716,2.06181775193082,3.28324846799991,7.5055931037398,3.65026394471271,7.35715638214945,2.21055061335929,9.52129739694865,3.40313583753682,8.72276628849105,5.9992121703569,8.9554431989443,7.7741393843302,9.4585267121445,5.1560424687605,3.70944311769761,6.12833782145015,6.44717828072975,4.3408733567502,6.62044821666725],\"xaxis\":\"x\",\"y\":[22.544250825331,31.7178176660132,46.1297480347581,21.5468633442691,32.4697936615763,30.6430166026949,20.9948136370331,24.806642932345,33.5658109051195,33.4558354517886,26.1196782020301,15.6589154865495,39.0327690738042,29.0318181219868,25.4336800734793,25.5460119899252,15.2902769259419,7.94334120430906,13.7909233119171,18.2178394965907,12.5487780946572,32.7266777476104,34.6794659081145,17.4465374322218,11.3083999785168,23.4680668566714,9.28208781011508,13.5132807903588,36.2445494514251,28.1932550161874,20.6765179144549,11.2271971053142,34.0414688821722,35.6952408906539,44.0418853164388,14.8841449157641,26.1924485051198,27.3384698057032,20.0710729193504,5.03401427470632,38.2384422488018,35.1840860866609,45.7810660382479,18.7796367643232,22.2791426950039,13.8745968508398,32.3850355807128,9.34474362708547,14.2588399372621,62.3717611479092,32.428617320792,26.3026096157325,24.5891502721859,58.497860914421,15.324886622007,16.1547363335795,11.6244804775505,37.4119264019219,53.9383633832574,12.5473772810249,28.3778581090766,54.4657749672199,27.6193604393047,27.9482278989888,6.10352163686366,21.4087491978475,29.6092001645629,35.3681212193286,10.9900187658797,36.5201684905566,20.2194842971757,48.2670877872447,11.1556804610181,27.2108702074617,28.9808214296778,18.9664778507185,45.8327620251146,43.7552743349075,25.6933059910538,22.2555335724943,45.4844934364269,18.4995868577439,30.3589646391126,22.856390650325,30.31718220189,34.0237417092951,6.79492028995504,23.8053857238351,31.4083752788849,35.9436474377793,22.0324408924837,22.8279146399836,20.3510187085427,44.7934544766324,31.4483466965861,32.4096704621338,40.0999529819677,30.6550972339972,8.48129585837671,26.9156952944748,50.5872881311762,24.8426003893912,28.9753107119148,28.9455380013846,23.4331719830788,35.5713081156916,10.6705387294094,24.3028897063948,15.9141689245552,28.1441406093758,19.7850047348949,41.3899995478393,23.4470588611979,18.9153555331824,17.8463602151374,16.3274365616769,30.7054642402539,15.1063573873677,19.2319021107721,24.8138921463161,26.7475581373361,22.2600354374174,37.059933179826,32.1744115792848,38.9057941125917,15.799198771976,32.792528494443,22.1837752073353,32.7375346000981,16.0608151886093,42.8603998360256,35.4300811637252,53.5361583182407,23.4209121822077,78.6082157933937,7.32716447751762,20.6001832045891,41.7017954643257,46.1032487951377,15.4368703416016,38.5097210068091],\"yaxis\":\"y\",\"type\":\"scatter\"},{\"alignmentgroup\":\"True\",\"bingroup\":\"x\",\"hovertemplate\":\"Emotional Activation=%{x}<br>count=%{y}<extra></extra>\",\"legendgroup\":\"\",\"marker\":{\"color\":\"#636efa\"},\"name\":\"\",\"offsetgroup\":\"\",\"opacity\":0.5,\"showlegend\":false,\"x\":[4.32731368023308,4.85251156386622,9.4306450723044,7.12384565911605,5.37210874557675,5.0469345907603,4.74162467477847,2.89016254715273,1.37348651795886,2.35562880081556,8.5230052499702,6.52548211843175,7.4186109921538,5.0242335813117,6.22845693710175,7.7442276708912,1.28931819777686,0.93453189897442,8.38004086320425,8.37610381553975,5.49236488648935,3.44131763061174,8.9368037403081,2.93354628263577,5.9673364702815,3.55069663414336,3.68956851990096,1.80672194796853,8.08871781892095,2.33328204510018,4.33339831671262,1.63308375283687,0.875917142663095,6.87311922207895,0.0868943421305095,3.36576876276647,0.0217658216837509,5.0470502397476,4.46232802435166,3.31797374617736,8.8672146353351,2.6670049911551,0.698295019094565,0.497708088715471,8.7725446192811,0.957686279498755,4.05195736436877,8.7409352244172,6.4391371893666,3.9447546334268,3.31837220149413,3.51231973504117,1.30295034584028,8.8945758110503,8.6075321519783,5.4393079945335,4.66648968428601,1.23527947727203,7.81759344841055,5.5391075802591,6.95519974360425,9.73068132494305,0.113217862730002,5.80811918674485,6.0188311232315,2.66109277377502,0.769946770125075,7.87768730881355,4.33227157759831,7.85073158030035,3.34916602421126,9.6841415552248,3.95773320385896,0.455818663570865,0.367819366724852,3.91058684674622,9.71669839830545,7.2837489411696,8.32706450117375,0.603025214510705,2.61187162488179,2.66381099861757,9.9461154497363,3.18894022809851,8.5060050267381,0.0093941369549213,2.20664473067158,2.92973656484734,9.54408810322815,3.1279234392095,8.80232943349335,3.44845644272189,6.0773637045981,1.1478353989803,8.8837542992702,0.850340134337585,0.939213781280755,1.27090817414524,5.64053542652645,2.6738211054594,1.18635395609726,4.05551424893499,1.99717539451032,9.1647167726009,0.186604887868871,6.5739337008851,4.9173890833864,8.6224240226132,4.49732914424616,3.17900144304072,9.2790187267053,2.18809169053669,2.35090028559352,0.386638525476755,2.78461668510013,1.10781013755523,3.80882655707198,3.54365755831425,9.46599371046515,5.1234004878306,2.84504074158803,6.6944844035716,2.06181775193082,3.28324846799991,7.5055931037398,3.65026394471271,7.35715638214945,2.21055061335929,9.52129739694865,3.40313583753682,8.72276628849105,5.9992121703569,8.9554431989443,7.7741393843302,9.4585267121445,5.1560424687605,3.70944311769761,6.12833782145015,6.44717828072975,4.3408733567502,6.62044821666725],\"xaxis\":\"x3\",\"yaxis\":\"y3\",\"type\":\"histogram\"},{\"alignmentgroup\":\"True\",\"bingroup\":\"y\",\"hovertemplate\":\"Trading Error=%{y}<br>count=%{x}<extra></extra>\",\"legendgroup\":\"\",\"marker\":{\"color\":\"#636efa\"},\"name\":\"\",\"offsetgroup\":\"\",\"opacity\":0.5,\"showlegend\":false,\"xaxis\":\"x2\",\"y\":[22.544250825331,31.7178176660132,46.1297480347581,21.5468633442691,32.4697936615763,30.6430166026949,20.9948136370331,24.806642932345,33.5658109051195,33.4558354517886,26.1196782020301,15.6589154865495,39.0327690738042,29.0318181219868,25.4336800734793,25.5460119899252,15.2902769259419,7.94334120430906,13.7909233119171,18.2178394965907,12.5487780946572,32.7266777476104,34.6794659081145,17.4465374322218,11.3083999785168,23.4680668566714,9.28208781011508,13.5132807903588,36.2445494514251,28.1932550161874,20.6765179144549,11.2271971053142,34.0414688821722,35.6952408906539,44.0418853164388,14.8841449157641,26.1924485051198,27.3384698057032,20.0710729193504,5.03401427470632,38.2384422488018,35.1840860866609,45.7810660382479,18.7796367643232,22.2791426950039,13.8745968508398,32.3850355807128,9.34474362708547,14.2588399372621,62.3717611479092,32.428617320792,26.3026096157325,24.5891502721859,58.497860914421,15.324886622007,16.1547363335795,11.6244804775505,37.4119264019219,53.9383633832574,12.5473772810249,28.3778581090766,54.4657749672199,27.6193604393047,27.9482278989888,6.10352163686366,21.4087491978475,29.6092001645629,35.3681212193286,10.9900187658797,36.5201684905566,20.2194842971757,48.2670877872447,11.1556804610181,27.2108702074617,28.9808214296778,18.9664778507185,45.8327620251146,43.7552743349075,25.6933059910538,22.2555335724943,45.4844934364269,18.4995868577439,30.3589646391126,22.856390650325,30.31718220189,34.0237417092951,6.79492028995504,23.8053857238351,31.4083752788849,35.9436474377793,22.0324408924837,22.8279146399836,20.3510187085427,44.7934544766324,31.4483466965861,32.4096704621338,40.0999529819677,30.6550972339972,8.48129585837671,26.9156952944748,50.5872881311762,24.8426003893912,28.9753107119148,28.9455380013846,23.4331719830788,35.5713081156916,10.6705387294094,24.3028897063948,15.9141689245552,28.1441406093758,19.7850047348949,41.3899995478393,23.4470588611979,18.9153555331824,17.8463602151374,16.3274365616769,30.7054642402539,15.1063573873677,19.2319021107721,24.8138921463161,26.7475581373361,22.2600354374174,37.059933179826,32.1744115792848,38.9057941125917,15.799198771976,32.792528494443,22.1837752073353,32.7375346000981,16.0608151886093,42.8603998360256,35.4300811637252,53.5361583182407,23.4209121822077,78.6082157933937,7.32716447751762,20.6001832045891,41.7017954643257,46.1032487951377,15.4368703416016,38.5097210068091],\"yaxis\":\"y2\",\"type\":\"histogram\"}],                        {\"template\":{\"data\":{\"bar\":[{\"error_x\":{\"color\":\"#2a3f5f\"},\"error_y\":{\"color\":\"#2a3f5f\"},\"marker\":{\"line\":{\"color\":\"#E5ECF6\",\"width\":0.5},\"pattern\":{\"fillmode\":\"overlay\",\"size\":10,\"solidity\":0.2}},\"type\":\"bar\"}],\"barpolar\":[{\"marker\":{\"line\":{\"color\":\"#E5ECF6\",\"width\":0.5},\"pattern\":{\"fillmode\":\"overlay\",\"size\":10,\"solidity\":0.2}},\"type\":\"barpolar\"}],\"carpet\":[{\"aaxis\":{\"endlinecolor\":\"#2a3f5f\",\"gridcolor\":\"white\",\"linecolor\":\"white\",\"minorgridcolor\":\"white\",\"startlinecolor\":\"#2a3f5f\"},\"baxis\":{\"endlinecolor\":\"#2a3f5f\",\"gridcolor\":\"white\",\"linecolor\":\"white\",\"minorgridcolor\":\"white\",\"startlinecolor\":\"#2a3f5f\"},\"type\":\"carpet\"}],\"choropleth\":[{\"colorbar\":{\"outlinewidth\":0,\"ticks\":\"\"},\"type\":\"choropleth\"}],\"contour\":[{\"colorbar\":{\"outlinewidth\":0,\"ticks\":\"\"},\"colorscale\":[[0.0,\"#0d0887\"],[0.1111111111111111,\"#46039f\"],[0.2222222222222222,\"#7201a8\"],[0.3333333333333333,\"#9c179e\"],[0.4444444444444444,\"#bd3786\"],[0.5555555555555556,\"#d8576b\"],[0.6666666666666666,\"#ed7953\"],[0.7777777777777778,\"#fb9f3a\"],[0.8888888888888888,\"#fdca26\"],[1.0,\"#f0f921\"]],\"type\":\"contour\"}],\"contourcarpet\":[{\"colorbar\":{\"outlinewidth\":0,\"ticks\":\"\"},\"type\":\"contourcarpet\"}],\"heatmap\":[{\"colorbar\":{\"outlinewidth\":0,\"ticks\":\"\"},\"colorscale\":[[0.0,\"#0d0887\"],[0.1111111111111111,\"#46039f\"],[0.2222222222222222,\"#7201a8\"],[0.3333333333333333,\"#9c179e\"],[0.4444444444444444,\"#bd3786\"],[0.5555555555555556,\"#d8576b\"],[0.6666666666666666,\"#ed7953\"],[0.7777777777777778,\"#fb9f3a\"],[0.8888888888888888,\"#fdca26\"],[1.0,\"#f0f921\"]],\"type\":\"heatmap\"}],\"heatmapgl\":[{\"colorbar\":{\"outlinewidth\":0,\"ticks\":\"\"},\"colorscale\":[[0.0,\"#0d0887\"],[0.1111111111111111,\"#46039f\"],[0.2222222222222222,\"#7201a8\"],[0.3333333333333333,\"#9c179e\"],[0.4444444444444444,\"#bd3786\"],[0.5555555555555556,\"#d8576b\"],[0.6666666666666666,\"#ed7953\"],[0.7777777777777778,\"#fb9f3a\"],[0.8888888888888888,\"#fdca26\"],[1.0,\"#f0f921\"]],\"type\":\"heatmapgl\"}],\"histogram\":[{\"marker\":{\"pattern\":{\"fillmode\":\"overlay\",\"size\":10,\"solidity\":0.2}},\"type\":\"histogram\"}],\"histogram2d\":[{\"colorbar\":{\"outlinewidth\":0,\"ticks\":\"\"},\"colorscale\":[[0.0,\"#0d0887\"],[0.1111111111111111,\"#46039f\"],[0.2222222222222222,\"#7201a8\"],[0.3333333333333333,\"#9c179e\"],[0.4444444444444444,\"#bd3786\"],[0.5555555555555556,\"#d8576b\"],[0.6666666666666666,\"#ed7953\"],[0.7777777777777778,\"#fb9f3a\"],[0.8888888888888888,\"#fdca26\"],[1.0,\"#f0f921\"]],\"type\":\"histogram2d\"}],\"histogram2dcontour\":[{\"colorbar\":{\"outlinewidth\":0,\"ticks\":\"\"},\"colorscale\":[[0.0,\"#0d0887\"],[0.1111111111111111,\"#46039f\"],[0.2222222222222222,\"#7201a8\"],[0.3333333333333333,\"#9c179e\"],[0.4444444444444444,\"#bd3786\"],[0.5555555555555556,\"#d8576b\"],[0.6666666666666666,\"#ed7953\"],[0.7777777777777778,\"#fb9f3a\"],[0.8888888888888888,\"#fdca26\"],[1.0,\"#f0f921\"]],\"type\":\"histogram2dcontour\"}],\"mesh3d\":[{\"colorbar\":{\"outlinewidth\":0,\"ticks\":\"\"},\"type\":\"mesh3d\"}],\"parcoords\":[{\"line\":{\"colorbar\":{\"outlinewidth\":0,\"ticks\":\"\"}},\"type\":\"parcoords\"}],\"pie\":[{\"automargin\":true,\"type\":\"pie\"}],\"scatter\":[{\"marker\":{\"colorbar\":{\"outlinewidth\":0,\"ticks\":\"\"}},\"type\":\"scatter\"}],\"scatter3d\":[{\"line\":{\"colorbar\":{\"outlinewidth\":0,\"ticks\":\"\"}},\"marker\":{\"colorbar\":{\"outlinewidth\":0,\"ticks\":\"\"}},\"type\":\"scatter3d\"}],\"scattercarpet\":[{\"marker\":{\"colorbar\":{\"outlinewidth\":0,\"ticks\":\"\"}},\"type\":\"scattercarpet\"}],\"scattergeo\":[{\"marker\":{\"colorbar\":{\"outlinewidth\":0,\"ticks\":\"\"}},\"type\":\"scattergeo\"}],\"scattergl\":[{\"marker\":{\"colorbar\":{\"outlinewidth\":0,\"ticks\":\"\"}},\"type\":\"scattergl\"}],\"scattermapbox\":[{\"marker\":{\"colorbar\":{\"outlinewidth\":0,\"ticks\":\"\"}},\"type\":\"scattermapbox\"}],\"scatterpolar\":[{\"marker\":{\"colorbar\":{\"outlinewidth\":0,\"ticks\":\"\"}},\"type\":\"scatterpolar\"}],\"scatterpolargl\":[{\"marker\":{\"colorbar\":{\"outlinewidth\":0,\"ticks\":\"\"}},\"type\":\"scatterpolargl\"}],\"scatterternary\":[{\"marker\":{\"colorbar\":{\"outlinewidth\":0,\"ticks\":\"\"}},\"type\":\"scatterternary\"}],\"surface\":[{\"colorbar\":{\"outlinewidth\":0,\"ticks\":\"\"},\"colorscale\":[[0.0,\"#0d0887\"],[0.1111111111111111,\"#46039f\"],[0.2222222222222222,\"#7201a8\"],[0.3333333333333333,\"#9c179e\"],[0.4444444444444444,\"#bd3786\"],[0.5555555555555556,\"#d8576b\"],[0.6666666666666666,\"#ed7953\"],[0.7777777777777778,\"#fb9f3a\"],[0.8888888888888888,\"#fdca26\"],[1.0,\"#f0f921\"]],\"type\":\"surface\"}],\"table\":[{\"cells\":{\"fill\":{\"color\":\"#EBF0F8\"},\"line\":{\"color\":\"white\"}},\"header\":{\"fill\":{\"color\":\"#C8D4E3\"},\"line\":{\"color\":\"white\"}},\"type\":\"table\"}]},\"layout\":{\"annotationdefaults\":{\"arrowcolor\":\"#2a3f5f\",\"arrowhead\":0,\"arrowwidth\":1},\"autotypenumbers\":\"strict\",\"coloraxis\":{\"colorbar\":{\"outlinewidth\":0,\"ticks\":\"\"}},\"colorscale\":{\"diverging\":[[0,\"#8e0152\"],[0.1,\"#c51b7d\"],[0.2,\"#de77ae\"],[0.3,\"#f1b6da\"],[0.4,\"#fde0ef\"],[0.5,\"#f7f7f7\"],[0.6,\"#e6f5d0\"],[0.7,\"#b8e186\"],[0.8,\"#7fbc41\"],[0.9,\"#4d9221\"],[1,\"#276419\"]],\"sequential\":[[0.0,\"#0d0887\"],[0.1111111111111111,\"#46039f\"],[0.2222222222222222,\"#7201a8\"],[0.3333333333333333,\"#9c179e\"],[0.4444444444444444,\"#bd3786\"],[0.5555555555555556,\"#d8576b\"],[0.6666666666666666,\"#ed7953\"],[0.7777777777777778,\"#fb9f3a\"],[0.8888888888888888,\"#fdca26\"],[1.0,\"#f0f921\"]],\"sequentialminus\":[[0.0,\"#0d0887\"],[0.1111111111111111,\"#46039f\"],[0.2222222222222222,\"#7201a8\"],[0.3333333333333333,\"#9c179e\"],[0.4444444444444444,\"#bd3786\"],[0.5555555555555556,\"#d8576b\"],[0.6666666666666666,\"#ed7953\"],[0.7777777777777778,\"#fb9f3a\"],[0.8888888888888888,\"#fdca26\"],[1.0,\"#f0f921\"]]},\"colorway\":[\"#636efa\",\"#EF553B\",\"#00cc96\",\"#ab63fa\",\"#FFA15A\",\"#19d3f3\",\"#FF6692\",\"#B6E880\",\"#FF97FF\",\"#FECB52\"],\"font\":{\"color\":\"#2a3f5f\"},\"geo\":{\"bgcolor\":\"white\",\"lakecolor\":\"white\",\"landcolor\":\"#E5ECF6\",\"showlakes\":true,\"showland\":true,\"subunitcolor\":\"white\"},\"hoverlabel\":{\"align\":\"left\"},\"hovermode\":\"closest\",\"mapbox\":{\"style\":\"light\"},\"paper_bgcolor\":\"white\",\"plot_bgcolor\":\"#E5ECF6\",\"polar\":{\"angularaxis\":{\"gridcolor\":\"white\",\"linecolor\":\"white\",\"ticks\":\"\"},\"bgcolor\":\"#E5ECF6\",\"radialaxis\":{\"gridcolor\":\"white\",\"linecolor\":\"white\",\"ticks\":\"\"}},\"scene\":{\"xaxis\":{\"backgroundcolor\":\"#E5ECF6\",\"gridcolor\":\"white\",\"gridwidth\":2,\"linecolor\":\"white\",\"showbackground\":true,\"ticks\":\"\",\"zerolinecolor\":\"white\"},\"yaxis\":{\"backgroundcolor\":\"#E5ECF6\",\"gridcolor\":\"white\",\"gridwidth\":2,\"linecolor\":\"white\",\"showbackground\":true,\"ticks\":\"\",\"zerolinecolor\":\"white\"},\"zaxis\":{\"backgroundcolor\":\"#E5ECF6\",\"gridcolor\":\"white\",\"gridwidth\":2,\"linecolor\":\"white\",\"showbackground\":true,\"ticks\":\"\",\"zerolinecolor\":\"white\"}},\"shapedefaults\":{\"line\":{\"color\":\"#2a3f5f\"}},\"ternary\":{\"aaxis\":{\"gridcolor\":\"white\",\"linecolor\":\"white\",\"ticks\":\"\"},\"baxis\":{\"gridcolor\":\"white\",\"linecolor\":\"white\",\"ticks\":\"\"},\"bgcolor\":\"#E5ECF6\",\"caxis\":{\"gridcolor\":\"white\",\"linecolor\":\"white\",\"ticks\":\"\"}},\"title\":{\"x\":0.05},\"xaxis\":{\"automargin\":true,\"gridcolor\":\"white\",\"linecolor\":\"white\",\"ticks\":\"\",\"title\":{\"standoff\":15},\"zerolinecolor\":\"white\",\"zerolinewidth\":2},\"yaxis\":{\"automargin\":true,\"gridcolor\":\"white\",\"linecolor\":\"white\",\"ticks\":\"\",\"title\":{\"standoff\":15},\"zerolinecolor\":\"white\",\"zerolinewidth\":2}}},\"xaxis\":{\"anchor\":\"y\",\"domain\":[0.0,0.7363],\"title\":{\"text\":\"Emotional Activation\"}},\"yaxis\":{\"anchor\":\"x\",\"domain\":[0.0,0.7326],\"title\":{\"text\":\"Trading Error\"}},\"xaxis2\":{\"anchor\":\"y2\",\"domain\":[0.7413,1.0],\"matches\":\"x2\",\"showticklabels\":false,\"showline\":false,\"ticks\":\"\",\"showgrid\":true},\"yaxis2\":{\"anchor\":\"x2\",\"domain\":[0.0,0.7326],\"matches\":\"y\",\"showticklabels\":false,\"showgrid\":true},\"xaxis3\":{\"anchor\":\"y3\",\"domain\":[0.0,0.7363],\"matches\":\"x\",\"showticklabels\":false,\"showgrid\":true},\"yaxis3\":{\"anchor\":\"x3\",\"domain\":[0.7426,1.0],\"matches\":\"y3\",\"showticklabels\":false,\"showline\":false,\"ticks\":\"\",\"showgrid\":true},\"xaxis4\":{\"anchor\":\"y4\",\"domain\":[0.7413,1.0],\"matches\":\"x2\",\"showticklabels\":false,\"showgrid\":true,\"showline\":false,\"ticks\":\"\"},\"yaxis4\":{\"anchor\":\"x4\",\"domain\":[0.7426,1.0],\"matches\":\"y3\",\"showticklabels\":false,\"showline\":false,\"ticks\":\"\",\"showgrid\":true},\"legend\":{\"tracegroupgap\":0},\"title\":{\"text\":\"Simple EDA of Trading Error and Emotional Activation\"},\"height\":600,\"width\":600,\"barmode\":\"overlay\"},                        {\"responsive\": true}                    ).then(function(){\n",
       "                            \n",
       "var gd = document.getElementById('ba0dec01-70f4-4795-9005-10073ad80602');\n",
       "var x = new MutationObserver(function (mutations, observer) {{\n",
       "        var display = window.getComputedStyle(gd).display;\n",
       "        if (!display || display === 'none') {{\n",
       "            console.log([gd, 'removed!']);\n",
       "            Plotly.purge(gd);\n",
       "            observer.disconnect();\n",
       "        }}\n",
       "}});\n",
       "\n",
       "// Listen for the removal of the full notebook cells\n",
       "var notebookContainer = gd.closest('#notebook-container');\n",
       "if (notebookContainer) {{\n",
       "    x.observe(notebookContainer, {childList: true});\n",
       "}}\n",
       "\n",
       "// Listen for the clearing of the current output cell\n",
       "var outputEl = gd.closest('.output');\n",
       "if (outputEl) {{\n",
       "    x.observe(outputEl, {childList: true});\n",
       "}}\n",
       "\n",
       "                        })                };                });            </script>        </div>"
      ]
     },
     "metadata": {},
     "output_type": "display_data"
    }
   ],
   "source": [
    "# Observing the shape and spread of the data both as variables and as a relationship between them both with plotly\n",
    "fig = px.scatter(df, x=\"activation\", y=\"trading_error\", marginal_x=\"histogram\", marginal_y=\"histogram\",\n",
    "                  width=600, height=600,\n",
    "                title = \"Simple EDA of Trading Error and Emotional Activation\",\n",
    "                labels={ \n",
    "                \"trading_error\": \"Trading Error\",  \"activation\": \"Emotional Activation\"\n",
    "            })\n",
    "fig.show()"
   ]
  },
  {
   "cell_type": "code",
   "execution_count": 8,
   "id": "b3542a3c",
   "metadata": {},
   "outputs": [],
   "source": [
    "# Creating the model that will find a quadratic line of best fit (polynomial fit with degree = 2)\n",
    "x = df.activation\n",
    "y = np.sqrt(df.trading_error) \n",
    "\n",
    "# This transformation of y reduced the error (see below)\n",
    "model = np.poly1d(np.polyfit(x, y, 2))"
   ]
  },
  {
   "cell_type": "markdown",
   "id": "fe58862f",
   "metadata": {},
   "source": [
    "#### Question 2.b.i)"
   ]
  },
  {
   "cell_type": "code",
   "execution_count": 15,
   "id": "7bbae3db",
   "metadata": {},
   "outputs": [
    {
     "name": "stdout",
     "output_type": "stream",
     "text": [
      "\n",
      "\n",
      "The equation for this curve is:\n",
      "\n",
      "         2\n",
      "0.05099 x - 0.4316 x + 5.567\n"
     ]
    }
   ],
   "source": [
    "# Displaying the equation for this curve\n",
    "print(\"\\n\\nThe equation for this curve is:\\n\")\n",
    "\n",
    "print(model)"
   ]
  },
  {
   "cell_type": "markdown",
   "id": "fd0afe54",
   "metadata": {},
   "source": [
    "#### Question 2.b.ii)"
   ]
  },
  {
   "cell_type": "code",
   "execution_count": 19,
   "id": "60b43fbf",
   "metadata": {},
   "outputs": [
    {
     "data": {
      "image/png": "[encoded data removed]",
      "text/plain": [
       "<Figure size 432x432 with 1 Axes>"
      ]
     },
     "metadata": {
      "needs_background": "light"
     },
     "output_type": "display_data"
    }
   ],
   "source": [
    "# Mapping the regression line over a scatterplot\n",
    "polyline = np.linspace(0, 10, 50)\n",
    "fig = plt.figure(figsize=(6,6))\n",
    "plt.scatter(x, y)\n",
    "plt.plot(polyline, model(polyline), color ='r')\n",
    "plt.ylabel(\"Trading Error\", size=14)\n",
    "plt.xlabel(\"Emotional Activation\", size=14)\n",
    "plt.title(\"Observing Line of Best Fit\\n (no units provided)\", size=16)\n",
    "plt.show()"
   ]
  },
  {
   "cell_type": "code",
   "execution_count": 20,
   "id": "ddeab296",
   "metadata": {},
   "outputs": [
    {
     "name": "stdout",
     "output_type": "stream",
     "text": [
      "Below demonstrates the improvement obtained by taking the square root of trading error\n"
     ]
    },
    {
     "data": {
      "text/html": [
       "<div>\n",
       "<style scoped>\n",
       "    .dataframe tbody tr th:only-of-type {\n",
       "        vertical-align: middle;\n",
       "    }\n",
       "\n",
       "    .dataframe tbody tr th {\n",
       "        vertical-align: top;\n",
       "    }\n",
       "\n",
       "    .dataframe thead th {\n",
       "        text-align: right;\n",
       "    }\n",
       "</style>\n",
       "<table border=\"1\" class=\"dataframe\">\n",
       "  <thead>\n",
       "    <tr style=\"text-align: right;\">\n",
       "      <th></th>\n",
       "      <th>Model</th>\n",
       "      <th>MSE</th>\n",
       "      <th>RMSE</th>\n",
       "    </tr>\n",
       "  </thead>\n",
       "  <tbody>\n",
       "    <tr>\n",
       "      <th>0</th>\n",
       "      <td>Without transformations</td>\n",
       "      <td>132.466665</td>\n",
       "      <td>11.509416</td>\n",
       "    </tr>\n",
       "    <tr>\n",
       "      <th>1</th>\n",
       "      <td>with transformations</td>\n",
       "      <td>1.228573</td>\n",
       "      <td>1.108410</td>\n",
       "    </tr>\n",
       "  </tbody>\n",
       "</table>\n",
       "</div>"
      ],
      "text/plain": [
       "                     Model         MSE       RMSE\n",
       "0  Without transformations  132.466665  11.509416\n",
       "1     with transformations    1.228573   1.108410"
      ]
     },
     "execution_count": 20,
     "metadata": {},
     "output_type": "execute_result"
    }
   ],
   "source": [
    "# Using the MSE and RMSE to assess the fit\n",
    "model2 = np.poly1d(np.polyfit(df.activation, df.trading_error, 2))\n",
    "\n",
    "metrics = pd.DataFrame({'Model': ['Without transformations', 'with transformations'], \n",
    "                        'MSE': [sklearn.metrics.mean_squared_error(df.trading_error, model2(x)),\n",
    "                                sklearn.metrics.mean_squared_error(y, model(x))],\n",
    "                        'RMSE' : [np.sqrt(sklearn.metrics.mean_squared_error(df.trading_error, model2(x))), \n",
    "                                 np.sqrt(sklearn.metrics.mean_squared_error(y, model(x)))]} )\n",
    "print(\"Below demonstrates the improvement obtained by taking the square root of trading error\")\n",
    "metrics"
   ]
  },
  {
   "cell_type": "markdown",
   "id": "297065f4",
   "metadata": {},
   "source": [
    "#### Question 2.b.iii)\n",
    "$$\n",
    "\\begin{array}{l}\n",
    "\\sqrt{y}=\\sqrt{25}=0.05099 x^2 - 0.4316 x + 5.567\\\\\n",
    "5 = 0.05099 x^2 - 0.4316 x + 5.567\\\\\n",
    "0 = 0.05099 x^2 - 0.4316 x+ 0.567\\\\\n",
    "x =\\frac{-b\\pm\\sqrt{(b^2-4ac)}}{2 a} \\\\\n",
    "x =\\frac{-(-0.4316)\\pm\\sqrt{((-0.4316)^2-4 \\times(.05099) \\times(0.567))}}{2(0.05099)}\\\\\n",
    "x = 1.626 \\text{ and } x= 6.83829\n",
    "\\end{array}\n",
    "$$\n",
    "\n",
    "As there are two values for x, the function doesn't pass the horizontal line test, so there cannot be an inverse.\n",
    "Usually you would let y=x, but when x has more than one value for a given y there is no way to obtain an inverse. An inverse would be possible if the domain were restricted to $[4.232202393, \\infty)$ or $(\\infty, 4.232202393]$  because in that scenario there is a single value of x for every y."
   ]
  }
 ],
 "metadata": {
  "kernelspec": {
   "display_name": "Python 3 (ipykernel)",
   "language": "python",
   "name": "python3"
  },
  "language_info": {
   "codemirror_mode": {
    "name": "ipython",
    "version": 3
   },
   "file_extension": ".py",
   "mimetype": "text/x-python",
   "name": "python",
   "nbconvert_exporter": "python",
   "pygments_lexer": "ipython3",
   "version": "3.9.12"
  }
 },
 "nbformat": 4,
 "nbformat_minor": 5
}
