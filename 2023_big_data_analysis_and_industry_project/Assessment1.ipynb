{
  "cells": [
    {
      "cell_type": "markdown",
      "metadata": {
        "id": "view-in-github",
        "colab_type": "text"
      },
      "source": [
        "<a href=\"https://colab.research.google.com/github/DYLPICKLEROHAN/previous_work/blob/main/2023_big_data_analysis_and_industry_project/Assessment1.ipynb\" target=\"_parent\"><img src=\"https://colab.research.google.com/assets/colab-badge.svg\" alt=\"Open In Colab\"/></a>"
      ]
    },
    {
      "cell_type": "code",
      "execution_count": null,
      "metadata": {
        "colab": {
          "base_uri": "https://localhost:8080/"
        },
        "id": "EQ5nr1p9rMZk",
        "outputId": "0e218909-06fa-4a23-ad55-26f5c49ff4b5"
      },
      "outputs": [
        {
          "output_type": "stream",
          "name": "stdout",
          "text": [
            "Drive already mounted at /content/drive; to attempt to forcibly remount, call drive.mount(\"/content/drive\", force_remount=True).\n"
          ]
        }
      ],
      "source": [
        "from google.colab import drive\n",
        "drive.mount('/content/drive')"
      ]
    },
    {
      "cell_type": "code",
      "execution_count": null,
      "metadata": {
        "colab": {
          "base_uri": "https://localhost:8080/"
        },
        "id": "4KkhVMcorU1o",
        "outputId": "ff43ca08-a349-44ae-da82-59b6380876da"
      },
      "outputs": [
        {
          "output_type": "stream",
          "name": "stdout",
          "text": [
            "Looking in indexes: https://pypi.org/simple, https://us-python.pkg.dev/colab-wheels/public/simple/\n",
            "Requirement already satisfied: pyspark in /usr/local/lib/python3.9/dist-packages (3.3.2)\n",
            "Requirement already satisfied: py4j==0.10.9.5 in /usr/local/lib/python3.9/dist-packages (from pyspark) (0.10.9.5)\n"
          ]
        }
      ],
      "source": [
        "# Week 1 - word count example\n",
        "!pip install pyspark"
      ]
    },
    {
      "cell_type": "markdown",
      "metadata": {
        "id": "kdYd3e7nrPj8"
      },
      "source": [
        "# Assignment 1\n",
        "## Part 1 - Recommendation system\n",
        "\n",
        "In researching the capacity of pyspark I found that there are two types of recommendation system inbuilt into pyspark:\n",
        "1. Content based recommendation systems - uses attributes of instances and clusters them into groups of similarity\n",
        "2. Collaborative filtering - uses the rating people have given to an instance\n",
        "\n",
        "But these are not suited to this style of question, they are for making suggstions based on a common attribute value.\n",
        "\n",
        "In module 2, locality-sensitivity Hashing was demonstrated as a means of identifying similar documents. The idea could be applied to this problem if the user Id somehow reflected the connection and provided a link between users within userids (eg, if every friend you made altereded you userID so that it held a record of that friend then the shingles would indicate similarity).\n",
        "\n",
        "If we take it back to first principles, then consider this:\n",
        "\n",
        "Take two friends, A and B. Then the potential friends for B is the set of friends held by A but not by B (or A union B - B)\n",
        "\n",
        "However in the case of a social network, there could be any number of nodes. Nodes with one degree of seperation are friends, but nodes with two degrees of seperation are either friends or candidate friends. With data of the form (A, [B, C, D,...]), the list can be thought of as a set of two degree seperations (B-A-C, C-A-D, ...). So if for every user, we combine the lists that they themselves are present in, then we will have a set of values that includes the user, the users current friends, and every 2nd degree connection Which I am assuming is the subset of users that are most likely to be friend with the user. So if we create a key-value pair for each user, with the user as the key and the combined lists as the value, then we can remove the friends and user from this list and will be left with a countable list of candidate friends. The combined list effectively represents every relevant edge of the network.\n",
        "\n"
      ]
    },
    {
      "cell_type": "code",
      "execution_count": null,
      "metadata": {
        "id": "iuXnD-NzrQIQ"
      },
      "outputs": [],
      "source": [
        "# Importing modules and setting up a Spark Session\n",
        "from pyspark.sql import SparkSession\n",
        "from pyspark import SparkContext, SparkConf\n",
        "from pyspark.sql.functions import split, array, size\n",
        "from pyspark.sql.types import IntegerType, ArrayType, StringType, StructType, StructField\n",
        "\n",
        "spark = SparkSession.builder.appName('recommendation_system').getOrCreate()"
      ]
    },
    {
      "cell_type": "code",
      "execution_count": null,
      "metadata": {
        "colab": {
          "base_uri": "https://localhost:8080/"
        },
        "id": "M5P_zCzOrbLf",
        "outputId": "79ce7d23-b402-42ec-f937-9539c7d3eb76"
      },
      "outputs": [
        {
          "output_type": "stream",
          "name": "stdout",
          "text": [
            "+---+--------------------+\n",
            "|_c0|                 _c1|\n",
            "+---+--------------------+\n",
            "|  0|1,2,3,4,5,6,7,8,9...|\n",
            "|  1|0,5,20,135,2409,8...|\n",
            "|  2|0,117,135,1220,27...|\n",
            "|  3|0,12,41,55,1532,1...|\n",
            "|  4|0,8,14,15,18,27,7...|\n",
            "|  5|0,1,20,2022,22939...|\n",
            "|  6|0,21,98,2203,3238...|\n",
            "|  7|0,31993,40218,404...|\n",
            "|  8|0,4,38,46,72,85,2...|\n",
            "|  9|  0,6085,18972,19269|\n",
            "| 10|0,12,16,30,6027,1...|\n",
            "| 11|0,1754,6027,7789,...|\n",
            "| 12|0,3,10,16,29,38,4...|\n",
            "| 13|0,12584,32064,27,...|\n",
            "| 14|0,4,19,19079,4269...|\n",
            "| 15|           0,4,27,80|\n",
            "| 16|0,10,12,18,30,38,...|\n",
            "| 17|0,19,26,28,95,128...|\n",
            "| 18|0,4,16,30,89,2406...|\n",
            "| 19|0,14,17,439,1100,...|\n",
            "+---+--------------------+\n",
            "only showing top 20 rows\n",
            "\n"
          ]
        }
      ],
      "source": [
        "# Importing the dataset using the tab as the delimiter in the spark session\n",
        "## Reading in the file\n",
        "df = spark.read.csv('/content/drive/MyDrive/aabigdatafiles/soc-LiveJournal1Adj.txt',\n",
        "                   sep = '\\t')\n",
        "\n",
        "# Checking the data has been read in correctly\n",
        "df.show()"
      ]
    },
    {
      "cell_type": "code",
      "execution_count": null,
      "metadata": {
        "colab": {
          "base_uri": "https://localhost:8080/"
        },
        "id": "_qrOazOQrdII",
        "outputId": "21a5d247-2918-4537-ccf1-f8a40952446b"
      },
      "outputs": [
        {
          "output_type": "stream",
          "name": "stdout",
          "text": [
            "Confirming output format [('924', '925,926')]\n",
            "Correcting format so the values/friends are in a set [('924', {'926', '925'})]\n"
          ]
        }
      ],
      "source": [
        "# Create an RDD\n",
        "## Partitions the data accross multiple cores\n",
        "rdd = df.rdd.map(lambda x: (x[0], x[1]))\n",
        "rdd = rdd.filter(lambda x: x[1] is not None)                                              # removing unconnected nodes of the social network\n",
        "print(\"Confirming output format\", rdd.filter(lambda x: x[0] == '924').collect())\n",
        "\n",
        "# The below was going to use sets as I thought it would be computationally quicker,\n",
        "# but then I can't order the recommendations based on duplicates because they get removed\n",
        "rdd1 = rdd.map(lambda x: (x[0], set(x[1].split(\",\"))))\n",
        "print(\"Correcting format so the values/friends are in a set\", rdd1.filter(lambda x: x[0] == '924').collect())"
      ]
    },
    {
      "cell_type": "code",
      "execution_count": null,
      "metadata": {
        "colab": {
          "base_uri": "https://localhost:8080/"
        },
        "id": "h8vvYjVC8wcz",
        "outputId": "4300daa0-3d30-40ca-c9d5-cf73f8cf673d"
      },
      "outputs": [
        {
          "output_type": "stream",
          "name": "stdout",
          "text": [
            "Checking output [('924', {'924', '43748', '45881', '439', '2409', '15416', '11860', '6995'})]\n"
          ]
        }
      ],
      "source": [
        "# Creating a duplicate to compare against\n",
        "user_friends = dict(rdd1.collect())\n",
        "\n",
        "# Obtaining the set of potential friends for each user (the union of all sets containing X, minus the set of X)\n",
        "candidates = rdd1.mapValues(lambda friends: set.union(*[user_friends[friend] for friend in friends]) - friends)\n",
        "print(\"Checking output\", candidates.filter(lambda x: x[0] == '924').collect())"
      ]
    },
    {
      "cell_type": "code",
      "execution_count": null,
      "metadata": {
        "colab": {
          "base_uri": "https://localhost:8080/"
        },
        "id": "7_ZOp3yyNM8m",
        "outputId": "63d23b83-ae4d-4c90-9933-2e6af5b40259"
      },
      "outputs": [
        {
          "output_type": "stream",
          "name": "stdout",
          "text": [
            "Checking format [('924', '925,926')]\n",
            "Checking output [('924', ['924', '6995', '439', '924', '2409', '11860', '15416', '43748', '45881'])]\n"
          ]
        }
      ],
      "source": [
        "# Duplicate count relates to the probability of being friends, lets try again with lists (retaining duplicates):\n",
        "rdd2 = rdd.map(lambda x: (x[0], x[1].split(\",\")))\n",
        "print(\"Checking format\", rdd.filter(lambda x: x[0] == '924').collect())\n",
        "\n",
        "# Creating a dictionary of all relationships to compare against\n",
        "user_friends = dict(rdd2.collect())\n",
        "\n",
        "# Obtaining the set of potential friends for each user (the union of all sets containing X, minus the set of X)\n",
        "candidates = rdd2.mapValues(lambda friends: [friend for friend in sum([user_friends[f] for f in friends], []) if friend not in friends])\n",
        "print(\"Checking output\", candidates.filter(lambda x: x[0] == '924').collect())"
      ]
    },
    {
      "cell_type": "code",
      "source": [
        "# Removing all instances of self from the list of candidates\n",
        "def remove_key_value(pair):\n",
        "    key, value = pair\n",
        "    if len(value) == 0:\n",
        "        return pair\n",
        "    new_value = [item for item in value if item != key]\n",
        "    return (key, new_value)\n",
        "\n",
        "candidates = candidates.map(remove_key_value)\n",
        "print(\"Checking output\", candidates.filter(lambda x: x[0] == '924').collect())"
      ],
      "metadata": {
        "colab": {
          "base_uri": "https://localhost:8080/"
        },
        "id": "JodQvBBuEpFv",
        "outputId": "a899b8ff-58c2-4275-c3b8-df9c79b51f01"
      },
      "execution_count": null,
      "outputs": [
        {
          "output_type": "stream",
          "name": "stdout",
          "text": [
            "Checking output [('924', ['6995', '439', '2409', '11860', '15416', '43748', '45881'])]\n"
          ]
        }
      ]
    },
    {
      "cell_type": "code",
      "execution_count": null,
      "metadata": {
        "colab": {
          "base_uri": "https://localhost:8080/"
        },
        "id": "qaV1PhmVkRTm",
        "outputId": "e54c158f-9690-4597-ddb6-b602e6d58428"
      },
      "outputs": [
        {
          "output_type": "stream",
          "name": "stdout",
          "text": [
            "Checking output: [('9993', '9991'), ('9993', '9991'), ('9993', '9991'), ('9993', '9991'), ('9993', '9991'), ('9993', '13134'), ('9993', '13478'), ('9993', '13877'), ('9993', '34299'), ('9993', '34485'), ('9993', '34642'), ('9993', '37941')]\n",
            "Checking output: [('9993', [('34299', 1), ('13478', 1), ('9991', 5), ('37941', 1), ('13134', 1), ('13877', 1), ('34485', 1), ('34642', 1)])]\n"
          ]
        }
      ],
      "source": [
        "# Map each value to a dictionary of word counts\n",
        "candidate_frequency = candidates.flatMap(lambda x: [(x[0], friend_id) for friend_id in x[1]])\n",
        "print(\"Checking output:\", candidate_frequency.filter(lambda x: x[0] == '9993').collect())\n",
        "\n",
        "# Reduce the tuples by key to count the frequency of each friend for each user\n",
        "result = candidate_frequency.map(lambda x: (x, 1))\n",
        "result = result.reduceByKey(lambda x, y: x + y).map(lambda x: (x[0][0], (x[0][1], x[1]))).groupByKey().mapValues(list)\n",
        "print(\"Checking output:\",result.filter(lambda x: x[0] == '9993').collect())"
      ]
    },
    {
      "cell_type": "code",
      "execution_count": null,
      "metadata": {
        "id": "kzFbe31KgS4o",
        "colab": {
          "base_uri": "https://localhost:8080/",
          "height": 363
        },
        "outputId": "6915f485-c1d3-4d38-bcdd-bd3f4ec37446"
      },
      "outputs": [
        {
          "output_type": "execute_result",
          "data": {
            "text/plain": [
              "   User Suggested friends in order of decreasing likelihood\n",
              "0  8942       [(8939, 3), (8940, 1), (8943, 1), (8944, 1)] \n",
              "1   924  [(11860, 1), (15416, 1), (2409, 1), (43748, 1)... \n",
              "2  8941                  [(8943, 2), (8944, 2), (8940, 1)] \n",
              "3  9990  [(13134, 1), (13478, 1), (13877, 1), (34299, 1... \n",
              "4  9019                   [(9022, 2), (317, 1), (9023, 1)] \n",
              "5  9992      [(9987, 4), (9989, 4), (35667, 3), (9991, 2)] \n",
              "6  9022  [(9019, 2), (9020, 2), (9021, 2), (317, 1), (9... \n",
              "7  9993  [(9991, 5), (13134, 1), (13478, 1), (13877, 1)... \n",
              "8  9020  [(9021, 3), (9016, 2), (9017, 2), (9022, 2), (... \n",
              "9  9021  [(9020, 3), (9016, 2), (9017, 2), (9022, 2), (... "
            ],
            "text/html": [
              "\n",
              "  <div id=\"df-f0a4081e-f537-4342-86e4-c0d6cfb0ac9a\">\n",
              "    <div class=\"colab-df-container\">\n",
              "      <div>\n",
              "<style scoped>\n",
              "    .dataframe tbody tr th:only-of-type {\n",
              "        vertical-align: middle;\n",
              "    }\n",
              "\n",
              "    .dataframe tbody tr th {\n",
              "        vertical-align: top;\n",
              "    }\n",
              "\n",
              "    .dataframe thead th {\n",
              "        text-align: right;\n",
              "    }\n",
              "</style>\n",
              "<table border=\"1\" class=\"dataframe\">\n",
              "  <thead>\n",
              "    <tr style=\"text-align: right;\">\n",
              "      <th></th>\n",
              "      <th>User</th>\n",
              "      <th>Suggested friends in order of decreasing likelihood</th>\n",
              "    </tr>\n",
              "  </thead>\n",
              "  <tbody>\n",
              "    <tr>\n",
              "      <th>0</th>\n",
              "      <td>8942</td>\n",
              "      <td>[(8939, 3), (8940, 1), (8943, 1), (8944, 1)]</td>\n",
              "    </tr>\n",
              "    <tr>\n",
              "      <th>1</th>\n",
              "      <td>924</td>\n",
              "      <td>[(11860, 1), (15416, 1), (2409, 1), (43748, 1)...</td>\n",
              "    </tr>\n",
              "    <tr>\n",
              "      <th>2</th>\n",
              "      <td>8941</td>\n",
              "      <td>[(8943, 2), (8944, 2), (8940, 1)]</td>\n",
              "    </tr>\n",
              "    <tr>\n",
              "      <th>3</th>\n",
              "      <td>9990</td>\n",
              "      <td>[(13134, 1), (13478, 1), (13877, 1), (34299, 1...</td>\n",
              "    </tr>\n",
              "    <tr>\n",
              "      <th>4</th>\n",
              "      <td>9019</td>\n",
              "      <td>[(9022, 2), (317, 1), (9023, 1)]</td>\n",
              "    </tr>\n",
              "    <tr>\n",
              "      <th>5</th>\n",
              "      <td>9992</td>\n",
              "      <td>[(9987, 4), (9989, 4), (35667, 3), (9991, 2)]</td>\n",
              "    </tr>\n",
              "    <tr>\n",
              "      <th>6</th>\n",
              "      <td>9022</td>\n",
              "      <td>[(9019, 2), (9020, 2), (9021, 2), (317, 1), (9...</td>\n",
              "    </tr>\n",
              "    <tr>\n",
              "      <th>7</th>\n",
              "      <td>9993</td>\n",
              "      <td>[(9991, 5), (13134, 1), (13478, 1), (13877, 1)...</td>\n",
              "    </tr>\n",
              "    <tr>\n",
              "      <th>8</th>\n",
              "      <td>9020</td>\n",
              "      <td>[(9021, 3), (9016, 2), (9017, 2), (9022, 2), (...</td>\n",
              "    </tr>\n",
              "    <tr>\n",
              "      <th>9</th>\n",
              "      <td>9021</td>\n",
              "      <td>[(9020, 3), (9016, 2), (9017, 2), (9022, 2), (...</td>\n",
              "    </tr>\n",
              "  </tbody>\n",
              "</table>\n",
              "</div>\n",
              "      <button class=\"colab-df-convert\" onclick=\"convertToInteractive('df-f0a4081e-f537-4342-86e4-c0d6cfb0ac9a')\"\n",
              "              title=\"Convert this dataframe to an interactive table.\"\n",
              "              style=\"display:none;\">\n",
              "        \n",
              "  <svg xmlns=\"http://www.w3.org/2000/svg\" height=\"24px\"viewBox=\"0 0 24 24\"\n",
              "       width=\"24px\">\n",
              "    <path d=\"M0 0h24v24H0V0z\" fill=\"none\"/>\n",
              "    <path d=\"M18.56 5.44l.94 2.06.94-2.06 2.06-.94-2.06-.94-.94-2.06-.94 2.06-2.06.94zm-11 1L8.5 8.5l.94-2.06 2.06-.94-2.06-.94L8.5 2.5l-.94 2.06-2.06.94zm10 10l.94 2.06.94-2.06 2.06-.94-2.06-.94-.94-2.06-.94 2.06-2.06.94z\"/><path d=\"M17.41 7.96l-1.37-1.37c-.4-.4-.92-.59-1.43-.59-.52 0-1.04.2-1.43.59L10.3 9.45l-7.72 7.72c-.78.78-.78 2.05 0 2.83L4 21.41c.39.39.9.59 1.41.59.51 0 1.02-.2 1.41-.59l7.78-7.78 2.81-2.81c.8-.78.8-2.07 0-2.86zM5.41 20L4 18.59l7.72-7.72 1.47 1.35L5.41 20z\"/>\n",
              "  </svg>\n",
              "      </button>\n",
              "      \n",
              "  <style>\n",
              "    .colab-df-container {\n",
              "      display:flex;\n",
              "      flex-wrap:wrap;\n",
              "      gap: 12px;\n",
              "    }\n",
              "\n",
              "    .colab-df-convert {\n",
              "      background-color: #E8F0FE;\n",
              "      border: none;\n",
              "      border-radius: 50%;\n",
              "      cursor: pointer;\n",
              "      display: none;\n",
              "      fill: #1967D2;\n",
              "      height: 32px;\n",
              "      padding: 0 0 0 0;\n",
              "      width: 32px;\n",
              "    }\n",
              "\n",
              "    .colab-df-convert:hover {\n",
              "      background-color: #E2EBFA;\n",
              "      box-shadow: 0px 1px 2px rgba(60, 64, 67, 0.3), 0px 1px 3px 1px rgba(60, 64, 67, 0.15);\n",
              "      fill: #174EA6;\n",
              "    }\n",
              "\n",
              "    [theme=dark] .colab-df-convert {\n",
              "      background-color: #3B4455;\n",
              "      fill: #D2E3FC;\n",
              "    }\n",
              "\n",
              "    [theme=dark] .colab-df-convert:hover {\n",
              "      background-color: #434B5C;\n",
              "      box-shadow: 0px 1px 3px 1px rgba(0, 0, 0, 0.15);\n",
              "      filter: drop-shadow(0px 1px 2px rgba(0, 0, 0, 0.3));\n",
              "      fill: #FFFFFF;\n",
              "    }\n",
              "  </style>\n",
              "\n",
              "      <script>\n",
              "        const buttonEl =\n",
              "          document.querySelector('#df-f0a4081e-f537-4342-86e4-c0d6cfb0ac9a button.colab-df-convert');\n",
              "        buttonEl.style.display =\n",
              "          google.colab.kernel.accessAllowed ? 'block' : 'none';\n",
              "\n",
              "        async function convertToInteractive(key) {\n",
              "          const element = document.querySelector('#df-f0a4081e-f537-4342-86e4-c0d6cfb0ac9a');\n",
              "          const dataTable =\n",
              "            await google.colab.kernel.invokeFunction('convertToInteractive',\n",
              "                                                     [key], {});\n",
              "          if (!dataTable) return;\n",
              "\n",
              "          const docLinkHtml = 'Like what you see? Visit the ' +\n",
              "            '<a target=\"_blank\" href=https://colab.research.google.com/notebooks/data_table.ipynb>data table notebook</a>'\n",
              "            + ' to learn more about interactive tables.';\n",
              "          element.innerHTML = '';\n",
              "          dataTable['output_type'] = 'display_data';\n",
              "          await google.colab.output.renderOutput(dataTable, element);\n",
              "          const docLink = document.createElement('div');\n",
              "          docLink.innerHTML = docLinkHtml;\n",
              "          element.appendChild(docLink);\n",
              "        }\n",
              "      </script>\n",
              "    </div>\n",
              "  </div>\n",
              "  "
            ]
          },
          "metadata": {},
          "execution_count": 10
        }
      ],
      "source": [
        "# Creating the required output\n",
        "import pandas as pd\n",
        "## Obtaining specific user recommendations\n",
        "users = result.filter(lambda x: x[0] in ['924', '8941', '8942', '9019', '9020', '9021', '9022', '9990', '9992', '9993'])\n",
        "## Sorting by likelihood and placing in ascending order for like candidates\n",
        "#users = users.mapValues(lambda x: sorted(x, key=lambda y: y[1], reverse=True))\n",
        "users = users.map(lambda x: (x[0], sorted(x[1], key=lambda y: (-y[1], y[0]))))\n",
        "users = users.map(lambda x: (x[0], sorted(x[1], key=lambda y: (-y[1], y[0]))[:10]))\n",
        "## Creating a dataframe to visualize the data\n",
        "users = users.toDF(['User', 'Suggested friends in order of decreasing likelihood'])\n",
        "users = users.toPandas()\n",
        "users"
      ]
    },
    {
      "cell_type": "code",
      "source": [
        "# Preparing the same output without the count\n",
        "users_of_interest = result.filter(lambda x: x[0] in ['924', '8941', '8942', '9019', '9020', '9021', '9022', '9990', '9992', '9993'])\n",
        "sorted_users_of_interest = users_of_interest.map(lambda x: (x[0], sorted(x[1], key=lambda y: (-y[1], y[0]))))\n",
        "top_10_ordered_candidates = sorted_users_of_interest.map(lambda x: (x[0], sorted(x[1], key=lambda y: (-y[1], y[0]))[:10]))\n",
        "ordered_suggestions = top_10_ordered_candidates.map(lambda x: (x[0], [i[0] for i in x[1]])).collect()\n",
        "print(ordered_suggestions)\n",
        "\n",
        "# Presenting as a Dataframe\n",
        "import pandas as pd\n",
        "users_df = pd.DataFrame(ordered_suggestions)\n",
        "users_df.columns = ['User', 'Suggested friends in order of decreasing likelihood']\n",
        "users_df"
      ],
      "metadata": {
        "id": "xYv_nc9S6FVG",
        "colab": {
          "base_uri": "https://localhost:8080/",
          "height": 400
        },
        "outputId": "dcf5345d-05b2-406f-923f-7b1fdad5a256"
      },
      "execution_count": null,
      "outputs": [
        {
          "output_type": "stream",
          "name": "stdout",
          "text": [
            "[('9993', ['9991', '13134', '13478', '13877', '34299', '34485', '34642', '37941']), ('9020', ['9021', '9016', '9017', '9022', '317', '9023']), ('9021', ['9020', '9016', '9017', '9022', '317', '9023']), ('8942', ['8939', '8940', '8943', '8944']), ('924', ['11860', '15416', '2409', '43748', '439', '45881', '6995']), ('8941', ['8943', '8944', '8940']), ('9019', ['9022', '317', '9023']), ('9990', ['13134', '13478', '13877', '34299', '34485', '34642', '37941']), ('9992', ['9987', '9989', '35667', '9991']), ('9022', ['9019', '9020', '9021', '317', '9016', '9017', '9023'])]\n"
          ]
        },
        {
          "output_type": "execute_result",
          "data": {
            "text/plain": [
              "   User Suggested friends in order of decreasing likelihood\n",
              "0  9993  [9991, 13134, 13478, 13877, 34299, 34485, 3464... \n",
              "1  9020                [9021, 9016, 9017, 9022, 317, 9023] \n",
              "2  9021                [9020, 9016, 9017, 9022, 317, 9023] \n",
              "3  8942                           [8939, 8940, 8943, 8944] \n",
              "4   924      [11860, 15416, 2409, 43748, 439, 45881, 6995] \n",
              "5  8941                                 [8943, 8944, 8940] \n",
              "6  9019                                  [9022, 317, 9023] \n",
              "7  9990  [13134, 13478, 13877, 34299, 34485, 34642, 37941] \n",
              "8  9992                          [9987, 9989, 35667, 9991] \n",
              "9  9022          [9019, 9020, 9021, 317, 9016, 9017, 9023] "
            ],
            "text/html": [
              "\n",
              "  <div id=\"df-850151a9-6d7e-4137-8efe-998f5fc9b542\">\n",
              "    <div class=\"colab-df-container\">\n",
              "      <div>\n",
              "<style scoped>\n",
              "    .dataframe tbody tr th:only-of-type {\n",
              "        vertical-align: middle;\n",
              "    }\n",
              "\n",
              "    .dataframe tbody tr th {\n",
              "        vertical-align: top;\n",
              "    }\n",
              "\n",
              "    .dataframe thead th {\n",
              "        text-align: right;\n",
              "    }\n",
              "</style>\n",
              "<table border=\"1\" class=\"dataframe\">\n",
              "  <thead>\n",
              "    <tr style=\"text-align: right;\">\n",
              "      <th></th>\n",
              "      <th>User</th>\n",
              "      <th>Suggested friends in order of decreasing likelihood</th>\n",
              "    </tr>\n",
              "  </thead>\n",
              "  <tbody>\n",
              "    <tr>\n",
              "      <th>0</th>\n",
              "      <td>9993</td>\n",
              "      <td>[9991, 13134, 13478, 13877, 34299, 34485, 3464...</td>\n",
              "    </tr>\n",
              "    <tr>\n",
              "      <th>1</th>\n",
              "      <td>9020</td>\n",
              "      <td>[9021, 9016, 9017, 9022, 317, 9023]</td>\n",
              "    </tr>\n",
              "    <tr>\n",
              "      <th>2</th>\n",
              "      <td>9021</td>\n",
              "      <td>[9020, 9016, 9017, 9022, 317, 9023]</td>\n",
              "    </tr>\n",
              "    <tr>\n",
              "      <th>3</th>\n",
              "      <td>8942</td>\n",
              "      <td>[8939, 8940, 8943, 8944]</td>\n",
              "    </tr>\n",
              "    <tr>\n",
              "      <th>4</th>\n",
              "      <td>924</td>\n",
              "      <td>[11860, 15416, 2409, 43748, 439, 45881, 6995]</td>\n",
              "    </tr>\n",
              "    <tr>\n",
              "      <th>5</th>\n",
              "      <td>8941</td>\n",
              "      <td>[8943, 8944, 8940]</td>\n",
              "    </tr>\n",
              "    <tr>\n",
              "      <th>6</th>\n",
              "      <td>9019</td>\n",
              "      <td>[9022, 317, 9023]</td>\n",
              "    </tr>\n",
              "    <tr>\n",
              "      <th>7</th>\n",
              "      <td>9990</td>\n",
              "      <td>[13134, 13478, 13877, 34299, 34485, 34642, 37941]</td>\n",
              "    </tr>\n",
              "    <tr>\n",
              "      <th>8</th>\n",
              "      <td>9992</td>\n",
              "      <td>[9987, 9989, 35667, 9991]</td>\n",
              "    </tr>\n",
              "    <tr>\n",
              "      <th>9</th>\n",
              "      <td>9022</td>\n",
              "      <td>[9019, 9020, 9021, 317, 9016, 9017, 9023]</td>\n",
              "    </tr>\n",
              "  </tbody>\n",
              "</table>\n",
              "</div>\n",
              "      <button class=\"colab-df-convert\" onclick=\"convertToInteractive('df-850151a9-6d7e-4137-8efe-998f5fc9b542')\"\n",
              "              title=\"Convert this dataframe to an interactive table.\"\n",
              "              style=\"display:none;\">\n",
              "        \n",
              "  <svg xmlns=\"http://www.w3.org/2000/svg\" height=\"24px\"viewBox=\"0 0 24 24\"\n",
              "       width=\"24px\">\n",
              "    <path d=\"M0 0h24v24H0V0z\" fill=\"none\"/>\n",
              "    <path d=\"M18.56 5.44l.94 2.06.94-2.06 2.06-.94-2.06-.94-.94-2.06-.94 2.06-2.06.94zm-11 1L8.5 8.5l.94-2.06 2.06-.94-2.06-.94L8.5 2.5l-.94 2.06-2.06.94zm10 10l.94 2.06.94-2.06 2.06-.94-2.06-.94-.94-2.06-.94 2.06-2.06.94z\"/><path d=\"M17.41 7.96l-1.37-1.37c-.4-.4-.92-.59-1.43-.59-.52 0-1.04.2-1.43.59L10.3 9.45l-7.72 7.72c-.78.78-.78 2.05 0 2.83L4 21.41c.39.39.9.59 1.41.59.51 0 1.02-.2 1.41-.59l7.78-7.78 2.81-2.81c.8-.78.8-2.07 0-2.86zM5.41 20L4 18.59l7.72-7.72 1.47 1.35L5.41 20z\"/>\n",
              "  </svg>\n",
              "      </button>\n",
              "      \n",
              "  <style>\n",
              "    .colab-df-container {\n",
              "      display:flex;\n",
              "      flex-wrap:wrap;\n",
              "      gap: 12px;\n",
              "    }\n",
              "\n",
              "    .colab-df-convert {\n",
              "      background-color: #E8F0FE;\n",
              "      border: none;\n",
              "      border-radius: 50%;\n",
              "      cursor: pointer;\n",
              "      display: none;\n",
              "      fill: #1967D2;\n",
              "      height: 32px;\n",
              "      padding: 0 0 0 0;\n",
              "      width: 32px;\n",
              "    }\n",
              "\n",
              "    .colab-df-convert:hover {\n",
              "      background-color: #E2EBFA;\n",
              "      box-shadow: 0px 1px 2px rgba(60, 64, 67, 0.3), 0px 1px 3px 1px rgba(60, 64, 67, 0.15);\n",
              "      fill: #174EA6;\n",
              "    }\n",
              "\n",
              "    [theme=dark] .colab-df-convert {\n",
              "      background-color: #3B4455;\n",
              "      fill: #D2E3FC;\n",
              "    }\n",
              "\n",
              "    [theme=dark] .colab-df-convert:hover {\n",
              "      background-color: #434B5C;\n",
              "      box-shadow: 0px 1px 3px 1px rgba(0, 0, 0, 0.15);\n",
              "      filter: drop-shadow(0px 1px 2px rgba(0, 0, 0, 0.3));\n",
              "      fill: #FFFFFF;\n",
              "    }\n",
              "  </style>\n",
              "\n",
              "      <script>\n",
              "        const buttonEl =\n",
              "          document.querySelector('#df-850151a9-6d7e-4137-8efe-998f5fc9b542 button.colab-df-convert');\n",
              "        buttonEl.style.display =\n",
              "          google.colab.kernel.accessAllowed ? 'block' : 'none';\n",
              "\n",
              "        async function convertToInteractive(key) {\n",
              "          const element = document.querySelector('#df-850151a9-6d7e-4137-8efe-998f5fc9b542');\n",
              "          const dataTable =\n",
              "            await google.colab.kernel.invokeFunction('convertToInteractive',\n",
              "                                                     [key], {});\n",
              "          if (!dataTable) return;\n",
              "\n",
              "          const docLinkHtml = 'Like what you see? Visit the ' +\n",
              "            '<a target=\"_blank\" href=https://colab.research.google.com/notebooks/data_table.ipynb>data table notebook</a>'\n",
              "            + ' to learn more about interactive tables.';\n",
              "          element.innerHTML = '';\n",
              "          dataTable['output_type'] = 'display_data';\n",
              "          await google.colab.output.renderOutput(dataTable, element);\n",
              "          const docLink = document.createElement('div');\n",
              "          docLink.innerHTML = docLinkHtml;\n",
              "          element.appendChild(docLink);\n",
              "        }\n",
              "      </script>\n",
              "    </div>\n",
              "  </div>\n",
              "  "
            ]
          },
          "metadata": {},
          "execution_count": 11
        }
      ]
    },
    {
      "cell_type": "code",
      "source": [
        "# Saving output in the format specified\n",
        "users_df.to_csv(\"assessment 1.txt\", sep=\"\\t\")"
      ],
      "metadata": {
        "id": "m12uQgtYO5dt"
      },
      "execution_count": null,
      "outputs": []
    },
    {
      "cell_type": "markdown",
      "metadata": {
        "id": "M5DC5fgw7Lto"
      },
      "source": [
        "## Part 2 - LSH and the S-curve\n",
        "To earn the marks, lets start from the beginning...\n",
        "\n",
        "Imagine you had an enormous collection of documents that you wanted to compare for similarity without needing to go through all of them individually. One way to do this would be to use the words or string of words as a marker of similarity - though this would only relate documents that are physically similar and not necessarily semantically similar. Using single words alone may not narrow it down as needed, and provides no information about their connection. In the case of detecting plagirism that is an important point. Order matters, but arrangement does not. That is to say we need to detect similar phrases no matter where they exist in the text.\n",
        "\n",
        "Enter k-shingles!\n",
        "K-shingles provides a method of comparing text in a way that is independent of its location in the document. (I assume they are named after roofing shingles which are the same but overlap in a similar fashion). The sentence \"Hello there\" could be broken into the 2-shingle units he, el, ll, lo, o_, _t, th, he, er, and re. You can see how they overlap. If we then gathered all the documents, and all the k-shingles we could construct a table indicating the presence of a k-shingle with columns representing documents and rows as k-shingles. This fictitious table is known as a characteristic matrix, and can be quite sparse (lots of zeros). When we have a very large sample size, the memory required to store all that inforamtion is orders of magnitude larger and much of it is not informative (the zeros).\n",
        "\n",
        "Enter Minhash hashing!\n",
        "These are hash functions used to replace k-shingles with a much less memory intensive value. This method takes a sort of fingerprint of a document based on the order that the chracteristic matrix's ones appear in for a given column when read from top to bottom in some predetermined permutation. The first row from the top for a given document with a 1 will have its index used as the 'minhash'. This is then done for every column. The probability that this value is the same for two documents is equivalent to the Jaccard similarity.This is because there is a direct link between the calculations.\n",
        "\n",
        "In practice, this process is too time consuming. Instead of taking random permutations, a hash function is used to generate the minhash signatures that make up the signature matrix. This function will map the row number to particular buckets, ideally unique buckets but in the scheme of things a few collisions are okay. This generates a signature matrix where the columns are still symbolic of the documents contents, and the hash values are representative of the shingles within the document. Columns that are similar represent documents that are similar as they approximate Jacard simialrity. But false positives will exist due to collisions in buckets.\n",
        "\n",
        "Now, in relation to this question, b and r represent divisions in the signature matrix of b bands and r rows. Each band segment can be hashed to a large number of buckets, so bands that are the same will appear in the same bucket. This reduces the size of the matrix once more.\n",
        "\n",
        "The probability that the signatures of these bands agree in all the rows, or that the documents are candiate pairs, is given by the equation provided:\n",
        "$$\n",
        "1-\\left(1-s^r\\right)^b\n",
        "$$\n",
        "\n",
        "Graphically, the x-axis is the Jaccard similarity, the y-axis is the probability of becoming a candidate pair, and it takes the form of an s-curve. When the probability of becoming a candidate pair is 0.5, you are at the threshold. This position is at s = $(1 / b)^{1 / r}$ . With this in mind, we can select a threshold and determine the best values for b and r by setting that equation equal to the desired threshold (considering the accuracy and the time demands). The threshold you chose is largely dependent on the context of the problem. Using the signatures, we can now calculate the approximate Jacard similarity and determine whether or not it passes the threshold and can be deemed similar.\n",
        "\n",
        "\n",
        "\n"
      ]
    },
    {
      "cell_type": "code",
      "execution_count": null,
      "metadata": {
        "colab": {
          "base_uri": "https://localhost:8080/",
          "height": 315
        },
        "id": "6Brt3HNm7RJh",
        "outputId": "ca81a71b-477d-40f4-f2d3-0bfa49b7909b"
      },
      "outputs": [
        {
          "output_type": "display_data",
          "data": {
            "text/plain": [
              "<Figure size 432x288 with 1 Axes>"
            ],
            "image/png": "[encoded data removed]"
          },
          "metadata": {
            "needs_background": "light"
          }
        }
      ],
      "source": [
        "import matplotlib.pyplot as plt\n",
        "import numpy as np\n",
        "import pandas as pd\n",
        "s = [0.1, 0.2, 0.3, 0.4, 0.5, 0.6, 0.7, 0.8, 0.9]\n",
        "r = 3\n",
        "b = 10\n",
        "y = []\n",
        "for val in s:\n",
        "  z = 1-(1-(val)**r)**b\n",
        "  y.append(z)\n",
        "\n",
        "fig = plt.figure()\n",
        "plt.scatter(s, y)\n",
        "plt.title(\"The s-curve when r = 3 and b = 10\\n\", size=16)\n",
        "plt.xlabel(\"Jaccard simillarity\")\n",
        "plt.ylabel(\"Probability of becoming a candidate pair\\n\")\n",
        "threshold = round((1/b)**(1/r),3)\n",
        "plt.vlines(threshold,0,1, colors = \"r\")\n",
        "plt.show()"
      ]
    },
    {
      "cell_type": "code",
      "execution_count": null,
      "metadata": {
        "colab": {
          "base_uri": "https://localhost:8080/",
          "height": 366
        },
        "id": "nBMdxWI3VI9n",
        "outputId": "1ced6824-ed0b-4f06-e415-9004ee6c5cb2"
      },
      "outputs": [
        {
          "output_type": "stream",
          "name": "stdout",
          "text": [
            "The threshold for being interpretted as a similar pair with these bands is approximately 0.464 according to the calculation.\n",
            "\n"
          ]
        },
        {
          "output_type": "execute_result",
          "data": {
            "text/plain": [
              "     s         y\n",
              "0  0.1  0.009955\n",
              "1  0.2  0.077181\n",
              "2  0.3  0.239449\n",
              "3  0.4  0.483871\n",
              "4  0.5  0.736924\n",
              "5  0.6  0.912267\n",
              "6  0.7  0.985015\n",
              "7  0.8  0.999234\n",
              "8  0.9  0.999998"
            ],
            "text/html": [
              "\n",
              "  <div id=\"df-7ddaaa0a-3fd8-4bcc-9da6-e8c206792bf2\">\n",
              "    <div class=\"colab-df-container\">\n",
              "      <div>\n",
              "<style scoped>\n",
              "    .dataframe tbody tr th:only-of-type {\n",
              "        vertical-align: middle;\n",
              "    }\n",
              "\n",
              "    .dataframe tbody tr th {\n",
              "        vertical-align: top;\n",
              "    }\n",
              "\n",
              "    .dataframe thead th {\n",
              "        text-align: right;\n",
              "    }\n",
              "</style>\n",
              "<table border=\"1\" class=\"dataframe\">\n",
              "  <thead>\n",
              "    <tr style=\"text-align: right;\">\n",
              "      <th></th>\n",
              "      <th>s</th>\n",
              "      <th>y</th>\n",
              "    </tr>\n",
              "  </thead>\n",
              "  <tbody>\n",
              "    <tr>\n",
              "      <th>0</th>\n",
              "      <td>0.1</td>\n",
              "      <td>0.009955</td>\n",
              "    </tr>\n",
              "    <tr>\n",
              "      <th>1</th>\n",
              "      <td>0.2</td>\n",
              "      <td>0.077181</td>\n",
              "    </tr>\n",
              "    <tr>\n",
              "      <th>2</th>\n",
              "      <td>0.3</td>\n",
              "      <td>0.239449</td>\n",
              "    </tr>\n",
              "    <tr>\n",
              "      <th>3</th>\n",
              "      <td>0.4</td>\n",
              "      <td>0.483871</td>\n",
              "    </tr>\n",
              "    <tr>\n",
              "      <th>4</th>\n",
              "      <td>0.5</td>\n",
              "      <td>0.736924</td>\n",
              "    </tr>\n",
              "    <tr>\n",
              "      <th>5</th>\n",
              "      <td>0.6</td>\n",
              "      <td>0.912267</td>\n",
              "    </tr>\n",
              "    <tr>\n",
              "      <th>6</th>\n",
              "      <td>0.7</td>\n",
              "      <td>0.985015</td>\n",
              "    </tr>\n",
              "    <tr>\n",
              "      <th>7</th>\n",
              "      <td>0.8</td>\n",
              "      <td>0.999234</td>\n",
              "    </tr>\n",
              "    <tr>\n",
              "      <th>8</th>\n",
              "      <td>0.9</td>\n",
              "      <td>0.999998</td>\n",
              "    </tr>\n",
              "  </tbody>\n",
              "</table>\n",
              "</div>\n",
              "      <button class=\"colab-df-convert\" onclick=\"convertToInteractive('df-7ddaaa0a-3fd8-4bcc-9da6-e8c206792bf2')\"\n",
              "              title=\"Convert this dataframe to an interactive table.\"\n",
              "              style=\"display:none;\">\n",
              "        \n",
              "  <svg xmlns=\"http://www.w3.org/2000/svg\" height=\"24px\"viewBox=\"0 0 24 24\"\n",
              "       width=\"24px\">\n",
              "    <path d=\"M0 0h24v24H0V0z\" fill=\"none\"/>\n",
              "    <path d=\"M18.56 5.44l.94 2.06.94-2.06 2.06-.94-2.06-.94-.94-2.06-.94 2.06-2.06.94zm-11 1L8.5 8.5l.94-2.06 2.06-.94-2.06-.94L8.5 2.5l-.94 2.06-2.06.94zm10 10l.94 2.06.94-2.06 2.06-.94-2.06-.94-.94-2.06-.94 2.06-2.06.94z\"/><path d=\"M17.41 7.96l-1.37-1.37c-.4-.4-.92-.59-1.43-.59-.52 0-1.04.2-1.43.59L10.3 9.45l-7.72 7.72c-.78.78-.78 2.05 0 2.83L4 21.41c.39.39.9.59 1.41.59.51 0 1.02-.2 1.41-.59l7.78-7.78 2.81-2.81c.8-.78.8-2.07 0-2.86zM5.41 20L4 18.59l7.72-7.72 1.47 1.35L5.41 20z\"/>\n",
              "  </svg>\n",
              "      </button>\n",
              "      \n",
              "  <style>\n",
              "    .colab-df-container {\n",
              "      display:flex;\n",
              "      flex-wrap:wrap;\n",
              "      gap: 12px;\n",
              "    }\n",
              "\n",
              "    .colab-df-convert {\n",
              "      background-color: #E8F0FE;\n",
              "      border: none;\n",
              "      border-radius: 50%;\n",
              "      cursor: pointer;\n",
              "      display: none;\n",
              "      fill: #1967D2;\n",
              "      height: 32px;\n",
              "      padding: 0 0 0 0;\n",
              "      width: 32px;\n",
              "    }\n",
              "\n",
              "    .colab-df-convert:hover {\n",
              "      background-color: #E2EBFA;\n",
              "      box-shadow: 0px 1px 2px rgba(60, 64, 67, 0.3), 0px 1px 3px 1px rgba(60, 64, 67, 0.15);\n",
              "      fill: #174EA6;\n",
              "    }\n",
              "\n",
              "    [theme=dark] .colab-df-convert {\n",
              "      background-color: #3B4455;\n",
              "      fill: #D2E3FC;\n",
              "    }\n",
              "\n",
              "    [theme=dark] .colab-df-convert:hover {\n",
              "      background-color: #434B5C;\n",
              "      box-shadow: 0px 1px 3px 1px rgba(0, 0, 0, 0.15);\n",
              "      filter: drop-shadow(0px 1px 2px rgba(0, 0, 0, 0.3));\n",
              "      fill: #FFFFFF;\n",
              "    }\n",
              "  </style>\n",
              "\n",
              "      <script>\n",
              "        const buttonEl =\n",
              "          document.querySelector('#df-7ddaaa0a-3fd8-4bcc-9da6-e8c206792bf2 button.colab-df-convert');\n",
              "        buttonEl.style.display =\n",
              "          google.colab.kernel.accessAllowed ? 'block' : 'none';\n",
              "\n",
              "        async function convertToInteractive(key) {\n",
              "          const element = document.querySelector('#df-7ddaaa0a-3fd8-4bcc-9da6-e8c206792bf2');\n",
              "          const dataTable =\n",
              "            await google.colab.kernel.invokeFunction('convertToInteractive',\n",
              "                                                     [key], {});\n",
              "          if (!dataTable) return;\n",
              "\n",
              "          const docLinkHtml = 'Like what you see? Visit the ' +\n",
              "            '<a target=\"_blank\" href=https://colab.research.google.com/notebooks/data_table.ipynb>data table notebook</a>'\n",
              "            + ' to learn more about interactive tables.';\n",
              "          element.innerHTML = '';\n",
              "          dataTable['output_type'] = 'display_data';\n",
              "          await google.colab.output.renderOutput(dataTable, element);\n",
              "          const docLink = document.createElement('div');\n",
              "          docLink.innerHTML = docLinkHtml;\n",
              "          element.appendChild(docLink);\n",
              "        }\n",
              "      </script>\n",
              "    </div>\n",
              "  </div>\n",
              "  "
            ]
          },
          "metadata": {},
          "execution_count": 14
        }
      ],
      "source": [
        "print(\"The threshold for being interpretted as a similar pair with these bands \" +\n",
        "      \"is approximately\", threshold, \"according to the calculation.\\n\")\n",
        "pd.DataFrame({'s':s,\n",
        "              'y':y})"
      ]
    },
    {
      "cell_type": "markdown",
      "metadata": {
        "id": "qH-Ii873WdBc"
      },
      "source": [
        "The above demonstrates that a moderate threshold has been selected. Slightly below 0.5 indicates that there may be slightly more false positives than if the threshold was at 0.5 Perhaps the trade off in time is worth the loss of accuracy."
      ]
    },
    {
      "cell_type": "code",
      "execution_count": null,
      "metadata": {
        "colab": {
          "base_uri": "https://localhost:8080/",
          "height": 315
        },
        "id": "1gSRaC897TmK",
        "outputId": "7807ff95-de22-4a36-fb9f-a348b0f849fc"
      },
      "outputs": [
        {
          "output_type": "display_data",
          "data": {
            "text/plain": [
              "<Figure size 432x288 with 1 Axes>"
            ],
            "image/png": "[encoded data removed]"
          },
          "metadata": {
            "needs_background": "light"
          }
        }
      ],
      "source": [
        "r = 6\n",
        "b =10\n",
        "y = []\n",
        "for val in s:\n",
        "  z = 1-(1-(val)**r)**b\n",
        "  y.append(z)\n",
        "fig = plt.figure()\n",
        "plt.scatter(s, y)\n",
        "plt.title(\"The s-curve when r = 6 and b = 10\\n\", size=16)\n",
        "plt.xlabel(\"Jaccard simillarity\")\n",
        "plt.ylabel(\"Probability of becoming a candidate pair\\n\")\n",
        "threshold = round((1/b)**(1/r),3)\n",
        "plt.vlines(threshold,0,1, colors = \"r\")\n",
        "plt.show()\n"
      ]
    },
    {
      "cell_type": "code",
      "execution_count": null,
      "metadata": {
        "colab": {
          "base_uri": "https://localhost:8080/",
          "height": 366
        },
        "id": "SRG1YQuTVHr9",
        "outputId": "f7de4e7f-5227-49c7-c1c2-ad3614c2db65"
      },
      "outputs": [
        {
          "output_type": "stream",
          "name": "stdout",
          "text": [
            "The threshold for being interpretted as a similar pair with these bands is approximately 0.681 according to the calculation.\n",
            "\n"
          ]
        },
        {
          "output_type": "execute_result",
          "data": {
            "text/plain": [
              "     s         y\n",
              "0  0.1  0.000010\n",
              "1  0.2  0.000640\n",
              "2  0.3  0.007266\n",
              "3  0.4  0.040213\n",
              "4  0.5  0.145709\n",
              "5  0.6  0.379851\n",
              "6  0.7  0.713969\n",
              "7  0.8  0.952168\n",
              "8  0.9  0.999490"
            ],
            "text/html": [
              "\n",
              "  <div id=\"df-1d0fd9bc-08ac-44c3-8334-72d3f8023074\">\n",
              "    <div class=\"colab-df-container\">\n",
              "      <div>\n",
              "<style scoped>\n",
              "    .dataframe tbody tr th:only-of-type {\n",
              "        vertical-align: middle;\n",
              "    }\n",
              "\n",
              "    .dataframe tbody tr th {\n",
              "        vertical-align: top;\n",
              "    }\n",
              "\n",
              "    .dataframe thead th {\n",
              "        text-align: right;\n",
              "    }\n",
              "</style>\n",
              "<table border=\"1\" class=\"dataframe\">\n",
              "  <thead>\n",
              "    <tr style=\"text-align: right;\">\n",
              "      <th></th>\n",
              "      <th>s</th>\n",
              "      <th>y</th>\n",
              "    </tr>\n",
              "  </thead>\n",
              "  <tbody>\n",
              "    <tr>\n",
              "      <th>0</th>\n",
              "      <td>0.1</td>\n",
              "      <td>0.000010</td>\n",
              "    </tr>\n",
              "    <tr>\n",
              "      <th>1</th>\n",
              "      <td>0.2</td>\n",
              "      <td>0.000640</td>\n",
              "    </tr>\n",
              "    <tr>\n",
              "      <th>2</th>\n",
              "      <td>0.3</td>\n",
              "      <td>0.007266</td>\n",
              "    </tr>\n",
              "    <tr>\n",
              "      <th>3</th>\n",
              "      <td>0.4</td>\n",
              "      <td>0.040213</td>\n",
              "    </tr>\n",
              "    <tr>\n",
              "      <th>4</th>\n",
              "      <td>0.5</td>\n",
              "      <td>0.145709</td>\n",
              "    </tr>\n",
              "    <tr>\n",
              "      <th>5</th>\n",
              "      <td>0.6</td>\n",
              "      <td>0.379851</td>\n",
              "    </tr>\n",
              "    <tr>\n",
              "      <th>6</th>\n",
              "      <td>0.7</td>\n",
              "      <td>0.713969</td>\n",
              "    </tr>\n",
              "    <tr>\n",
              "      <th>7</th>\n",
              "      <td>0.8</td>\n",
              "      <td>0.952168</td>\n",
              "    </tr>\n",
              "    <tr>\n",
              "      <th>8</th>\n",
              "      <td>0.9</td>\n",
              "      <td>0.999490</td>\n",
              "    </tr>\n",
              "  </tbody>\n",
              "</table>\n",
              "</div>\n",
              "      <button class=\"colab-df-convert\" onclick=\"convertToInteractive('df-1d0fd9bc-08ac-44c3-8334-72d3f8023074')\"\n",
              "              title=\"Convert this dataframe to an interactive table.\"\n",
              "              style=\"display:none;\">\n",
              "        \n",
              "  <svg xmlns=\"http://www.w3.org/2000/svg\" height=\"24px\"viewBox=\"0 0 24 24\"\n",
              "       width=\"24px\">\n",
              "    <path d=\"M0 0h24v24H0V0z\" fill=\"none\"/>\n",
              "    <path d=\"M18.56 5.44l.94 2.06.94-2.06 2.06-.94-2.06-.94-.94-2.06-.94 2.06-2.06.94zm-11 1L8.5 8.5l.94-2.06 2.06-.94-2.06-.94L8.5 2.5l-.94 2.06-2.06.94zm10 10l.94 2.06.94-2.06 2.06-.94-2.06-.94-.94-2.06-.94 2.06-2.06.94z\"/><path d=\"M17.41 7.96l-1.37-1.37c-.4-.4-.92-.59-1.43-.59-.52 0-1.04.2-1.43.59L10.3 9.45l-7.72 7.72c-.78.78-.78 2.05 0 2.83L4 21.41c.39.39.9.59 1.41.59.51 0 1.02-.2 1.41-.59l7.78-7.78 2.81-2.81c.8-.78.8-2.07 0-2.86zM5.41 20L4 18.59l7.72-7.72 1.47 1.35L5.41 20z\"/>\n",
              "  </svg>\n",
              "      </button>\n",
              "      \n",
              "  <style>\n",
              "    .colab-df-container {\n",
              "      display:flex;\n",
              "      flex-wrap:wrap;\n",
              "      gap: 12px;\n",
              "    }\n",
              "\n",
              "    .colab-df-convert {\n",
              "      background-color: #E8F0FE;\n",
              "      border: none;\n",
              "      border-radius: 50%;\n",
              "      cursor: pointer;\n",
              "      display: none;\n",
              "      fill: #1967D2;\n",
              "      height: 32px;\n",
              "      padding: 0 0 0 0;\n",
              "      width: 32px;\n",
              "    }\n",
              "\n",
              "    .colab-df-convert:hover {\n",
              "      background-color: #E2EBFA;\n",
              "      box-shadow: 0px 1px 2px rgba(60, 64, 67, 0.3), 0px 1px 3px 1px rgba(60, 64, 67, 0.15);\n",
              "      fill: #174EA6;\n",
              "    }\n",
              "\n",
              "    [theme=dark] .colab-df-convert {\n",
              "      background-color: #3B4455;\n",
              "      fill: #D2E3FC;\n",
              "    }\n",
              "\n",
              "    [theme=dark] .colab-df-convert:hover {\n",
              "      background-color: #434B5C;\n",
              "      box-shadow: 0px 1px 3px 1px rgba(0, 0, 0, 0.15);\n",
              "      filter: drop-shadow(0px 1px 2px rgba(0, 0, 0, 0.3));\n",
              "      fill: #FFFFFF;\n",
              "    }\n",
              "  </style>\n",
              "\n",
              "      <script>\n",
              "        const buttonEl =\n",
              "          document.querySelector('#df-1d0fd9bc-08ac-44c3-8334-72d3f8023074 button.colab-df-convert');\n",
              "        buttonEl.style.display =\n",
              "          google.colab.kernel.accessAllowed ? 'block' : 'none';\n",
              "\n",
              "        async function convertToInteractive(key) {\n",
              "          const element = document.querySelector('#df-1d0fd9bc-08ac-44c3-8334-72d3f8023074');\n",
              "          const dataTable =\n",
              "            await google.colab.kernel.invokeFunction('convertToInteractive',\n",
              "                                                     [key], {});\n",
              "          if (!dataTable) return;\n",
              "\n",
              "          const docLinkHtml = 'Like what you see? Visit the ' +\n",
              "            '<a target=\"_blank\" href=https://colab.research.google.com/notebooks/data_table.ipynb>data table notebook</a>'\n",
              "            + ' to learn more about interactive tables.';\n",
              "          element.innerHTML = '';\n",
              "          dataTable['output_type'] = 'display_data';\n",
              "          await google.colab.output.renderOutput(dataTable, element);\n",
              "          const docLink = document.createElement('div');\n",
              "          docLink.innerHTML = docLinkHtml;\n",
              "          element.appendChild(docLink);\n",
              "        }\n",
              "      </script>\n",
              "    </div>\n",
              "  </div>\n",
              "  "
            ]
          },
          "metadata": {},
          "execution_count": 16
        }
      ],
      "source": [
        "print(\"The threshold for being interpretted as a similar pair with these bands \" +\n",
        "      \"is approximately\", threshold, \"according to the calculation.\\n\")\n",
        "pd.DataFrame({'s':s,\n",
        "              'y':y})"
      ]
    },
    {
      "cell_type": "markdown",
      "metadata": {
        "id": "SnGWfT1EW4fz"
      },
      "source": [
        "The threshold here is well over a Jacard similarity of 0.5, meaning it may take longer than the previous run but it will provide more accurate candidate pairs as the threshold is above the Jacard similarity of 0.5."
      ]
    },
    {
      "cell_type": "code",
      "execution_count": null,
      "metadata": {
        "colab": {
          "base_uri": "https://localhost:8080/",
          "height": 315
        },
        "id": "TLM7YBbm8gm6",
        "outputId": "0c4aba63-e82c-423c-93a1-5a7a2799ad2f"
      },
      "outputs": [
        {
          "output_type": "display_data",
          "data": {
            "text/plain": [
              "<Figure size 432x288 with 1 Axes>"
            ],
            "image/png": "[encoded data removed]"
          },
          "metadata": {
            "needs_background": "light"
          }
        }
      ],
      "source": [
        "r = 5\n",
        "b = 50\n",
        "y = []\n",
        "for val in s:\n",
        "  z = 1-(1-(val)**r)**b\n",
        "  y.append(z)\n",
        "fig = plt.figure()\n",
        "plt.scatter(s, y)\n",
        "plt.title(\"The s-curve when r = 5 and b = 50\\n\", size=16)\n",
        "plt.xlabel(\"Jaccard simillarity\")\n",
        "plt.ylabel(\"Probability of becoming a candidate pair\\n\")\n",
        "threshold = round((1/b)**(1/r),3)\n",
        "plt.vlines(threshold,0,1, colors = \"r\")\n",
        "plt.show()"
      ]
    },
    {
      "cell_type": "code",
      "execution_count": null,
      "metadata": {
        "colab": {
          "base_uri": "https://localhost:8080/",
          "height": 366
        },
        "id": "EkcOi6Wz8ycp",
        "outputId": "7af12c34-9400-470c-d6cc-60c43c0a9767"
      },
      "outputs": [
        {
          "output_type": "stream",
          "name": "stdout",
          "text": [
            "The threshold for being interpretted as a similar pair with these bands is approximately 0.457 according to the calculation.\n",
            "\n"
          ]
        },
        {
          "output_type": "execute_result",
          "data": {
            "text/plain": [
              "     s         y\n",
              "0  0.1  0.000500\n",
              "1  0.2  0.015875\n",
              "2  0.3  0.114540\n",
              "3  0.4  0.402284\n",
              "4  0.5  0.795551\n",
              "5  0.6  0.982534\n",
              "6  0.7  0.999899\n",
              "7  0.8  1.000000\n",
              "8  0.9  1.000000"
            ],
            "text/html": [
              "\n",
              "  <div id=\"df-1540198c-9a94-4ed5-ac43-7b4e7923afe7\">\n",
              "    <div class=\"colab-df-container\">\n",
              "      <div>\n",
              "<style scoped>\n",
              "    .dataframe tbody tr th:only-of-type {\n",
              "        vertical-align: middle;\n",
              "    }\n",
              "\n",
              "    .dataframe tbody tr th {\n",
              "        vertical-align: top;\n",
              "    }\n",
              "\n",
              "    .dataframe thead th {\n",
              "        text-align: right;\n",
              "    }\n",
              "</style>\n",
              "<table border=\"1\" class=\"dataframe\">\n",
              "  <thead>\n",
              "    <tr style=\"text-align: right;\">\n",
              "      <th></th>\n",
              "      <th>s</th>\n",
              "      <th>y</th>\n",
              "    </tr>\n",
              "  </thead>\n",
              "  <tbody>\n",
              "    <tr>\n",
              "      <th>0</th>\n",
              "      <td>0.1</td>\n",
              "      <td>0.000500</td>\n",
              "    </tr>\n",
              "    <tr>\n",
              "      <th>1</th>\n",
              "      <td>0.2</td>\n",
              "      <td>0.015875</td>\n",
              "    </tr>\n",
              "    <tr>\n",
              "      <th>2</th>\n",
              "      <td>0.3</td>\n",
              "      <td>0.114540</td>\n",
              "    </tr>\n",
              "    <tr>\n",
              "      <th>3</th>\n",
              "      <td>0.4</td>\n",
              "      <td>0.402284</td>\n",
              "    </tr>\n",
              "    <tr>\n",
              "      <th>4</th>\n",
              "      <td>0.5</td>\n",
              "      <td>0.795551</td>\n",
              "    </tr>\n",
              "    <tr>\n",
              "      <th>5</th>\n",
              "      <td>0.6</td>\n",
              "      <td>0.982534</td>\n",
              "    </tr>\n",
              "    <tr>\n",
              "      <th>6</th>\n",
              "      <td>0.7</td>\n",
              "      <td>0.999899</td>\n",
              "    </tr>\n",
              "    <tr>\n",
              "      <th>7</th>\n",
              "      <td>0.8</td>\n",
              "      <td>1.000000</td>\n",
              "    </tr>\n",
              "    <tr>\n",
              "      <th>8</th>\n",
              "      <td>0.9</td>\n",
              "      <td>1.000000</td>\n",
              "    </tr>\n",
              "  </tbody>\n",
              "</table>\n",
              "</div>\n",
              "      <button class=\"colab-df-convert\" onclick=\"convertToInteractive('df-1540198c-9a94-4ed5-ac43-7b4e7923afe7')\"\n",
              "              title=\"Convert this dataframe to an interactive table.\"\n",
              "              style=\"display:none;\">\n",
              "        \n",
              "  <svg xmlns=\"http://www.w3.org/2000/svg\" height=\"24px\"viewBox=\"0 0 24 24\"\n",
              "       width=\"24px\">\n",
              "    <path d=\"M0 0h24v24H0V0z\" fill=\"none\"/>\n",
              "    <path d=\"M18.56 5.44l.94 2.06.94-2.06 2.06-.94-2.06-.94-.94-2.06-.94 2.06-2.06.94zm-11 1L8.5 8.5l.94-2.06 2.06-.94-2.06-.94L8.5 2.5l-.94 2.06-2.06.94zm10 10l.94 2.06.94-2.06 2.06-.94-2.06-.94-.94-2.06-.94 2.06-2.06.94z\"/><path d=\"M17.41 7.96l-1.37-1.37c-.4-.4-.92-.59-1.43-.59-.52 0-1.04.2-1.43.59L10.3 9.45l-7.72 7.72c-.78.78-.78 2.05 0 2.83L4 21.41c.39.39.9.59 1.41.59.51 0 1.02-.2 1.41-.59l7.78-7.78 2.81-2.81c.8-.78.8-2.07 0-2.86zM5.41 20L4 18.59l7.72-7.72 1.47 1.35L5.41 20z\"/>\n",
              "  </svg>\n",
              "      </button>\n",
              "      \n",
              "  <style>\n",
              "    .colab-df-container {\n",
              "      display:flex;\n",
              "      flex-wrap:wrap;\n",
              "      gap: 12px;\n",
              "    }\n",
              "\n",
              "    .colab-df-convert {\n",
              "      background-color: #E8F0FE;\n",
              "      border: none;\n",
              "      border-radius: 50%;\n",
              "      cursor: pointer;\n",
              "      display: none;\n",
              "      fill: #1967D2;\n",
              "      height: 32px;\n",
              "      padding: 0 0 0 0;\n",
              "      width: 32px;\n",
              "    }\n",
              "\n",
              "    .colab-df-convert:hover {\n",
              "      background-color: #E2EBFA;\n",
              "      box-shadow: 0px 1px 2px rgba(60, 64, 67, 0.3), 0px 1px 3px 1px rgba(60, 64, 67, 0.15);\n",
              "      fill: #174EA6;\n",
              "    }\n",
              "\n",
              "    [theme=dark] .colab-df-convert {\n",
              "      background-color: #3B4455;\n",
              "      fill: #D2E3FC;\n",
              "    }\n",
              "\n",
              "    [theme=dark] .colab-df-convert:hover {\n",
              "      background-color: #434B5C;\n",
              "      box-shadow: 0px 1px 3px 1px rgba(0, 0, 0, 0.15);\n",
              "      filter: drop-shadow(0px 1px 2px rgba(0, 0, 0, 0.3));\n",
              "      fill: #FFFFFF;\n",
              "    }\n",
              "  </style>\n",
              "\n",
              "      <script>\n",
              "        const buttonEl =\n",
              "          document.querySelector('#df-1540198c-9a94-4ed5-ac43-7b4e7923afe7 button.colab-df-convert');\n",
              "        buttonEl.style.display =\n",
              "          google.colab.kernel.accessAllowed ? 'block' : 'none';\n",
              "\n",
              "        async function convertToInteractive(key) {\n",
              "          const element = document.querySelector('#df-1540198c-9a94-4ed5-ac43-7b4e7923afe7');\n",
              "          const dataTable =\n",
              "            await google.colab.kernel.invokeFunction('convertToInteractive',\n",
              "                                                     [key], {});\n",
              "          if (!dataTable) return;\n",
              "\n",
              "          const docLinkHtml = 'Like what you see? Visit the ' +\n",
              "            '<a target=\"_blank\" href=https://colab.research.google.com/notebooks/data_table.ipynb>data table notebook</a>'\n",
              "            + ' to learn more about interactive tables.';\n",
              "          element.innerHTML = '';\n",
              "          dataTable['output_type'] = 'display_data';\n",
              "          await google.colab.output.renderOutput(dataTable, element);\n",
              "          const docLink = document.createElement('div');\n",
              "          docLink.innerHTML = docLinkHtml;\n",
              "          element.appendChild(docLink);\n",
              "        }\n",
              "      </script>\n",
              "    </div>\n",
              "  </div>\n",
              "  "
            ]
          },
          "metadata": {},
          "execution_count": 18
        }
      ],
      "source": [
        "print(\"The threshold for being interpretted as a similar pair with these bands \" +\n",
        "      \"is approximately\", threshold, \"according to the calculation.\\n\")\n",
        "pd.DataFrame({'s':s,\n",
        "              'y':y})"
      ]
    },
    {
      "cell_type": "markdown",
      "metadata": {
        "id": "eIDbpT1_XYWB"
      },
      "source": [
        "Again we have a run where the threshold is below Jacard similarity of 0.5, but this particular curve has a sharper incline which indicates that the probability of having at least one false positive reduces much faster than in the previous runs."
      ]
    },
    {
      "cell_type": "markdown",
      "metadata": {
        "id": "QjVL9ZqP9Gt6"
      },
      "source": [
        "## Part 3 - Filtering Streams\n",
        "Bloom filters are an ingenious method of identifying similarity to a high degree of probability. The basic prinicple is that a single piece of information can be passed to a number of hash functions and the output creates something of a unique set of values. In theory, if another other item creates the same bucket values, they are the same (however collisions can result in some false positives, but not false negatives). This takes a large dataset and reduce the memory needed and the time it would take to filter through each relation.\n",
        "\n",
        "For example, in the case of spam emails, if I index the email addresses, i can hash the address with multiple hash functions. If an incoming email doesn't match any of the sets of buckets created by each index, then it is a new email address as it is unique. But if it does match a set of buckets, then the email has been recieved before.\n",
        "\n",
        "The false positive rate  is $\n",
        "\\left(1-e^{-k m / n}\\right)^k\n",
        "$ where k is the number of hash functions used, m is the number of elements in a set, and n is the size of the array. To minimize the faalse positive rate you need to set K to be equal to $\n",
        "k=n / m \\cdot \\ln (2)\n",
        "$."
      ]
    },
    {
      "cell_type": "code",
      "source": [
        "# The case for 1 hash functions\n",
        "import math\n",
        "k = 1 #number of hash functions used\n",
        "m = 2*10**9  # elements in set\n",
        "n = 10*10**9  # size of array\n",
        "\n",
        "# False positive rate equation\n",
        "false_pos_rate = (1-(math.e)**(-k*m/n))**k\n",
        "print(false_pos_rate)"
      ],
      "metadata": {
        "colab": {
          "base_uri": "https://localhost:8080/"
        },
        "id": "Nyah1411J8Gb",
        "outputId": "60fa9d4f-a283-45e2-f932-3162085dcf0c"
      },
      "execution_count": null,
      "outputs": [
        {
          "output_type": "stream",
          "name": "stdout",
          "text": [
            "0.18126924692201818\n"
          ]
        }
      ]
    },
    {
      "cell_type": "code",
      "source": [
        "# The case for 2 hash functions\n",
        "import math\n",
        "k = 2 # number of hash functions used\n",
        "m = 2*10**9  # elements in set\n",
        "n = 10*10**9  # size of array\n",
        "\n",
        "# False positive rate equation\n",
        "false_pos_rate = (1-(math.e)**(-k*m/n))**k\n",
        "print(false_pos_rate)"
      ],
      "metadata": {
        "colab": {
          "base_uri": "https://localhost:8080/"
        },
        "id": "XjyIeTmPJ4AT",
        "outputId": "200a51da-58b1-4c78-8b2c-7564a81f0559"
      },
      "execution_count": null,
      "outputs": [
        {
          "output_type": "stream",
          "name": "stdout",
          "text": [
            "0.10868887204594298\n"
          ]
        }
      ]
    },
    {
      "cell_type": "code",
      "execution_count": null,
      "metadata": {
        "colab": {
          "base_uri": "https://localhost:8080/"
        },
        "id": "GymyfKul9KVC",
        "outputId": "4d3dd164-d43f-49df-bad3-77baa22404df"
      },
      "outputs": [
        {
          "output_type": "stream",
          "name": "stdout",
          "text": [
            "0.09184883923294042\n"
          ]
        }
      ],
      "source": [
        "# The case for 3 hash functions\n",
        "import math\n",
        "k = 3 # number of hash functions used\n",
        "m = 2*10**9  # elements in set\n",
        "n = 10*10**9  # size of array\n",
        "\n",
        "# False positive rate equation\n",
        "false_pos_rate = (1-(math.e)**(-k*m/n))**k\n",
        "print(false_pos_rate)"
      ]
    },
    {
      "cell_type": "code",
      "execution_count": null,
      "metadata": {
        "colab": {
          "base_uri": "https://localhost:8080/"
        },
        "id": "rZnaTBkEcHLr",
        "outputId": "b3dde229-4faf-4c0b-f219-5fdb5a73eead"
      },
      "outputs": [
        {
          "output_type": "stream",
          "name": "stdout",
          "text": [
            "0.0919536423197623\n"
          ]
        }
      ],
      "source": [
        "# The case for four hash functions\n",
        "k = 4 # number of hash functions used\n",
        "m = 2*10**9  # elements in set\n",
        "n = 10*10**9  # size of array\n",
        "\n",
        "# False positive rate equation\n",
        "false_pos_rate = (1-(math.e)**(-k*m/n))**k\n",
        "print(false_pos_rate)"
      ]
    },
    {
      "cell_type": "code",
      "source": [
        "# The case for 5 hash functions\n",
        "import math\n",
        "k = 5 # number of hash functions used\n",
        "m = 2*10**9  # elements in set\n",
        "n = 10*10**9  # size of array\n",
        "\n",
        "# False positive rate equation\n",
        "false_pos_rate = (1-(math.e)**(-k*m/n))**k\n",
        "print(false_pos_rate)"
      ],
      "metadata": {
        "colab": {
          "base_uri": "https://localhost:8080/"
        },
        "id": "UeVtWrQbJ_KV",
        "outputId": "03f1fe02-0881-4498-f6e1-59398b8768ec"
      },
      "execution_count": null,
      "outputs": [
        {
          "output_type": "stream",
          "name": "stdout",
          "text": [
            "0.10092519027486131\n"
          ]
        }
      ]
    },
    {
      "cell_type": "code",
      "source": [
        "# The case for 6 hash functions\n",
        "import math\n",
        "k = 6 # number of hash functions used\n",
        "m = 2*10**9  # elements in set\n",
        "n = 10*10**9  # size of array\n",
        "\n",
        "# False positive rate equation\n",
        "false_pos_rate = (1-(math.e)**(-k*m/n))**k\n",
        "print(false_pos_rate)"
      ],
      "metadata": {
        "colab": {
          "base_uri": "https://localhost:8080/"
        },
        "id": "a0zjlYXWKG4j",
        "outputId": "4c7df7e7-7c6d-4b19-c2c5-cebda5b83964"
      },
      "execution_count": null,
      "outputs": [
        {
          "output_type": "stream",
          "name": "stdout",
          "text": [
            "0.11644985740580262\n"
          ]
        }
      ]
    },
    {
      "cell_type": "markdown",
      "source": [
        "As you can see, the difference between having 3 and 4 hash functions is minimal. But outside of that range it startes to increase by a larger amount."
      ],
      "metadata": {
        "id": "3bXmD2pwJIUl"
      }
    },
    {
      "cell_type": "code",
      "execution_count": null,
      "metadata": {
        "colab": {
          "base_uri": "https://localhost:8080/"
        },
        "id": "t2_zF5FNdZpJ",
        "outputId": "7de64f06-383b-4f81-d7e6-43967a0efa1a"
      },
      "outputs": [
        {
          "output_type": "stream",
          "name": "stdout",
          "text": [
            "The number of hash functions required to minimize the false positive rate is: 3.466\n",
            "You can't have 0.466 of a hash function though. So, looking at the values above, 3 is the best choice.\n"
          ]
        }
      ],
      "source": [
        "# The number of hash functions required to minimize the fale positive rate\n",
        "k=math.log(2)*(n/m)\n",
        "print(\"The number of hash functions required to minimize the false positive rate is:\", round(k,3))\n",
        "print(\"You can't have 0.466 of a hash function though. So, looking at the values above,\", math.floor(k), \"is the best choice.\" )"
      ]
    }
  ],
  "metadata": {
    "colab": {
      "provenance": [],
      "authorship_tag": "ABX9TyM9qX2A5U8Tzmctsi1p3twY",
      "include_colab_link": true
    },
    "kernelspec": {
      "display_name": "Python 3",
      "name": "python3"
    },
    "language_info": {
      "name": "python"
    }
  },
  "nbformat": 4,
  "nbformat_minor": 0
}