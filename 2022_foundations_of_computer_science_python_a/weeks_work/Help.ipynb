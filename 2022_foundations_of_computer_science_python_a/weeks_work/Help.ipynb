{
 "cells": [
  {
   "cell_type": "code",
   "execution_count": 157,
   "id": "b07bd559",
   "metadata": {},
   "outputs": [
    {
     "name": "stdout",
     "output_type": "stream",
     "text": [
      "{'Adelaide': 54, 'Perth': 28, 'Melbourne': 16, 'Canberra': 6, 'Sydney': 7, 'Brisbane': 0, 'Darwin': 0}\n",
      "\n",
      "Done.\n",
      " WARNING! Please ensure: \n",
      "-The maximum temperature column on your imported CSV file was named 'MaxTemp' \n",
      "-The Temperature paramater is in the same units observed in your imported CSV file \n",
      "-The locations column in your CSV file was named 'Location'\n",
      "\n",
      "Amend any of these inconsistency if needed and try again\n"
     ]
    }
   ],
   "source": [
    "#Question 3\n",
    "#Note: file name must be input as a string, Maximum temperature column in that file must be named MaxTemp and use the same units\n",
    "#      as the input CSV file uses, and the location column must be named \"Location\"\n",
    "  \n",
    "#### daysOver function\n",
    "def daysOver(temperature, location, dictionary):\n",
    "    instances_of_interest = []\n",
    "    for row in dictionary:\n",
    "        if row['MaxTemp'] != 'NA' and temperature < float(row['MaxTemp']) and row['Location'] == location:\n",
    "            instances_of_interest.append(row[\"Location\"])\n",
    "    return instances_of_interest.count(location)\n",
    "\n",
    "#### writeTemps function\n",
    "def writeTempsData(dictionary, filename, temperature):  \n",
    "    cities = ['Adelaide','Perth','Melbourne','Canberra','Sydney','Brisbane', 'Darwin']\n",
    "    values = []\n",
    "    for city in cities:\n",
    "        file.seek(0)\n",
    "        dictionary = csv.DictReader(file)\n",
    "        values.append(daysOver(temperature, city, dictionary))\n",
    "    output_dictionary = dict(zip(cities, values))\n",
    "    print(output_dictionary)\n",
    "    \n",
    "    header = ['City', 'Temp Count']\n",
    "    with open(filename,'w', newline = '') as file2:\n",
    "        writer = csv.writer(file2)\n",
    "        writer.writerow(i for i in header)\n",
    "        for k, v in output_dictionary.items():\n",
    "            writer.writerow([k, v])\n",
    "\n",
    "        print(\"\\nDone.\\n\", \n",
    "          \"WARNING! Please ensure:\",\n",
    "          \"\\n-The maximum temperature column on your imported CSV file was named 'MaxTemp'\",\n",
    "          \"\\n-The Temperature paramater is in the same units observed in your imported CSV file\",\n",
    "          \"\\n-The locations column in your CSV file was named 'Location'\"\n",
    "          \"\\n\\nAmend any of these inconsistency if needed and try again\")\n",
    "####\n",
    "import csv \n",
    "file = open('weatherAUS-1.csv')\n",
    "ppp = csv.DictReader(file)\n",
    "writeTempsData(ppp,'test123.csv', 40)"
   ]
  },
  {
   "cell_type": "code",
   "execution_count": null,
   "id": "a71f6c86",
   "metadata": {},
   "outputs": [],
   "source": []
  }
 ],
 "metadata": {
  "kernelspec": {
   "display_name": "Python 3 (ipykernel)",
   "language": "python",
   "name": "python3"
  },
  "language_info": {
   "codemirror_mode": {
    "name": "ipython",
    "version": 3
   },
   "file_extension": ".py",
   "mimetype": "text/x-python",
   "name": "python",
   "nbconvert_exporter": "python",
   "pygments_lexer": "ipython3",
   "version": "3.9.7"
  }
 },
 "nbformat": 4,
 "nbformat_minor": 5
}
