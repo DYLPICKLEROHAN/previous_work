{
 "cells": [
  {
   "cell_type": "markdown",
   "id": "6fd05f9f",
   "metadata": {},
   "source": [
    "<div style=\"text-align: right\"> Dylan Rohan - a1844790 </div>\n",
    "\n",
    "***"
   ]
  },
  {
   "cell_type": "markdown",
   "id": "b0de0489",
   "metadata": {},
   "source": [
    "## Week 2 - Assessment 1 - Part A\n"
   ]
  },
  {
   "cell_type": "markdown",
   "id": "f253451c",
   "metadata": {},
   "source": [
    "### Section 1 – More Blood Glucose Data "
   ]
  },
  {
   "cell_type": "markdown",
   "id": "38fff318",
   "metadata": {},
   "source": [
    "Below a list of 500 non-diabetic subjects with normal glucose levels is populated one at a time using the random library. 'Normal' glucose levels are defined as having concentrations lower than 126mg/dL, but higher than 60mg/dL. The list is then presented to the user after indicating what units the values are in."
   ]
  },
  {
   "cell_type": "code",
   "execution_count": 176,
   "id": "9adc99ab",
   "metadata": {},
   "outputs": [
    {
     "name": "stdout",
     "output_type": "stream",
     "text": [
      "The following values are in mg/dL:\n",
      " [86, 106, 69, 98, 118, 71, 94, 61, 98, 105, 80, 70, 114, 89, 85, 119, 88, 124, 63, 62, 70, 118, 85, 105, 114, 98, 91, 61, 118, 94, 64, 68, 67, 118, 66, 120, 117, 72, 75, 90, 92, 65, 92, 121, 85, 73, 83, 79, 122, 64, 65, 116, 90, 107, 124, 92, 75, 110, 67, 69, 107, 65, 87, 63, 61, 88, 97, 105, 80, 64, 106, 91, 111, 71, 61, 121, 108, 78, 113, 94, 104, 114, 112, 106, 119, 73, 71, 104, 98, 90, 67, 63, 119, 69, 113, 122, 122, 96, 82, 121, 69, 78, 72, 88, 100, 105, 69, 93, 74, 115, 89, 113, 92, 93, 67, 116, 100, 68, 93, 124, 91, 96, 99, 89, 71, 77, 61, 118, 120, 90, 67, 70, 71, 109, 72, 100, 114, 117, 103, 103, 111, 123, 89, 91, 91, 113, 87, 91, 103, 105, 61, 120, 92, 84, 75, 103, 111, 61, 101, 108, 88, 83, 104, 92, 76, 120, 99, 114, 112, 64, 78, 101, 68, 106, 86, 68, 116, 84, 83, 98, 112, 96, 124, 94, 107, 107, 93, 83, 108, 86, 102, 98, 112, 119, 73, 72, 82, 107, 122, 124, 68, 68, 69, 115, 73, 66, 110, 98, 91, 98, 79, 90, 84, 103, 80, 96, 95, 120, 100, 77, 84, 120, 73, 96, 83, 101, 86, 90, 123, 122, 96, 95, 76, 119, 117, 63, 61, 100, 117, 87, 76, 95, 123, 98, 70, 105, 97, 117, 89, 117, 71, 79, 120, 81, 61, 88, 97, 102, 110, 104, 68, 71, 89, 86, 73, 81, 107, 95, 115, 94, 112, 85, 80, 75, 105, 106, 95, 86, 123, 71, 111, 100, 82, 66, 111, 104, 103, 116, 97, 107, 82, 67, 120, 85, 68, 79, 105, 90, 124, 105, 100, 76, 76, 96, 106, 106, 108, 81, 78, 101, 103, 84, 124, 70, 76, 84, 103, 72, 111, 93, 83, 117, 113, 99, 104, 67, 109, 62, 82, 85, 89, 79, 105, 99, 108, 110, 90, 119, 91, 100, 83, 98, 84, 116, 93, 69, 106, 90, 114, 123, 123, 123, 123, 65, 114, 121, 71, 124, 107, 74, 89, 84, 79, 70, 86, 94, 73, 81, 101, 97, 106, 118, 100, 115, 75, 102, 80, 95, 85, 105, 96, 83, 65, 91, 116, 116, 86, 76, 71, 106, 123, 92, 66, 99, 61, 91, 95, 115, 121, 96, 71, 103, 66, 99, 104, 103, 89, 89, 109, 103, 121, 89, 69, 85, 113, 63, 109, 105, 102, 91, 118, 112, 65, 66, 87, 65, 82, 72, 121, 78, 114, 100, 107, 68, 80, 93, 120, 120, 65, 102, 84, 62, 104, 113, 116, 64, 93, 72, 112, 95, 115, 88, 79, 85, 98, 121, 98, 75, 91, 90, 90, 94, 87, 97, 74, 103, 89, 98, 124, 73, 93, 101, 105, 111, 86, 67, 110, 65, 89, 67, 86, 65, 69, 100, 115, 111, 85, 109, 117, 86, 70, 62, 71, 104, 106, 75, 100, 105, 83, 70]\n"
     ]
    }
   ],
   "source": [
    "# Importing the random library and creating a list of normal concentrations to chose from at random, [61,125].\n",
    "import random \n",
    "normal_glucose_concentration = list(range(61,125))    \n",
    "# Introduction of subject list\n",
    "subject_glucose_levels = [random.choice(normal_glucose_concentration)]    \n",
    "\n",
    "i=0\n",
    "#While there are less than 500 subjects in the list ...\n",
    "while len(subject_glucose_levels) < 500: \n",
    "    # ...add another subject concentration at random\n",
    "    subject_glucose_levels.append(random.choice(normal_glucose_concentration)) \n",
    "    i += 1 # an increment function that tells the loop tocontinue until condition is met.\n",
    "\n",
    "print('The following values are in mg/dL:\\n', subject_glucose_levels)\n",
    "    "
   ]
  },
  {
   "cell_type": "code",
   "execution_count": 177,
   "id": "4ca01422",
   "metadata": {},
   "outputs": [
    {
     "data": {
      "text/plain": [
       "500"
      ]
     },
     "execution_count": 177,
     "metadata": {},
     "output_type": "execute_result"
    }
   ],
   "source": [
    "#Confirming list contains 500 values\n",
    "len(subject_glucose_levels)"
   ]
  },
  {
   "cell_type": "markdown",
   "id": "4b7def79",
   "metadata": {},
   "source": [
    "### Section 2 – Unit and data point chooser "
   ]
  },
  {
   "cell_type": "markdown",
   "id": "59699cce",
   "metadata": {},
   "source": [
    "Code below asks the user if they would like to convert the list created in **Section 1 - More Blood Glucose Data** from mg/dL to mmol/L. The user is asked to input whether they would like to alter the list, if they type 'Y' The orignial list is copied so as not to remove the original. A new list is introduced and then populated with converted concentrations. If any other key is hit instead of \"Y\", the original list of concentrations in mg/dL is printed.\n",
    "\n",
    "In either case, a list is printed out after a line indicating the units the values are presented in."
   ]
  },
  {
   "cell_type": "code",
   "execution_count": 149,
   "id": "20919367",
   "metadata": {},
   "outputs": [
    {
     "name": "stdout",
     "output_type": "stream",
     "text": [
      "Would you like concentrations to appear in mmol/L instead of mh/dL? Press Y for yes, or any other key for NoN\n",
      "The following values are in mg/dL:\n",
      " [106, 119, 83, 104, 73, 124, 104, 120, 71, 70, 89, 122, 112, 112, 112, 89, 111, 114, 76, 94, 77, 68, 97, 105, 96, 68, 94, 120, 116, 102, 125, 61, 95, 113, 77, 75, 60, 102, 61, 113, 94, 99, 124, 120, 122, 114, 88, 81, 70, 76, 87, 73, 122, 92, 65, 62, 89, 98, 84, 102, 85, 61, 102, 91, 91, 119, 76, 79, 83, 105, 113, 101, 63, 121, 121, 83, 61, 66, 74, 100, 62, 114, 66, 118, 123, 75, 104, 125, 81, 111, 107, 122, 67, 79, 73, 98, 113, 116, 70, 117, 89, 103, 66, 107, 91, 109, 71, 79, 114, 68, 100, 67, 74, 66, 80, 93, 77, 79, 110, 116, 107, 100, 82, 91, 62, 108, 84, 94, 61, 93, 78, 115, 119, 123, 108, 91, 120, 86, 117, 80, 102, 103, 63, 68, 121, 93, 87, 75, 93, 125, 90, 96, 61, 91, 80, 119, 110, 73, 85, 120, 99, 72, 95, 90, 99, 88, 73, 60, 63, 125, 96, 117, 91, 83, 74, 71, 78, 94, 124, 76, 95, 66, 86, 63, 109, 62, 108, 69, 112, 86, 97, 117, 80, 100, 93, 106, 125, 63, 78, 96, 114, 84, 78, 101, 63, 77, 74, 100, 84, 111, 121, 91, 121, 61, 123, 76, 83, 60, 81, 61, 96, 72, 87, 109, 79, 63, 124, 124, 83, 118, 125, 60, 97, 93, 99, 86, 76, 67, 83, 72, 123, 62, 85, 94, 85, 65, 107, 114, 102, 85, 62, 78, 110, 96, 103, 115, 121, 113, 82, 80, 67, 72, 111, 98, 61, 83, 99, 66, 118, 81, 99, 72, 72, 73, 100, 74, 125, 123, 97, 73, 97, 94, 62, 88, 99, 90, 68, 101, 89, 101, 108, 74, 67, 94, 84, 63, 118, 71, 61, 122, 75, 107, 64, 98, 79, 95, 60, 62, 84, 109, 79, 67, 68, 104, 123, 110, 124, 63, 83, 67, 107, 119, 116, 66, 114, 64, 94, 76, 84, 77, 85, 109, 73, 73, 81, 78, 81, 94, 104, 69, 90, 114, 76, 67, 125, 100, 86, 70, 120, 96, 107, 106, 122, 75, 74, 91, 112, 63, 75, 82, 115, 83, 99, 79, 65, 89, 99, 123, 97, 78, 76, 78, 80, 110, 64, 77, 74, 90, 80, 123, 108, 72, 104, 90, 72, 60, 73, 78, 117, 119, 114, 83, 116, 120, 74, 68, 87, 103, 102, 90, 90, 122, 91, 103, 60, 97, 60, 98, 73, 115, 74, 116, 85, 85, 92, 125, 110, 71, 105, 86, 101, 100, 70, 91, 113, 98, 116, 125, 73, 90, 76, 111, 116, 68, 62, 109, 99, 70, 123, 102, 123, 107, 110, 94, 125, 123, 91, 122, 64, 72, 97, 94, 101, 77, 63, 70, 110, 79, 65, 63, 103, 111, 122, 118, 111, 85, 110, 100, 69, 119, 118, 108, 98, 66, 86, 101, 74, 107, 92, 110, 100, 73, 113, 66, 68, 65, 101, 103, 68, 65, 115, 84, 77, 102, 120, 93, 116, 64, 122, 118]\n"
     ]
    }
   ],
   "source": [
    "# Requesting user input for conversion\n",
    "user = input(\"Would you like concentrations to appear in mmol/L instead of mh/dL? Press Y for yes, or any other key for No\")\n",
    "\n",
    "\n",
    "#Providing user with requested list.\n",
    "if user == 'Y':\n",
    "    # Copying list across and creating new list for converted values\n",
    "    mgdl_concentrations = list(subject_glucose_levels)\n",
    "    mmoll_concentrations = []\n",
    "    #Running the calculations\n",
    "    mmoll_concentrations = [number / 18 for number in mgdl_concentrations]\n",
    "    rounded_mmoll_concentrations = [round(number, 2) for number in mmoll_concentrations] \n",
    "    print('The following values are in mmol/L:', rounded_mmoll_concentrations, sep = '\\n')\n",
    "else:\n",
    "    print('The following values are in mg/dL:\\n', subject_glucose_levels)"
   ]
  },
  {
   "cell_type": "code",
   "execution_count": 148,
   "id": "511612e6",
   "metadata": {},
   "outputs": [
    {
     "name": "stdout",
     "output_type": "stream",
     "text": [
      "500\n",
      "500\n"
     ]
    }
   ],
   "source": [
    "#Confirming the population size is still 500 before and after calculation\n",
    "print(len(rounded_mmoll_concentrations))\n",
    "print(len(mgdl_concentrations)) "
   ]
  },
  {
   "cell_type": "markdown",
   "id": "b900f3a0",
   "metadata": {},
   "source": [
    "### Section 3 – Giving more choices"
   ]
  },
  {
   "cell_type": "markdown",
   "id": "00389c92",
   "metadata": {},
   "source": [
    "Below section one and two are brought together to make a program that will generate a list of random non-diabetic subject blood concentrations of a size and form the user desires."
   ]
  },
  {
   "cell_type": "code",
   "execution_count": 180,
   "id": "1160e856",
   "metadata": {},
   "outputs": [
    {
     "name": "stdout",
     "output_type": "stream",
     "text": [
      "Please indicate the number of subjects you would like in the population: 25\n",
      "Would you like concentrations to appear in mmol/L instead of mh/dL? Press Y for yes, or any other key for No.  Y\n",
      "The following values are in mmol/L:\n",
      "[4.39, 4.94, 6.5, 5.39, 3.78, 5.22, 5.83, 5.22, 4.5, 4.56, 5.83, 6.39, 4.33, 5.72, 6.22, 4.17, 5.0, 6.0, 5.56, 6.78, 6.83, 3.67, 3.39, 5.5, 6.44]\n"
     ]
    }
   ],
   "source": [
    "# Importing the random library  \n",
    "import random \n",
    "\n",
    "# Creating a list to chose concentrations from at random and a list to populate with subjects\n",
    "normal_glucose_concentration = list(range(61,125))    \n",
    "subject_glucose_levels = []    \n",
    "\n",
    "# Request user input for desired population size\n",
    "pop_size = input(\"Please indicate the number of subjects you would like in the population: \")\n",
    "\n",
    "# Ensuring user input is in a numerical form\n",
    "if pop_size.isalpha() == True:\n",
    "    print('\\nPlease refresh and input positive numeric values only')\n",
    "    \n",
    "# Converting input into an integer and populate the list with random glucose values  \n",
    "else:\n",
    "    pop_size = int(pop_size)\n",
    "    i=0\n",
    "    while len(subject_glucose_levels) < pop_size: \n",
    "        subject_glucose_levels.append(random.choice(normal_glucose_concentration)) \n",
    "        i += 1\n",
    "        \n",
    "# Requesting user to chose the units they would like the list to be viewed in, mg/dL or mmol/L\n",
    "    units = input(\"Would you like concentrations to appear in mmol/L instead of mh/dL? Press Y for yes, or any other key for No.  \")\n",
    "\n",
    "# Converting concentrations if desired by user and printing list\n",
    "    if units == 'Y':\n",
    "        mgdl_concentrations = list(subject_glucose_levels)\n",
    "        mmoll_concentrations = []\n",
    "        mmoll_concentrations = [number / 18 for number in mgdl_concentrations]\n",
    "        rounded_mmoll_concentrations = [round(number, 2) for number in mmoll_concentrations] \n",
    "        print('The following values are in mmol/L:', rounded_mmoll_concentrations, sep = '\\n')\n",
    "    else:\n",
    "        print('The following values are in mg/dL:', subject_glucose_levels, sep = '\\n')\n"
   ]
  }
 ],
 "metadata": {
  "kernelspec": {
   "display_name": "Python 3 (ipykernel)",
   "language": "python",
   "name": "python3"
  },
  "language_info": {
   "codemirror_mode": {
    "name": "ipython",
    "version": 3
   },
   "file_extension": ".py",
   "mimetype": "text/x-python",
   "name": "python",
   "nbconvert_exporter": "python",
   "pygments_lexer": "ipython3",
   "version": "3.9.7"
  }
 },
 "nbformat": 4,
 "nbformat_minor": 5
}
