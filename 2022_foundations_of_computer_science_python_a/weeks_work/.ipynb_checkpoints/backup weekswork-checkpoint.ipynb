{
 "cells": [
  {
   "cell_type": "markdown",
   "id": "8232f8d3",
   "metadata": {},
   "source": [
    "# First notebook\n",
    "This is my first Jupyter notebook"
   ]
  },
  {
   "cell_type": "markdown",
   "id": "45b13963",
   "metadata": {},
   "source": [
    "# Week One"
   ]
  },
  {
   "cell_type": "markdown",
   "id": "04566094",
   "metadata": {},
   "source": [
    "ctrl + enter = run cell\n",
    "Shift + enter = run cell and move to the next cell\n",
    "Alt + enter = run cell and create new cell below"
   ]
  },
  {
   "cell_type": "markdown",
   "id": "180bb152",
   "metadata": {},
   "source": [
    "test\n",
    "### heading \n",
    "# title\n",
    "## sub title\n",
    "#### sub heading\n",
    "\n",
    "### numbered list\n",
    "1. item 1\n",
    "1. item 2\n",
    "1. item 3\n",
    "    1. item 3.1\n",
    "    1. Item 3.2 \n",
    "    \n",
    "### Dot points\n",
    "* point 1\n",
    "* point 2\n",
    "    *subpoint 2\n",
    "* point 3\n",
    "\n",
    "### emphasis\n",
    "*Italic*\n",
    "**bold**\n",
    "\n",
    "### line\n",
    "***\n",
    "\n",
    "### math symbol\n",
    "$x=5^2$"
   ]
  },
  {
   "cell_type": "code",
   "execution_count": 2,
   "id": "8e142a6a",
   "metadata": {},
   "outputs": [],
   "source": [
    "#print is used to print text or values  of a variable\n",
    "# to look up what print function does ( using ? symbol). this can be applied to any python function\n",
    "?print\n"
   ]
  },
  {
   "cell_type": "code",
   "execution_count": 3,
   "id": "98bd1cba",
   "metadata": {},
   "outputs": [
    {
     "name": "stdout",
     "output_type": "stream",
     "text": [
      "Hello world from Jupyter notebook\n",
      "Hello world from Jupyter notebook\n"
     ]
    }
   ],
   "source": [
    "print('Hello world from Jupyter notebook')\n",
    "print(\"Hello world from Jupyter notebook\")"
   ]
  },
  {
   "cell_type": "code",
   "execution_count": 6,
   "id": "8a2a80a2",
   "metadata": {},
   "outputs": [
    {
     "name": "stdout",
     "output_type": "stream",
     "text": [
      "Hello world from Jupyter notebook\n",
      "Hello world from Jupyter notebook\n"
     ]
    }
   ],
   "source": [
    "#Assigning a value into a variable. In this case, alphanumeric characters:\n",
    "first_variable = 'Hello world from Jupyter notebook'\n",
    "print(first_variable)\n",
    "second_variable = \"Hello world from Jupyter notebook\"\n",
    "print(second_variable)"
   ]
  },
  {
   "cell_type": "code",
   "execution_count": 8,
   "id": "f86f3227",
   "metadata": {},
   "outputs": [
    {
     "name": "stdout",
     "output_type": "stream",
     "text": [
      "hello world... Dylan Rohan\n"
     ]
    }
   ],
   "source": [
    "print(\"hello world... Dylan Rohan\")"
   ]
  },
  {
   "cell_type": "markdown",
   "id": "6f6b961a",
   "metadata": {},
   "source": [
    "\"A variable is a container that holds data. The main purpose of a variable is to remember a value from one part of the code so the value can be used in another part of the code.\"\n",
    "\n",
    "in R you use <-\n",
    "in python you use the = sign"
   ]
  },
  {
   "cell_type": "code",
   "execution_count": 9,
   "id": "db05973d",
   "metadata": {},
   "outputs": [
    {
     "data": {
      "text/plain": [
       "4"
      ]
     },
     "execution_count": 9,
     "metadata": {},
     "output_type": "execute_result"
    }
   ],
   "source": [
    "height = 4\n",
    "height"
   ]
  },
  {
   "cell_type": "markdown",
   "id": "312a827c",
   "metadata": {},
   "source": [
    "Naming conventions indicate characters a-z, 0-9, and underscores can be used. But case matters and you **cannot** start with a number.\n",
    "\n",
    "There are a few words (reserved words) python uses already that cannot be used:\n",
    "and,\tdel,\tfrom,\tNone,\ttry,\n",
    "as,\t elif,\tglobal,\tnonlocal,\tTrue,\n",
    "assert,\telse,\tif,\tnot,\twhile,\n",
    "break\texcept,\timport,\tor,\twith,\n",
    "class,\tFalse,\tin,\tpass,\tyield,\n",
    "continue,\tfinally,\tis,\traise,\treturn,\n",
    "def,\tfor,\tlambda,\t"
   ]
  },
  {
   "cell_type": "code",
   "execution_count": 11,
   "id": "94f6627a",
   "metadata": {},
   "outputs": [
    {
     "name": "stdout",
     "output_type": "stream",
     "text": [
      "24\n"
     ]
    }
   ],
   "source": [
    "age = 24\n",
    "print (age)"
   ]
  },
  {
   "cell_type": "code",
   "execution_count": 18,
   "id": "d6441df0",
   "metadata": {},
   "outputs": [
    {
     "data": {
      "text/plain": [
       "int"
      ]
     },
     "execution_count": 18,
     "metadata": {},
     "output_type": "execute_result"
    }
   ],
   "source": [
    "#data types:\n",
    "#integer (int)\n",
    "days_of_week = 7\n",
    "\n",
    "# Float / decimal \n",
    "pi = 3.14159\n",
    "\n",
    "#Boolean bool\n",
    "is_my_first_variable = False\n",
    "\n",
    "#String singe or double quotations\n",
    "name = \"Dylan\"\n",
    "\n",
    "#Check type with:\n",
    "type(days_of_week)"
   ]
  },
  {
   "cell_type": "markdown",
   "id": "1964c549",
   "metadata": {},
   "source": [
    "Below includes exercises from the readings (chapter 2 of An introduction of python and computing programs)"
   ]
  },
  {
   "cell_type": "code",
   "execution_count": 20,
   "id": "f99d1f15",
   "metadata": {},
   "outputs": [
    {
     "data": {
      "text/plain": [
       "8"
      ]
     },
     "execution_count": 20,
     "metadata": {},
     "output_type": "execute_result"
    }
   ],
   "source": [
    "#basic intgral calculations\n",
    "3+5"
   ]
  },
  {
   "cell_type": "code",
   "execution_count": 22,
   "id": "39ce65d5",
   "metadata": {},
   "outputs": [
    {
     "data": {
      "text/plain": [
       "1"
      ]
     },
     "execution_count": 22,
     "metadata": {},
     "output_type": "execute_result"
    }
   ],
   "source": [
    "3-2"
   ]
  },
  {
   "cell_type": "code",
   "execution_count": 24,
   "id": "96c8e7b6",
   "metadata": {},
   "outputs": [
    {
     "data": {
      "text/plain": [
       "42"
      ]
     },
     "execution_count": 24,
     "metadata": {},
     "output_type": "execute_result"
    }
   ],
   "source": [
    "6*7"
   ]
  },
  {
   "cell_type": "code",
   "execution_count": 25,
   "id": "38b4089a",
   "metadata": {},
   "outputs": [
    {
     "data": {
      "text/plain": [
       "2.0"
      ]
     },
     "execution_count": 25,
     "metadata": {},
     "output_type": "execute_result"
    }
   ],
   "source": [
    "8/4"
   ]
  },
  {
   "cell_type": "markdown",
   "id": "dd0963ee",
   "metadata": {},
   "source": [
    "In programming number constants are called **literals**, operators (+, -, x, /) are called **operands**. Finding the value of the experssion is called the **evaluation** of the expression "
   ]
  },
  {
   "cell_type": "markdown",
   "id": "71258544",
   "metadata": {},
   "source": [
    "Plus and minus hae the same priority so python reads from left to write in simple composite functions:"
   ]
  },
  {
   "cell_type": "code",
   "execution_count": 27,
   "id": "301309a7",
   "metadata": {},
   "outputs": [
    {
     "data": {
      "text/plain": [
       "1"
      ]
     },
     "execution_count": 27,
     "metadata": {},
     "output_type": "execute_result"
    }
   ],
   "source": [
    "3+2-5+1\n",
    "#(3+2)\n",
    "#5-5\n",
    "#0+1"
   ]
  },
  {
   "cell_type": "markdown",
   "id": "03bee692",
   "metadata": {},
   "source": [
    "Not all composite functions have equal priority components.\n",
    "This is called **operator precedence**. Function calls are dealt with first, then Power functions come before Multiplication and division which in-turn comes before addition and subtraction. Use brackets to specify order."
   ]
  },
  {
   "cell_type": "code",
   "execution_count": 30,
   "id": "0b5f5cf3",
   "metadata": {},
   "outputs": [
    {
     "data": {
      "text/plain": [
       "9"
      ]
     },
     "execution_count": 30,
     "metadata": {},
     "output_type": "execute_result"
    }
   ],
   "source": [
    "3+2*5-4\n",
    "#2*5\n",
    "#3+10\n",
    "#13-4"
   ]
  },
  {
   "cell_type": "code",
   "execution_count": 32,
   "id": "62aaa826",
   "metadata": {},
   "outputs": [
    {
     "data": {
      "text/plain": [
       "25"
      ]
     },
     "execution_count": 32,
     "metadata": {},
     "output_type": "execute_result"
    }
   ],
   "source": [
    "# powers are indicated by **\n",
    "5**2"
   ]
  },
  {
   "cell_type": "code",
   "execution_count": 37,
   "id": "bb2ccf23",
   "metadata": {},
   "outputs": [
    {
     "data": {
      "text/plain": [
       "4"
      ]
     },
     "execution_count": 37,
     "metadata": {},
     "output_type": "execute_result"
    }
   ],
   "source": [
    "#Binary operator:\n",
    "(3+2)-(5-4)"
   ]
  },
  {
   "cell_type": "code",
   "execution_count": 38,
   "id": "58b0d12f",
   "metadata": {},
   "outputs": [
    {
     "data": {
      "text/plain": [
       "-10"
      ]
     },
     "execution_count": 38,
     "metadata": {},
     "output_type": "execute_result"
    }
   ],
   "source": [
    "#unary operator (negation)\n",
    "-(2*5)"
   ]
  },
  {
   "cell_type": "code",
   "execution_count": 44,
   "id": "f3f10500",
   "metadata": {},
   "outputs": [
    {
     "data": {
      "text/plain": [
       "2.5"
      ]
     },
     "execution_count": 44,
     "metadata": {},
     "output_type": "execute_result"
    }
   ],
   "source": [
    "5/2"
   ]
  },
  {
   "cell_type": "code",
   "execution_count": 45,
   "id": "8c79b720",
   "metadata": {},
   "outputs": [
    {
     "data": {
      "text/plain": [
       "1"
      ]
     },
     "execution_count": 45,
     "metadata": {},
     "output_type": "execute_result"
    }
   ],
   "source": [
    "5%2 #modulo"
   ]
  },
  {
   "cell_type": "markdown",
   "id": "ae7214c5",
   "metadata": {},
   "source": [
    "### floating point expressions\n",
    "Calculations with decimals/ floats"
   ]
  },
  {
   "cell_type": "code",
   "execution_count": 47,
   "id": "fb4dcf57",
   "metadata": {},
   "outputs": [
    {
     "data": {
      "text/plain": [
       "2.5"
      ]
     },
     "execution_count": 47,
     "metadata": {},
     "output_type": "execute_result"
    }
   ],
   "source": [
    "5.0/2"
   ]
  },
  {
   "cell_type": "code",
   "execution_count": 49,
   "id": "e5e23f12",
   "metadata": {},
   "outputs": [
    {
     "data": {
      "text/plain": [
       "2.5"
      ]
     },
     "execution_count": 49,
     "metadata": {},
     "output_type": "execute_result"
    }
   ],
   "source": [
    "5/2.0"
   ]
  },
  {
   "cell_type": "code",
   "execution_count": 51,
   "id": "312e0c72",
   "metadata": {},
   "outputs": [
    {
     "data": {
      "text/plain": [
       "5.0"
      ]
     },
     "execution_count": 51,
     "metadata": {},
     "output_type": "execute_result"
    }
   ],
   "source": [
    "25**0.5"
   ]
  },
  {
   "cell_type": "markdown",
   "id": "5d346ae9",
   "metadata": {},
   "source": [
    "If any decimals are present in the expression, the output will also by a float type"
   ]
  },
  {
   "cell_type": "markdown",
   "id": "f32e7cb5",
   "metadata": {},
   "source": [
    "Below is a **function call** command.\n",
    "\n",
    "*type(x)*"
   ]
  },
  {
   "cell_type": "code",
   "execution_count": 53,
   "id": "f2e676cd",
   "metadata": {},
   "outputs": [
    {
     "data": {
      "text/plain": [
       "3.0"
      ]
     },
     "execution_count": 53,
     "metadata": {},
     "output_type": "execute_result"
    }
   ],
   "source": [
    "float(3)"
   ]
  },
  {
   "cell_type": "code",
   "execution_count": 54,
   "id": "fc4ac3c6",
   "metadata": {},
   "outputs": [
    {
     "data": {
      "text/plain": [
       "3"
      ]
     },
     "execution_count": 54,
     "metadata": {},
     "output_type": "execute_result"
    }
   ],
   "source": [
    "int(3.0)"
   ]
  },
  {
   "cell_type": "code",
   "execution_count": 57,
   "id": "cd9bb3af",
   "metadata": {},
   "outputs": [
    {
     "data": {
      "text/plain": [
       "27.0"
      ]
     },
     "execution_count": 57,
     "metadata": {},
     "output_type": "execute_result"
    }
   ],
   "source": [
    "3*float(3-2*5+4)**2"
   ]
  },
  {
   "cell_type": "code",
   "execution_count": 59,
   "id": "3b47fdee",
   "metadata": {},
   "outputs": [
    {
     "data": {
      "text/plain": [
       "3"
      ]
     },
     "execution_count": 59,
     "metadata": {},
     "output_type": "execute_result"
    }
   ],
   "source": [
    "#rounding issues when using int(x)\n",
    "int(3.9)"
   ]
  },
  {
   "cell_type": "code",
   "execution_count": 61,
   "id": "42d9ee24",
   "metadata": {},
   "outputs": [
    {
     "data": {
      "text/plain": [
       "4"
      ]
     },
     "execution_count": 61,
     "metadata": {},
     "output_type": "execute_result"
    }
   ],
   "source": [
    "#use round(x) instead\n",
    "round(3.9)"
   ]
  },
  {
   "cell_type": "code",
   "execution_count": 63,
   "id": "0e226623",
   "metadata": {},
   "outputs": [
    {
     "data": {
      "text/plain": [
       "3.33"
      ]
     },
     "execution_count": 63,
     "metadata": {},
     "output_type": "execute_result"
    }
   ],
   "source": [
    "round(3.33333333, 2)"
   ]
  },
  {
   "cell_type": "code",
   "execution_count": 3,
   "id": "5614e38d",
   "metadata": {},
   "outputs": [
    {
     "data": {
      "text/plain": [
       "1.0"
      ]
     },
     "execution_count": 3,
     "metadata": {},
     "output_type": "execute_result"
    }
   ],
   "source": [
    "# integer division operator\n",
    "3.0//2"
   ]
  },
  {
   "cell_type": "code",
   "execution_count": 2,
   "id": "a8b5bee0",
   "metadata": {},
   "outputs": [
    {
     "data": {
      "text/plain": [
       "1.5"
      ]
     },
     "execution_count": 2,
     "metadata": {},
     "output_type": "execute_result"
    }
   ],
   "source": [
    "3.0/2"
   ]
  },
  {
   "cell_type": "code",
   "execution_count": 71,
   "id": "b968ec09",
   "metadata": {},
   "outputs": [
    {
     "data": {
      "text/plain": [
       "1.5"
      ]
     },
     "execution_count": 71,
     "metadata": {},
     "output_type": "execute_result"
    }
   ],
   "source": [
    "#modulo operator \n",
    "3.5%2"
   ]
  },
  {
   "cell_type": "code",
   "execution_count": 72,
   "id": "ebd491c6",
   "metadata": {},
   "outputs": [
    {
     "data": {
      "text/plain": [
       "1"
      ]
     },
     "execution_count": 72,
     "metadata": {},
     "output_type": "execute_result"
    }
   ],
   "source": [
    "#absolute value or magnitude without sign\n",
    "abs(1)"
   ]
  },
  {
   "cell_type": "code",
   "execution_count": 74,
   "id": "932bdd7e",
   "metadata": {},
   "outputs": [
    {
     "data": {
      "text/plain": [
       "1.0"
      ]
     },
     "execution_count": 74,
     "metadata": {},
     "output_type": "execute_result"
    }
   ],
   "source": [
    "abs(1.0)"
   ]
  },
  {
   "cell_type": "code",
   "execution_count": 76,
   "id": "6aa8bc17",
   "metadata": {},
   "outputs": [
    {
     "data": {
      "text/plain": [
       "5"
      ]
     },
     "execution_count": 76,
     "metadata": {},
     "output_type": "execute_result"
    }
   ],
   "source": [
    "abs(-5)"
   ]
  },
  {
   "cell_type": "code",
   "execution_count": 78,
   "id": "0dcb7549",
   "metadata": {},
   "outputs": [
    {
     "data": {
      "text/plain": [
       "50000000.0"
      ]
     },
     "execution_count": 78,
     "metadata": {},
     "output_type": "execute_result"
    }
   ],
   "source": [
    "# scientific notation\n",
    "5E7"
   ]
  },
  {
   "cell_type": "code",
   "execution_count": 80,
   "id": "c0850105",
   "metadata": {},
   "outputs": [
    {
     "data": {
      "text/plain": [
       "50000000.0"
      ]
     },
     "execution_count": 80,
     "metadata": {},
     "output_type": "execute_result"
    }
   ],
   "source": [
    "5e7"
   ]
  },
  {
   "cell_type": "markdown",
   "id": "4f688611",
   "metadata": {},
   "source": [
    "### Identifiers, variables, and assignment\n",
    "suppose that the annual interest rate of a savings account is 4 %.\n",
    "To calculate the amount of money in the account after three years, with an initial\n",
    "sum of 3, 000 dollars is put into the account, the following expression can be used:\n"
   ]
  },
  {
   "cell_type": "code",
   "execution_count": 84,
   "id": "3f17afd2",
   "metadata": {},
   "outputs": [
    {
     "data": {
      "text/plain": [
       "3374.592"
      ]
     },
     "execution_count": 84,
     "metadata": {},
     "output_type": "execute_result"
    }
   ],
   "source": [
    "3000*1.04**3\n",
    "#or better still\n",
    "3000*(1.04**3)"
   ]
  },
  {
   "cell_type": "markdown",
   "id": "b57f549d",
   "metadata": {},
   "source": [
    "suppose that the area of a square is 10 m2. The length of\n",
    "each edge can be calculated by"
   ]
  },
  {
   "cell_type": "code",
   "execution_count": 85,
   "id": "ffd65f30",
   "metadata": {},
   "outputs": [
    {
     "data": {
      "text/plain": [
       "3.1622776601683795"
      ]
     },
     "execution_count": 85,
     "metadata": {},
     "output_type": "execute_result"
    }
   ],
   "source": [
    "10**0.5"
   ]
  },
  {
   "cell_type": "code",
   "execution_count": 87,
   "id": "0d141dd6",
   "metadata": {},
   "outputs": [
    {
     "data": {
      "text/plain": [
       "3.16"
      ]
     },
     "execution_count": 87,
     "metadata": {},
     "output_type": "execute_result"
    }
   ],
   "source": [
    "round(10**0.5, 2)"
   ]
  },
  {
   "cell_type": "code",
   "execution_count": 89,
   "id": "feb3c91f",
   "metadata": {},
   "outputs": [
    {
     "data": {
      "text/plain": [
       "3.16"
      ]
     },
     "execution_count": 89,
     "metadata": {},
     "output_type": "execute_result"
    }
   ],
   "source": [
    "#or\n",
    "a = 10\n",
    "w = a**0.5\n",
    "round(w, 2)"
   ]
  },
  {
   "cell_type": "markdown",
   "id": "962535b7",
   "metadata": {},
   "source": [
    "identifiers are names (categorical) and literals are values (quantitative)"
   ]
  },
  {
   "cell_type": "markdown",
   "id": "15a2d443",
   "metadata": {},
   "source": [
    "suppose that a ball is tossed up on the edge of a\n",
    "cliff with an initial velocity v0, and that the initial altitude of the ball is 0 m. The\n",
    "question is to find the vertical position of the ball at a certain number of seconds t\n",
    "after the toss. If the initial velocity of 5 m/s and the time is 0.1 s, the altitude can be\n",
    "calculated by:"
   ]
  },
  {
   "cell_type": "code",
   "execution_count": 101,
   "id": "5e16ee2a",
   "metadata": {},
   "outputs": [
    {
     "data": {
      "text/plain": [
       "0.45"
      ]
     },
     "execution_count": 101,
     "metadata": {},
     "output_type": "execute_result"
    }
   ],
   "source": [
    "v0 = 5\n",
    "t = 0.1\n",
    "g = 9.81\n",
    "h = v0*t-0.5*g*t**2\n",
    "round(h, 2)"
   ]
  },
  {
   "cell_type": "code",
   "execution_count": 104,
   "id": "c2bafa66",
   "metadata": {},
   "outputs": [
    {
     "data": {
      "text/plain": [
       "2"
      ]
     },
     "execution_count": 104,
     "metadata": {},
     "output_type": "execute_result"
    }
   ],
   "source": [
    "# mathematical trap\n",
    "x =1\n",
    "x = x+1\n",
    "x"
   ]
  },
  {
   "cell_type": "code",
   "execution_count": 111,
   "id": "5a36dd53",
   "metadata": {},
   "outputs": [],
   "source": [
    "#cascade \n",
    "a=b=1"
   ]
  },
  {
   "cell_type": "code",
   "execution_count": 108,
   "id": "efa7707b",
   "metadata": {},
   "outputs": [
    {
     "data": {
      "text/plain": [
       "1"
      ]
     },
     "execution_count": 108,
     "metadata": {},
     "output_type": "execute_result"
    }
   ],
   "source": [
    "a"
   ]
  },
  {
   "cell_type": "code",
   "execution_count": 109,
   "id": "36dbf1a1",
   "metadata": {},
   "outputs": [
    {
     "data": {
      "text/plain": [
       "1"
      ]
     },
     "execution_count": 109,
     "metadata": {},
     "output_type": "execute_result"
    }
   ],
   "source": [
    "b"
   ]
  },
  {
   "cell_type": "markdown",
   "id": "bdadf719",
   "metadata": {},
   "source": [
    "### Underlying mechanisms\n",
    "Computers cannot store an infinte number of decimal places, this leads to **rounding off errors**.\n",
    "computer components are memory, CPU, and devices. CPU carries out computer instructions. \n",
    "CPU takes the operand from the memory, evaluates the result with that operand, and then stores the result back in the memory. Each memory unit is capable of storing a finite amount of information. There is an indexed location thats refferd to a the **memory address**. The devices are the things that connect it to reality, keyboards, mouse, monitor, hard disk, etc.\n",
    "\n",
    "Computers recognise signals as discrete numbers/integers that get processed and returned to us again as physical signals. Devices act as channels between computers and the physical world, a way for discrete variables to be returned as physical signals (sounds, colours, shapes, etc).\n",
    "Storage units are typically binary. 0 or 1, n basic storage units can lead to 2^n states. \n",
    "00, 01, 11, and 10. These can be converted to binary numbers. The order of 0s and 1s has a value so even lots of information can be stored in something like the branches of a probability tree. \n",
    "each binary digit (0 or 1) is called a bit, 8 bits is a byte, so a byte can store 2^8 = 256 distinct binary values. Most computers take 8 bytes/ 64 bits as a **word** \n",
    "2's complement interpretation is a method of representing negative numbers. You invert the binary string so 1s become 0 and vbise versa and then add 1 to the final digit. A final digit of 1 indicates a negative number. \n"
   ]
  },
  {
   "cell_type": "markdown",
   "id": "57be3e28",
   "metadata": {},
   "source": [
    "-13 can be written as 00001101 becomes 11110010, then add 1.\n",
    "11110011. This way negative numbers can still be stored in 8 bits without needing to add an additional bit representing the positive and negative sign. it saves space.\n",
    "This way when you add 13 to -13, the sum becomes a 9 bit string which will be intrepreted as 0. The correct answer.\n"
   ]
  },
  {
   "cell_type": "markdown",
   "id": "82c1b9e2",
   "metadata": {},
   "source": [
    "**Floating point numbers** are useful when dealing with sound waves. You split the total number of bits in two parts, one fore the *base number*, and one for the *significant*. It takes the form of scientific notation (baseEsignificant).\n",
    "\n",
    "Because computers operate on 64bit strings, they cannot output more than that, leading to rounding off errors. Numbers can also be intrepretted as long type which allows large integer values, but not floats. Python settles for 15 decimal places to balance computation time and accuracy."
   ]
  },
  {
   "cell_type": "markdown",
   "id": "8ccec84f",
   "metadata": {},
   "source": [
    "### Python memory management\n",
    "To remove identifiers from the bnding table (remove the record of a link between variable and value), use *del x*. Python will also periodically purge unused identifiers. You can locate identifiers (values of objects) with *id x*. Old objects can be rewritten, but they will not rewrite other connections, eg"
   ]
  },
  {
   "cell_type": "code",
   "execution_count": 120,
   "id": "636afe7b",
   "metadata": {},
   "outputs": [
    {
     "data": {
      "text/plain": [
       "1234"
      ]
     },
     "execution_count": 120,
     "metadata": {},
     "output_type": "execute_result"
    }
   ],
   "source": [
    "y=x=1234\n",
    "x"
   ]
  },
  {
   "cell_type": "code",
   "execution_count": 121,
   "id": "bb57e6cb",
   "metadata": {},
   "outputs": [
    {
     "data": {
      "text/plain": [
       "5678"
      ]
     },
     "execution_count": 121,
     "metadata": {},
     "output_type": "execute_result"
    }
   ],
   "source": [
    "y=5678\n",
    "y"
   ]
  },
  {
   "cell_type": "code",
   "execution_count": 122,
   "id": "203344fb",
   "metadata": {},
   "outputs": [
    {
     "data": {
      "text/plain": [
       "1234"
      ]
     },
     "execution_count": 122,
     "metadata": {},
     "output_type": "execute_result"
    }
   ],
   "source": [
    "x"
   ]
  },
  {
   "cell_type": "markdown",
   "id": "ce662736",
   "metadata": {},
   "source": [
    "X is unchanged even though we told python x=y\n",
    "Each time you reassign an object, you create a new entity in the memory. so if we assign y=1234, it will fix the calculation but the output will be a different 1234 than that of the x. This is not true of smaller integers that are commonly used, these have a preset place as an object in the memory that gets called on instead.\n",
    "\n"
   ]
  },
  {
   "cell_type": "markdown",
   "id": "1348ed6e",
   "metadata": {},
   "source": [
    "### Python Modules\n",
    "similar to libraries in Rstudio"
   ]
  },
  {
   "cell_type": "code",
   "execution_count": 124,
   "id": "861e2aec",
   "metadata": {},
   "outputs": [],
   "source": [
    "import math"
   ]
  },
  {
   "cell_type": "code",
   "execution_count": 125,
   "id": "7ffdf117",
   "metadata": {},
   "outputs": [
    {
     "data": {
      "text/plain": [
       "3.141592653589793"
      ]
     },
     "execution_count": 125,
     "metadata": {},
     "output_type": "execute_result"
    }
   ],
   "source": [
    "math.pi"
   ]
  },
  {
   "cell_type": "code",
   "execution_count": 126,
   "id": "cd3adc99",
   "metadata": {},
   "outputs": [
    {
     "data": {
      "text/plain": [
       "2.718281828459045"
      ]
     },
     "execution_count": 126,
     "metadata": {},
     "output_type": "execute_result"
    }
   ],
   "source": [
    "math.e"
   ]
  },
  {
   "cell_type": "markdown",
   "id": "1746a332",
   "metadata": {},
   "source": [
    "it tells python to use the math library, and then print that identifiers value."
   ]
  },
  {
   "cell_type": "code",
   "execution_count": 131,
   "id": "cec4d71f",
   "metadata": {},
   "outputs": [
    {
     "data": {
      "text/plain": [
       "32.0"
      ]
     },
     "execution_count": 131,
     "metadata": {},
     "output_type": "execute_result"
    }
   ],
   "source": [
    "math.pow(2, 5) # 2 to the power of 5"
   ]
  },
  {
   "cell_type": "code",
   "execution_count": 132,
   "id": "fe97b16d",
   "metadata": {},
   "outputs": [
    {
     "data": {
      "text/plain": [
       "2.9999999999999996"
      ]
     },
     "execution_count": 132,
     "metadata": {},
     "output_type": "execute_result"
    }
   ],
   "source": [
    "math.log(1000,10) #base 10"
   ]
  },
  {
   "cell_type": "code",
   "execution_count": 135,
   "id": "5262443e",
   "metadata": {},
   "outputs": [
    {
     "data": {
      "text/plain": [
       "9.965784284662087"
      ]
     },
     "execution_count": 135,
     "metadata": {},
     "output_type": "execute_result"
    }
   ],
   "source": [
    "math.log(1000, 2) #base 2"
   ]
  },
  {
   "cell_type": "code",
   "execution_count": 137,
   "id": "a18cb506",
   "metadata": {},
   "outputs": [
    {
     "data": {
      "text/plain": [
       "0.0"
      ]
     },
     "execution_count": 137,
     "metadata": {},
     "output_type": "execute_result"
    }
   ],
   "source": [
    "math.log(1) # unless told, it uses natural log"
   ]
  },
  {
   "cell_type": "code",
   "execution_count": 139,
   "id": "3a4b1b7f",
   "metadata": {},
   "outputs": [
    {
     "data": {
      "text/plain": [
       "3.0"
      ]
     },
     "execution_count": 139,
     "metadata": {},
     "output_type": "execute_result"
    }
   ],
   "source": [
    "math.log10(1000)"
   ]
  },
  {
   "cell_type": "code",
   "execution_count": 142,
   "id": "6f74f2e5",
   "metadata": {},
   "outputs": [
    {
     "data": {
      "text/plain": [
       "7.38905609893065"
      ]
     },
     "execution_count": 142,
     "metadata": {},
     "output_type": "execute_result"
    }
   ],
   "source": [
    "math. exp(2) # e^x"
   ]
  },
  {
   "cell_type": "code",
   "execution_count": 144,
   "id": "bf9df362",
   "metadata": {},
   "outputs": [
    {
     "data": {
      "text/plain": [
       "5.0"
      ]
     },
     "execution_count": 144,
     "metadata": {},
     "output_type": "execute_result"
    }
   ],
   "source": [
    "math.sqrt(25)"
   ]
  },
  {
   "cell_type": "code",
   "execution_count": 146,
   "id": "2800f6bb",
   "metadata": {},
   "outputs": [
    {
     "data": {
      "text/plain": [
       "0.8509035245341184"
      ]
     },
     "execution_count": 146,
     "metadata": {},
     "output_type": "execute_result"
    }
   ],
   "source": [
    "math.sin(45) #radians"
   ]
  },
  {
   "cell_type": "code",
   "execution_count": 150,
   "id": "1e5e323b",
   "metadata": {},
   "outputs": [
    {
     "data": {
      "text/plain": [
       "1.5707963267948966"
      ]
     },
     "execution_count": 150,
     "metadata": {},
     "output_type": "execute_result"
    }
   ],
   "source": [
    "math.asin(1) #radians"
   ]
  },
  {
   "cell_type": "code",
   "execution_count": 151,
   "id": "dfe6eb60",
   "metadata": {},
   "outputs": [
    {
     "data": {
      "text/plain": [
       "48.75318072861148"
      ]
     },
     "execution_count": 151,
     "metadata": {},
     "output_type": "execute_result"
    }
   ],
   "source": [
    "math.degrees(math.sin(45))"
   ]
  },
  {
   "cell_type": "markdown",
   "id": "e91b909c",
   "metadata": {},
   "source": [
    "### Complex numbers and cmath module\n",
    "Real and imaginary numbers. "
   ]
  },
  {
   "cell_type": "code",
   "execution_count": 152,
   "id": "e5721582",
   "metadata": {},
   "outputs": [],
   "source": [
    "import cmath #commands for complex number math"
   ]
  },
  {
   "cell_type": "code",
   "execution_count": 153,
   "id": "02dc0b3f",
   "metadata": {},
   "outputs": [
    {
     "data": {
      "text/plain": [
       "1j"
      ]
     },
     "execution_count": 153,
     "metadata": {},
     "output_type": "execute_result"
    }
   ],
   "source": [
    "c=1j #j=sqrt(-1)\n",
    "c"
   ]
  },
  {
   "cell_type": "markdown",
   "id": "9fc1e878",
   "metadata": {},
   "source": [
    "like floats, if complex numbers are in the expression, then the output will be in complx numbers too. even if it is only (x+0j)."
   ]
  },
  {
   "cell_type": "code",
   "execution_count": 154,
   "id": "78eb3713",
   "metadata": {},
   "outputs": [
    {
     "data": {
      "text/plain": [
       "(1+2j)"
      ]
     },
     "execution_count": 154,
     "metadata": {},
     "output_type": "execute_result"
    }
   ],
   "source": [
    "a= 1+2j\n",
    "a"
   ]
  },
  {
   "cell_type": "code",
   "execution_count": 157,
   "id": "5ddbb3d1",
   "metadata": {},
   "outputs": [
    {
     "data": {
      "text/plain": [
       "complex"
      ]
     },
     "execution_count": 157,
     "metadata": {},
     "output_type": "execute_result"
    }
   ],
   "source": [
    "type (a)"
   ]
  },
  {
   "cell_type": "code",
   "execution_count": 162,
   "id": "73cba892",
   "metadata": {},
   "outputs": [
    {
     "data": {
      "text/plain": [
       "(1+2j)"
      ]
     },
     "execution_count": 162,
     "metadata": {},
     "output_type": "execute_result"
    }
   ],
   "source": [
    "complex(1, 2) #(real, imaginary)"
   ]
  },
  {
   "cell_type": "markdown",
   "id": "d441010a",
   "metadata": {},
   "source": [
    "### Random Module"
   ]
  },
  {
   "cell_type": "code",
   "execution_count": 160,
   "id": "7d868f52",
   "metadata": {},
   "outputs": [],
   "source": [
    "import random"
   ]
  },
  {
   "cell_type": "code",
   "execution_count": 161,
   "id": "5655d1f8",
   "metadata": {},
   "outputs": [
    {
     "data": {
      "text/plain": [
       "0.7966876193101567"
      ]
     },
     "execution_count": 161,
     "metadata": {},
     "output_type": "execute_result"
    }
   ],
   "source": [
    "random.random() #random float between [0.0, 1.0)"
   ]
  },
  {
   "cell_type": "code",
   "execution_count": 357,
   "id": "087ecdd9",
   "metadata": {},
   "outputs": [
    {
     "data": {
      "text/plain": [
       "13"
      ]
     },
     "execution_count": 357,
     "metadata": {},
     "output_type": "execute_result"
    }
   ],
   "source": [
    "random.randint (10, 20) #random integer  between [10,20]"
   ]
  },
  {
   "cell_type": "code",
   "execution_count": 360,
   "id": "be3fa698",
   "metadata": {},
   "outputs": [
    {
     "data": {
      "text/plain": [
       "21.69707525805782"
      ]
     },
     "execution_count": 360,
     "metadata": {},
     "output_type": "execute_result"
    }
   ],
   "source": [
    "random.uniform (-3.5, 60) #random float between -3.5 and 60"
   ]
  },
  {
   "cell_type": "code",
   "execution_count": 379,
   "id": "56cda3d4",
   "metadata": {},
   "outputs": [
    {
     "data": {
      "text/plain": [
       "'apples'"
      ]
     },
     "execution_count": 379,
     "metadata": {},
     "output_type": "execute_result"
    }
   ],
   "source": [
    "#create list\n",
    "fruit = ['apples', 'oranges', 'pears']\n",
    "random.choice(fruit)"
   ]
  },
  {
   "cell_type": "code",
   "execution_count": 381,
   "id": "2665d495",
   "metadata": {},
   "outputs": [],
   "source": [
    "import random"
   ]
  },
  {
   "cell_type": "code",
   "execution_count": 386,
   "id": "2275b6b1",
   "metadata": {},
   "outputs": [
    {
     "name": "stdout",
     "output_type": "stream",
     "text": [
      "0.09033985426934954\n",
      "0.9506335645634441\n"
     ]
    }
   ],
   "source": [
    "random.seed (55)\n",
    "print(random.random())\n",
    "print(random.random())"
   ]
  },
  {
   "cell_type": "markdown",
   "id": "744991a5",
   "metadata": {},
   "source": [
    "Computers can generate random numbers but they need a starting point. if you reresh the above code it will continually give the same answer because the calculation is set."
   ]
  },
  {
   "cell_type": "markdown",
   "id": "65731520",
   "metadata": {},
   "source": [
    "### Practice exercises"
   ]
  },
  {
   "cell_type": "code",
   "execution_count": 364,
   "id": "488164db",
   "metadata": {},
   "outputs": [
    {
     "data": {
      "text/plain": [
       "6"
      ]
     },
     "execution_count": 364,
     "metadata": {},
     "output_type": "execute_result"
    }
   ],
   "source": [
    "1+3*2-5+4"
   ]
  },
  {
   "cell_type": "code",
   "execution_count": 167,
   "id": "70efc0fc",
   "metadata": {},
   "outputs": [
    {
     "data": {
      "text/plain": [
       "-4"
      ]
     },
     "execution_count": 167,
     "metadata": {},
     "output_type": "execute_result"
    }
   ],
   "source": [
    "1+3*(2-5)+4"
   ]
  },
  {
   "cell_type": "code",
   "execution_count": 169,
   "id": "19a04c6f",
   "metadata": {},
   "outputs": [
    {
     "data": {
      "text/plain": [
       "1876"
      ]
     },
     "execution_count": 169,
     "metadata": {},
     "output_type": "execute_result"
    }
   ],
   "source": [
    "5**2**2*3+1"
   ]
  },
  {
   "cell_type": "code",
   "execution_count": 171,
   "id": "3d792f16",
   "metadata": {},
   "outputs": [
    {
     "data": {
      "text/plain": [
       "1876"
      ]
     },
     "execution_count": 171,
     "metadata": {},
     "output_type": "execute_result"
    }
   ],
   "source": [
    "5**(2**2)*3+1"
   ]
  },
  {
   "cell_type": "code",
   "execution_count": 172,
   "id": "26c9388d",
   "metadata": {},
   "outputs": [
    {
     "data": {
      "text/plain": [
       "2.5"
      ]
     },
     "execution_count": 172,
     "metadata": {},
     "output_type": "execute_result"
    }
   ],
   "source": [
    "1+3/2"
   ]
  },
  {
   "cell_type": "code",
   "execution_count": 173,
   "id": "b349f10d",
   "metadata": {},
   "outputs": [
    {
     "data": {
      "text/plain": [
       "2.5"
      ]
     },
     "execution_count": 173,
     "metadata": {},
     "output_type": "execute_result"
    }
   ],
   "source": [
    "1+3.0/2"
   ]
  },
  {
   "cell_type": "code",
   "execution_count": 174,
   "id": "118a306b",
   "metadata": {},
   "outputs": [
    {
     "data": {
      "text/plain": [
       "-3"
      ]
     },
     "execution_count": 174,
     "metadata": {},
     "output_type": "execute_result"
    }
   ],
   "source": [
    "-2-1"
   ]
  },
  {
   "cell_type": "code",
   "execution_count": 175,
   "id": "377f501c",
   "metadata": {},
   "outputs": [
    {
     "data": {
      "text/plain": [
       "-1"
      ]
     },
     "execution_count": 175,
     "metadata": {},
     "output_type": "execute_result"
    }
   ],
   "source": [
    "-(2-1)"
   ]
  },
  {
   "cell_type": "code",
   "execution_count": 176,
   "id": "60a9512b",
   "metadata": {},
   "outputs": [
    {
     "data": {
      "text/plain": [
       "4.5"
      ]
     },
     "execution_count": 176,
     "metadata": {},
     "output_type": "execute_result"
    }
   ],
   "source": [
    "3.0+3/2"
   ]
  },
  {
   "cell_type": "code",
   "execution_count": 177,
   "id": "96cde4ee",
   "metadata": {},
   "outputs": [
    {
     "data": {
      "text/plain": [
       "4.5"
      ]
     },
     "execution_count": 177,
     "metadata": {},
     "output_type": "execute_result"
    }
   ],
   "source": [
    "3+3/2.0"
   ]
  },
  {
   "cell_type": "code",
   "execution_count": 179,
   "id": "1d132cea",
   "metadata": {},
   "outputs": [],
   "source": [
    "import cmath"
   ]
  },
  {
   "cell_type": "code",
   "execution_count": 180,
   "id": "2a2bdcd0",
   "metadata": {},
   "outputs": [
    {
     "data": {
      "text/plain": [
       "-1.0"
      ]
     },
     "execution_count": 180,
     "metadata": {},
     "output_type": "execute_result"
    }
   ],
   "source": [
    "-1**0.5"
   ]
  },
  {
   "cell_type": "code",
   "execution_count": 183,
   "id": "2fbb936b",
   "metadata": {},
   "outputs": [
    {
     "data": {
      "text/plain": [
       "1j"
      ]
     },
     "execution_count": 183,
     "metadata": {},
     "output_type": "execute_result"
    }
   ],
   "source": [
    "cmath.sqrt(-1)"
   ]
  },
  {
   "cell_type": "code",
   "execution_count": 184,
   "id": "e95929b7",
   "metadata": {},
   "outputs": [
    {
     "ename": "ValueError",
     "evalue": "math domain error",
     "output_type": "error",
     "traceback": [
      "\u001b[1;31m---------------------------------------------------------------------------\u001b[0m",
      "\u001b[1;31mValueError\u001b[0m                                Traceback (most recent call last)",
      "\u001b[1;32m~\\AppData\\Local\\Temp/ipykernel_10552/2272264683.py\u001b[0m in \u001b[0;36m<module>\u001b[1;34m\u001b[0m\n\u001b[1;32m----> 1\u001b[1;33m \u001b[0mmath\u001b[0m\u001b[1;33m.\u001b[0m\u001b[0msqrt\u001b[0m\u001b[1;33m(\u001b[0m\u001b[1;33m-\u001b[0m\u001b[1;36m1\u001b[0m\u001b[1;33m)\u001b[0m\u001b[1;33m\u001b[0m\u001b[1;33m\u001b[0m\u001b[0m\n\u001b[0m",
      "\u001b[1;31mValueError\u001b[0m: math domain error"
     ]
    }
   ],
   "source": [
    "math.sqrt(-1)"
   ]
  },
  {
   "cell_type": "code",
   "execution_count": 185,
   "id": "61e02645",
   "metadata": {},
   "outputs": [
    {
     "data": {
      "text/plain": [
       "100000"
      ]
     },
     "execution_count": 185,
     "metadata": {},
     "output_type": "execute_result"
    }
   ],
   "source": [
    "10**5"
   ]
  },
  {
   "cell_type": "code",
   "execution_count": 186,
   "id": "edd8d057",
   "metadata": {},
   "outputs": [
    {
     "data": {
      "text/plain": [
       "3.1622776601683795"
      ]
     },
     "execution_count": 186,
     "metadata": {},
     "output_type": "execute_result"
    }
   ],
   "source": [
    "math.sqrt(10)"
   ]
  },
  {
   "cell_type": "code",
   "execution_count": 190,
   "id": "ab969192",
   "metadata": {},
   "outputs": [
    {
     "ename": "SyntaxError",
     "evalue": "invalid syntax (Temp/ipykernel_10552/571611346.py, line 1)",
     "output_type": "error",
     "traceback": [
      "\u001b[1;36m  File \u001b[1;32m\"C:\\Users\\rohad\\AppData\\Local\\Temp/ipykernel_10552/571611346.py\"\u001b[1;36m, line \u001b[1;32m1\u001b[0m\n\u001b[1;33m    x**2-7x+10 = 0\u001b[0m\n\u001b[1;37m          ^\u001b[0m\n\u001b[1;31mSyntaxError\u001b[0m\u001b[1;31m:\u001b[0m invalid syntax\n"
     ]
    }
   ],
   "source": []
  },
  {
   "cell_type": "code",
   "execution_count": 191,
   "id": "e41f9624",
   "metadata": {},
   "outputs": [
    {
     "name": "stdout",
     "output_type": "stream",
     "text": [
      "The roots are\n",
      "(2+0j)\n",
      "(5+0j)\n"
     ]
    }
   ],
   "source": [
    "a = 1 \n",
    "b = -7\n",
    "c = 10\n",
    "dis = (b**2)-4*a*c\n",
    "ans1 = (-b-cmath.sqrt(dis))/(2*a)\n",
    "ans2 = (-b+cmath.sqrt(dis))/(2*a)\n",
    "print('The roots are')\n",
    "print(ans1)\n",
    "print(ans2)"
   ]
  },
  {
   "cell_type": "code",
   "execution_count": 193,
   "id": "738645f6",
   "metadata": {},
   "outputs": [
    {
     "name": "stdout",
     "output_type": "stream",
     "text": [
      "95.0330975\n"
     ]
    }
   ],
   "source": [
    "r=5.5\n",
    "area = pi*r**2\n",
    "print(area)"
   ]
  },
  {
   "cell_type": "code",
   "execution_count": 195,
   "id": "bec5391c",
   "metadata": {},
   "outputs": [
    {
     "data": {
      "text/plain": [
       "0.5984721441039564"
      ]
     },
     "execution_count": 195,
     "metadata": {},
     "output_type": "execute_result"
    }
   ],
   "source": [
    "math.sin(2.5)"
   ]
  },
  {
   "cell_type": "code",
   "execution_count": 196,
   "id": "058f7ce9",
   "metadata": {},
   "outputs": [],
   "source": [
    "#complex roots were already given above^^^\n"
   ]
  },
  {
   "cell_type": "code",
   "execution_count": 198,
   "id": "0f32f24b",
   "metadata": {},
   "outputs": [
    {
     "data": {
      "text/plain": [
       "24"
      ]
     },
     "execution_count": 198,
     "metadata": {},
     "output_type": "execute_result"
    }
   ],
   "source": [
    "math.factorial(4)"
   ]
  },
  {
   "cell_type": "code",
   "execution_count": 200,
   "id": "0fd0b1d7",
   "metadata": {},
   "outputs": [
    {
     "data": {
      "text/plain": [
       "385620482362580421735677065923463640617493109590223590278828403276373402575165543560686168588507361534030051833058916347592172932262498857766114955245039357760034644709279247692495322149163066306469832781987840000000"
      ]
     },
     "execution_count": 200,
     "metadata": {},
     "output_type": "execute_result"
    }
   ],
   "source": [
    "math.factorial(128)- math.factorial(32)"
   ]
  },
  {
   "cell_type": "code",
   "execution_count": 201,
   "id": "3282aba2",
   "metadata": {},
   "outputs": [
    {
     "data": {
      "text/plain": [
       "355687428095994"
      ]
     },
     "execution_count": 201,
     "metadata": {},
     "output_type": "execute_result"
    }
   ],
   "source": [
    "math.factorial(17)-math.factorial(3)"
   ]
  },
  {
   "cell_type": "code",
   "execution_count": 208,
   "id": "108af7fb",
   "metadata": {},
   "outputs": [
    {
     "data": {
      "text/plain": [
       "'0b1001'"
      ]
     },
     "execution_count": 208,
     "metadata": {},
     "output_type": "execute_result"
    }
   ],
   "source": [
    "bin(9)"
   ]
  },
  {
   "cell_type": "code",
   "execution_count": 211,
   "id": "39781af0",
   "metadata": {},
   "outputs": [
    {
     "data": {
      "text/plain": [
       "'0b100'"
      ]
     },
     "execution_count": 211,
     "metadata": {},
     "output_type": "execute_result"
    }
   ],
   "source": [
    "bin(4)"
   ]
  },
  {
   "cell_type": "code",
   "execution_count": 214,
   "id": "2d992f43",
   "metadata": {},
   "outputs": [
    {
     "data": {
      "text/plain": [
       "'0b1100'"
      ]
     },
     "execution_count": 214,
     "metadata": {},
     "output_type": "execute_result"
    }
   ],
   "source": [
    "bin(12)"
   ]
  },
  {
   "cell_type": "code",
   "execution_count": 220,
   "id": "b561fcb0",
   "metadata": {},
   "outputs": [
    {
     "data": {
      "text/plain": [
       "'0b11111'"
      ]
     },
     "execution_count": 220,
     "metadata": {},
     "output_type": "execute_result"
    }
   ],
   "source": [
    "bin(31)"
   ]
  },
  {
   "cell_type": "code",
   "execution_count": 224,
   "id": "4aa27a42",
   "metadata": {},
   "outputs": [
    {
     "data": {
      "text/plain": [
       "'0b11111111'"
      ]
     },
     "execution_count": 224,
     "metadata": {},
     "output_type": "execute_result"
    }
   ],
   "source": [
    "bin(255)"
   ]
  },
  {
   "cell_type": "code",
   "execution_count": 231,
   "id": "e26396e6",
   "metadata": {},
   "outputs": [
    {
     "data": {
      "text/plain": [
       "'0b1001'"
      ]
     },
     "execution_count": 231,
     "metadata": {},
     "output_type": "execute_result"
    }
   ],
   "source": [
    "#from 01001 \n",
    "bin(9) \n",
    "#-9"
   ]
  },
  {
   "cell_type": "code",
   "execution_count": 230,
   "id": "0df4cc6a",
   "metadata": {},
   "outputs": [
    {
     "data": {
      "text/plain": [
       "'0b100'"
      ]
     },
     "execution_count": 230,
     "metadata": {},
     "output_type": "execute_result"
    }
   ],
   "source": [
    "#from 100\n",
    "bin(4)"
   ]
  },
  {
   "cell_type": "code",
   "execution_count": 233,
   "id": "593ae66c",
   "metadata": {},
   "outputs": [
    {
     "data": {
      "text/plain": [
       "'0b1100'"
      ]
     },
     "execution_count": 233,
     "metadata": {},
     "output_type": "execute_result"
    }
   ],
   "source": [
    "#from  01100\n",
    "bin(12)"
   ]
  },
  {
   "cell_type": "code",
   "execution_count": 234,
   "id": "cc7ba60c",
   "metadata": {},
   "outputs": [
    {
     "data": {
      "text/plain": [
       "'0b11111'"
      ]
     },
     "execution_count": 234,
     "metadata": {},
     "output_type": "execute_result"
    }
   ],
   "source": [
    "#from 11111\n",
    "bin(31)"
   ]
  },
  {
   "cell_type": "code",
   "execution_count": 235,
   "id": "b4a8171b",
   "metadata": {},
   "outputs": [
    {
     "data": {
      "text/plain": [
       "'-0b1'"
      ]
     },
     "execution_count": 235,
     "metadata": {},
     "output_type": "execute_result"
    }
   ],
   "source": [
    "#from 11111111\n",
    "bin(-1)"
   ]
  },
  {
   "cell_type": "markdown",
   "id": "0c982ba7",
   "metadata": {},
   "source": [
    "A car runs at a constant speed of 20 km/h. When it passes another case, the\n",
    "latter starts to accelerate in order to catch up. Assuming that the first case\n",
    "keeps a constant speed, and the second car keeps a constant acceleration of\n",
    "2 m/s2. After how many seconds will the second car catch up with the first\n",
    "one?"
   ]
  },
  {
   "cell_type": "code",
   "execution_count": 249,
   "id": "b283625c",
   "metadata": {},
   "outputs": [
    {
     "ename": "SyntaxError",
     "evalue": "invalid syntax (Temp/ipykernel_10552/1358265906.py, line 5)",
     "output_type": "error",
     "traceback": [
      "\u001b[1;36m  File \u001b[1;32m\"C:\\Users\\rohad\\AppData\\Local\\Temp/ipykernel_10552/1358265906.py\"\u001b[1;36m, line \u001b[1;32m5\u001b[0m\n\u001b[1;33m    Plot[y[x], {x, 0, x0}, PlotStyle -> Thick]\u001b[0m\n\u001b[1;37m                                     ^\u001b[0m\n\u001b[1;31mSyntaxError\u001b[0m\u001b[1;31m:\u001b[0m invalid syntax\n"
     ]
    }
   ],
   "source": []
  },
  {
   "cell_type": "markdown",
   "id": "3345c99d",
   "metadata": {},
   "source": [
    "The annual interest rate of a savings account is 4.1 %. John has $10,000 in\n",
    "his account, and aims at saving 50,000 within 5 years by depositing a fixed\n",
    "amount of money to his account in the beginning of each year, including\n",
    "this year. How much money does John need to save each year in order to\n",
    "achieve his goal?"
   ]
  },
  {
   "cell_type": "code",
   "execution_count": 298,
   "id": "26ebd4d2",
   "metadata": {},
   "outputs": [
    {
     "data": {
      "text/plain": [
       "50000.00566189758"
      ]
     },
     "execution_count": 298,
     "metadata": {},
     "output_type": "execute_result"
    }
   ],
   "source": [
    "(30899.35*(1.041**5))+(10000*(1.041**5))"
   ]
  },
  {
   "cell_type": "markdown",
   "id": "d1bfc07b",
   "metadata": {},
   "source": [
    "In a shooting exercise, a coach stands 5 m away from a trainee, and throws\n",
    "a target up vertically at 5 m/s. If the trainee must fire her gun exactly 0.5 s\n",
    "after the throwing of the ball, then at which angle should she aim? If she\n",
    "must fire the gun exactly 1 s after the throwing, then at which angle should\n",
    "she aim?"
   ]
  },
  {
   "cell_type": "code",
   "execution_count": null,
   "id": "1b1354c4",
   "metadata": {},
   "outputs": [],
   "source": []
  },
  {
   "cell_type": "markdown",
   "id": "f8f06845",
   "metadata": {},
   "source": [
    "John deposited an initial sum of 3000 in his account. After 3 years, the\n",
    "balance reaches $3335.8 due to composite interest. What is the interest rate\n",
    "per annual?"
   ]
  },
  {
   "cell_type": "code",
   "execution_count": 303,
   "id": "b9a8ff97",
   "metadata": {},
   "outputs": [
    {
     "data": {
      "text/plain": [
       "1.0359995892195035"
      ]
     },
     "execution_count": 303,
     "metadata": {},
     "output_type": "execute_result"
    }
   ],
   "source": [
    "x=(3335.8/3000)**(1/3)\n",
    "x"
   ]
  },
  {
   "cell_type": "markdown",
   "id": "e6c0e8dc",
   "metadata": {},
   "source": [
    "The three sides of a triangle are 3, 4 and 6m, respectively. What is its area?"
   ]
  },
  {
   "cell_type": "code",
   "execution_count": 318,
   "id": "47e41ef6",
   "metadata": {},
   "outputs": [
    {
     "data": {
      "text/plain": [
       "5.332682251925386"
      ]
     },
     "execution_count": 318,
     "metadata": {},
     "output_type": "execute_result"
    }
   ],
   "source": [
    "a = 3\n",
    "b = 4\n",
    "c = 6\n",
    "s = (a+b+c)/2\n",
    "a = (s*(s-a)*(s-b)*(s-c))**.5\n",
    "a"
   ]
  },
  {
   "cell_type": "markdown",
   "id": "7d8da6a2",
   "metadata": {},
   "source": [
    "What are the three most important properties of a Python object? Which of them\n",
    "can change after the object is constructed, if the object is a number?"
   ]
  },
  {
   "cell_type": "markdown",
   "id": "0fe03c13",
   "metadata": {},
   "source": [
    "1. their values can be rewritten\n",
    "1. they are recorded in a binding table\n",
    "1. they have a type associated with them"
   ]
  },
  {
   "cell_type": "markdown",
   "id": "faad850f",
   "metadata": {},
   "source": [
    "State the main differences between identifiers and literals. Given a token in a\n",
    "program, how does Python know whether it is an identifier or a literal?"
   ]
  },
  {
   "cell_type": "markdown",
   "id": "63730a02",
   "metadata": {},
   "source": [
    "Identifiers are recorded in the binding table, literals represent themselves."
   ]
  },
  {
   "cell_type": "code",
   "execution_count": 334,
   "id": "3908edec",
   "metadata": {},
   "outputs": [
    {
     "name": "stdout",
     "output_type": "stream",
     "text": [
      "4.47213595499958\n"
     ]
    }
   ],
   "source": [
    "#hypotenuse\n",
    "a=2\n",
    "b=4\n",
    "h=math.sqrt(a**2+b**2)\n",
    "print(h)"
   ]
  },
  {
   "cell_type": "code",
   "execution_count": 335,
   "id": "6e85d359",
   "metadata": {},
   "outputs": [
    {
     "data": {
      "text/plain": [
       "['__doc__',\n",
       " '__loader__',\n",
       " '__name__',\n",
       " '__package__',\n",
       " '__spec__',\n",
       " 'acos',\n",
       " 'acosh',\n",
       " 'asin',\n",
       " 'asinh',\n",
       " 'atan',\n",
       " 'atan2',\n",
       " 'atanh',\n",
       " 'ceil',\n",
       " 'comb',\n",
       " 'copysign',\n",
       " 'cos',\n",
       " 'cosh',\n",
       " 'degrees',\n",
       " 'dist',\n",
       " 'e',\n",
       " 'erf',\n",
       " 'erfc',\n",
       " 'exp',\n",
       " 'expm1',\n",
       " 'fabs',\n",
       " 'factorial',\n",
       " 'floor',\n",
       " 'fmod',\n",
       " 'frexp',\n",
       " 'fsum',\n",
       " 'gamma',\n",
       " 'gcd',\n",
       " 'hypot',\n",
       " 'inf',\n",
       " 'isclose',\n",
       " 'isfinite',\n",
       " 'isinf',\n",
       " 'isnan',\n",
       " 'isqrt',\n",
       " 'lcm',\n",
       " 'ldexp',\n",
       " 'lgamma',\n",
       " 'log',\n",
       " 'log10',\n",
       " 'log1p',\n",
       " 'log2',\n",
       " 'modf',\n",
       " 'nan',\n",
       " 'nextafter',\n",
       " 'perm',\n",
       " 'pi',\n",
       " 'pow',\n",
       " 'prod',\n",
       " 'radians',\n",
       " 'remainder',\n",
       " 'sin',\n",
       " 'sinh',\n",
       " 'sqrt',\n",
       " 'tan',\n",
       " 'tanh',\n",
       " 'tau',\n",
       " 'trunc',\n",
       " 'ulp']"
      ]
     },
     "execution_count": 335,
     "metadata": {},
     "output_type": "execute_result"
    }
   ],
   "source": [
    "dir(math)"
   ]
  },
  {
   "cell_type": "markdown",
   "id": "880ec308",
   "metadata": {},
   "source": [
    "### User interface\n",
    "Values entered are always of a string type even if they are numerical. So math functions will not work."
   ]
  },
  {
   "cell_type": "code",
   "execution_count": 350,
   "id": "b3a96786",
   "metadata": {},
   "outputs": [
    {
     "name": "stdout",
     "output_type": "stream",
     "text": [
      "Enter a number 5\n",
      "Your number is  5\n"
     ]
    }
   ],
   "source": [
    "number1 = input ('Enter a number ')\n",
    "print('Your number is ', number1)"
   ]
  },
  {
   "cell_type": "markdown",
   "id": "d619e66d",
   "metadata": {},
   "source": [
    "You can convert the string into a different type."
   ]
  },
  {
   "cell_type": "code",
   "execution_count": 351,
   "id": "55b3398f",
   "metadata": {},
   "outputs": [
    {
     "name": "stdout",
     "output_type": "stream",
     "text": [
      "5\n"
     ]
    }
   ],
   "source": [
    "variable = int(number1)\n",
    "print(variable)"
   ]
  },
  {
   "cell_type": "code",
   "execution_count": 352,
   "id": "c3d426ac",
   "metadata": {},
   "outputs": [
    {
     "data": {
      "text/plain": [
       "int"
      ]
     },
     "execution_count": 352,
     "metadata": {},
     "output_type": "execute_result"
    }
   ],
   "source": [
    "type(variable)"
   ]
  },
  {
   "cell_type": "code",
   "execution_count": 347,
   "id": "12ba226e",
   "metadata": {},
   "outputs": [
    {
     "name": "stdout",
     "output_type": "stream",
     "text": [
      "first number 5\n",
      "second number 6\n"
     ]
    }
   ],
   "source": [
    "first = input ('first number ')\n",
    "second = input('second number ')"
   ]
  },
  {
   "cell_type": "code",
   "execution_count": 353,
   "id": "544ea0e8",
   "metadata": {},
   "outputs": [],
   "source": [
    "a = int(first)\n",
    "b = int(second)"
   ]
  },
  {
   "cell_type": "code",
   "execution_count": 354,
   "id": "1a74e143",
   "metadata": {},
   "outputs": [
    {
     "data": {
      "text/plain": [
       "11"
      ]
     },
     "execution_count": 354,
     "metadata": {},
     "output_type": "execute_result"
    }
   ],
   "source": [
    "a+b"
   ]
  },
  {
   "cell_type": "code",
   "execution_count": 355,
   "id": "d209a6b2",
   "metadata": {},
   "outputs": [
    {
     "data": {
      "text/plain": [
       "-1"
      ]
     },
     "execution_count": 355,
     "metadata": {},
     "output_type": "execute_result"
    }
   ],
   "source": [
    "a-b"
   ]
  },
  {
   "cell_type": "code",
   "execution_count": 356,
   "id": "0767a424",
   "metadata": {},
   "outputs": [
    {
     "data": {
      "text/plain": [
       "15625"
      ]
     },
     "execution_count": 356,
     "metadata": {},
     "output_type": "execute_result"
    }
   ],
   "source": [
    "a**b"
   ]
  },
  {
   "cell_type": "markdown",
   "id": "b8dd2a14",
   "metadata": {},
   "source": [
    "### Strings\n",
    "Memory associated with characters and their order. Created through single, doubel and tripple quotation marks in the case of multiple lines. Special characters (escaped characters) can be written in with a \\ like \\n for a line break. A \\\\ represents the character '\\' to avoid confusion."
   ]
  },
  {
   "cell_type": "code",
   "execution_count": 388,
   "id": "e2618ab2",
   "metadata": {},
   "outputs": [],
   "source": [
    "string_1 = \"hello data scientist\"\n",
    "string_2 = 'hello data scientist'\n",
    "string_3 = \"\" #empty string\n",
    "multiple_lines  = \"\"\"example 3 divide a long string into\n",
    "two or \n",
    "more lines\"\"\""
   ]
  },
  {
   "cell_type": "code",
   "execution_count": 390,
   "id": "02c2adb7",
   "metadata": {},
   "outputs": [
    {
     "name": "stdout",
     "output_type": "stream",
     "text": [
      "hello data scientist\n"
     ]
    }
   ],
   "source": [
    "print(string_1)"
   ]
  },
  {
   "cell_type": "code",
   "execution_count": 392,
   "id": "529e31b5",
   "metadata": {},
   "outputs": [
    {
     "name": "stdout",
     "output_type": "stream",
     "text": [
      "hello data scientist\n"
     ]
    }
   ],
   "source": [
    "print(string_2)"
   ]
  },
  {
   "cell_type": "code",
   "execution_count": 399,
   "id": "e69c887f",
   "metadata": {},
   "outputs": [
    {
     "name": "stdout",
     "output_type": "stream",
     "text": [
      "example 3 divide a long string into\n",
      "two or \n",
      "more lines\n"
     ]
    }
   ],
   "source": [
    "print(multiple_lines)"
   ]
  },
  {
   "cell_type": "code",
   "execution_count": 400,
   "id": "7318fecd",
   "metadata": {},
   "outputs": [
    {
     "data": {
      "text/plain": [
       "'example 3 divide a long string into\\ntwo or \\nmore lines'"
      ]
     },
     "execution_count": 400,
     "metadata": {},
     "output_type": "execute_result"
    }
   ],
   "source": [
    "multiple_lines #display is different to print"
   ]
  },
  {
   "cell_type": "code",
   "execution_count": 396,
   "id": "85634931",
   "metadata": {},
   "outputs": [
    {
     "name": "stdout",
     "output_type": "stream",
     "text": [
      "\n"
     ]
    }
   ],
   "source": [
    "print(string_3)"
   ]
  },
  {
   "cell_type": "code",
   "execution_count": 398,
   "id": "af73aa2a",
   "metadata": {},
   "outputs": [
    {
     "data": {
      "text/plain": [
       "str"
      ]
     },
     "execution_count": 398,
     "metadata": {},
     "output_type": "execute_result"
    }
   ],
   "source": [
    "type(string_1)"
   ]
  },
  {
   "cell_type": "code",
   "execution_count": 406,
   "id": "d946add3",
   "metadata": {},
   "outputs": [
    {
     "name": "stdout",
     "output_type": "stream",
     "text": [
      "introduce\ttab\twith\tbackslasht\n"
     ]
    }
   ],
   "source": [
    "print('introduce\\ttab\\twith\\tbackslasht')"
   ]
  },
  {
   "cell_type": "code",
   "execution_count": 409,
   "id": "3f0b5eca",
   "metadata": {},
   "outputs": [
    {
     "ename": "SyntaxError",
     "evalue": "invalid syntax (Temp/ipykernel_10552/4269961046.py, line 1)",
     "output_type": "error",
     "traceback": [
      "\u001b[1;36m  File \u001b[1;32m\"C:\\Users\\rohad\\AppData\\Local\\Temp/ipykernel_10552/4269961046.py\"\u001b[1;36m, line \u001b[1;32m1\u001b[0m\n\u001b[1;33m    print('isn't')\u001b[0m\n\u001b[1;37m               ^\u001b[0m\n\u001b[1;31mSyntaxError\u001b[0m\u001b[1;31m:\u001b[0m invalid syntax\n"
     ]
    }
   ],
   "source": [
    "print('isn't')"
   ]
  },
  {
   "cell_type": "code",
   "execution_count": 413,
   "id": "02d5d6c2",
   "metadata": {},
   "outputs": [
    {
     "name": "stdout",
     "output_type": "stream",
     "text": [
      "isn't\n"
     ]
    }
   ],
   "source": [
    "print(\"isn't\")"
   ]
  },
  {
   "cell_type": "code",
   "execution_count": 415,
   "id": "ee339a28",
   "metadata": {},
   "outputs": [
    {
     "name": "stdout",
     "output_type": "stream",
     "text": [
      "isn't\n"
     ]
    }
   ],
   "source": [
    "print('isn\\'t')"
   ]
  },
  {
   "cell_type": "code",
   "execution_count": 417,
   "id": "2753e356",
   "metadata": {},
   "outputs": [
    {
     "data": {
      "text/plain": [
       "'hello data scientisthello data scientist'"
      ]
     },
     "execution_count": 417,
     "metadata": {},
     "output_type": "execute_result"
    }
   ],
   "source": [
    "string_1+string_2"
   ]
  },
  {
   "cell_type": "code",
   "execution_count": 421,
   "id": "01041df3",
   "metadata": {},
   "outputs": [
    {
     "data": {
      "text/plain": [
       "'hello data scientisthello data scientisthello data scientist'"
      ]
     },
     "execution_count": 421,
     "metadata": {},
     "output_type": "execute_result"
    }
   ],
   "source": [
    "phrase = string_1\n",
    "phrase*3"
   ]
  },
  {
   "cell_type": "code",
   "execution_count": 423,
   "id": "fd1835b7",
   "metadata": {},
   "outputs": [
    {
     "data": {
      "text/plain": [
       "20"
      ]
     },
     "execution_count": 423,
     "metadata": {},
     "output_type": "execute_result"
    }
   ],
   "source": [
    "len(phrase) #no. of characters"
   ]
  },
  {
   "cell_type": "code",
   "execution_count": 428,
   "id": "525f8ac6",
   "metadata": {},
   "outputs": [
    {
     "name": "stdout",
     "output_type": "stream",
     "text": [
      "enter your name:Dylan\n",
      "your name is Dylan\n"
     ]
    }
   ],
   "source": [
    "name = input(\"enter your name:\")\n",
    "print( \"your name is\", name)"
   ]
  },
  {
   "cell_type": "code",
   "execution_count": 432,
   "id": "1686a74a",
   "metadata": {},
   "outputs": [
    {
     "data": {
      "text/plain": [
       "'MY STRING IS JUPYTER'"
      ]
     },
     "execution_count": 432,
     "metadata": {},
     "output_type": "execute_result"
    }
   ],
   "source": [
    "string = 'My string is jupyter'\n",
    "string.upper()"
   ]
  },
  {
   "cell_type": "code",
   "execution_count": 434,
   "id": "9d6f1e67",
   "metadata": {},
   "outputs": [
    {
     "data": {
      "text/plain": [
       "'my string is jupyter'"
      ]
     },
     "execution_count": 434,
     "metadata": {},
     "output_type": "execute_result"
    }
   ],
   "source": [
    "string.lower()"
   ]
  },
  {
   "cell_type": "code",
   "execution_count": 437,
   "id": "d4508e17",
   "metadata": {},
   "outputs": [
    {
     "data": {
      "text/plain": [
       "'My program is jupyter'"
      ]
     },
     "execution_count": 437,
     "metadata": {},
     "output_type": "execute_result"
    }
   ],
   "source": [
    "string.replace('string', 'program')"
   ]
  },
  {
   "cell_type": "code",
   "execution_count": 439,
   "id": "7caf4e58",
   "metadata": {},
   "outputs": [
    {
     "ename": "SyntaxError",
     "evalue": "invalid syntax (Temp/ipykernel_10552/357506535.py, line 1)",
     "output_type": "error",
     "traceback": [
      "\u001b[1;36m  File \u001b[1;32m\"C:\\Users\\rohad\\AppData\\Local\\Temp/ipykernel_10552/357506535.py\"\u001b[1;36m, line \u001b[1;32m1\u001b[0m\n\u001b[1;33m    str. #press tab to see list\u001b[0m\n\u001b[1;37m         ^\u001b[0m\n\u001b[1;31mSyntaxError\u001b[0m\u001b[1;31m:\u001b[0m invalid syntax\n"
     ]
    }
   ],
   "source": [
    "str. #press tab to see list"
   ]
  },
  {
   "cell_type": "code",
   "execution_count": 447,
   "id": "1f420b17",
   "metadata": {},
   "outputs": [
    {
     "name": "stdout",
     "output_type": "stream",
     "text": [
      "how many o's does string_no have?  19\n"
     ]
    }
   ],
   "source": [
    "str_no = \"nooooooooooooooooooo!\"\n",
    "print('how many o\\'s does string_no have? ', str_no.count('o'))"
   ]
  },
  {
   "cell_type": "code",
   "execution_count": 452,
   "id": "244c1b86",
   "metadata": {},
   "outputs": [
    {
     "name": "stdout",
     "output_type": "stream",
     "text": [
      "str1 contains only letters:  False\n",
      "str2 contains only letters:  True\n"
     ]
    }
   ],
   "source": [
    "str1 = 'yy2'\n",
    "str2 = 'yyy'\n",
    "print('str1 contains only letters: ',str1.isalpha())\n",
    "print('str2 contains only letters: ',str2.isalpha())"
   ]
  },
  {
   "cell_type": "markdown",
   "id": "1ec2bc40",
   "metadata": {},
   "source": [
    "Python indexes characters to an order."
   ]
  },
  {
   "cell_type": "code",
   "execution_count": 458,
   "id": "d03b435e",
   "metadata": {},
   "outputs": [
    {
     "name": "stdout",
     "output_type": "stream",
     "text": [
      "o\n",
      "position of first instance of f 27\n"
     ]
    }
   ],
   "source": [
    "test = \"hello world, this is me, life could be, fun for everyone\"\n",
    "print(test[7])\n",
    "#or do the opposite\n",
    "print(\"position of first instance of f\", test.index('f'))"
   ]
  },
  {
   "cell_type": "code",
   "execution_count": 462,
   "id": "bf635535",
   "metadata": {},
   "outputs": [
    {
     "name": "stdout",
     "output_type": "stream",
     "text": [
      "Help on class str in module builtins:\n",
      "\n",
      "class str(object)\n",
      " |  str(object='') -> str\n",
      " |  str(bytes_or_buffer[, encoding[, errors]]) -> str\n",
      " |  \n",
      " |  Create a new string object from the given object. If encoding or\n",
      " |  errors is specified, then the object must expose a data buffer\n",
      " |  that will be decoded using the given encoding and error handler.\n",
      " |  Otherwise, returns the result of object.__str__() (if defined)\n",
      " |  or repr(object).\n",
      " |  encoding defaults to sys.getdefaultencoding().\n",
      " |  errors defaults to 'strict'.\n",
      " |  \n",
      " |  Methods defined here:\n",
      " |  \n",
      " |  __add__(self, value, /)\n",
      " |      Return self+value.\n",
      " |  \n",
      " |  __contains__(self, key, /)\n",
      " |      Return key in self.\n",
      " |  \n",
      " |  __eq__(self, value, /)\n",
      " |      Return self==value.\n",
      " |  \n",
      " |  __format__(self, format_spec, /)\n",
      " |      Return a formatted version of the string as described by format_spec.\n",
      " |  \n",
      " |  __ge__(self, value, /)\n",
      " |      Return self>=value.\n",
      " |  \n",
      " |  __getattribute__(self, name, /)\n",
      " |      Return getattr(self, name).\n",
      " |  \n",
      " |  __getitem__(self, key, /)\n",
      " |      Return self[key].\n",
      " |  \n",
      " |  __getnewargs__(...)\n",
      " |  \n",
      " |  __gt__(self, value, /)\n",
      " |      Return self>value.\n",
      " |  \n",
      " |  __hash__(self, /)\n",
      " |      Return hash(self).\n",
      " |  \n",
      " |  __iter__(self, /)\n",
      " |      Implement iter(self).\n",
      " |  \n",
      " |  __le__(self, value, /)\n",
      " |      Return self<=value.\n",
      " |  \n",
      " |  __len__(self, /)\n",
      " |      Return len(self).\n",
      " |  \n",
      " |  __lt__(self, value, /)\n",
      " |      Return self<value.\n",
      " |  \n",
      " |  __mod__(self, value, /)\n",
      " |      Return self%value.\n",
      " |  \n",
      " |  __mul__(self, value, /)\n",
      " |      Return self*value.\n",
      " |  \n",
      " |  __ne__(self, value, /)\n",
      " |      Return self!=value.\n",
      " |  \n",
      " |  __repr__(self, /)\n",
      " |      Return repr(self).\n",
      " |  \n",
      " |  __rmod__(self, value, /)\n",
      " |      Return value%self.\n",
      " |  \n",
      " |  __rmul__(self, value, /)\n",
      " |      Return value*self.\n",
      " |  \n",
      " |  __sizeof__(self, /)\n",
      " |      Return the size of the string in memory, in bytes.\n",
      " |  \n",
      " |  __str__(self, /)\n",
      " |      Return str(self).\n",
      " |  \n",
      " |  capitalize(self, /)\n",
      " |      Return a capitalized version of the string.\n",
      " |      \n",
      " |      More specifically, make the first character have upper case and the rest lower\n",
      " |      case.\n",
      " |  \n",
      " |  casefold(self, /)\n",
      " |      Return a version of the string suitable for caseless comparisons.\n",
      " |  \n",
      " |  center(self, width, fillchar=' ', /)\n",
      " |      Return a centered string of length width.\n",
      " |      \n",
      " |      Padding is done using the specified fill character (default is a space).\n",
      " |  \n",
      " |  count(...)\n",
      " |      S.count(sub[, start[, end]]) -> int\n",
      " |      \n",
      " |      Return the number of non-overlapping occurrences of substring sub in\n",
      " |      string S[start:end].  Optional arguments start and end are\n",
      " |      interpreted as in slice notation.\n",
      " |  \n",
      " |  encode(self, /, encoding='utf-8', errors='strict')\n",
      " |      Encode the string using the codec registered for encoding.\n",
      " |      \n",
      " |      encoding\n",
      " |        The encoding in which to encode the string.\n",
      " |      errors\n",
      " |        The error handling scheme to use for encoding errors.\n",
      " |        The default is 'strict' meaning that encoding errors raise a\n",
      " |        UnicodeEncodeError.  Other possible values are 'ignore', 'replace' and\n",
      " |        'xmlcharrefreplace' as well as any other name registered with\n",
      " |        codecs.register_error that can handle UnicodeEncodeErrors.\n",
      " |  \n",
      " |  endswith(...)\n",
      " |      S.endswith(suffix[, start[, end]]) -> bool\n",
      " |      \n",
      " |      Return True if S ends with the specified suffix, False otherwise.\n",
      " |      With optional start, test S beginning at that position.\n",
      " |      With optional end, stop comparing S at that position.\n",
      " |      suffix can also be a tuple of strings to try.\n",
      " |  \n",
      " |  expandtabs(self, /, tabsize=8)\n",
      " |      Return a copy where all tab characters are expanded using spaces.\n",
      " |      \n",
      " |      If tabsize is not given, a tab size of 8 characters is assumed.\n",
      " |  \n",
      " |  find(...)\n",
      " |      S.find(sub[, start[, end]]) -> int\n",
      " |      \n",
      " |      Return the lowest index in S where substring sub is found,\n",
      " |      such that sub is contained within S[start:end].  Optional\n",
      " |      arguments start and end are interpreted as in slice notation.\n",
      " |      \n",
      " |      Return -1 on failure.\n",
      " |  \n",
      " |  format(...)\n",
      " |      S.format(*args, **kwargs) -> str\n",
      " |      \n",
      " |      Return a formatted version of S, using substitutions from args and kwargs.\n",
      " |      The substitutions are identified by braces ('{' and '}').\n",
      " |  \n",
      " |  format_map(...)\n",
      " |      S.format_map(mapping) -> str\n",
      " |      \n",
      " |      Return a formatted version of S, using substitutions from mapping.\n",
      " |      The substitutions are identified by braces ('{' and '}').\n",
      " |  \n",
      " |  index(...)\n",
      " |      S.index(sub[, start[, end]]) -> int\n",
      " |      \n",
      " |      Return the lowest index in S where substring sub is found,\n",
      " |      such that sub is contained within S[start:end].  Optional\n",
      " |      arguments start and end are interpreted as in slice notation.\n",
      " |      \n",
      " |      Raises ValueError when the substring is not found.\n",
      " |  \n",
      " |  isalnum(self, /)\n",
      " |      Return True if the string is an alpha-numeric string, False otherwise.\n",
      " |      \n",
      " |      A string is alpha-numeric if all characters in the string are alpha-numeric and\n",
      " |      there is at least one character in the string.\n",
      " |  \n",
      " |  isalpha(self, /)\n",
      " |      Return True if the string is an alphabetic string, False otherwise.\n",
      " |      \n",
      " |      A string is alphabetic if all characters in the string are alphabetic and there\n",
      " |      is at least one character in the string.\n",
      " |  \n",
      " |  isascii(self, /)\n",
      " |      Return True if all characters in the string are ASCII, False otherwise.\n",
      " |      \n",
      " |      ASCII characters have code points in the range U+0000-U+007F.\n",
      " |      Empty string is ASCII too.\n",
      " |  \n",
      " |  isdecimal(self, /)\n",
      " |      Return True if the string is a decimal string, False otherwise.\n",
      " |      \n",
      " |      A string is a decimal string if all characters in the string are decimal and\n",
      " |      there is at least one character in the string.\n",
      " |  \n",
      " |  isdigit(self, /)\n",
      " |      Return True if the string is a digit string, False otherwise.\n",
      " |      \n",
      " |      A string is a digit string if all characters in the string are digits and there\n",
      " |      is at least one character in the string.\n",
      " |  \n",
      " |  isidentifier(self, /)\n",
      " |      Return True if the string is a valid Python identifier, False otherwise.\n",
      " |      \n",
      " |      Call keyword.iskeyword(s) to test whether string s is a reserved identifier,\n",
      " |      such as \"def\" or \"class\".\n",
      " |  \n",
      " |  islower(self, /)\n",
      " |      Return True if the string is a lowercase string, False otherwise.\n",
      " |      \n",
      " |      A string is lowercase if all cased characters in the string are lowercase and\n",
      " |      there is at least one cased character in the string.\n",
      " |  \n",
      " |  isnumeric(self, /)\n",
      " |      Return True if the string is a numeric string, False otherwise.\n",
      " |      \n",
      " |      A string is numeric if all characters in the string are numeric and there is at\n",
      " |      least one character in the string.\n",
      " |  \n",
      " |  isprintable(self, /)\n",
      " |      Return True if the string is printable, False otherwise.\n",
      " |      \n",
      " |      A string is printable if all of its characters are considered printable in\n",
      " |      repr() or if it is empty.\n",
      " |  \n",
      " |  isspace(self, /)\n",
      " |      Return True if the string is a whitespace string, False otherwise.\n",
      " |      \n",
      " |      A string is whitespace if all characters in the string are whitespace and there\n",
      " |      is at least one character in the string.\n",
      " |  \n",
      " |  istitle(self, /)\n",
      " |      Return True if the string is a title-cased string, False otherwise.\n",
      " |      \n",
      " |      In a title-cased string, upper- and title-case characters may only\n",
      " |      follow uncased characters and lowercase characters only cased ones.\n",
      " |  \n",
      " |  isupper(self, /)\n",
      " |      Return True if the string is an uppercase string, False otherwise.\n",
      " |      \n",
      " |      A string is uppercase if all cased characters in the string are uppercase and\n",
      " |      there is at least one cased character in the string.\n",
      " |  \n",
      " |  join(self, iterable, /)\n",
      " |      Concatenate any number of strings.\n",
      " |      \n",
      " |      The string whose method is called is inserted in between each given string.\n",
      " |      The result is returned as a new string.\n",
      " |      \n",
      " |      Example: '.'.join(['ab', 'pq', 'rs']) -> 'ab.pq.rs'\n",
      " |  \n",
      " |  ljust(self, width, fillchar=' ', /)\n",
      " |      Return a left-justified string of length width.\n",
      " |      \n",
      " |      Padding is done using the specified fill character (default is a space).\n",
      " |  \n",
      " |  lower(self, /)\n",
      " |      Return a copy of the string converted to lowercase.\n",
      " |  \n",
      " |  lstrip(self, chars=None, /)\n",
      " |      Return a copy of the string with leading whitespace removed.\n",
      " |      \n",
      " |      If chars is given and not None, remove characters in chars instead.\n",
      " |  \n",
      " |  partition(self, sep, /)\n",
      " |      Partition the string into three parts using the given separator.\n",
      " |      \n",
      " |      This will search for the separator in the string.  If the separator is found,\n",
      " |      returns a 3-tuple containing the part before the separator, the separator\n",
      " |      itself, and the part after it.\n",
      " |      \n",
      " |      If the separator is not found, returns a 3-tuple containing the original string\n",
      " |      and two empty strings.\n",
      " |  \n",
      " |  removeprefix(self, prefix, /)\n",
      " |      Return a str with the given prefix string removed if present.\n",
      " |      \n",
      " |      If the string starts with the prefix string, return string[len(prefix):].\n",
      " |      Otherwise, return a copy of the original string.\n",
      " |  \n",
      " |  removesuffix(self, suffix, /)\n",
      " |      Return a str with the given suffix string removed if present.\n",
      " |      \n",
      " |      If the string ends with the suffix string and that suffix is not empty,\n",
      " |      return string[:-len(suffix)]. Otherwise, return a copy of the original\n",
      " |      string.\n",
      " |  \n",
      " |  replace(self, old, new, count=-1, /)\n",
      " |      Return a copy with all occurrences of substring old replaced by new.\n",
      " |      \n",
      " |        count\n",
      " |          Maximum number of occurrences to replace.\n",
      " |          -1 (the default value) means replace all occurrences.\n",
      " |      \n",
      " |      If the optional argument count is given, only the first count occurrences are\n",
      " |      replaced.\n",
      " |  \n",
      " |  rfind(...)\n",
      " |      S.rfind(sub[, start[, end]]) -> int\n",
      " |      \n",
      " |      Return the highest index in S where substring sub is found,\n",
      " |      such that sub is contained within S[start:end].  Optional\n",
      " |      arguments start and end are interpreted as in slice notation.\n",
      " |      \n",
      " |      Return -1 on failure.\n",
      " |  \n",
      " |  rindex(...)\n",
      " |      S.rindex(sub[, start[, end]]) -> int\n",
      " |      \n",
      " |      Return the highest index in S where substring sub is found,\n",
      " |      such that sub is contained within S[start:end].  Optional\n",
      " |      arguments start and end are interpreted as in slice notation.\n",
      " |      \n",
      " |      Raises ValueError when the substring is not found.\n",
      " |  \n",
      " |  rjust(self, width, fillchar=' ', /)\n",
      " |      Return a right-justified string of length width.\n",
      " |      \n",
      " |      Padding is done using the specified fill character (default is a space).\n",
      " |  \n",
      " |  rpartition(self, sep, /)\n",
      " |      Partition the string into three parts using the given separator.\n",
      " |      \n",
      " |      This will search for the separator in the string, starting at the end. If\n",
      " |      the separator is found, returns a 3-tuple containing the part before the\n",
      " |      separator, the separator itself, and the part after it.\n",
      " |      \n",
      " |      If the separator is not found, returns a 3-tuple containing two empty strings\n",
      " |      and the original string.\n",
      " |  \n",
      " |  rsplit(self, /, sep=None, maxsplit=-1)\n",
      " |      Return a list of the words in the string, using sep as the delimiter string.\n",
      " |      \n",
      " |        sep\n",
      " |          The delimiter according which to split the string.\n",
      " |          None (the default value) means split according to any whitespace,\n",
      " |          and discard empty strings from the result.\n",
      " |        maxsplit\n",
      " |          Maximum number of splits to do.\n",
      " |          -1 (the default value) means no limit.\n",
      " |      \n",
      " |      Splits are done starting at the end of the string and working to the front.\n",
      " |  \n",
      " |  rstrip(self, chars=None, /)\n",
      " |      Return a copy of the string with trailing whitespace removed.\n",
      " |      \n",
      " |      If chars is given and not None, remove characters in chars instead.\n",
      " |  \n",
      " |  split(self, /, sep=None, maxsplit=-1)\n",
      " |      Return a list of the words in the string, using sep as the delimiter string.\n",
      " |      \n",
      " |      sep\n",
      " |        The delimiter according which to split the string.\n",
      " |        None (the default value) means split according to any whitespace,\n",
      " |        and discard empty strings from the result.\n",
      " |      maxsplit\n",
      " |        Maximum number of splits to do.\n",
      " |        -1 (the default value) means no limit.\n",
      " |  \n",
      " |  splitlines(self, /, keepends=False)\n",
      " |      Return a list of the lines in the string, breaking at line boundaries.\n",
      " |      \n",
      " |      Line breaks are not included in the resulting list unless keepends is given and\n",
      " |      true.\n",
      " |  \n",
      " |  startswith(...)\n",
      " |      S.startswith(prefix[, start[, end]]) -> bool\n",
      " |      \n",
      " |      Return True if S starts with the specified prefix, False otherwise.\n",
      " |      With optional start, test S beginning at that position.\n",
      " |      With optional end, stop comparing S at that position.\n",
      " |      prefix can also be a tuple of strings to try.\n",
      " |  \n",
      " |  strip(self, chars=None, /)\n",
      " |      Return a copy of the string with leading and trailing whitespace removed.\n",
      " |      \n",
      " |      If chars is given and not None, remove characters in chars instead.\n",
      " |  \n",
      " |  swapcase(self, /)\n",
      " |      Convert uppercase characters to lowercase and lowercase characters to uppercase.\n",
      " |  \n",
      " |  title(self, /)\n",
      " |      Return a version of the string where each word is titlecased.\n",
      " |      \n",
      " |      More specifically, words start with uppercased characters and all remaining\n",
      " |      cased characters have lower case.\n",
      " |  \n",
      " |  translate(self, table, /)\n",
      " |      Replace each character in the string using the given translation table.\n",
      " |      \n",
      " |        table\n",
      " |          Translation table, which must be a mapping of Unicode ordinals to\n",
      " |          Unicode ordinals, strings, or None.\n",
      " |      \n",
      " |      The table must implement lookup/indexing via __getitem__, for instance a\n",
      " |      dictionary or list.  If this operation raises LookupError, the character is\n",
      " |      left untouched.  Characters mapped to None are deleted.\n",
      " |  \n",
      " |  upper(self, /)\n",
      " |      Return a copy of the string converted to uppercase.\n",
      " |  \n",
      " |  zfill(self, width, /)\n",
      " |      Pad a numeric string with zeros on the left, to fill a field of the given width.\n",
      " |      \n",
      " |      The string is never truncated.\n",
      " |  \n",
      " |  ----------------------------------------------------------------------\n",
      " |  Static methods defined here:\n",
      " |  \n",
      " |  __new__(*args, **kwargs) from builtins.type\n",
      " |      Create and return a new object.  See help(type) for accurate signature.\n",
      " |  \n",
      " |  maketrans(...)\n",
      " |      Return a translation table usable for str.translate().\n",
      " |      \n",
      " |      If there is only one argument, it must be a dictionary mapping Unicode\n",
      " |      ordinals (integers) or characters to Unicode ordinals, strings or None.\n",
      " |      Character keys will be then converted to ordinals.\n",
      " |      If there are two arguments, they must be strings of equal length, and\n",
      " |      in the resulting dictionary, each character in x will be mapped to the\n",
      " |      character at the same position in y. If there is a third argument, it\n",
      " |      must be a string, whose characters will be mapped to None in the result.\n",
      "\n"
     ]
    }
   ],
   "source": [
    "help(str)\n"
   ]
  },
  {
   "cell_type": "code",
   "execution_count": 465,
   "id": "1502f85c",
   "metadata": {},
   "outputs": [
    {
     "data": {
      "text/plain": [
       "True"
      ]
     },
     "execution_count": 465,
     "metadata": {},
     "output_type": "execute_result"
    }
   ],
   "source": [
    "test.isprintable()"
   ]
  },
  {
   "cell_type": "code",
   "execution_count": 476,
   "id": "eace30a6",
   "metadata": {},
   "outputs": [
    {
     "data": {
      "text/plain": [
       "'HELLO WORLD, THIS IS ME, LIFE COULD BE, FUN FOR EVERYONE'"
      ]
     },
     "execution_count": 476,
     "metadata": {},
     "output_type": "execute_result"
    }
   ],
   "source": [
    "test.swapcase()"
   ]
  },
  {
   "cell_type": "code",
   "execution_count": 479,
   "id": "caae0459",
   "metadata": {},
   "outputs": [
    {
     "data": {
      "text/plain": [
       "False"
      ]
     },
     "execution_count": 479,
     "metadata": {},
     "output_type": "execute_result"
    }
   ],
   "source": [
    "test.isdigit()"
   ]
  },
  {
   "cell_type": "code",
   "execution_count": 507,
   "id": "4b4b059e",
   "metadata": {},
   "outputs": [
    {
     "name": "stdout",
     "output_type": "stream",
     "text": [
      "hello world, this is me, life could be, fun for everyone\n"
     ]
    }
   ],
   "source": [
    "print(test.strip())"
   ]
  },
  {
   "cell_type": "markdown",
   "id": "c76e70b3",
   "metadata": {},
   "source": [
    "### String Slicing\n",
    "1. start - starting index\n",
    "1. stop - ending index value\n",
    "1. step - integer that indicates the increments of slicing\n",
    "\n",
    "the getitem operator\n",
    "getslice operation\n",
    "String formatiing patterns exist. the patter is written at the start with %pattern%. %xd% the d means an integer is present in the string and x tells you how many characters there will be. %xyf, x is the size of the string,y is the number of decimal polaces you want, f indicates a float is in the string"
   ]
  },
  {
   "cell_type": "code",
   "execution_count": 542,
   "id": "981b535b",
   "metadata": {},
   "outputs": [
    {
     "name": "stdout",
     "output_type": "stream",
     "text": [
      "97\n",
      "98\n",
      "99\n"
     ]
    }
   ],
   "source": [
    "print(ord('a'))\n",
    "print(ord('b'))\n",
    "print(ord('c')) #the number encoding that character, how it is stored in memory. "
   ]
  },
  {
   "cell_type": "code",
   "execution_count": 545,
   "id": "2fcd0527",
   "metadata": {},
   "outputs": [
    {
     "name": "stdout",
     "output_type": "stream",
     "text": [
      "a\n",
      "b\n",
      "c\n"
     ]
    }
   ],
   "source": [
    "print(chr(97))\n",
    "print(chr(98))\n",
    "print(chr(99))"
   ]
  },
  {
   "cell_type": "code",
   "execution_count": 499,
   "id": "ac65bf0f",
   "metadata": {},
   "outputs": [
    {
     "name": "stdout",
     "output_type": "stream",
     "text": [
      "56\n",
      "hello\n",
      "be, fun for everyon\n",
      "enoyreve rof nuf ,eb dluoc efil ,em si siht ,dlrow olleh\n",
      "hello world, this is me, life could be, fun for everyone\n"
     ]
    }
   ],
   "source": [
    "print(len(test))\n",
    "print(test[0:5])\n",
    "print(test[-20:-1])\n",
    "print(test[::-1])\n",
    "print(test[:])"
   ]
  },
  {
   "cell_type": "code",
   "execution_count": 506,
   "id": "f80663f3",
   "metadata": {},
   "outputs": [
    {
     "name": "stdout",
     "output_type": "stream",
     "text": [
      "abcde\n",
      "ghijklmno\n",
      "abcdefghijklmnopqrstu\n",
      "acegikmoqsuwy\n",
      "aeimquy\n",
      "zyxwvutsrqponmlkjihgfedcba\n"
     ]
    }
   ],
   "source": [
    "alphabet ='abcdefghijklmnopqrstuvwxyz'\n",
    "print(alphabet[0:5])\n",
    "print(alphabet[6:15])\n",
    "print(alphabet[0:21])\n",
    "print(alphabet[::2])\n",
    "print(alphabet[::4])\n",
    "print(alphabet[::-1])"
   ]
  },
  {
   "cell_type": "markdown",
   "id": "e9df87c9",
   "metadata": {},
   "source": [
    "### Date and Time\n",
    "date, time and datetime.\n",
    "Timestamps measure seconds since a specific time.\n"
   ]
  },
  {
   "cell_type": "code",
   "execution_count": 510,
   "id": "b4f19eeb",
   "metadata": {},
   "outputs": [],
   "source": [
    "import datetime"
   ]
  },
  {
   "cell_type": "code",
   "execution_count": 527,
   "id": "fbacb5db",
   "metadata": {},
   "outputs": [
    {
     "name": "stdout",
     "output_type": "stream",
     "text": [
      "2020-12-15 12:54:00\n",
      "2020-12-15\n",
      "12:56:00\n",
      "2021-12-15 00:59:50.473236\n",
      "day  15\n"
     ]
    }
   ],
   "source": [
    "now = datetime.datetime(2020,12, 15, 12, 54)\n",
    "print(now)\n",
    "date = datetime.date(2020,12,15)\n",
    "print(date)\n",
    "time = datetime.time(12,56)\n",
    "print(time)\n",
    "\n",
    "#or\n",
    "print(datetime.datetime.now())\n",
    "today = datetime.datetime.today()\n",
    "print('day ', today.day)"
   ]
  },
  {
   "cell_type": "code",
   "execution_count": 531,
   "id": "f391859c",
   "metadata": {},
   "outputs": [
    {
     "name": "stdout",
     "output_type": "stream",
     "text": [
      "December\n"
     ]
    }
   ],
   "source": [
    "print(now.strftime(\"%B\"))"
   ]
  },
  {
   "cell_type": "code",
   "execution_count": 539,
   "id": "5b97a47e",
   "metadata": {},
   "outputs": [
    {
     "name": "stdout",
     "output_type": "stream",
     "text": [
      "2021-12-15 00:59:50.473237\n",
      "year 2021\n",
      "month December\n",
      "month 12\n",
      "day Wednesday\n"
     ]
    }
   ],
   "source": [
    "print(today)\n",
    "print(\"year\", today.strftime(\"%Y\"))\n",
    "print(\"month\",today.strftime(\"%B\"))\n",
    "print(\"month\", today.strftime(\"%m\"))\n",
    "print(\"day\",today.strftime(\"%A\"))\n"
   ]
  },
  {
   "cell_type": "code",
   "execution_count": 553,
   "id": "6a0663e6",
   "metadata": {},
   "outputs": [
    {
     "name": "stdout",
     "output_type": "stream",
     "text": [
      "Savinfs calculator\n",
      "please enter the interest rate15\n",
      "Please input the number of years5\n",
      "Please inpout the initial amount10000\n",
      "After 5 years , the savings will be $20113.57\n"
     ]
    }
   ],
   "source": [
    "print (\"Savinfs calculator\")\n",
    "rate = float(input(\"please enter the interest rate\"))\n",
    "years = int(input(\"Please input the number of years\"))\n",
    "init = float(input(\"Please inpout the initial amount\"))\n",
    "final = init*(1+(rate/100))**years\n",
    "print(\"After %d years, the savings will be $%.2f\" % (years , final))"
   ]
  },
  {
   "cell_type": "markdown",
   "id": "bf4040dc",
   "metadata": {},
   "source": [
    "### Python programs\n",
    "A program is made up of statements, made from expressions, which are made from objects, literals, and identifiers.\n"
   ]
  },
  {
   "cell_type": "markdown",
   "id": "ac61b3b6",
   "metadata": {},
   "source": [
    "# Week Two\n",
    "### Logical expressions\n",
    "Sequential control flows enable static code to be placed in a coherent sequence of commands. Branching offers choice like \"would you like to save before exitting? yes/No\". Looping offers repetition of static code, like playing a playlist.\n",
    "\n",
    "Flow charts can be used to demonstrate code flows. arrows indicate execution sequence, nodes are statements of junctions (binary branching node).\n",
    "\n",
    "### The Boolean type\n",
    "Boolean literals are 'TRUE' and FALSE'. \n",
    "There are three operators\n",
    "'and', 'or' and 'not'\n",
    "\n",
    "### Numerical comparissons \n",
    "Take integers and create boolean outputs with ==, <=, >=, !=, <, and >. These boolean operators take a higher precedence than and, or and not.\n",
    "\n",
    "'in' and 'not in' can be used to see if a string contains a substring.\n",
    "\n",
    "'is' is not' can be used to see if identifiers of an object are the same.\n"
   ]
  },
  {
   "cell_type": "code",
   "execution_count": 18,
   "id": "82bede89",
   "metadata": {},
   "outputs": [
    {
     "data": {
      "text/plain": [
       "bool"
      ]
     },
     "execution_count": 18,
     "metadata": {},
     "output_type": "execute_result"
    }
   ],
   "source": [
    "a = True\n",
    "b = True\n",
    "c = False \n",
    "type(a)"
   ]
  },
  {
   "cell_type": "code",
   "execution_count": 19,
   "id": "7a8ac324",
   "metadata": {},
   "outputs": [
    {
     "data": {
      "text/plain": [
       "bool"
      ]
     },
     "execution_count": 19,
     "metadata": {},
     "output_type": "execute_result"
    }
   ],
   "source": [
    "type(b)"
   ]
  },
  {
   "cell_type": "code",
   "execution_count": 20,
   "id": "d51fa085",
   "metadata": {},
   "outputs": [
    {
     "data": {
      "text/plain": [
       "bool"
      ]
     },
     "execution_count": 20,
     "metadata": {},
     "output_type": "execute_result"
    }
   ],
   "source": [
    "type(c)"
   ]
  },
  {
   "cell_type": "code",
   "execution_count": 21,
   "id": "57e05146",
   "metadata": {},
   "outputs": [
    {
     "data": {
      "text/plain": [
       "False"
      ]
     },
     "execution_count": 21,
     "metadata": {},
     "output_type": "execute_result"
    }
   ],
   "source": [
    "a and c"
   ]
  },
  {
   "cell_type": "code",
   "execution_count": 22,
   "id": "a06398fd",
   "metadata": {},
   "outputs": [
    {
     "data": {
      "text/plain": [
       "True"
      ]
     },
     "execution_count": 22,
     "metadata": {},
     "output_type": "execute_result"
    }
   ],
   "source": [
    "a or c"
   ]
  },
  {
   "cell_type": "code",
   "execution_count": 23,
   "id": "d84b80b8",
   "metadata": {},
   "outputs": [
    {
     "data": {
      "text/plain": [
       "False"
      ]
     },
     "execution_count": 23,
     "metadata": {},
     "output_type": "execute_result"
    }
   ],
   "source": [
    "not a"
   ]
  },
  {
   "cell_type": "code",
   "execution_count": 25,
   "id": "afcbd106",
   "metadata": {},
   "outputs": [
    {
     "data": {
      "text/plain": [
       "True"
      ]
     },
     "execution_count": 25,
     "metadata": {},
     "output_type": "execute_result"
    }
   ],
   "source": [
    "not c"
   ]
  },
  {
   "cell_type": "code",
   "execution_count": 26,
   "id": "fa162c8b",
   "metadata": {},
   "outputs": [
    {
     "data": {
      "text/plain": [
       "False"
      ]
     },
     "execution_count": 26,
     "metadata": {},
     "output_type": "execute_result"
    }
   ],
   "source": [
    "a and not b # 'not b' acts first"
   ]
  },
  {
   "cell_type": "code",
   "execution_count": 27,
   "id": "e8196633",
   "metadata": {},
   "outputs": [
    {
     "data": {
      "text/plain": [
       "True"
      ]
     },
     "execution_count": 27,
     "metadata": {},
     "output_type": "execute_result"
    }
   ],
   "source": [
    "c and b or a #'cand b' acts first"
   ]
  },
  {
   "cell_type": "code",
   "execution_count": 29,
   "id": "1872b9fa",
   "metadata": {},
   "outputs": [
    {
     "data": {
      "text/plain": [
       "False"
      ]
     },
     "execution_count": 29,
     "metadata": {},
     "output_type": "execute_result"
    }
   ],
   "source": [
    "c and (b or a) #brackets first"
   ]
  },
  {
   "cell_type": "code",
   "execution_count": 33,
   "id": "0a2d206d",
   "metadata": {},
   "outputs": [
    {
     "data": {
      "text/plain": [
       "True"
      ]
     },
     "execution_count": 33,
     "metadata": {},
     "output_type": "execute_result"
    }
   ],
   "source": [
    "a and b or b and c # 'a and b' and 'b and c' before the 'or'"
   ]
  },
  {
   "cell_type": "code",
   "execution_count": 35,
   "id": "43e21fbe",
   "metadata": {},
   "outputs": [
    {
     "data": {
      "text/plain": [
       "False"
      ]
     },
     "execution_count": 35,
     "metadata": {},
     "output_type": "execute_result"
    }
   ],
   "source": [
    "1==2 # is equal"
   ]
  },
  {
   "cell_type": "code",
   "execution_count": 39,
   "id": "4513621e",
   "metadata": {},
   "outputs": [
    {
     "data": {
      "text/plain": [
       "True"
      ]
     },
     "execution_count": 39,
     "metadata": {},
     "output_type": "execute_result"
    }
   ],
   "source": [
    "1!=2 #is not equal"
   ]
  },
  {
   "cell_type": "code",
   "execution_count": 41,
   "id": "4d82eb24",
   "metadata": {},
   "outputs": [
    {
     "data": {
      "text/plain": [
       "False"
      ]
     },
     "execution_count": 41,
     "metadata": {},
     "output_type": "execute_result"
    }
   ],
   "source": [
    "3>5 #more than"
   ]
  },
  {
   "cell_type": "code",
   "execution_count": 43,
   "id": "7dfc0be9",
   "metadata": {},
   "outputs": [
    {
     "data": {
      "text/plain": [
       "True"
      ]
     },
     "execution_count": 43,
     "metadata": {},
     "output_type": "execute_result"
    }
   ],
   "source": [
    "3<5 #less than"
   ]
  },
  {
   "cell_type": "code",
   "execution_count": 44,
   "id": "bc5d3e50",
   "metadata": {},
   "outputs": [
    {
     "data": {
      "text/plain": [
       "True"
      ]
     },
     "execution_count": 44,
     "metadata": {},
     "output_type": "execute_result"
    }
   ],
   "source": [
    "3<=5 #less than or equal to"
   ]
  },
  {
   "cell_type": "code",
   "execution_count": 45,
   "id": "61640eb3",
   "metadata": {},
   "outputs": [
    {
     "data": {
      "text/plain": [
       "False"
      ]
     },
     "execution_count": 45,
     "metadata": {},
     "output_type": "execute_result"
    }
   ],
   "source": [
    "x = 2\n",
    "y = 3\n",
    "z = 5\n",
    "x > y and y > z"
   ]
  },
  {
   "cell_type": "code",
   "execution_count": 47,
   "id": "dc4f169b",
   "metadata": {},
   "outputs": [
    {
     "data": {
      "text/plain": [
       "False"
      ]
     },
     "execution_count": 47,
     "metadata": {},
     "output_type": "execute_result"
    }
   ],
   "source": [
    "x > y or y > z"
   ]
  },
  {
   "cell_type": "code",
   "execution_count": 49,
   "id": "80aee2f0",
   "metadata": {},
   "outputs": [
    {
     "data": {
      "text/plain": [
       "True"
      ]
     },
     "execution_count": 49,
     "metadata": {},
     "output_type": "execute_result"
    }
   ],
   "source": [
    "y>x and z > y or y > z and z > x"
   ]
  },
  {
   "cell_type": "code",
   "execution_count": 52,
   "id": "4bcb4657",
   "metadata": {},
   "outputs": [
    {
     "data": {
      "text/plain": [
       "True"
      ]
     },
     "execution_count": 52,
     "metadata": {},
     "output_type": "execute_result"
    }
   ],
   "source": [
    "s1 = \"Hello world, My name is Dylan\"\n",
    "s2 = \"name\"\n",
    "s3 = \"Hello world\"\n",
    "s2 in s1"
   ]
  },
  {
   "cell_type": "code",
   "execution_count": 53,
   "id": "699317d7",
   "metadata": {},
   "outputs": [
    {
     "data": {
      "text/plain": [
       "True"
      ]
     },
     "execution_count": 53,
     "metadata": {},
     "output_type": "execute_result"
    }
   ],
   "source": [
    "s3 not in s2"
   ]
  },
  {
   "cell_type": "code",
   "execution_count": 55,
   "id": "422e2743",
   "metadata": {},
   "outputs": [
    {
     "data": {
      "text/plain": [
       "True"
      ]
     },
     "execution_count": 55,
     "metadata": {},
     "output_type": "execute_result"
    }
   ],
   "source": [
    "s3 in s1"
   ]
  },
  {
   "cell_type": "code",
   "execution_count": 56,
   "id": "baa35e65",
   "metadata": {},
   "outputs": [
    {
     "data": {
      "text/plain": [
       "False"
      ]
     },
     "execution_count": 56,
     "metadata": {},
     "output_type": "execute_result"
    }
   ],
   "source": [
    "s1 in s3"
   ]
  },
  {
   "cell_type": "code",
   "execution_count": 57,
   "id": "49453d54",
   "metadata": {},
   "outputs": [
    {
     "name": "stdout",
     "output_type": "stream",
     "text": [
      "1732747810992\n",
      "1732747810992\n"
     ]
    }
   ],
   "source": [
    "a = 123 #smaller numbers are cached\n",
    "b = 123\n",
    "print(id(a))\n",
    "print(id(b))"
   ]
  },
  {
   "cell_type": "code",
   "execution_count": 58,
   "id": "e936d1fc",
   "metadata": {},
   "outputs": [
    {
     "data": {
      "text/plain": [
       "True"
      ]
     },
     "execution_count": 58,
     "metadata": {},
     "output_type": "execute_result"
    }
   ],
   "source": [
    "a is b"
   ]
  },
  {
   "cell_type": "code",
   "execution_count": 60,
   "id": "a1a935ad",
   "metadata": {},
   "outputs": [
    {
     "data": {
      "text/plain": [
       "False"
      ]
     },
     "execution_count": 60,
     "metadata": {},
     "output_type": "execute_result"
    }
   ],
   "source": [
    "a is not b"
   ]
  },
  {
   "cell_type": "code",
   "execution_count": 62,
   "id": "3fedd4c1",
   "metadata": {},
   "outputs": [
    {
     "name": "stdout",
     "output_type": "stream",
     "text": [
      "1732825033776\n",
      "1732825034384\n"
     ]
    }
   ],
   "source": [
    "a = 12345 #not cached\n",
    "b = 12345\n",
    "print(id(a))\n",
    "print(id(b))"
   ]
  },
  {
   "cell_type": "code",
   "execution_count": 64,
   "id": "d027995a",
   "metadata": {},
   "outputs": [
    {
     "data": {
      "text/plain": [
       "False"
      ]
     },
     "execution_count": 64,
     "metadata": {},
     "output_type": "execute_result"
    }
   ],
   "source": [
    "a is b "
   ]
  },
  {
   "cell_type": "markdown",
   "id": "b68f385d",
   "metadata": {},
   "source": [
    "### Boolean conversions\n",
    "if equal to or less than 0, the value is False.\n",
    "if more than zero, is True.\n",
    "If ''(empty) then False.\n",
    "if 'not empty', the True.\n",
    "True = 1\n",
    "False = 0"
   ]
  },
  {
   "cell_type": "markdown",
   "id": "fb83de36",
   "metadata": {},
   "source": [
    "### If - then statements\n",
    "**If** the condition is found to be True, **then** it will evluate the following statement.\n",
    "Indentation matters, the indentatiton signals that the the **then** statement is part of the **if** statement. This principal is essential for control flow as it elects which branch to follow. \n",
    "\n",
    "stepping over and stepping into the code are debugging methods that initiate the code step by step. \n"
   ]
  },
  {
   "cell_type": "markdown",
   "id": "08865a40",
   "metadata": {},
   "source": [
    "### If - else statements\n",
    "**If** will execute the **then** statement when True, but adding an **else** statement will execute another **then** statement when the condition is False. \n",
    "The If and Else statments need to be on the same column, but the then and else statements need to have the same indentation to be read properly. "
   ]
  },
  {
   "cell_type": "code",
   "execution_count": 65,
   "id": "260381eb",
   "metadata": {},
   "outputs": [
    {
     "ename": "SyntaxError",
     "evalue": "invalid syntax (Temp/ipykernel_12940/3121242026.py, line 2)",
     "output_type": "error",
     "traceback": [
      "\u001b[1;36m  File \u001b[1;32m\"C:\\Users\\rohad\\AppData\\Local\\Temp/ipykernel_12940/3121242026.py\"\u001b[1;36m, line \u001b[1;32m2\u001b[0m\n\u001b[1;33m    statenment to do if condition is true\u001b[0m\n\u001b[1;37m               ^\u001b[0m\n\u001b[1;31mSyntaxError\u001b[0m\u001b[1;31m:\u001b[0m invalid syntax\n"
     ]
    }
   ],
   "source": [
    "if condition1:\n",
    "    statenment to do if condition is true # 4 space indeentation\n",
    "elif conditon2: #remember the colon\n",
    "    statement to do if previous statement is not true but condition 2 is true\n",
    "elif condition3:\n",
    "    statment to do if prior two are False but this one is true\n",
    "else:\n",
    "    statment to do if none of the previous "
   ]
  },
  {
   "cell_type": "code",
   "execution_count": 79,
   "id": "2ba8b101",
   "metadata": {},
   "outputs": [
    {
     "name": "stdout",
     "output_type": "stream",
     "text": [
      "person_age1 is employable\n"
     ]
    }
   ],
   "source": [
    "person_age1 = 16\n",
    "person_age2 = 12\n",
    "\n",
    "if person_age1 >= 14:\n",
    "    print(\"person is employable\")"
   ]
  },
  {
   "cell_type": "code",
   "execution_count": 619,
   "id": "f1d02610",
   "metadata": {},
   "outputs": [
    {
     "name": "stdout",
     "output_type": "stream",
     "text": [
      "person not employable\n"
     ]
    }
   ],
   "source": [
    "person_age1 = 16\n",
    "person_age2 = 12\n",
    "if person_age2 >= 14:\n",
    "    print(\"person is employable\") \n",
    "else:\n",
    "     print (\"person not employable\") "
   ]
  },
  {
   "cell_type": "code",
   "execution_count": 89,
   "id": "47f60f7e",
   "metadata": {},
   "outputs": [
    {
     "name": "stdout",
     "output_type": "stream",
     "text": [
      "What is your age? 24\n",
      "Person is employable\n"
     ]
    }
   ],
   "source": [
    "age = int(input( \"What is your age? \"))\n",
    "retired = False\n",
    "\n",
    "if not retired:\n",
    "    if age >= 14:\n",
    "        if age >= 16:\n",
    "            print(\"Person is employable\")\n",
    "        else:\n",
    "            print(\"employable as a junior\")\n",
    "    else:\n",
    "        print(\"person is too young or retired\")\n",
    "else:\n",
    "    print(\"Person is not employable \")"
   ]
  },
  {
   "cell_type": "code",
   "execution_count": 620,
   "id": "783db943",
   "metadata": {},
   "outputs": [
    {
     "name": "stdout",
     "output_type": "stream",
     "text": [
      "What is your age? 16\n",
      "Person is employable\n"
     ]
    }
   ],
   "source": [
    "age = int(input( \"What is your age? \"))\n",
    "retired = False\n",
    "\n",
    "if not (retired) and (age>=14):\n",
    "    if age < 16:\n",
    "            print(\"Person is employable as a junior\")\n",
    "    else:\n",
    "            print(\"Person is employable\")\n",
    "else:\n",
    "        print(\"person is too young or retired\")"
   ]
  },
  {
   "cell_type": "code",
   "execution_count": 106,
   "id": "4b238dd8",
   "metadata": {},
   "outputs": [
    {
     "name": "stdout",
     "output_type": "stream",
     "text": [
      "what month is it? (numerical)24\n",
      "happy new year\n"
     ]
    }
   ],
   "source": [
    "#Practice 2.1\n",
    "month = int(input(\"what month is it? (numerical)\"))\n",
    "\n",
    "if month == 12:\n",
    "    print(\"merry christmas\")\n",
    "else:\n",
    "    print(\"happy new year\")"
   ]
  },
  {
   "cell_type": "code",
   "execution_count": 113,
   "id": "dc9ba7b1",
   "metadata": {},
   "outputs": [
    {
     "name": "stdout",
     "output_type": "stream",
     "text": [
      "what month is it numerically? 12\n",
      "Merry christmas\n",
      "Have a happy new year\n"
     ]
    }
   ],
   "source": [
    "#Practice 2.2\n",
    "month = int(input(\"what month is it numerically? \"))\n",
    "\n",
    "if month == 12:\n",
    "    print(\"Merry christmas\")\n",
    "else:\n",
    "    print(\"You'll have to wait for christmas then!\")\n",
    "print(\"Have a happy new year\")"
   ]
  },
  {
   "cell_type": "code",
   "execution_count": 115,
   "id": "64361cd5",
   "metadata": {},
   "outputs": [
    {
     "name": "stdout",
     "output_type": "stream",
     "text": [
      "first number 23\n",
      "second number 33\n",
      "third number 43\n",
      "z\n",
      "done.\n"
     ]
    }
   ],
   "source": [
    "#Maximum of three numbers with nested if statements\n",
    "x= int(input(\"first number \"))\n",
    "y= int(input(\"second number \"))\n",
    "z= int(input(\"third number \"))\n",
    "\n",
    "if y>x:\n",
    "    if z>y:\n",
    "        print(\"z\")\n",
    "    else:\n",
    "        print(\"y\")\n",
    "else:\n",
    "    if z>x:\n",
    "        print(\"z\")\n",
    "    else:\n",
    "        print(\"x\")\n",
    "print(\"done.\")\n",
    "            "
   ]
  },
  {
   "cell_type": "code",
   "execution_count": 143,
   "id": "e5a790ca",
   "metadata": {},
   "outputs": [
    {
     "name": "stdout",
     "output_type": "stream",
     "text": [
      "enter the shortest side length3\n",
      "enter the medium side length4\n",
      "enter the Longest side length5\n",
      "It is a perfect triangle\n"
     ]
    }
   ],
   "source": [
    "#Practice 2.4 -Perfect triengle \n",
    "short = int(input(\"enter the shortest side length\"))\n",
    "middle =int(input(\"enter the medium side length\"))\n",
    "long = int(input(\"enter the Longest side length\"))\n",
    "\n",
    "if (short%3 == 0) and (middle%4 == 0) and (long%5 ==0):\n",
    "    print(\"It is a perfect triangle\")\n",
    "else:\n",
    "    print(\"it is not a perfect triangle\")"
   ]
  },
  {
   "cell_type": "markdown",
   "id": "ce8163e9",
   "metadata": {},
   "source": [
    "### If- elif statments\n",
    "save space and let you select through a list of conditions and then statements quickly and neatly.\n",
    "See below"
   ]
  },
  {
   "cell_type": "code",
   "execution_count": 145,
   "id": "c5759843",
   "metadata": {},
   "outputs": [
    {
     "name": "stdout",
     "output_type": "stream",
     "text": [
      "x1\n",
      "y2\n",
      "1. add\n",
      "2. subtract\n",
      "3. multiply\n",
      "4. divide\n",
      "select choice2\n",
      "the answer is:-1\n"
     ]
    }
   ],
   "source": [
    "#if - else style\n",
    "\n",
    "x = int(input(\"x\"))\n",
    "y = int(input(\"y\"))\n",
    "print(\"1. add\")\n",
    "print(\"2. subtract\")\n",
    "print(\"3. multiply\")\n",
    "print(\"4. divide\")\n",
    "\n",
    "choice = int(input(\"select choice\"))\n",
    "print(\"the answer is:\", end =\"\")\n",
    "\n",
    "if choice == 1:\n",
    "    print(x+y)\n",
    "else: \n",
    "    if choice ==2:\n",
    "        print(x-y)\n",
    "    else:\n",
    "        if choice == 3:\n",
    "            print(x*y)\n",
    "        else:\n",
    "            if choice == 4:\n",
    "                print(x/y)\n",
    "            else:\n",
    "                    print(\"Please enter valid choice\") #with enough choices, the steps will run off the page to the right"
   ]
  },
  {
   "cell_type": "code",
   "execution_count": 147,
   "id": "59ab180f",
   "metadata": {},
   "outputs": [
    {
     "name": "stdout",
     "output_type": "stream",
     "text": [
      "x1\n",
      "y2\n",
      "1. add\n",
      "2. subtract\n",
      "3. multiply\n",
      "4. divide\n",
      "select choice4\n",
      "the answer is:0.5\n"
     ]
    }
   ],
   "source": [
    "# If -elif statment\n",
    "#if - else style\n",
    "\n",
    "x = int(input(\"x\"))\n",
    "y = int(input(\"y\"))\n",
    "print(\"1. add\")\n",
    "print(\"2. subtract\")\n",
    "print(\"3. multiply\")\n",
    "print(\"4. divide\")\n",
    "\n",
    "choice = int(input(\"select choice\"))\n",
    "print(\"the answer is:\", end =\"\")\n",
    "if choice == 1:\n",
    "    print(x+y)\n",
    "elif choice == 2:\n",
    "    print(x-y)\n",
    "elif choice == 3:\n",
    "    print(X*y)\n",
    "elif choice == 4:\n",
    "    print(x/y)\n",
    "else:\n",
    "    print( \"invalid choice\") #Much cleaner"
   ]
  },
  {
   "cell_type": "code",
   "execution_count": 150,
   "id": "74eaff2b",
   "metadata": {},
   "outputs": [
    {
     "name": "stdout",
     "output_type": "stream",
     "text": [
      "input numerical month value1\n",
      "Hello summer\n"
     ]
    }
   ],
   "source": [
    "month = int(input(\"input numerical month value\"))\n",
    "\n",
    "if month == 1:\n",
    "    print(\"Hello summer\")\n",
    "elif month == 2:\n",
    "    print(\"Little less summer now\")\n",
    "elif month == 3:\n",
    "    print(\"bye summer\")\n",
    "elif month == 4:\n",
    "    print(\"Could probably play golf still\")\n",
    "elif month == 5:\n",
    "    print(\"is it getting chilly out yet?\")\n",
    "elif month == 6:\n",
    "    print(\"End of financial year sales!\")\n",
    "elif month == 7:\n",
    "    print(\"Happy fourth of july America\")\n",
    "elif month == 8:\n",
    "    print(\"I really hope you're not wasting your time on a golf course\")\n",
    "elif month == 9:\n",
    "    print(\"bit blowy out there\")\n",
    "elif month == 10:\n",
    "    print(\"Cheer up, summers almost here\")\n",
    "elif month == 11:\n",
    "    print(\"Can you feel it yet?\")\n",
    "elif month == 12:\n",
    "    print(\"ahh lovely\")\n",
    "else:\n",
    "    print(\"invlaid. try again\")"
   ]
  },
  {
   "cell_type": "code",
   "execution_count": 160,
   "id": "5fb8a201",
   "metadata": {},
   "outputs": [
    {
     "name": "stdout",
     "output_type": "stream",
     "text": [
      "How many years have you been a citizen of the United states of America?1\n",
      "What is your age?2\n",
      "How many years have you been a resident of the united states of America counting back from now?1\n",
      "Nope.\n"
     ]
    }
   ],
   "source": [
    "#Practice 2.5 - Presidential candidate \n",
    "citizen = int(input(\"How many years have you been a citizen of the United states of America?\"))\n",
    "age = int(input(\"What is your age?\"))\n",
    "resident = int(input(\"How many years have you been a resident of the united states of America counting back from now?\"))\n",
    "\n",
    "              \n",
    "if citizen > 0:\n",
    "    if age >= 35:\n",
    "        if resident >= 14:\n",
    "            print( \"Welcome aboard\")\n",
    "        else: \n",
    "            print(\"Nope.\")\n",
    "    else: \n",
    "            print(\"Nope.\")\n",
    "else: \n",
    "            print(\"Nope.\")\n"
   ]
  },
  {
   "cell_type": "markdown",
   "id": "eaf0469d",
   "metadata": {},
   "source": [
    "### Short circuit logic\n",
    "Python will execute a command from left to right until it cannot confirm the truth of a component.  "
   ]
  },
  {
   "cell_type": "code",
   "execution_count": 162,
   "id": "c723f4ec",
   "metadata": {},
   "outputs": [
    {
     "name": "stdout",
     "output_type": "stream",
     "text": [
      "How old are you?15\n",
      "You got a permit for that rod bro? y/nn\n",
      "Do your parent's have a lisence? y/ny\n",
      "Hope you catch a big one\n"
     ]
    }
   ],
   "source": [
    "#Practice 2.6 - Fishing in Minnesota \n",
    "age = int(input(\"How old are you?\"))\n",
    "permit = input(\"You got a permit for that rod bro? y/n\")\n",
    "parent = input(\"Do your parent's have a lisence? y/n\")\n",
    "\n",
    "if age <=15 and parent == \"y\":\n",
    "    print(\"Hope you catch a big one\")\n",
    "elif age>=16 and permit == \"y\":\n",
    "    print(\"Hope you catch a big one\")\n",
    "else:\n",
    "    print(\"No fish fingers tonight pal\")"
   ]
  },
  {
   "cell_type": "code",
   "execution_count": 166,
   "id": "460cc831",
   "metadata": {},
   "outputs": [
    {
     "name": "stdout",
     "output_type": "stream",
     "text": [
      "Did the team win their first game? Y/NN\n",
      "did the team win their secound game? Y/NY\n",
      "Third place\n"
     ]
    }
   ],
   "source": [
    "#Fifa world cup semifinal example attemopt\n",
    "\n",
    "game1 = input(\"Did the team win their first game? Y/N\")\n",
    "game2 = input(\"did the team win their secound game? Y/N\")\n",
    "\n",
    "if game1 == \"Y\":\n",
    "    if game2 == \"Y\":\n",
    "        print(\"First place\")\n",
    "    else:\n",
    "        print(\"secound place\")\n",
    "else:\n",
    "    if game2 == \"Y\":\n",
    "        print(\"Third place\")\n",
    "    else:\n",
    "        print(\"Fourth place\")"
   ]
  },
  {
   "cell_type": "code",
   "execution_count": 171,
   "id": "577c1aeb",
   "metadata": {},
   "outputs": [
    {
     "name": "stdout",
     "output_type": "stream",
     "text": [
      "0\n",
      "1\n",
      "2\n",
      "3\n",
      "4\n",
      "5\n",
      "6\n",
      "7\n",
      "8\n"
     ]
    }
   ],
   "source": [
    "i = 0\n",
    "while i < 9:\n",
    "    print(i)\n",
    "    i+=1 # without this line it just produces 0 with each iteration\n",
    "    "
   ]
  },
  {
   "cell_type": "code",
   "execution_count": 185,
   "id": "bce8fcdc",
   "metadata": {},
   "outputs": [
    {
     "name": "stdout",
     "output_type": "stream",
     "text": [
      "generatre random letter? Y/NY\n",
      "Z\n",
      "generatre random letter? Y/NY\n",
      "H\n",
      "generatre random letter? Y/NY\n",
      "Z\n",
      "generatre random letter? Y/NN\n",
      "Bye\n"
     ]
    }
   ],
   "source": [
    "#Random letter\n",
    "import random\n",
    "string = 'ABCDEFGHIJKLMNOPQRSTUVWXYZ'\n",
    "command = input(\"generatre random letter? Y/N\")\n",
    "while command == \"Y\":\n",
    "    i = random.randint(0, 26)\n",
    "    print(string[i])\n",
    "    command = input(\"generatre random letter? Y/N\")\n",
    "print(\"Bye\")\n"
   ]
  },
  {
   "cell_type": "code",
   "execution_count": 184,
   "id": "9d652952",
   "metadata": {},
   "outputs": [
    {
     "name": "stdout",
     "output_type": "stream",
     "text": [
      "What is your age?67\n",
      "Qualifies for pension\n"
     ]
    }
   ],
   "source": [
    "#Pension question\n",
    "age = int(input(\"What is your age?\"))\n",
    "\n",
    "if age > 65:\n",
    "    print(\"Qualifies for pension\")\n",
    "else:\n",
    "    print(\"Doesn not qualify for pension\")"
   ]
  },
  {
   "cell_type": "markdown",
   "id": "e6e30330",
   "metadata": {},
   "source": [
    "### Range()\n",
    "Takes three values: the start (0 if not specified), end and increment (1 if not specified) by which to step by. \n"
   ]
  },
  {
   "cell_type": "code",
   "execution_count": 199,
   "id": "4e13d244",
   "metadata": {},
   "outputs": [
    {
     "name": "stdout",
     "output_type": "stream",
     "text": [
      "range(0, 10)\n"
     ]
    }
   ],
   "source": [
    "x = range(10)\n",
    "print(x)"
   ]
  },
  {
   "cell_type": "code",
   "execution_count": 201,
   "id": "f0f48976",
   "metadata": {},
   "outputs": [
    {
     "name": "stdout",
     "output_type": "stream",
     "text": [
      "0\n",
      "1\n",
      "2\n",
      "3\n",
      "4\n",
      "5\n",
      "6\n",
      "7\n",
      "8\n",
      "9\n"
     ]
    }
   ],
   "source": [
    "for i in range(10):\n",
    "    print(i)"
   ]
  },
  {
   "cell_type": "code",
   "execution_count": 206,
   "id": "0fef406b",
   "metadata": {},
   "outputs": [
    {
     "name": "stdout",
     "output_type": "stream",
     "text": [
      "H\n",
      "e\n",
      "l\n",
      "l\n",
      "o\n"
     ]
    }
   ],
   "source": [
    "str1 = \"Hello\"\n",
    "for s in str1:\n",
    "    print(s)"
   ]
  },
  {
   "cell_type": "markdown",
   "id": "1c80cd88",
   "metadata": {},
   "source": [
    "### For Loop\n"
   ]
  },
  {
   "cell_type": "code",
   "execution_count": 28,
   "id": "ba354cb9",
   "metadata": {},
   "outputs": [
    {
     "name": "stdout",
     "output_type": "stream",
     "text": [
      "0\n",
      "1\n",
      "2\n",
      "3\n",
      "4\n"
     ]
    }
   ],
   "source": [
    "# to print a range one subject at a time\n",
    "for i in range(5):\n",
    "    print(i)"
   ]
  },
  {
   "cell_type": "code",
   "execution_count": 31,
   "id": "ff51c045",
   "metadata": {},
   "outputs": [
    {
     "name": "stdout",
     "output_type": "stream",
     "text": [
      "H\n",
      "e\n",
      "l\n",
      "l\n",
      "o\n",
      " \n",
      "w\n",
      "o\n",
      "r\n",
      "l\n",
      "d\n"
     ]
    }
   ],
   "source": [
    "str1 = \"Hello world\"\n",
    "for s in str1:\n",
    "    print(s)"
   ]
  },
  {
   "cell_type": "code",
   "execution_count": 33,
   "id": "6017d0db",
   "metadata": {},
   "outputs": [
    {
     "name": "stdout",
     "output_type": "stream",
     "text": [
      "apples APPLES\n",
      "oranges ORANGES\n",
      "pears PEARS\n",
      "lemons LEMONS\n"
     ]
    }
   ],
   "source": [
    "Fruits = ['apples', 'oranges', 'pears', 'lemons']\n",
    "\n",
    "for fruit in Fruits:\n",
    "    print(fruit, fruit.upper())\n"
   ]
  },
  {
   "cell_type": "code",
   "execution_count": 47,
   "id": "4d427beb",
   "metadata": {},
   "outputs": [
    {
     "name": "stdout",
     "output_type": "stream",
     "text": [
      "1\n",
      "2\n",
      "3\n",
      "4\n",
      "5\n",
      "9\n",
      "10\n"
     ]
    }
   ],
   "source": [
    "t=(1, 2, 3, 4, 5, 6, 7, 8, 9, 10)\n",
    "for i in t:\n",
    "    if i>5:\n",
    "        break\n",
    "    print(i)\n",
    "\n",
    "for i in t:\n",
    "    if i<9:\n",
    "        continue\n",
    "    print(i)"
   ]
  },
  {
   "cell_type": "code",
   "execution_count": 49,
   "id": "02cd29cc",
   "metadata": {},
   "outputs": [
    {
     "name": "stdout",
     "output_type": "stream",
     "text": [
      "1\n",
      "2\n",
      "3\n",
      "done\n",
      "1\n"
     ]
    }
   ],
   "source": [
    "t=(1, 2, 3)\n",
    "for x in t:\n",
    "    print(x)\n",
    "else:\n",
    "    print(\"done\")\n",
    "\n",
    "for x in t:\n",
    "    print(x)\n",
    "    break\n",
    "else:\n",
    "    print(\"done\")"
   ]
  },
  {
   "cell_type": "markdown",
   "id": "8c86c142",
   "metadata": {},
   "source": [
    "### While loops\n",
    "There are loops that use \"For\" when you know how many times. But when the amount of times is unknonw, you can use while. It states that while the condition is true, compute the action. If no termination conditions are set, then it will be an infinite loop, or dead loop.\n",
    "\n"
   ]
  },
  {
   "cell_type": "code",
   "execution_count": 19,
   "id": "2bded736",
   "metadata": {},
   "outputs": [
    {
     "name": "stdout",
     "output_type": "stream",
     "text": [
      "enter a name : Dylan\n",
      "enter a name : Chloe\n",
      "Chloe\n",
      "enter a name : Tara\n",
      "Tara\n",
      "enter a name : Sam\n",
      "Sam\n",
      "enter a name : stop\n",
      "stop\n"
     ]
    }
   ],
   "source": [
    "# will keep running the code until stop is written\n",
    "str1 = input(\"enter a name : \")\n",
    "while (str1 != \"stop\"):\n",
    "    str1 = input(\"enter a name : \")\n",
    "    print(str1)"
   ]
  },
  {
   "cell_type": "code",
   "execution_count": 24,
   "id": "ab8fca3d",
   "metadata": {},
   "outputs": [
    {
     "name": "stdout",
     "output_type": "stream",
     "text": [
      "enter a name : Dylan\n",
      "Dylan\n",
      "enter a name : stop\n"
     ]
    }
   ],
   "source": [
    "str1 = input(\"enter a name : \")\n",
    "while (str1 != \"stop\"):\n",
    "    print(str1) # error without indentation here\n",
    "    str1 = input(\"enter a name : \") #without indentation here, it would print Dylan forever\n"
   ]
  },
  {
   "cell_type": "code",
   "execution_count": 74,
   "id": "ea1d1596",
   "metadata": {},
   "outputs": [
    {
     "name": "stdout",
     "output_type": "stream",
     "text": [
      "is your number 28 ?\n",
      "is your number37? no\n",
      "is your number81? no\n",
      "is your number100? no\n",
      "is your number48? yes\n"
     ]
    }
   ],
   "source": [
    "#number guess\n",
    "import random\n",
    "print(\"is your number\", random.randint(1,100), \"?\")\n",
    "answer = \"no\"\n",
    "while(answer == \"no\"):\n",
    "    guess = random.randint(1,100)\n",
    "    answer = input(\"is your number\"+ str(guess) + \"? \")"
   ]
  },
  {
   "cell_type": "markdown",
   "id": "7a846710",
   "metadata": {},
   "source": [
    "### Putting data together\n",
    "lists are containers of data points. a list contain multiple types of data (strings, numerics, other lists). You can add lists with +, repeat lists with \"*\", check the length of a list with len, find something in a list with 'in' or do the opposite with 'not in'. \n",
    "When calling from a list, the first value is on 0, and the last is on n-1.\n",
    "When copyign a list you have to set the lest again as seen below. Otherwise whatever happnes to the original follows on to the copy.\n"
   ]
  },
  {
   "cell_type": "code",
   "execution_count": 85,
   "id": "8b6765b4",
   "metadata": {},
   "outputs": [
    {
     "name": "stdout",
     "output_type": "stream",
     "text": [
      "[1, 2, 3, 4, 5, 6]\n"
     ]
    }
   ],
   "source": [
    "list = [1,2,3,4,5,6]\n",
    "print(list)"
   ]
  },
  {
   "cell_type": "code",
   "execution_count": 80,
   "id": "eeca6c8f",
   "metadata": {},
   "outputs": [
    {
     "name": "stdout",
     "output_type": "stream",
     "text": [
      "136\n"
     ]
    }
   ],
   "source": [
    "#sum the temps in a loop\n",
    "temps = [22, 18, 20, 21, 23, 15, 17]\n",
    "sum = 0\n",
    "for temp in temps:\n",
    "    sum = sum+temp\n",
    "\n",
    "print(sum)"
   ]
  },
  {
   "cell_type": "code",
   "execution_count": 82,
   "id": "c0a2a89f",
   "metadata": {},
   "outputs": [
    {
     "data": {
      "text/plain": [
       "7"
      ]
     },
     "execution_count": 82,
     "metadata": {},
     "output_type": "execute_result"
    }
   ],
   "source": [
    "#element count\n",
    "temps = [22, 18, 20, 21, 23, 15, 17]\n",
    "len(temps)"
   ]
  },
  {
   "cell_type": "code",
   "execution_count": 120,
   "id": "695ed6c4",
   "metadata": {},
   "outputs": [
    {
     "name": "stdout",
     "output_type": "stream",
     "text": [
      "[[-10, -8, -6, -4, -2, 0, 2, 4, 6, 8], 0.1, 0.2, 0.3, 'hello world']\n"
     ]
    }
   ],
   "source": [
    "seq1 = list(range(-10, 10,2))\n",
    "lst = [seq1, 0.1, 0.2, 0.3, \"hello world\"]\n",
    "print(lst)"
   ]
  },
  {
   "cell_type": "code",
   "execution_count": 123,
   "id": "a7ebb092",
   "metadata": {},
   "outputs": [
    {
     "name": "stdout",
     "output_type": "stream",
     "text": [
      "[True, False, 'hey', 'there', 2, 3]\n"
     ]
    }
   ],
   "source": [
    "lst2 = [True, False, \"hey\", \"there\", 2,3]\n",
    "print(lst2)"
   ]
  },
  {
   "cell_type": "code",
   "execution_count": 126,
   "id": "7cfe70c8",
   "metadata": {},
   "outputs": [
    {
     "name": "stdout",
     "output_type": "stream",
     "text": [
      "[[[-10, -8, -6, -4, -2, 0, 2, 4, 6, 8], 0.1, 0.2, 0.3, 'hello world'], [True, False, 'hey', 'there', 2, 3], 3, 4, 5]\n"
     ]
    }
   ],
   "source": [
    "lst3= [lst, lst2, 3,4,5]\n",
    "print(lst3)"
   ]
  },
  {
   "cell_type": "code",
   "execution_count": 131,
   "id": "d204a548",
   "metadata": {},
   "outputs": [
    {
     "name": "stdout",
     "output_type": "stream",
     "text": [
      "[[-10, -8, -6, -4, -2, 0, 2, 4, 6, 8], 0.1, 0.2, 0.3, 'hello world', True, False, 'hey', 'there', 2, 3]\n"
     ]
    }
   ],
   "source": [
    "lst4 = lst + lst2\n",
    "print(lst4)"
   ]
  },
  {
   "cell_type": "code",
   "execution_count": 136,
   "id": "c6ae1da0",
   "metadata": {},
   "outputs": [
    {
     "name": "stdout",
     "output_type": "stream",
     "text": [
      "[1, 2, 3, 4, 5, 'a', 'b', 'c', 'd', 'e']\n",
      "[1, 2, 3, 4, 5, 1, 2, 3, 4, 5, 1, 2, 3, 4, 5, 1, 2, 3, 4, 5, 1, 2, 3, 4, 5, 'a', 'b', 'c', 'd', 'e', 'a', 'b', 'c', 'd', 'e']\n"
     ]
    }
   ],
   "source": [
    "l1= [1,2,3,4,5]\n",
    "l2= ['a','b','c','d','e']\n",
    "l3= l1 +l2\n",
    "print(l3)\n",
    "l4 = l1*5+l2*2\n",
    "print(l4)\n"
   ]
  },
  {
   "cell_type": "code",
   "execution_count": 143,
   "id": "69260830",
   "metadata": {},
   "outputs": [
    {
     "name": "stdout",
     "output_type": "stream",
     "text": [
      "zero and 4\n"
     ]
    }
   ],
   "source": [
    "numbers = ['zero',1,2,3,4]\n",
    "numbers[0]\n",
    "numbers[4]\n",
    "print(numbers[0], \"and\", numbers[4])"
   ]
  },
  {
   "cell_type": "code",
   "execution_count": 146,
   "id": "13ec0511",
   "metadata": {},
   "outputs": [
    {
     "name": "stdout",
     "output_type": "stream",
     "text": [
      "['zero', 1, 2]\n",
      "['zero', 1, 2]\n",
      "[3, 4]\n",
      "['zero', 2]\n"
     ]
    }
   ],
   "source": [
    "print(numbers[0:3])\n",
    "print(numbers[:3])\n",
    "print(numbers[3:])\n",
    "print(numbers[0:4:2])"
   ]
  },
  {
   "cell_type": "code",
   "execution_count": 148,
   "id": "8e7a2ad5",
   "metadata": {},
   "outputs": [
    {
     "name": "stdout",
     "output_type": "stream",
     "text": [
      "19.43\n"
     ]
    }
   ],
   "source": [
    "temps = [22,18,20,21,23,15,17]\n",
    "sum = 0\n",
    "for temp in temps:\n",
    "    sum = sum+temp\n",
    "else:\n",
    "    print(round(sum/len(temps),2))\n",
    "    "
   ]
  },
  {
   "cell_type": "code",
   "execution_count": 151,
   "id": "1fba78c1",
   "metadata": {},
   "outputs": [
    {
     "name": "stdout",
     "output_type": "stream",
     "text": [
      "['reassign this at position zero', 2, 3, 4, 5, 6, 7, 8, 9, 10, 11, 12, 13, 14, 15, 16]\n"
     ]
    }
   ],
   "source": [
    "#assignment\n",
    "num = [1,2,3,4,5,6,7,8,9,10,11,12,13,14,15,16]\n",
    "num[0] = \"reassign this at position zero\"\n",
    "print(num)\n",
    "\n",
    "#incorporating string lists\n"
   ]
  },
  {
   "cell_type": "code",
   "execution_count": 155,
   "id": "4f5c560d",
   "metadata": {},
   "outputs": [
    {
     "name": "stdout",
     "output_type": "stream",
     "text": [
      "['reassign this at position zero', 2, 3, 4, 5, 6, 7, 8, 9, 10, 11, 12, 13, 14, 15, 'a', 'b', 'c']\n"
     ]
    }
   ],
   "source": [
    "string = \"abc\"\n",
    "num[15:] =string #The : makes them appear individually\n",
    "print(num)"
   ]
  },
  {
   "cell_type": "code",
   "execution_count": 158,
   "id": "0bac1fa9",
   "metadata": {},
   "outputs": [
    {
     "name": "stdout",
     "output_type": "stream",
     "text": [
      "[\"this wasn't supposed to be on list 2\", 2, 3]\n"
     ]
    }
   ],
   "source": [
    "original = [1,2,3]\n",
    "copy = original\n",
    "original[0] = \"this wasn't supposed to be on list 2\"\n",
    "print(copy)"
   ]
  },
  {
   "cell_type": "code",
   "execution_count": 165,
   "id": "cefa7810",
   "metadata": {},
   "outputs": [
    {
     "name": "stdout",
     "output_type": "stream",
     "text": [
      "[1, 2, 3]\n"
     ]
    }
   ],
   "source": [
    "original2 = [1,2,3]\n",
    "copy = original2\n",
    "copy2 = list(original2)\n",
    "original[0] = \"this wasn't supposed to be on list 2\"\n",
    "print(copy2)"
   ]
  },
  {
   "cell_type": "code",
   "execution_count": 170,
   "id": "d2e9891c",
   "metadata": {},
   "outputs": [
    {
     "name": "stdout",
     "output_type": "stream",
     "text": [
      "[1, 2, 3, 'add on to end']\n"
     ]
    }
   ],
   "source": [
    "original2 = [1,2,3]\n",
    "original2.append(\"add on to end\")\n",
    "print(original2)\n"
   ]
  },
  {
   "cell_type": "code",
   "execution_count": 172,
   "id": "87050a7a",
   "metadata": {},
   "outputs": [
    {
     "name": "stdout",
     "output_type": "stream",
     "text": [
      "[1, 3]\n"
     ]
    }
   ],
   "source": [
    "original2 = [1,2,3]\n",
    "original2.remove(2)\n",
    "print(original2)"
   ]
  },
  {
   "cell_type": "code",
   "execution_count": 174,
   "id": "9eaf8f21",
   "metadata": {},
   "outputs": [
    {
     "name": "stdout",
     "output_type": "stream",
     "text": [
      "[3, 2, 1]\n"
     ]
    }
   ],
   "source": [
    "original2 = [1,2,3]\n",
    "original2.sort(reverse =True)\n",
    "print(original2)"
   ]
  },
  {
   "cell_type": "markdown",
   "id": "698153d1",
   "metadata": {},
   "source": [
    "### list methods\n",
    "1. clear - removes items\n",
    "1. copy - return a shallow copy of the list. it will be uneffected by changes to the original list\n",
    "1. count - counts the occurences of an item in the list\n",
    "1. extend - adds list to the end\n",
    "1. index - shows where something is placed on a list strating at position zero\n",
    "1. mro - shows you the 'inheritance' path\n",
    "1. pop - when empty shows you the population total for the list, when number assigned, tells you what is in that position in the list.\n",
    "1. reverse - reverses the list order"
   ]
  },
  {
   "cell_type": "code",
   "execution_count": 251,
   "id": "2e8f9f1b",
   "metadata": {},
   "outputs": [
    {
     "name": "stdout",
     "output_type": "stream",
     "text": [
      "[]\n"
     ]
    }
   ],
   "source": [
    "numbers = [1,2,3,4,5,6,7,8,9,11,12,13,14,15,16,17,18,19,20]\n",
    "numbers.clear()\n",
    "print(numbers)\n"
   ]
  },
  {
   "cell_type": "code",
   "execution_count": 185,
   "id": "3dff1f5d",
   "metadata": {},
   "outputs": [
    {
     "name": "stdout",
     "output_type": "stream",
     "text": [
      "[1, 2, 3, 4, 5, 6, 7, 8, 9, 11, 12, 13, 14, 15, 16, 17, 18, 19, 20]\n"
     ]
    }
   ],
   "source": [
    "numbers = [1,2,3,4,5,6,7,8,9,11,12,13,14,15,16,17,18,19,20]\n",
    "print(numbers.copy())"
   ]
  },
  {
   "cell_type": "code",
   "execution_count": 189,
   "id": "a9747e45",
   "metadata": {},
   "outputs": [
    {
     "name": "stdout",
     "output_type": "stream",
     "text": [
      "1\n"
     ]
    }
   ],
   "source": [
    "numbers = [1,2,3,4,5,6,7,8,9,11,12,13,14,15,16,17,18,19,20]\n",
    "print(numbers.count(2))"
   ]
  },
  {
   "cell_type": "code",
   "execution_count": 218,
   "id": "b3037136",
   "metadata": {},
   "outputs": [
    {
     "name": "stdout",
     "output_type": "stream",
     "text": [
      "['apples', 'oranges', 'lemons', 'mango', 'passionfruit', 'blueberry', 'strawberry', 'bannanas', 'apricots']\n"
     ]
    }
   ],
   "source": [
    "fruit = ['apples', 'oranges', 'lemons', 'mango', 'passionfruit', 'blueberry', 'strawberry']\n",
    "fruit.extend(['bannanas', 'apricots'])\n",
    "print(fruit)"
   ]
  },
  {
   "cell_type": "code",
   "execution_count": 227,
   "id": "a673821f",
   "metadata": {},
   "outputs": [
    {
     "name": "stdout",
     "output_type": "stream",
     "text": [
      "0\n"
     ]
    }
   ],
   "source": [
    "numbers = [1,2,3,4,5,6,7,8,9,11,12,13,14,15,16,17,18,19,20]\n",
    "print(numbers.index(1))"
   ]
  },
  {
   "cell_type": "code",
   "execution_count": 259,
   "id": "3907173a",
   "metadata": {},
   "outputs": [
    {
     "name": "stdout",
     "output_type": "stream",
     "text": [
      "Constructor C\n",
      "[<class '__main__.C'>, <class '__main__.A'>, <class '__main__.B'>, <class 'object'>]\n"
     ]
    }
   ],
   "source": [
    "class A:\n",
    "    def rk(self):\n",
    "        print(\" In class A\")\n",
    "class B:\n",
    "    def rk(self):\n",
    "        print(\" In class B\")\n",
    "  \n",
    "# classes ordering\n",
    "class C(A, B):\n",
    "    def __init__(self):\n",
    "        print(\"Constructor C\")\n",
    "r = C()\n",
    "print(C.mro())"
   ]
  },
  {
   "cell_type": "code",
   "execution_count": 242,
   "id": "27fc1488",
   "metadata": {},
   "outputs": [
    {
     "name": "stdout",
     "output_type": "stream",
     "text": [
      "20\n"
     ]
    }
   ],
   "source": [
    "numbers = [1,2,3,4,5,6,7,8,9,11,12,13,14,15,16,17,18,19,20]\n",
    "print(numbers.pop())"
   ]
  },
  {
   "cell_type": "code",
   "execution_count": 260,
   "id": "a0ae13e7",
   "metadata": {},
   "outputs": [
    {
     "name": "stdout",
     "output_type": "stream",
     "text": [
      "['strawberry', 'blueberry', 'passionfruit', 'mango', 'lemons', 'oranges', 'apples']\n"
     ]
    }
   ],
   "source": [
    "fruit = ['apples', 'oranges', 'lemons', 'mango', 'passionfruit', 'blueberry', 'strawberry']\n",
    "fruit.reverse()\n",
    "print(fruit)"
   ]
  },
  {
   "cell_type": "code",
   "execution_count": 300,
   "id": "cbce5c5d",
   "metadata": {},
   "outputs": [
    {
     "name": "stdout",
     "output_type": "stream",
     "text": [
      "['banana', 'apple', 3, 10, 78, 5.5, 'apple', [200, 201, 202, 203, 204], 'apple', 'apple', 10.5]\n",
      "['apple']\n",
      "['banana', 3, 10, 78, 5.5, 'apple', [200, 201, 202, 203, 204], 'apple', 'apple', 10.5]\n",
      "['apple', 'apple']\n",
      "['banana', 3, 10, 78, 5.5, [200, 201, 202, 203, 204], 'apple', 'apple', 10.5]\n",
      "['apple', 'apple', 'apple']\n",
      "['banana', 3, 10, 78, 5.5, [200, 201, 202, 203, 204], 'apple', 10.5]\n",
      "['apple', 'apple', 'apple', 'apple']\n",
      "['banana', 3, 10, 78, 5.5, [200, 201, 202, 203, 204], 'apple', 10.5] ['apple', 'apple', 'apple', 'apple', 'apple']\n"
     ]
    }
   ],
   "source": [
    "listThings = ['banana', 'apple', 'apple', 3, 10, 78, 5.5, 'apple', list(range(200,205)), 'apple', 'apple', 10.5]\n",
    "appleList = [ ]\n",
    "listThings.count('apple')\n",
    "\n",
    "while listThings.count('apple')>1:\n",
    "    listThings.remove('apple')\n",
    "    print(listThings)\n",
    "    appleList.append('apple')\n",
    "    print(appleList)\n",
    "\n",
    "if listThings.count('apple')==1:\n",
    "    appleList.append('apple')\n",
    "    print(listThings,\n",
    "          appleList)"
   ]
  },
  {
   "cell_type": "markdown",
   "id": "110466c1",
   "metadata": {},
   "source": [
    "### Tuples\n",
    "Tuples are like lists, except they are 'immutable' or unchangeable once made. Used when you don't expect your data to change, such as a list of country names. They are made using parantheses instead of scquare brackets. "
   ]
  },
  {
   "cell_type": "markdown",
   "id": "d9e4c200",
   "metadata": {},
   "source": [
    "## Week 3\n",
    "### Dictionaries\n",
    "An alternative container type to lists, they allow you to look up data using a key (or a subject). They are an soociative container, not a sequential container as lists are. Seems to be more tibble like in nature. The keys must be immutable (unchanging) so lists cannot be used, but bool, float, string, or integers are fine to use. To create keys:"
   ]
  },
  {
   "cell_type": "code",
   "execution_count": 302,
   "id": "2f59a8c3",
   "metadata": {},
   "outputs": [],
   "source": [
    "attribute_age = {\"John\":52, \"Sam\":21, \"Mike\":18}"
   ]
  },
  {
   "cell_type": "markdown",
   "id": "3aad1862",
   "metadata": {},
   "source": [
    "or"
   ]
  },
  {
   "cell_type": "code",
   "execution_count": 304,
   "id": "984f7148",
   "metadata": {},
   "outputs": [],
   "source": [
    "attribute = dict(John = 52, Sam = 21, Mike = 18)"
   ]
  },
  {
   "cell_type": "code",
   "execution_count": 309,
   "id": "c23d1d46",
   "metadata": {},
   "outputs": [
    {
     "name": "stdout",
     "output_type": "stream",
     "text": [
      "{'Vic': 'Melb', 'SA': 'Adelaide', 'WA': 'Perth', 'CA': 'Alice Springs', 'NSW': 'Sydney', 'ACT': 'Canberra', 'NT': 'Darwin', 'QL': 'Brisbane', 'TAS': 'Hobart'}\n"
     ]
    }
   ],
   "source": [
    "capital_cities = dict(Vic = 'Melb', \n",
    "                      SA = 'Adelaide', \n",
    "                      WA = 'Perth', \n",
    "                      CA = 'Alice Springs', \n",
    "                      NSW = 'Sydney', \n",
    "                      ACT = 'Canberra', \n",
    "                      NT = 'Darwin', \n",
    "                      QL = 'Brisbane', \n",
    "                      TAS = 'Hobart')\n",
    "print(capital_cities)"
   ]
  },
  {
   "cell_type": "code",
   "execution_count": 317,
   "id": "288b35aa",
   "metadata": {},
   "outputs": [
    {
     "name": "stdout",
     "output_type": "stream",
     "text": [
      "new dictionary:{'entery1': 'first entery', 'entery2': 'second entery'}\n"
     ]
    }
   ],
   "source": [
    "#empty dictionary\n",
    "new_dictionary = dict()\n",
    "\n",
    "#add enteries\n",
    "new_dictionary['entery1'] = \"first entery\"\n",
    "new_dictionary['entery2'] = \"second entery\"\n",
    "\n",
    "#string representation of dictionary with repr()\n",
    "print('new dictionary:' + repr(new_dictionary))\n"
   ]
  },
  {
   "cell_type": "code",
   "execution_count": 321,
   "id": "4b60fccd",
   "metadata": {},
   "outputs": [
    {
     "name": "stdout",
     "output_type": "stream",
     "text": [
      "new dictionary has 2 key:value pairs\n"
     ]
    }
   ],
   "source": [
    "# Length of the dictionary with len()\n",
    "print(\"new dictionary has \" + str(len(new_dictionary))+\" key:value pairs\")"
   ]
  },
  {
   "cell_type": "code",
   "execution_count": 333,
   "id": "b134a467",
   "metadata": {},
   "outputs": [
    {
     "name": "stdout",
     "output_type": "stream",
     "text": [
      "{'entery1': 'first entery', 'entery2': 'second entery'}\n"
     ]
    }
   ],
   "source": [
    "#copy() makes a copy of the dictionary\n",
    "copy_dictionary = new_dictionary.copy()\n",
    "print(copy_dictionary)"
   ]
  },
  {
   "cell_type": "code",
   "execution_count": 329,
   "id": "b3b4faa7",
   "metadata": {},
   "outputs": [
    {
     "name": "stdout",
     "output_type": "stream",
     "text": [
      "copies are equivalent? True\n",
      "are the two dictionaries the same dictionary? False\n"
     ]
    }
   ],
   "source": [
    "#difference between == and is\n",
    "print(\"copies are equivalent?\", new_dictionary == copy_dictionary) #== and != check for key:value pairs\n",
    "print(\"are the two dictionaries the same dictionary?\", new_dictionary is copy_dictionary) #checks origins"
   ]
  },
  {
   "cell_type": "code",
   "execution_count": 334,
   "id": "3a0ad00f",
   "metadata": {},
   "outputs": [
    {
     "name": "stdout",
     "output_type": "stream",
     "text": [
      "second entery\n",
      "{'entery1': 'first entery'}\n"
     ]
    }
   ],
   "source": [
    "#removing elements from the list\n",
    "# pop() removes and prints the value\n",
    "sec_entry = copy_dictionary.pop('entery2')\n",
    "print(sec_entry)\n",
    "print(copy_dictionary)"
   ]
  },
  {
   "cell_type": "code",
   "execution_count": 340,
   "id": "ec854fbd",
   "metadata": {},
   "outputs": [],
   "source": [
    "# del() removes the key without returning the value\n",
    "del copy_dictionary['entery1']"
   ]
  },
  {
   "cell_type": "code",
   "execution_count": 343,
   "id": "39767e7d",
   "metadata": {},
   "outputs": [
    {
     "name": "stdout",
     "output_type": "stream",
     "text": [
      "{}\n",
      "{'entery1': 'first entery', 'entery2': 'second entery'}\n"
     ]
    }
   ],
   "source": [
    "print(copy_dictionary)\n",
    "print(new_dictionary)"
   ]
  },
  {
   "cell_type": "code",
   "execution_count": 345,
   "id": "fd990c02",
   "metadata": {},
   "outputs": [
    {
     "name": "stdout",
     "output_type": "stream",
     "text": [
      "None\n"
     ]
    }
   ],
   "source": [
    "#empty a dictionary with clear()\n",
    "print(new_dictionary.clear())"
   ]
  },
  {
   "cell_type": "code",
   "execution_count": 356,
   "id": "f0f15e47",
   "metadata": {},
   "outputs": [
    {
     "name": "stdout",
     "output_type": "stream",
     "text": [
      "{'one': 3, 'two': 3, 'three': 5, 'four': 4, 'five': 4, 'six': 3, 'seven': 5, 'eight': 5, 'nine': 4, 'ten': 3, 'no': 5}\n",
      "Number of key:value pairs is 11\n",
      "{'one': 3, 'two': 3, 'three': 5, 'four': 4, 'five': 4, 'six': 3, 'seven': 5, 'eight': 5, 'nine': 4, 'ten': 3, 'no': 'no'}\n",
      "{'one': 3, 'two': 3, 'three': 5, 'four': 4, 'five': 4, 'six': 3, 'seven': 5, 'eight': 5, 'nine': 4, 'ten': 3}\n",
      "None\n"
     ]
    }
   ],
   "source": [
    "magic_number = dict(one = 3, two = 3, three = 5, four= 4, five = 4, six = 3, seven = 5, eight = 5, nine = 4, ten = 3, no = 5)\n",
    "print(magic_number)\n",
    "print(\"Number of key:value pairs is \" + str(len(magic_number)))\n",
    "magic_number['no'] = 'no'\n",
    "print(magic_number)\n",
    "del magic_number['no']\n",
    "print(magic_number)\n",
    "print(magic_number.clear())"
   ]
  },
  {
   "cell_type": "code",
   "execution_count": 372,
   "id": "b6d26812",
   "metadata": {},
   "outputs": [
    {
     "name": "stdout",
     "output_type": "stream",
     "text": [
      "Fen isn't here\n"
     ]
    }
   ],
   "source": [
    "test = dict(Dylan = \"bf\", Chloe = \"gf\")\n",
    "# del test['Fen'] leads to an error\n",
    "if \"Fen\" in test:\n",
    "    print(\"Fen is in the dictionary\")\n",
    "    del test['Fen']\n",
    "else:\n",
    "    print(\"Fen isn't here\")\n",
    "    "
   ]
  },
  {
   "cell_type": "code",
   "execution_count": 373,
   "id": "cbcee493",
   "metadata": {},
   "outputs": [
    {
     "name": "stdout",
     "output_type": "stream",
     "text": [
      "{'Dylan': 'bf', 'Chloe': 'gf'}\n",
      "Dylan : bf\n",
      "Chloe : gf\n",
      "\n",
      "Dylan\n",
      "Chloe\n",
      "\n",
      "bf\n",
      "gf\n",
      "\n"
     ]
    }
   ],
   "source": [
    "print(test)\n",
    "# print key:vales with items()\n",
    "for k, v in test.items():\n",
    "    print(k, \":\", v)\n",
    "print()\n",
    "\n",
    "#print keys only with keys()\n",
    "for k in test.keys():\n",
    "    print(k)\n",
    "print()\n",
    "\n",
    "#print values only with values()\n",
    "for v in test.values():\n",
    "    print(v)\n",
    "print()"
   ]
  },
  {
   "cell_type": "code",
   "execution_count": 374,
   "id": "12593555",
   "metadata": {},
   "outputs": [
    {
     "name": "stdout",
     "output_type": "stream",
     "text": [
      "{'Dylan': 'best bf', 'Chloe': 'best gf'}\n"
     ]
    }
   ],
   "source": [
    "#to update a list you make the chang to the key\n",
    "\n",
    "for k in test.keys():\n",
    "    test[k]= \"best \" + test[k] \n",
    "print(test)"
   ]
  },
  {
   "cell_type": "code",
   "execution_count": 387,
   "id": "f7d9f0ec",
   "metadata": {},
   "outputs": [
    {
     "name": "stdout",
     "output_type": "stream",
     "text": [
      "{'Vic': {'avg_rain': '1', 'avg_temp': 'a'}, 'SA': {'avg_rain': '2', 'avg_temp': 'b'}, 'WA': {'avg_rain': '3', 'avg_temp': 'c'}, 'CA': {'avg_rain': '4', 'avg_temp': 'd'}, 'NSW': {'avg_rain': '5', 'avg_temp': 'e'}, 'ACT': {'avg_rain': '6', 'avg_temp': 'f'}, 'NT': {'avg_rain': '7', 'avg_temp': 'g'}, 'QL': {'avg_rain': '8', 'avg_temp': 'h'}, 'TAS': {'avg_rain': '9', 'avg_temp': 'i'}}\n",
      "\n",
      "\n",
      "Vic : {'avg_rain': '1', 'avg_temp': 'a'}\n",
      "SA : {'avg_rain': '2', 'avg_temp': 'b'}\n",
      "WA : {'avg_rain': '3', 'avg_temp': 'c'}\n",
      "CA : {'avg_rain': '4', 'avg_temp': 'd'}\n",
      "NSW : {'avg_rain': '5', 'avg_temp': 'e'}\n",
      "ACT : {'avg_rain': '6', 'avg_temp': 'f'}\n",
      "NT : {'avg_rain': '7', 'avg_temp': 'g'}\n",
      "QL : {'avg_rain': '8', 'avg_temp': 'h'}\n",
      "TAS : {'avg_rain': '9', 'avg_temp': 'i'}\n",
      "\n"
     ]
    }
   ],
   "source": [
    "Melb = dict(avg_rain = '1', avg_temp = 'a')\n",
    "Adelaide = dict(avg_rain = '2', avg_temp = 'b')\n",
    "Perth = dict(avg_rain = '3', avg_temp = 'c')\n",
    "Alice_Springs = dict(avg_rain = '4', avg_temp = 'd')\n",
    "Sydney = dict(avg_rain = '5', avg_temp = 'e')\n",
    "Canberra = dict(avg_rain = '6', avg_temp = 'f')\n",
    "Darwin = dict(avg_rain = '7', avg_temp = 'g')\n",
    "Brisbane = dict(avg_rain = '8', avg_temp = 'h')\n",
    "Hobart = dict(avg_rain = '9', avg_temp = 'i')\n",
    "capital_cities = dict(Vic = Melb, \n",
    "                      SA = Adelaide, \n",
    "                      WA = Perth, \n",
    "                      CA = Alice_Springs, \n",
    "                      NSW = Sydney, \n",
    "                      ACT = Canberra, \n",
    "                      NT = Darwin, \n",
    "                      QL = Brisbane, \n",
    "                      TAS = Hobart)\n",
    "print(capital_cities)\n",
    "print(\"\\n\")\n",
    "for k,v in capital_cities.items():\n",
    "    print(k, \":\", v)\n",
    "print()\n"
   ]
  },
  {
   "cell_type": "markdown",
   "id": "e5601402",
   "metadata": {},
   "source": [
    "### Reading files\n",
    "So far we can create variables, and create input data, but you can also take data from other sources.\n",
    "The formats data files usually take are in binary or text.\n",
    "When its in binary, you want to convert the file into a text file. But you need to understand its format.\n",
    "For example, CSVs are comma sepereated values, meaning we know a comma seperates the values. \n",
    "to open files:\n"
   ]
  },
  {
   "cell_type": "code",
   "execution_count": 398,
   "id": "44a8cfb2",
   "metadata": {},
   "outputs": [],
   "source": [
    "data = open('customer-1.csv')    #Must be in the same directory file, otherwise need to give full directory address"
   ]
  },
  {
   "cell_type": "code",
   "execution_count": 399,
   "id": "19617d89",
   "metadata": {},
   "outputs": [
    {
     "name": "stdout",
     "output_type": "stream",
     "text": [
      "['ï»¿name', 'age', 'postcode']\n",
      "['John', '52', '5002']\n",
      "['Ye', '18', '3005']\n",
      "['Siobhan', '34', '2356']\n"
     ]
    }
   ],
   "source": [
    "#for lists\n",
    "import csv \n",
    "reader = csv.reader(data)\n",
    "\n",
    "for row in reader:\n",
    "    print(row)\n",
    "\n",
    "data.close()"
   ]
  },
  {
   "cell_type": "code",
   "execution_count": 639,
   "id": "f62fe4f6",
   "metadata": {},
   "outputs": [
    {
     "name": "stdout",
     "output_type": "stream",
     "text": [
      "['ï»¿name', 'age', 'postcode']\n",
      "['John', '52', '5002']\n",
      "['Ye', '18', '3005']\n",
      "['Siobhan', '34', '2356']\n"
     ]
    }
   ],
   "source": [
    "#safer way, if there is an error in reading or writing, python will automatically close the file\n",
    "import csv\n",
    "\n",
    "with open('customer-1.csv') as data:\n",
    "    reader = csv.reader(data)\n",
    "    for row in reader:\n",
    "        print(row)"
   ]
  },
  {
   "cell_type": "code",
   "execution_count": 405,
   "id": "310e3a78",
   "metadata": {},
   "outputs": [
    {
     "name": "stdout",
     "output_type": "stream",
     "text": [
      "{'ï»¿name': 'John', 'age': '52', 'postcode': '5002'}\n",
      "{'ï»¿name': 'Ye', 'age': '18', 'postcode': '3005'}\n",
      "{'ï»¿name': 'Siobhan', 'age': '34', 'postcode': '2356'}\n"
     ]
    }
   ],
   "source": [
    "#For dictionaries\n",
    "import csv\n",
    "\n",
    "with open('customer-1.csv') as data:\n",
    "    dreader = csv.DictReader(data)\n",
    "    for row in dreader:\n",
    "        print(row)"
   ]
  },
  {
   "cell_type": "code",
   "execution_count": 409,
   "id": "b2a95126",
   "metadata": {
    "scrolled": true
   },
   "outputs": [
    {
     "name": "stdout",
     "output_type": "stream",
     "text": [
      "{'name': 'John', 'age': '52', 'postcode': '5002'}\n",
      "{'name': 'Ye', 'age': '18', 'postcode': '3005'}\n",
      "{'name': 'Siobhan', 'age': '34', 'postcode': '2356'}\n"
     ]
    }
   ],
   "source": [
    "# to remove the weird characters that are about encoding:\n",
    "#google the encoding type and place that in the open()\n",
    "import csv\n",
    "\n",
    "with open('customer-1.csv', encoding = 'utf-8-sig') as data:\n",
    "    dreader = csv.DictReader(data)\n",
    "    for row in dreader:\n",
    "        print(row)\n",
    "    "
   ]
  },
  {
   "cell_type": "code",
   "execution_count": 428,
   "id": "1cc46c36",
   "metadata": {},
   "outputs": [
    {
     "name": "stdout",
     "output_type": "stream",
     "text": [
      "Dylan\n",
      "male\n",
      "24\n",
      "Tara\n",
      "female\n",
      "23\n",
      "Patrick\n",
      "male\n",
      "21\n",
      "Shae\n",
      "female\n",
      "20\n"
     ]
    }
   ],
   "source": [
    "import csv\n",
    "\n",
    "data= []\n",
    "\n",
    "with open('practice.csv') as datafile:\n",
    "    dreader = csv.DictReader(datafile)\n",
    "    for row in dreader:\n",
    "        data.append(row)\n",
    "        \n",
    "for element in data:\n",
    "    for value in element.values():\n",
    "        print(value)\n",
    "    "
   ]
  },
  {
   "cell_type": "code",
   "execution_count": 634,
   "id": "3c4394c8",
   "metadata": {},
   "outputs": [],
   "source": [
    "# writing csv files from lists\n",
    "import csv\n",
    "\n",
    "data = [['name','age','postcode'],\n",
    "['John', 52, 5002],\n",
    "['Ye', 18, 3005],\n",
    "['Siobhan', 34, 2356]]\n",
    "\n",
    "with open('writing_file.csv', 'w') as file:\n",
    "    writer = csv.writer(file)\n",
    "    writer.writerows(data)\n",
    "\n",
    "# writing csv files from dictionaries\n",
    "import csv\n",
    "\n",
    "data = [{'name':'John', 'age':52, 'postcode':5002},\n",
    "        {'name':'Ye','age':18, 'postcode':3005},\n",
    "        {'name':'Siobhan', 'age':34, 'postcode':2356}\n",
    "       ]\n",
    "\n",
    "header = ['name','age','postcode']\n",
    "\n",
    "with open('dict_file.csv','w') as file:\n",
    "    # note when you create the DictWriter, you need to give the headers\n",
    "    writer = csv.DictWriter(file,header)\n",
    "    \n",
    "    # with DictWriter you need to write the headers first and then write the rows\n",
    "    writer.writeheader()\n",
    "    for dictionary in data:\n",
    "        writer.writerow(dictionary)"
   ]
  },
  {
   "cell_type": "markdown",
   "id": "410cd685",
   "metadata": {},
   "source": [
    "### Creating a function\n",
    "\n",
    "The benefit of functions is it enables you to reduce mistakes. If a msitake is made, fix the code once and re run  and it will be fixed in all occurrences. It also makes code easier to read.\n",
    "\n",
    "Considerations:\n",
    "1. simple but descriptive name\n",
    "1. what arguments to pass to the function\n",
    "1. its purpose\n",
    "1. what the function will return\n"
   ]
  },
  {
   "cell_type": "code",
   "execution_count": 434,
   "id": "90e1bf80",
   "metadata": {},
   "outputs": [
    {
     "ename": "SyntaxError",
     "evalue": "invalid syntax (Temp/ipykernel_7616/2093512811.py, line 1)",
     "output_type": "error",
     "traceback": [
      "\u001b[1;36m  File \u001b[1;32m\"C:\\Users\\rohad\\AppData\\Local\\Temp/ipykernel_7616/2093512811.py\"\u001b[1;36m, line \u001b[1;32m1\u001b[0m\n\u001b[1;33m    def function_name(paramater1, paramater2, ....):   #code to run\u001b[0m\n\u001b[1;37m                                              ^\u001b[0m\n\u001b[1;31mSyntaxError\u001b[0m\u001b[1;31m:\u001b[0m invalid syntax\n"
     ]
    }
   ],
   "source": [
    "def function_name(paramater1, paramater2, ...., default = \"whatever the default is\"):   #code to run\n",
    "    #If multiple paramaters use * or ** for lists and directories respectively"
   ]
  },
  {
   "cell_type": "code",
   "execution_count": 442,
   "id": "782683a2",
   "metadata": {},
   "outputs": [],
   "source": [
    "def max_value(num1, num2):\n",
    "    if num1 > num2:\n",
    "        return num1\n",
    "    return num2"
   ]
  },
  {
   "cell_type": "code",
   "execution_count": 444,
   "id": "ab74c82f",
   "metadata": {},
   "outputs": [
    {
     "name": "stdout",
     "output_type": "stream",
     "text": [
      "2\n",
      "2\n"
     ]
    }
   ],
   "source": [
    "print(max_value(1,2))\n",
    "print(max_value(2,1))"
   ]
  },
  {
   "cell_type": "code",
   "execution_count": 446,
   "id": "387c0eeb",
   "metadata": {},
   "outputs": [],
   "source": [
    "def min_value(num1, num2):\n",
    "    if num1 < num2:\n",
    "        return num1\n",
    "    return num2"
   ]
  },
  {
   "cell_type": "code",
   "execution_count": 448,
   "id": "19705051",
   "metadata": {},
   "outputs": [
    {
     "name": "stdout",
     "output_type": "stream",
     "text": [
      "1\n",
      "1\n"
     ]
    }
   ],
   "source": [
    "print(min_value(1,2))\n",
    "print(min_value(2,1))"
   ]
  },
  {
   "cell_type": "code",
   "execution_count": 469,
   "id": "0c8bb73d",
   "metadata": {},
   "outputs": [],
   "source": [
    "def quadratic(a,b,c,x):\n",
    "    return(a*(x)**2+(b)*x+c)"
   ]
  },
  {
   "cell_type": "code",
   "execution_count": 471,
   "id": "d5988b55",
   "metadata": {},
   "outputs": [
    {
     "data": {
      "text/plain": [
       "3"
      ]
     },
     "execution_count": 471,
     "metadata": {},
     "output_type": "execute_result"
    }
   ],
   "source": [
    "quadratic(2,-1,2,1)"
   ]
  },
  {
   "cell_type": "code",
   "execution_count": 514,
   "id": "376b706c",
   "metadata": {},
   "outputs": [
    {
     "name": "stdout",
     "output_type": "stream",
     "text": [
      "['h', 'e', 'l', 'l', 'o']\n"
     ]
    }
   ],
   "source": [
    "def explode(s):\n",
    "    characters=[]\n",
    "    for t in s:\n",
    "        characters.append(t)\n",
    "    return(characters)\n",
    "print(explode(\"hello\"))"
   ]
  },
  {
   "cell_type": "code",
   "execution_count": 526,
   "id": "e740c6e3",
   "metadata": {},
   "outputs": [],
   "source": [
    "testlist = ['h', 'e', 'l', 'l', 'o']"
   ]
  },
  {
   "cell_type": "code",
   "execution_count": 530,
   "id": "b791cede",
   "metadata": {},
   "outputs": [
    {
     "name": "stdout",
     "output_type": "stream",
     "text": [
      "hello\n"
     ]
    }
   ],
   "source": [
    "def implode(lst):\n",
    "    s = \"\"\n",
    "    for t in lst:\n",
    "        s = s + t\n",
    "    return(s)\n",
    "print(implode(testlist))"
   ]
  },
  {
   "cell_type": "markdown",
   "id": "99e59ff5",
   "metadata": {},
   "source": [
    "### Scope\n",
    "LEGB\n",
    "1. local scope - anything indented within the body of the function\n",
    "1. Enclosing scope - variables defined outside the function. Not usually included because the can vary. Always overrided by local scope (parameters)\n",
    "1. Global scope - no local copy exists that can be used.\n",
    "1. built-in scope - built in variables and functions that are intrinsic in python."
   ]
  },
  {
   "cell_type": "code",
   "execution_count": 587,
   "id": "382658be",
   "metadata": {},
   "outputs": [],
   "source": [
    "def evenlyDivides(x,y):\n",
    "    dividesIt =False\n",
    "    if y % x == 0:\n",
    "        dividesIt =True\n",
    "    return(dividesIt)\n",
    "    x=int(input(\"Please enter an integer:\"))\n",
    "    y=int(input(\"Please enter another integer:\"))\n",
    "    if evenlyDivides(x,y):\n",
    "        print(x,\"evenly divides\",y)\n",
    "    else:\n",
    "            print(x,\"does not evenly divide\",y)\n"
   ]
  },
  {
   "cell_type": "code",
   "execution_count": 590,
   "id": "d5309dc0",
   "metadata": {},
   "outputs": [
    {
     "data": {
      "text/plain": [
       "False"
      ]
     },
     "execution_count": 590,
     "metadata": {},
     "output_type": "execute_result"
    }
   ],
   "source": [
    "def evenlydivideslist(x, lst):\n",
    "    for e in lst:\n",
    "        if not evenlyDivides(x, e):\n",
    "            return(False)\n",
    "    return(True)\n",
    "        \n",
    "lst = [2,4,6,15,10]\n",
    "evenlydivideslist(2,lst)"
   ]
  },
  {
   "cell_type": "code",
   "execution_count": 608,
   "id": "8585a3f3",
   "metadata": {},
   "outputs": [
    {
     "ename": "SyntaxError",
     "evalue": "invalid character '‘' (U+2018) (Temp/ipykernel_7616/1875209225.py, line 3)",
     "output_type": "error",
     "traceback": [
      "\u001b[1;36m  File \u001b[1;32m\"C:\\Users\\rohad\\AppData\\Local\\Temp/ipykernel_7616/1875209225.py\"\u001b[1;36m, line \u001b[1;32m3\u001b[0m\n\u001b[1;33m    if units == ‘mg/dL’ and value <=125 and value >=61 or units == ‘mmol/L’ and value <= 125/18 and value >= 61/18\u001b[0m\n\u001b[1;37m                ^\u001b[0m\n\u001b[1;31mSyntaxError\u001b[0m\u001b[1;31m:\u001b[0m invalid character '‘' (U+2018)\n"
     ]
    }
   ],
   "source": [
    "values = [67, 88, 99, 120]\n",
    "\n",
    "if units == ‘mg/dL’ and value <=125 and value >=61 or units == ‘mmol/L’ and value <= 125/18 and value >= 61/18\n",
    "if value in values >= 61 and values <= 125:\n",
    "    print(\"True\")\n",
    "else:\n",
    "    print(\"false\")"
   ]
  },
  {
   "cell_type": "code",
   "execution_count": 622,
   "id": "636b7841",
   "metadata": {},
   "outputs": [
    {
     "name": "stdout",
     "output_type": "stream",
     "text": [
      "73\n"
     ]
    }
   ],
   "source": [
    "week2 = \"73 mg/dL\"\n",
    "(num, space, unit) = week2.partition(' ')\n",
    "number = int(num)\n",
    "print(number)"
   ]
  },
  {
   "cell_type": "code",
   "execution_count": 633,
   "id": "f521e46f",
   "metadata": {},
   "outputs": [
    {
     "name": "stdout",
     "output_type": "stream",
     "text": [
      "7 14\n"
     ]
    }
   ],
   "source": [
    "def double (num1):\n",
    "    return(num1*2)\n",
    "    \n",
    "num1 = 7\n",
    "num2 = double(num1)\n",
    "print (num1,  num2)"
   ]
  }
 ],
 "metadata": {
  "kernelspec": {
   "display_name": "Python 3 (ipykernel)",
   "language": "python",
   "name": "python3"
  },
  "language_info": {
   "codemirror_mode": {
    "name": "ipython",
    "version": 3
   },
   "file_extension": ".py",
   "mimetype": "text/x-python",
   "name": "python",
   "nbconvert_exporter": "python",
   "pygments_lexer": "ipython3",
   "version": "3.9.7"
  }
 },
 "nbformat": 4,
 "nbformat_minor": 5
}
