{
 "cells": [
  {
   "cell_type": "markdown",
   "id": "41a82d3a",
   "metadata": {},
   "source": [
    "<div style=\"text-align: right\"> Dylan Rohan - a1844790 </div>\n",
    "\n",
    "***"
   ]
  },
  {
   "cell_type": "markdown",
   "id": "f976af9c",
   "metadata": {},
   "source": [
    "## Assessment 1: Part A - Practical 3"
   ]
  },
  {
   "cell_type": "markdown",
   "id": "c7f4a6a6",
   "metadata": {},
   "source": [
    "### Q1: Reading data from files \n",
    "1. Read the data in the file weatherAUS.csv into a Python dictionary \n",
    "2. Show the first 5 lines to show that the data has been read in \n"
   ]
  },
  {
   "cell_type": "markdown",
   "id": "de130fcf",
   "metadata": {},
   "source": [
    "Below you will find the code necessary to complete the tasks in question 1: Reading data from files. I have provided two other methods because I came across them. The first attempt involved using the itertool module, but that seemed to slice my dictionary into multiple dictionaries (one slice per row). The pandas module seems to have provided a much more user friendly view of he first five rows of the dictionary without needing to seperate the dictionary, but isn't the way the course taught us. The first method presented below is the way the course expected the file to be uploaded. \n",
    "\n",
    "This used the CSV module and read the first row of the csv to obtain the keys and then each subsequent row provided the values that associated with that key for that day."
   ]
  },
  {
   "cell_type": "code",
   "execution_count": 3,
   "id": "d354d459",
   "metadata": {
    "scrolled": false
   },
   "outputs": [],
   "source": [
    "# Importing modules needed for importing CSV and printing first 5 lines \n",
    "import csv\n",
    "aus_weather=[]\n",
    "\n",
    "# reading the file\n",
    "with open('weatherAUS-1.csv', mode = 'r') as file:\n",
    "    dict_reader = csv.DictReader(file)\n",
    "    \n",
    "    for row in dict_reader:\n",
    "        aus_weather.append(row)\n",
    "    \n",
    "#printing first 5 lines\n"
   ]
  },
  {
   "cell_type": "code",
   "execution_count": null,
   "id": "8b330e8b",
   "metadata": {
    "scrolled": false
   },
   "outputs": [],
   "source": [
    "#Alternative 2 - Importing the 5 rows with pandas\n",
    "import pandas as pd\n",
    "pandas_ausweather = pd.read_csv(\"weatherAUS-1.csv\",)\n",
    "# to view the whole dictionary use:\n",
    "#print(pandas_ausweather)\n",
    "\n",
    "# to view the first five rows\n",
    "view = pd.read_csv(\"weatherAUS-1.csv\", nrows=5)\n",
    "print(view)"
   ]
  },
  {
   "cell_type": "code",
   "execution_count": null,
   "id": "b8336415",
   "metadata": {},
   "outputs": [],
   "source": [
    "jupyter notebook --NotebookApp.iopub_data_rate_limit=1.0e10 "
   ]
  },
  {
   "cell_type": "code",
   "execution_count": null,
   "id": "940c288c",
   "metadata": {},
   "outputs": [
    {
     "name": "stderr",
     "output_type": "stream",
     "text": [
      "IOPub data rate exceeded.\n",
      "The notebook server will temporarily stop sending output\n",
      "to the client in order to avoid crashing it.\n",
      "To change this limit, set the config variable\n",
      "`--NotebookApp.iopub_data_rate_limit`.\n",
      "\n",
      "Current values:\n",
      "NotebookApp.iopub_data_rate_limit=1000000.0 (bytes/sec)\n",
      "NotebookApp.rate_limit_window=3.0 (secs)\n",
      "\n"
     ]
    }
   ],
   "source": [
    "# Alternative 2:\n",
    "test=list()\n",
    "#Importing modules needed for importing CSV and printing first 5 lines \n",
    "import csv\n",
    "from itertools import islice\n",
    "\n",
    "# reading the file and keeping a copy of the list of dictionaries created for each subject\n",
    "with open('weatherAUS-1.csv') as data:\n",
    "    weather_dictionary = csv.DictReader(data)\n",
    "    for row in weather_dictionary:\n",
    "        test.append(row)\n",
    "        print(test)\n",
    "# telling python to only print the first 5 rows of the dictionary\n",
    "    for row in islice(weather_dictionary, 5):\n",
    "        print(row)\n",
    "        "
   ]
  },
  {
   "cell_type": "markdown",
   "id": "572800da",
   "metadata": {},
   "source": [
    "### Q2:  Creating functions \n",
    "1. Write a function called daysOver that takes three arguments: a dictionary, a location (such as ‘Sydney’, ‘Adelaide’,etc) and a temperature and returns the number of days that were over the given temperature for the given location. For example, if we call the function using the line:\n",
    "\n",
    "    total = daysOver(dictionaryData, ‘Adelaide’, 40)\n",
    "    \n",
    "    total will hold the number of days that Adelaide had a temperature greater than 40 celsius in  the data. \n",
    "    As a test, there were 54 days over 40 celsius in the data.  Check that total is 54 for the example when you run your code.\n",
    "    \n",
    "    Use the daysOver function to print the number of days over 35 celsius for each of the following cities: 'Adelaide','Perth','Melbourne','Canberra','Sydney','Brisbane','Darwin'. \n",
    "    Which of the Australian cities has the most number of days over 35 celsius? \n",
    "\n",
    "\n",
    "2.  Use the daysOver function to print the number of days over 35 celsius for each of the following cities: 'Adelaide','Perth','Melbourne','Canberra','Sydney','Brisbane','Darwin' \n",
    "\n",
    "\n",
    "3. Which of the Australian cities has the most number of days over 35 celsius? "
   ]
  },
  {
   "cell_type": "code",
   "execution_count": 1,
   "id": "663d6cd6",
   "metadata": {},
   "outputs": [],
   "source": [
    "def daysOver(Temp_input, *Location, **Dictionary):\n",
    "    list2 = list(Dictionary)\n",
    "    for key, val in list2.items():\n",
    "        if not val == Location:\n",
    "            del()\n",
    "            if not Temp_input < list2[MaxTemp]:\n",
    "                del()\n",
    "                print(lsit2)              "
   ]
  },
  {
   "cell_type": "code",
   "execution_count": 380,
   "id": "2ae1ebbc",
   "metadata": {},
   "outputs": [],
   "source": [
    "occurences = list()\n",
    "\n",
    "def daysOver(Temp_input, *Location, **Dictionary):\n",
    "    for entry in Dictionary:\n",
    "        if (entry[Location] == Location)and entry[MaxTemp] > Max_input:\n",
    "            occurences.append(entry)\n",
    "            print(\"Occurences Identified:\\n\", occurences)\n",
    "            print()\n",
    "            print(\"total occurences = \" + len(occurences))    "
   ]
  },
  {
   "cell_type": "code",
   "execution_count": null,
   "id": "d208ba75",
   "metadata": {},
   "outputs": [],
   "source": [
    "def daysOver(Temp_input, *Location, **Dictionary):\n",
    "    occurences = next(dictionary for dictionary in Dictionary if dictionary[Location] == Location)"
   ]
  },
  {
   "cell_type": "code",
   "execution_count": 4,
   "id": "5a35771b",
   "metadata": {},
   "outputs": [
    {
     "ename": "NameError",
     "evalue": "name 'aus_weather' is not defined",
     "output_type": "error",
     "traceback": [
      "\u001b[1;31m---------------------------------------------------------------------------\u001b[0m",
      "\u001b[1;31mNameError\u001b[0m                                 Traceback (most recent call last)",
      "\u001b[1;32m~\\AppData\\Local\\Temp/ipykernel_3160/1680099944.py\u001b[0m in \u001b[0;36m<module>\u001b[1;34m\u001b[0m\n\u001b[1;32m----> 1\u001b[1;33m \u001b[0mdaysOver\u001b[0m\u001b[1;33m(\u001b[0m\u001b[1;36m40\u001b[0m\u001b[1;33m,\u001b[0m \u001b[1;34m'Adelaide'\u001b[0m\u001b[1;33m,\u001b[0m \u001b[0maus_weather\u001b[0m\u001b[1;33m)\u001b[0m\u001b[1;33m\u001b[0m\u001b[1;33m\u001b[0m\u001b[0m\n\u001b[0m",
      "\u001b[1;31mNameError\u001b[0m: name 'aus_weather' is not defined"
     ]
    }
   ],
   "source": [
    "daysOver(40, 'Adelaide', aus_weather)"
   ]
  },
  {
   "cell_type": "code",
   "execution_count": null,
   "id": "53614a7a",
   "metadata": {},
   "outputs": [],
   "source": [
    "\n",
    "    \n",
    "    i=0\n",
    "    for Location in Dictionary.keys():\n",
    "    # Take those rows\n",
    "        location_occurrences.append(row) \n",
    "        i+=1  \n",
    "        for MaxTemp in location_occurrence:\n",
    "            if Dictionary.keys(Location) == Location and dictionary.values(MaxTemp) > Temp_input:\n",
    "                days_above_temp = 0\n",
    "               "
   ]
  },
  {
   "cell_type": "markdown",
   "id": "022cec03",
   "metadata": {},
   "source": [
    "### Q3:  Creating data files with functions \n",
    "1. Write a function called writeTempsData that takes 3 arguments: a dictionary, a filename and a temperature. This function should iterate over the cities: 'Adelaide','Perth','Melbourne','Canberra','Sydney','Brisbane','Darwin' and call daysOver to build a dictionary entry for each city and its count of days over the given temperature and write this dictionary to the specified file in csv format. \n",
    " \n",
    "    The file when finished should look like (assuming 40 is passed in as the temperature argument): \n",
    "    City,Temp Count \n",
    "    Adelaide,54 \n",
    "    Perth,28 \n",
    "    Melbourne,16 \n",
    "    Canberra,6 \n",
    "    Sydney,7 \n",
    "    Brisbane,0 \n",
    "    Darwin,0 "
   ]
  }
 ],
 "metadata": {
  "kernelspec": {
   "display_name": "Python 3 (ipykernel)",
   "language": "python",
   "name": "python3"
  },
  "language_info": {
   "codemirror_mode": {
    "name": "ipython",
    "version": 3
   },
   "file_extension": ".py",
   "mimetype": "text/x-python",
   "name": "python",
   "nbconvert_exporter": "python",
   "pygments_lexer": "ipython3",
   "version": "3.9.7"
  }
 },
 "nbformat": 4,
 "nbformat_minor": 5
}
