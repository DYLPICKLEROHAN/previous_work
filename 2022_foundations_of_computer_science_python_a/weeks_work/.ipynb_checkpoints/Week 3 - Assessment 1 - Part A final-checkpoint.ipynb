{
 "cells": [
  {
   "cell_type": "markdown",
   "id": "2d196826",
   "metadata": {},
   "source": [
    "Dylan Rohan - a1844790\n",
    "***\n"
   ]
  },
  {
   "cell_type": "markdown",
   "id": "4f87d7be",
   "metadata": {},
   "source": [
    "## Assessment 1: Part A - Practical 3\n"
   ]
  },
  {
   "cell_type": "markdown",
   "id": "b82187f5",
   "metadata": {},
   "source": [
    "### Q1: Reading data from files \n",
    "Below you will find the code that reads in the CSV file using the CSV module. As requested the first five lines have been printed using the islice function from the itertool module:"
   ]
  },
  {
   "cell_type": "code",
   "execution_count": 1,
   "id": "8f707812",
   "metadata": {
    "scrolled": true
   },
   "outputs": [
    {
     "name": "stdout",
     "output_type": "stream",
     "text": [
      "{'Date': '1/12/08', 'Location': 'Albury', 'MinTemp': '13.4', 'MaxTemp': '22.9', 'Rainfall': '0.6', 'Evaporation': 'NA', 'Sunshine': 'NA', 'WindGustDir': 'W', 'WindGustSpeed': '44', 'WindDir9am': 'W', 'WindDir3pm': 'WNW', 'WindSpeed9am': '20', 'WindSpeed3pm': '24', 'Humidity9am': '71', 'Humidity3pm': '22', 'Pressure9am': '1007.7', 'Pressure3pm': '1007.1', 'Cloud9am': '8', 'Cloud3pm': 'NA', 'Temp9am': '16.9', 'Temp3pm': '21.8', 'RainToday': 'No', 'RISK_MM': '0', 'RainTomorrow': 'No'}\n",
      "{'Date': '2/12/08', 'Location': 'Albury', 'MinTemp': '7.4', 'MaxTemp': '25.1', 'Rainfall': '0', 'Evaporation': 'NA', 'Sunshine': 'NA', 'WindGustDir': 'WNW', 'WindGustSpeed': '44', 'WindDir9am': 'NNW', 'WindDir3pm': 'WSW', 'WindSpeed9am': '4', 'WindSpeed3pm': '22', 'Humidity9am': '44', 'Humidity3pm': '25', 'Pressure9am': '1010.6', 'Pressure3pm': '1007.8', 'Cloud9am': 'NA', 'Cloud3pm': 'NA', 'Temp9am': '17.2', 'Temp3pm': '24.3', 'RainToday': 'No', 'RISK_MM': '0', 'RainTomorrow': 'No'}\n",
      "{'Date': '3/12/08', 'Location': 'Albury', 'MinTemp': '12.9', 'MaxTemp': '25.7', 'Rainfall': '0', 'Evaporation': 'NA', 'Sunshine': 'NA', 'WindGustDir': 'WSW', 'WindGustSpeed': '46', 'WindDir9am': 'W', 'WindDir3pm': 'WSW', 'WindSpeed9am': '19', 'WindSpeed3pm': '26', 'Humidity9am': '38', 'Humidity3pm': '30', 'Pressure9am': '1007.6', 'Pressure3pm': '1008.7', 'Cloud9am': 'NA', 'Cloud3pm': '2', 'Temp9am': '21', 'Temp3pm': '23.2', 'RainToday': 'No', 'RISK_MM': '0', 'RainTomorrow': 'No'}\n",
      "{'Date': '4/12/08', 'Location': 'Albury', 'MinTemp': '9.2', 'MaxTemp': '28', 'Rainfall': '0', 'Evaporation': 'NA', 'Sunshine': 'NA', 'WindGustDir': 'NE', 'WindGustSpeed': '24', 'WindDir9am': 'SE', 'WindDir3pm': 'E', 'WindSpeed9am': '11', 'WindSpeed3pm': '9', 'Humidity9am': '45', 'Humidity3pm': '16', 'Pressure9am': '1017.6', 'Pressure3pm': '1012.8', 'Cloud9am': 'NA', 'Cloud3pm': 'NA', 'Temp9am': '18.1', 'Temp3pm': '26.5', 'RainToday': 'No', 'RISK_MM': '1', 'RainTomorrow': 'No'}\n",
      "{'Date': '5/12/08', 'Location': 'Albury', 'MinTemp': '17.5', 'MaxTemp': '32.3', 'Rainfall': '1', 'Evaporation': 'NA', 'Sunshine': 'NA', 'WindGustDir': 'W', 'WindGustSpeed': '41', 'WindDir9am': 'ENE', 'WindDir3pm': 'NW', 'WindSpeed9am': '7', 'WindSpeed3pm': '20', 'Humidity9am': '82', 'Humidity3pm': '33', 'Pressure9am': '1010.8', 'Pressure3pm': '1006', 'Cloud9am': '7', 'Cloud3pm': '8', 'Temp9am': '17.8', 'Temp3pm': '29.7', 'RainToday': 'No', 'RISK_MM': '0.2', 'RainTomorrow': 'No'}\n"
     ]
    }
   ],
   "source": [
    "#Importing the modules to read and display the first five rows of the nested dictionary\n",
    "import csv\n",
    "from itertools import islice\n",
    "\n",
    "# Question 1.a: Reading the file with DictReader() \n",
    "with open('weatherAus-1.csv') as file:\n",
    "    dreader = csv.DictReader(file)\n",
    "    \n",
    "# Question 1.b: Printing only the first 5 rows of the dictionary with islice()\n",
    "    for row in islice(dreader, 5): \n",
    "            print(row)"
   ]
  },
  {
   "cell_type": "markdown",
   "id": "e2479226",
   "metadata": {},
   "source": [
    "### Q2:  Creating functions \n",
    "Below I define a function, daysOver(), that will search through the nested dictionary for enteries that contain a particular location and a MaxTemp over a certain threshold value. I also learned that:\n",
    "- you can't create an error message about the input being input as the wrong type because those paramaters are called before getting to the try-except block.\n",
    "- You cannot define the paramter as a string of itself for the same reason. "
   ]
  },
  {
   "cell_type": "code",
   "execution_count": 2,
   "id": "9d85fe68",
   "metadata": {},
   "outputs": [
    {
     "name": "stdout",
     "output_type": "stream",
     "text": [
      "54\n"
     ]
    }
   ],
   "source": [
    "#Coding for a single instance to get an idea of whats needed in the function:  \n",
    "import csv\n",
    "count = 0\n",
    "with open('weatherAus-1.csv') as file:\n",
    "    dreader = csv.DictReader(file)\n",
    "    for row in dreader:\n",
    "        if (row['MaxTemp'] == 'NA') == False:\n",
    "            if 'Adelaide' == row[\"Location\"] and float(row[\"MaxTemp\"]) > float(40):\n",
    "                count = count + 1\n",
    "    print(count)"
   ]
  },
  {
   "cell_type": "code",
   "execution_count": 3,
   "id": "1b4c5ddb",
   "metadata": {},
   "outputs": [],
   "source": [
    "#Question 2.a: Creating the function\n",
    "\n",
    "# There doesn't appear to be a way to define the paramater to a string of itself, \n",
    "# User will need to put Location in as a string, \n",
    "\n",
    "#NOTE: Couldn't use try-except to warn the user of the error regarding Location not being written as a string\n",
    "#      because the error occurs before the function calls the code block. \n",
    "\n",
    "def daysOver(Temp_input, Location, Dictionary):\n",
    "    count = 0\n",
    "    if (type(Location) == str)== True and (type(Temp_input)==str)==False:\n",
    "        for row in Dictionary:\n",
    "            if (row['MaxTemp'] == 'NA') == False:\n",
    "                if Location == row[\"Location\"]:\n",
    "                    if float(row[\"MaxTemp\"]) > float(Temp_input):\n",
    "                        count = count + 1       \n",
    "    print(\"In\", str(Location), \"there were\", count, \"days recorded over\", Temp_input, \"degrees celcius.\")\n",
    "        "
   ]
  },
  {
   "cell_type": "code",
   "execution_count": 4,
   "id": "91b18825",
   "metadata": {},
   "outputs": [
    {
     "name": "stdout",
     "output_type": "stream",
     "text": [
      "In Adelaide there were 54 days recorded over 40 degrees celcius.\n"
     ]
    }
   ],
   "source": [
    "with open('weatherAus-1.csv') as file:\n",
    "    dreader = csv.DictReader(file)\n",
    "    daysOver(40,'Adelaide' , dreader)\n"
   ]
  },
  {
   "cell_type": "markdown",
   "id": "67d63519",
   "metadata": {},
   "source": [
    "Below I have written the code to find the total number of occurrences in the csv file/ nested dictionary that a particular Location recorded a Maximum temperature of over 35 degrees."
   ]
  },
  {
   "cell_type": "code",
   "execution_count": 7,
   "id": "b472df1a",
   "metadata": {
    "scrolled": true
   },
   "outputs": [
    {
     "name": "stdout",
     "output_type": "stream",
     "text": [
      " Question 2 part b:\n",
      "In Adelaide there were 199 days recorded over 35 degrees celcius.\n",
      "In Perth there were 252 days recorded over 35 degrees celcius.\n",
      "In Melbourne there were 68 days recorded over 35 degrees celcius.\n",
      "In Canberra there were 94 days recorded over 35 degrees celcius.\n",
      "In Sydeny there were 0 days recorded over 35 degrees celcius.\n",
      "In Brisbane there were 28 days recorded over 35 degrees celcius.\n",
      "In Darwin there were 146 days recorded over 35 degrees celcius.\n"
     ]
    }
   ],
   "source": [
    "# Question 2.b\n",
    "print(\" Question 2 part b:\")\n",
    "# For 'Adelaide'\n",
    "with open('weatherAus-1.csv') as file:\n",
    "    dreader = csv.DictReader(file)\n",
    "    daysOver(35, 'Adelaide', dreader)\n",
    "\n",
    "#For 'Perth'\n",
    "with open('weatherAus-1.csv') as file:\n",
    "    dreader = csv.DictReader(file)\n",
    "    daysOver(35, 'Perth', dreader)\n",
    "\n",
    "#For 'Melbourne'\n",
    "with open('weatherAus-1.csv') as file:\n",
    "    dreader = csv.DictReader(file)\n",
    "    daysOver(35, 'Melbourne', dreader)\n",
    "\n",
    "#For 'Canberra'\n",
    "with open('weatherAus-1.csv') as file:\n",
    "    dreader = csv.DictReader(file)\n",
    "    daysOver(35, 'Canberra', dreader)\n",
    "\n",
    "#For 'Sydney'\n",
    "with open('weatherAus-1.csv') as file:\n",
    "    dreader = csv.DictReader(file)\n",
    "    daysOver(35, 'Sydeny', dreader)\n",
    "\n",
    "#For 'Brisbane'\n",
    "with open('weatherAus-1.csv') as file:\n",
    "    dreader = csv.DictReader(file)\n",
    "    daysOver(35, 'Brisbane', dreader)\n",
    "\n",
    "#For 'Darwin' \n",
    "with open('weatherAus-1.csv') as file:\n",
    "    dreader = csv.DictReader(file)\n",
    "    daysOver(35, 'Darwin', dreader)\n"
   ]
  },
  {
   "cell_type": "markdown",
   "id": "c32655d1",
   "metadata": {},
   "source": [
    "Below I have written the code to determine which Location had the most days over 35 degrees. In order to do this I had to alter the daysOver() function so that it instead uses loops that assembles a dictionary. \n",
    "\n",
    "This improvement was made after begining question 3. Look there for more details on the process."
   ]
  },
  {
   "cell_type": "code",
   "execution_count": 11,
   "id": "146afd74",
   "metadata": {},
   "outputs": [
    {
     "name": "stdout",
     "output_type": "stream",
     "text": [
      "Question 2 part c:\n",
      "defining  Adelaide\n",
      "defining  Perth\n",
      "defining  Melbourne\n",
      "defining  Canberra\n",
      "defining  Sydney\n",
      "defining  Brisbane\n",
      "defining  Darwin\n",
      "{'Adelaide': 199, 'Perth': 252, 'Melbourne': 68, 'Canberra': 94, 'Sydney': 37, 'Brisbane': 28, 'Darwin': 146}\n",
      "\n",
      "Using the max() function, the City with the most days over 35 degress celcius was:\n",
      "Perth\n"
     ]
    }
   ],
   "source": [
    "# Question 2.c\n",
    "print('Question 2 part c:')\n",
    "\n",
    "#redefining daysOver() to better answer this and the next few questions:\n",
    "def daysOver(temperature, Location, Dictionary):\n",
    "    instances_of_interest = []\n",
    "    cities = ['Adelaide','Perth','Melbourne','Canberra','Sydney','Brisbane', 'Darwin']\n",
    "    for row in Dictionary:\n",
    "        if row['MaxTemp'] != 'NA' and temperature < float(row[\"MaxTemp\"]):\n",
    "            for city in cities:\n",
    "                if row['Location'] ==str(city):\n",
    "                    instances_of_interest.append(row[\"Location\"])\n",
    "    count_data = {city : instances_of_interest.count(city) for city in cities}\n",
    "    print(count_data)\n",
    "    return count_data\n",
    "\n",
    "\n",
    "# The code above was created in question 3, This question is now far simpler to answer.\n",
    "# Here I read in the weatherAUS-1.CSV file and create the lists required\n",
    "import csv\n",
    "with open('weatherAus-1.csv') as file:\n",
    "    dreader = csv.DictReader(file)\n",
    "    cities = ['Adelaide','Perth','Melbourne','Canberra','Sydney','Brisbane', 'Darwin']\n",
    "    \n",
    "# Using the redefined function daysOver(), I create a dictionary of occurrences    \n",
    "    for city in cities:\n",
    "        print(\"defining \", city)\n",
    "    if city in cities:                 \\\n",
    "        count_data = daysOver(35, city, dreader)\n",
    "\n",
    "# Finding the key that is paired with the largest value in the dictionary        \n",
    "    maximum_value = max(count_data, key = count_data.get)\n",
    "    \n",
    "# Presenting the output to the user   \n",
    "    print(\"\\nUsing the max() function, the City with the most days over 35 degress celcius was:\")\n",
    "    print(maximum_value)"
   ]
  },
  {
   "cell_type": "markdown",
   "id": "ca492b10",
   "metadata": {},
   "source": [
    "### Q3: Creating data files and functions"
   ]
  },
  {
   "cell_type": "markdown",
   "id": "8a58e548",
   "metadata": {},
   "source": [
    "This section marked quite a large learning curve for me. I had to do a lot of research to really understand what each function was doing and how it behaved. Initially I just wanted to read the CSV file provided and get an output showing the frequency of a temperature event in each of the following cities:'Adelaide','Perth','Melbourne','Canberra','Sydney','Brisbane', and 'Darwin'. I wasn't having much luck with the first version of the daysOver() function, so using techniques I properly understood I went about answering the question and thinking of ways to improve the daysOver() function:"
   ]
  },
  {
   "cell_type": "code",
   "execution_count": 12,
   "id": "cdee74fb",
   "metadata": {},
   "outputs": [
    {
     "name": "stdout",
     "output_type": "stream",
     "text": [
      "{'Adelaide': 54, 'Perth': 28, 'Melbourne': 16, 'Canberra': 6, 'Sydney': 7, 'Brisbane': 0, 'Darwin': 0}\n"
     ]
    }
   ],
   "source": [
    "# Playing around with python to get a feel for the question\n",
    "\n",
    "#Opening the file and defining lists\n",
    "with open('weatherAus-1.csv') as file:\n",
    "    dreader = csv.DictReader(file)\n",
    "    temp_threshold_break = []\n",
    "    Adelaide = []\n",
    "    Perth = []\n",
    "    Melbourne =[]\n",
    "    Canberra = []\n",
    "    Sydney = []\n",
    "    Brisbane = []\n",
    "    Darwin = []\n",
    "    cities = ['Adelaide','Perth','Melbourne','Canberra','Sydney','Brisbane', 'Darwin']\n",
    "    \n",
    "#Reading the CSV file \n",
    "    for row in dreader:\n",
    "#Ignore rows with MaxTemp <40 or has 'NA'\n",
    "        if (row['MaxTemp'] == 'NA') == False:\n",
    "            if 40 < float(row[\"MaxTemp\"]):\n",
    "                if (row[\"Location\"] in cities) == True:\n",
    "                    temp_threshold_break.append(row)\n",
    "    #print(temp_threshold_break)   looks like the information I'm after\n",
    "    \n",
    "#Seperating by location into seperate lists\n",
    "                    if row[\"Location\"] == 'Adelaide':\n",
    "                        Adelaide.append(row)\n",
    "                    elif row[\"Location\"] == 'Perth':\n",
    "                        Perth.append(row)\n",
    "                    elif row[\"Location\"] == 'Melbourne':\n",
    "                        Melbourne.append(row)\n",
    "                    elif row[\"Location\"] == 'Canberra':\n",
    "                        Canberra.append(row)\n",
    "                    elif row[\"Location\"] == 'Sydney':\n",
    "                        Sydney.append(row)\n",
    "                    elif row[\"Location\"] == 'Brisbane':\n",
    "                        Brisbane.append(row)\n",
    "                    elif row[\"Location\"] == 'Darwin':\n",
    "                        Darwin.append(row)\n",
    "#The values are accurate, now I need to place in a dictionary                \n",
    "    data = dict(Adelaide = len(Adelaide),                    \n",
    "                     Perth = len(Perth),\n",
    "                     Melbourne = len(Melbourne),\n",
    "                     Canberra = len(Canberra),\n",
    "                     Sydney = len(Sydney),\n",
    "                     Brisbane = len(Brisbane),\n",
    "                     Darwin = len(Darwin))\n",
    "    print(data)                                              # Now to use loops..."
   ]
  },
  {
   "cell_type": "markdown",
   "id": "71fa4c87",
   "metadata": {},
   "source": [
    "Then I simplified the code by implementing loops that go through each row of the data to compile a list of occurrences, then another loop that creates a dictionary of city: frequency key-value pairs:"
   ]
  },
  {
   "cell_type": "code",
   "execution_count": 13,
   "id": "3d602c94",
   "metadata": {},
   "outputs": [
    {
     "name": "stdout",
     "output_type": "stream",
     "text": [
      "{'Adelaide': 54, 'Perth': 28, 'Melbourne': 16, 'Canberra': 6, 'Sydney': 7, 'Brisbane': 0, 'Darwin': 0}\n"
     ]
    }
   ],
   "source": [
    "#Opening the input file and creating lists \n",
    "with open('weatherAus-1.csv') as file:\n",
    "    dreader = csv.DictReader(file)\n",
    "    instances_of_interest = []\n",
    "    cities = ['Adelaide','Perth','Melbourne','Canberra','Sydney','Brisbane', 'Darwin']\n",
    "    \n",
    "# Writing a list of city names for each row above a threshold temp of 30 degrees and in a city in the cities list\n",
    "    for row in dreader:\n",
    "        if (row['MaxTemp'] == 'NA') == False:\n",
    "            if 40 < float(row[\"MaxTemp\"]):\n",
    "                if (row[\"Location\"] in cities) == True:\n",
    "                    instances_of_interest.append(row[\"Location\"]) \n",
    "    count_data = {city : instances_of_interest.count(city) for city in cities}  \n",
    "\n",
    "#Writing the Count_data dictionary to a CSV file\n",
    "header = ['City', 'Temp Count']\n",
    "with open('question3output.csv','w', newline = '') as file:\n",
    "    writer = csv.writer(file)\n",
    "    writer.writerow(i for i in header)\n",
    "    for k, v in count_data.items():\n",
    "        writer.writerow([k, v])\n",
    "print(count_data)\n"
   ]
  },
  {
   "cell_type": "markdown",
   "id": "9fb0209a",
   "metadata": {},
   "source": [
    "Then finally I was able to get to answering the question properly. Below you will find the code needed to define a function with dictionary, filename, and temperature parameters. The dictionary is the name of the nested dictionary uploaded from the input CSV file. Filename is the name the user wishes the output CSV file to have. And Temperature marks the threshold the Maximum temperature needs to pass in order to be included in the frequency count.\n",
    "\n",
    "Things to consider:\n",
    "- Empty cells/ missing values are not identified by the reader, only placed in as 0.\n",
    "- I have removed columns with MaxTemp data set to NA, this may introduce a skew. \n",
    "\n",
    "This function iterates thorugh a list of cities including 'Adelaide', 'Perth', 'Melbourne', 'Canberra', 'Sydney', 'Brisbane', and 'Darwin' and uses the modified daysOver() function to compile a list of instances in which the temperature paramater was exceeded in the nested dictionary the user indicated with the dictionary paramater. This list of occurrences is then used to create a dictionary with locaton keys and frequency values that is writen to a CSV file with the name the user places as the filename paramater. I have put all the code in the same lock for your convinience as I kno I've jumped back and forth a fair bit:"
   ]
  },
  {
   "cell_type": "code",
   "execution_count": 14,
   "id": "abab3fbc",
   "metadata": {},
   "outputs": [],
   "source": [
    "#Question 3\n",
    "#Note: file name must be input as a string, Maximum temperature column in that file must be named MaxTemp and use the same units\n",
    "#      as the input CSV file uses, and the location column must be named \"Location\"\n",
    "  \n",
    "####\n",
    "\n",
    "def daysOver(temperature, Location, Dictionary):\n",
    "    instances_of_interest = []\n",
    "    cities = ['Adelaide','Perth','Melbourne','Canberra','Sydney','Brisbane', 'Darwin']\n",
    "    for row in Dictionary:\n",
    "        if row['MaxTemp'] != 'NA' and temperature < float(row[\"MaxTemp\"]):\n",
    "            for city in cities:\n",
    "                if row['Location'] ==str(city):\n",
    "                    instances_of_interest.append(row[\"Location\"])\n",
    "    count_data = {city : instances_of_interest.count(city) for city in cities} \n",
    "    return instances_of_interest.count(Location)\n",
    "\n",
    "####\n",
    "\n",
    "def writeTempsData(Dictionary, filename, temperature):     \n",
    "    for city in cities:\n",
    "        daysOver(temperature, city, Dictionary)\n",
    "    for k,v in count_data.items():\n",
    "        print( k, \" had \", v, \" occurrences\")\n",
    "    print(count_data)\n",
    "    header = ['City', 'Temp Count']\n",
    "    with open(filename,'w', newline = '') as file:\n",
    "        writer = csv.writer(file)\n",
    "        writer.writerow(i for i in header)\n",
    "        for k, v in count_data.items():\n",
    "            writer.writerow([k, v])\n",
    "\n",
    "    return print(\"\\nDone.\\n\", \n",
    "          \"WARNING! Please ensure:\",\n",
    "          \"\\n-The maximum temperature column on your imported CSV file was named 'MaxTemp'\",\n",
    "          \"\\n-The Temperature paramater is in the same units observed in your imported CSV file\",\n",
    "          \"\\n-The locations column in your CSV file was named 'Location'\"\n",
    "          \"\\n\\nAmend any of these inconsistency if needed and try again\")\n",
    "\n"
   ]
  },
  {
   "cell_type": "code",
   "execution_count": 15,
   "id": "9228dec2",
   "metadata": {},
   "outputs": [
    {
     "name": "stdout",
     "output_type": "stream",
     "text": [
      "Adelaide  had  54  occurrences\n",
      "Perth  had  28  occurrences\n",
      "Melbourne  had  16  occurrences\n",
      "Canberra  had  6  occurrences\n",
      "Sydney  had  7  occurrences\n",
      "Brisbane  had  0  occurrences\n",
      "Darwin  had  0  occurrences\n",
      "{'Adelaide': 54, 'Perth': 28, 'Melbourne': 16, 'Canberra': 6, 'Sydney': 7, 'Brisbane': 0, 'Darwin': 0}\n",
      "\n",
      "Done.\n",
      " WARNING! Please ensure: \n",
      "-The maximum temperature column on your imported CSV file was named 'MaxTemp' \n",
      "-The Temperature paramater is in the same units observed in your imported CSV file \n",
      "-The locations column in your CSV file was named 'Location'\n",
      "\n",
      "Amend any of these inconsistency if needed and try again\n"
     ]
    }
   ],
   "source": [
    "import csv \n",
    "with open('weatherAUS-1.csv') as file:\n",
    "        ppp = csv.DictReader(file)\n",
    "        writeTempsData(ppp,'test123.csv', 40)"
   ]
  }
 ],
 "metadata": {
  "kernelspec": {
   "display_name": "Python 3 (ipykernel)",
   "language": "python",
   "name": "python3"
  },
  "language_info": {
   "codemirror_mode": {
    "name": "ipython",
    "version": 3
   },
   "file_extension": ".py",
   "mimetype": "text/x-python",
   "name": "python",
   "nbconvert_exporter": "python",
   "pygments_lexer": "ipython3",
   "version": "3.9.7"
  }
 },
 "nbformat": 4,
 "nbformat_minor": 5
}
