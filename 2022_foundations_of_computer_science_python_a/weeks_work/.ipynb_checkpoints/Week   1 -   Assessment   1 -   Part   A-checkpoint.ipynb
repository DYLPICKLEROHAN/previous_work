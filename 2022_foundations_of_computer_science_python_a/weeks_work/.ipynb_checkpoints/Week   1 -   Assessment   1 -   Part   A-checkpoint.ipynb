{
 "cells": [
  {
   "cell_type": "markdown",
   "id": "535c9cc3",
   "metadata": {},
   "source": [
    "Dylan Rohan - a1844790\n",
    "***"
   ]
  },
  {
   "cell_type": "markdown",
   "id": "4cb8824e",
   "metadata": {},
   "source": [
    "## Week 1 - Assessment 1 - Part A\n",
    "Please note that this is the first time I've used python and jupyter notebook, but I have completed the assignment in the way that I think it should be done."
   ]
  },
  {
   "cell_type": "markdown",
   "id": "5363401e",
   "metadata": {},
   "source": [
    "### Section 1 - Blood Glucose Data"
   ]
  },
  {
   "cell_type": "markdown",
   "id": "6d9cfeed",
   "metadata": {},
   "source": [
    "The code below introduces five random non-diabetic subjects and uses the \"random\" library to print normal glucose concentrations that will be the glucose level associated with each of the five subjects. 'Normal' has been described as below 126mg/dL, but more than 60 mg/dL."
   ]
  },
  {
   "cell_type": "code",
   "execution_count": 105,
   "id": "3db834dc",
   "metadata": {},
   "outputs": [
    {
     "name": "stdout",
     "output_type": "stream",
     "text": [
      "Subject 1 : 73 mg/dL\n",
      "Subject 2 : 82 mg/dL\n",
      "Subject 3 : 92 mg/dL\n",
      "Subject 4 : 105 mg/dL\n",
      "Subject 5 : 117 mg/dL\n"
     ]
    }
   ],
   "source": [
    "# Importing the 'random' library and creating a list of normal values for blood glucose concentrations in mg/dL \n",
    "import random \n",
    "normal_glucose_concentration = list(range(60,126))\n",
    "random.choice(normal_glucose_concentration) #Just testing the code here\n",
    "\n",
    "#Organising the output so it is clear and concise. \n",
    "print(\n",
    "\"Subject 1 :\", random.choice(normal_glucose_concentration), \"mg/dL\\n\"\n",
    "\"Subject 2 :\", random.choice(normal_glucose_concentration), \"mg/dL\\n\"\n",
    "\"Subject 3 :\", random.choice(normal_glucose_concentration), \"mg/dL\\n\"\n",
    "\"Subject 4 :\", random.choice(normal_glucose_concentration), \"mg/dL\\n\"\n",
    "\"Subject 5 :\", random.choice(normal_glucose_concentration), \"mg/dL\")"
   ]
  },
  {
   "cell_type": "markdown",
   "id": "668839f7",
   "metadata": {},
   "source": [
    "### Section 2 - BMI calculator"
   ]
  },
  {
   "cell_type": "markdown",
   "id": "0e8e8881",
   "metadata": {},
   "source": [
    "Below is a program that will take a users inputs for weight (in kg) and height (in meters) and calculate and print the Body Mass Index (BMI) in a concise manner. I have included code that ensures the user has input the correct form of strings necessary for calculation with an error message in the event that the strings cannot be used."
   ]
  },
  {
   "cell_type": "code",
   "execution_count": 107,
   "id": "e0b41356",
   "metadata": {},
   "outputs": [
    {
     "name": "stdout",
     "output_type": "stream",
     "text": [
      "Please enter your weight in kg to two decimal places: 63\n",
      "Please enter your height in metres to two decimal places: 1.82\n",
      "\n",
      "Your BMI is 19.02 kilograms per cubic meter\n"
     ]
    }
   ],
   "source": [
    "#Request input from users for weight and height respectively\n",
    "w =input(\"Please enter your weight in kg to two decimal places: \") \n",
    "h =input(\"Please enter your height in metres to two decimal places: \")\n",
    "print()\n",
    "\n",
    "#Prints output if input strings contain positive numerical values, othewise requests the user try again\n",
    "if w.isalpha() ==True or h.isalpha()==True or float(w)<0 or float(h)<0:\n",
    "    print('\\nPlease refresh and input positive numeric values only')\n",
    "else:\n",
    "    w= float(w)\n",
    "    h = float(h)\n",
    "    BMI = w/(h)**2\n",
    "    print(\"Your BMI is\", round(BMI, 2), 'kilograms per cubic meter')"
   ]
  },
  {
   "cell_type": "markdown",
   "id": "94f68e17",
   "metadata": {},
   "source": [
    "### Section 3 - DNA"
   ]
  },
  {
   "cell_type": "markdown",
   "id": "ab74b86b",
   "metadata": {},
   "source": [
    "The code below will convert the input string, a DNA sequence, into a capitalised version free of commas and then count the total of the four unique nucleobases present in a DNA sequence then present the input string, modified string, and nucleobase counts to the user in a concise manner. Please note this code is for DNA only, as RNA sequences contain Uracil in place of Thymine."
   ]
  },
  {
   "cell_type": "code",
   "execution_count": 110,
   "id": "e5e56695",
   "metadata": {},
   "outputs": [
    {
     "name": "stdout",
     "output_type": "stream",
     "text": [
      "Please input DNA sequence, NOTE: inaccuracies will not be corrected by this program.\n",
      "sequence input: actgggt,actgggaccctaat,\n",
      "output sequence:  ACTGGGTACTGGGACCCTAAT\n",
      "Adenine total:    5\n",
      "Guanine total:    6\n",
      "Cytosine total:   5\n",
      "Thymine total:    5\n"
     ]
    }
   ],
   "source": [
    "# Requesting user input the DNA sequence\n",
    "sequence = input(\"Please input DNA sequence, NOTE: inaccuracies will not be corrected by this program.\\nsequence input: \")\n",
    "sequence = sequence.replace(\",\", \"\") # remove commas\n",
    "sequence = sequence.upper() # Capitalise the string\n",
    "print(\"output sequence: \", sequence) # Show modified string to the user\n",
    "\n",
    "\n",
    "# Counting the nucleobase totals and presenting output to user\n",
    "A = sequence.count('A')\n",
    "T = sequence.count('T')\n",
    "G = sequence.count('G')\n",
    "C = sequence.count('C')\n",
    "print(\"Adenine total:   \", A)\n",
    "print(\"Guanine total:   \", G)\n",
    "print(\"Cytosine total:  \", C)\n",
    "print(\"Thymine total:   \", T)\n"
   ]
  }
 ],
 "metadata": {
  "kernelspec": {
   "display_name": "Python 3 (ipykernel)",
   "language": "python",
   "name": "python3"
  },
  "language_info": {
   "codemirror_mode": {
    "name": "ipython",
    "version": 3
   },
   "file_extension": ".py",
   "mimetype": "text/x-python",
   "name": "python",
   "nbconvert_exporter": "python",
   "pygments_lexer": "ipython3",
   "version": "3.9.7"
  }
 },
 "nbformat": 4,
 "nbformat_minor": 5
}
