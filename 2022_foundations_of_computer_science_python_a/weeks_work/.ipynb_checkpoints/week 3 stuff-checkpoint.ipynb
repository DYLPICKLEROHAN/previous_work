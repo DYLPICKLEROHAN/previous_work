{
 "cells": [
  {
   "cell_type": "code",
   "execution_count": 616,
   "id": "1be53c3d",
   "metadata": {},
   "outputs": [
    {
     "name": "stdout",
     "output_type": "stream",
     "text": [
      "16\n"
     ]
    }
   ],
   "source": [
    "import csv\n",
    "def daysOver(temperature, Location, Dictionary):\n",
    "    instances_of_interest = []\n",
    "    cities = ['Adelaide','Perth','Melbourne','Canberra','Sydney','Brisbane', 'Darwin']\n",
    "    for row in Dictionary:\n",
    "        if row['MaxTemp'] != 'NA' and temperature < float(row[\"MaxTemp\"]):\n",
    "            for city in cities:\n",
    "                if row['Location'] ==str(city):\n",
    "                    instances_of_interest.append(row[\"Location\"])\n",
    "    count_data = {city : instances_of_interest.count(city) for city in cities} \n",
    "    return instances_of_interest.count(Location)\n",
    "\n",
    "with open('weatherAus-1.csv') as file:\n",
    "    dreader = csv.DictReader(file)\n",
    "    print(daysOver(40, 'Melbourne', dreader))"
   ]
  },
  {
   "cell_type": "code",
   "execution_count": 617,
   "id": "41db81be",
   "metadata": {},
   "outputs": [],
   "source": [
    "def writeTempsData(Dictionary, filename, temperature):     \n",
    "    for city in cities:\n",
    "        daysOver(temperature, city, Dictionary)\n",
    "    for k,v in count_data.items():\n",
    "        print( k, \" had \", v, \" occurrences\")\n",
    "    print(count_data)\n",
    "    header = ['City', 'Temp Count']\n",
    "    with open(filename,'w', newline = '') as file:\n",
    "        writer = csv.writer(file)\n",
    "        writer.writerow(i for i in header)\n",
    "        for k, v in count_data.items():\n",
    "            writer.writerow([k, v])\n",
    "\n",
    "    return print(\"\\nDone.\\n\", \n",
    "          \"WARNING! Please ensure:\",\n",
    "          \"\\n-The maximum temperature column on your imported CSV file was named 'MaxTemp'\",\n",
    "          \"\\n-The Temperature paramater is in the same units observed in your imported CSV file\",\n",
    "          \"\\n-The locations column in your CSV file was named 'Location'\"\n",
    "          \"\\n\\nAmend any of these inconsistency if needed and try again\")"
   ]
  },
  {
   "cell_type": "code",
   "execution_count": 620,
   "id": "976d7870",
   "metadata": {
    "scrolled": true
   },
   "outputs": [
    {
     "name": "stdout",
     "output_type": "stream",
     "text": [
      "Adelaide  had  54  occurrences\n",
      "Perth  had  28  occurrences\n",
      "Melbourne  had  16  occurrences\n",
      "Canberra  had  6  occurrences\n",
      "Sydney  had  7  occurrences\n",
      "Brisbane  had  0  occurrences\n",
      "Darwin  had  0  occurrences\n",
      "{'Adelaide': 54, 'Perth': 28, 'Melbourne': 16, 'Canberra': 6, 'Sydney': 7, 'Brisbane': 0, 'Darwin': 0}\n",
      "\n",
      "Done.\n",
      " WARNING! Please ensure: \n",
      "-The maximum temperature column on your imported CSV file was named 'MaxTemp' \n",
      "-The Temperature paramater is in the same units observed in your imported CSV file \n",
      "-The locations column in your CSV file was named 'Location'\n",
      "\n",
      "Amend any of these inconsistency if needed and try again\n",
      "None\n"
     ]
    }
   ],
   "source": [
    "file = open('weatherAUS-1.csv')\n",
    "dictionary_name = csv.DictReader(file)\n",
    "print(writeTempsData(dictionary_name,'test123.csv', 40))\n",
    "file.close()"
   ]
  }
 ],
 "metadata": {
  "kernelspec": {
   "display_name": "Python 3 (ipykernel)",
   "language": "python",
   "name": "python3"
  },
  "language_info": {
   "codemirror_mode": {
    "name": "ipython",
    "version": 3
   },
   "file_extension": ".py",
   "mimetype": "text/x-python",
   "name": "python",
   "nbconvert_exporter": "python",
   "pygments_lexer": "ipython3",
   "version": "3.9.7"
  }
 },
 "nbformat": 4,
 "nbformat_minor": 5
}
