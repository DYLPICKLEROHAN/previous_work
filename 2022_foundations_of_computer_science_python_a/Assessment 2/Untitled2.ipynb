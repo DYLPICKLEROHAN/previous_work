{
 "cells": [
  {
   "cell_type": "code",
   "execution_count": 3,
   "id": "afc6bdb9",
   "metadata": {},
   "outputs": [
    {
     "name": "stdout",
     "output_type": "stream",
     "text": [
      "Collecting pipwinNote: you may need to restart the kernel to use updated packages.\n",
      "  Using cached pipwin-0.5.1.tar.gz (8.8 kB)\n",
      "Collecting docopt\n",
      "  Using cached docopt-0.6.2.tar.gz (25 kB)\n",
      "Collecting requests\n",
      "  Downloading requests-2.27.1-py2.py3-none-any.whl (63 kB)\n",
      "Collecting pyprind\n",
      "\n",
      "  Using cached PyPrind-2.11.3-py2.py3-none-any.whl (8.4 kB)\n",
      "Requirement already satisfied: six in c:\\users\\rohad\\anaconda3\\envs\\env1\\lib\\site-packages (from pipwin) (1.16.0)\n",
      "Collecting beautifulsoup4>=4.9.0\n",
      "  Downloading beautifulsoup4-4.10.0-py3-none-any.whl (97 kB)\n",
      "Collecting js2py\n",
      "  Using cached Js2Py-0.71-py3-none-any.whl (1.0 MB)\n",
      "Requirement already satisfied: packaging in c:\\users\\rohad\\anaconda3\\envs\\env1\\lib\\site-packages (from pipwin) (21.3)\n",
      "Collecting pySmartDL>=1.3.1\n",
      "  Using cached pySmartDL-1.3.4-py3-none-any.whl (20 kB)\n",
      "Collecting soupsieve>1.2\n",
      "  Downloading soupsieve-2.3.1-py3-none-any.whl (37 kB)\n",
      "Collecting tzlocal>=1.2\n",
      "  Using cached tzlocal-4.1-py3-none-any.whl (19 kB)\n",
      "Collecting pyjsparser>=2.5.1\n",
      "  Using cached pyjsparser-2.7.1.tar.gz (24 kB)\n",
      "Collecting pytz-deprecation-shim\n",
      "  Using cached pytz_deprecation_shim-0.1.0.post0-py2.py3-none-any.whl (15 kB)\n",
      "Collecting backports.zoneinfo\n",
      "  Downloading backports.zoneinfo-0.2.1-cp38-cp38-win_amd64.whl (38 kB)\n",
      "Collecting tzdata\n",
      "  Using cached tzdata-2021.5-py2.py3-none-any.whl (339 kB)\n",
      "Requirement already satisfied: pyparsing!=3.0.5,>=2.0.2 in c:\\users\\rohad\\anaconda3\\envs\\env1\\lib\\site-packages (from packaging->pipwin) (3.0.4)\n",
      "Collecting urllib3<1.27,>=1.21.1\n",
      "  Downloading urllib3-1.26.8-py2.py3-none-any.whl (138 kB)\n",
      "Collecting charset-normalizer~=2.0.0\n",
      "  Downloading charset_normalizer-2.0.11-py3-none-any.whl (39 kB)\n",
      "Requirement already satisfied: certifi>=2017.4.17 in c:\\users\\rohad\\anaconda3\\envs\\env1\\lib\\site-packages (from requests->pipwin) (2021.10.8)\n",
      "Collecting idna<4,>=2.5\n",
      "  Downloading idna-3.3-py3-none-any.whl (61 kB)\n",
      "Building wheels for collected packages: pipwin, docopt, pyjsparser\n",
      "  Building wheel for pipwin (setup.py): started\n",
      "  Building wheel for pipwin (setup.py): finished with status 'done'\n",
      "  Created wheel for pipwin: filename=pipwin-0.5.1-py2.py3-none-any.whl size=8791 sha256=3138f400df41681dee32029893bfe44c2e39b96e52d8cf0ff5ad912a861313c3\n",
      "  Stored in directory: c:\\users\\rohad\\appdata\\local\\pip\\cache\\wheels\\94\\1b\\63\\6465d24b53c03f566cfb25a7a9b806b4b0e29c95d82ac189d8\n",
      "  Building wheel for docopt (setup.py): started\n",
      "  Building wheel for docopt (setup.py): finished with status 'done'\n",
      "  Created wheel for docopt: filename=docopt-0.6.2-py2.py3-none-any.whl size=13723 sha256=b6199ae3bbd64e5c43d77d5482a98a8d9fbf5fb8f74b180bcd6c9b3e0419df16\n",
      "  Stored in directory: c:\\users\\rohad\\appdata\\local\\pip\\cache\\wheels\\56\\ea\\58\\ead137b087d9e326852a851351d1debf4ada529b6ac0ec4e8c\n",
      "  Building wheel for pyjsparser (setup.py): started\n",
      "  Building wheel for pyjsparser (setup.py): finished with status 'done'\n",
      "  Created wheel for pyjsparser: filename=pyjsparser-2.7.1-py3-none-any.whl size=26000 sha256=a1217fe14eefa44ba97ab052a31441243f02f480175e0bfdc101d88e18418232\n",
      "  Stored in directory: c:\\users\\rohad\\appdata\\local\\pip\\cache\\wheels\\d5\\88\\34\\ccb5bb40eb3178a134eb293e6c363928c5bcfba0b91031db76\n",
      "Successfully built pipwin docopt pyjsparser\n",
      "Installing collected packages: tzdata, backports.zoneinfo, pytz-deprecation-shim, urllib3, tzlocal, soupsieve, pyjsparser, idna, charset-normalizer, requests, pySmartDL, pyprind, js2py, docopt, beautifulsoup4, pipwin\n",
      "Successfully installed backports.zoneinfo-0.2.1 beautifulsoup4-4.10.0 charset-normalizer-2.0.11 docopt-0.6.2 idna-3.3 js2py-0.71 pipwin-0.5.1 pySmartDL-1.3.4 pyjsparser-2.7.1 pyprind-2.11.3 pytz-deprecation-shim-0.1.0.post0 requests-2.27.1 soupsieve-2.3.1 tzdata-2021.5 tzlocal-4.1 urllib3-1.26.8\n"
     ]
    }
   ],
   "source": [
    "pip install pipwin"
   ]
  },
  {
   "cell_type": "code",
   "execution_count": 7,
   "id": "99c6c9a3",
   "metadata": {},
   "outputs": [
    {
     "name": "stdout",
     "output_type": "stream",
     "text": [
      "Requirement already satisfied: numpy in c:\\users\\rohad\\anaconda3\\envs\\env1\\lib\\site-packages (1.21.2)\n",
      "Note: you may need to restart the kernel to use updated packages.\n"
     ]
    }
   ],
   "source": [
    "pip install numpy"
   ]
  },
  {
   "cell_type": "code",
   "execution_count": 8,
   "id": "9c3d95f2",
   "metadata": {},
   "outputs": [
    {
     "name": "stdout",
     "output_type": "stream",
     "text": [
      "Collecting pandas\n",
      "  Downloading pandas-1.4.0-cp38-cp38-win_amd64.whl (10.6 MB)\n",
      "Collecting pytz>=2020.1\n",
      "  Downloading pytz-2021.3-py2.py3-none-any.whl (503 kB)\n",
      "Requirement already satisfied: python-dateutil>=2.8.1 in c:\\users\\rohad\\anaconda3\\envs\\env1\\lib\\site-packages (from pandas) (2.8.2)\n",
      "Requirement already satisfied: numpy>=1.18.5 in c:\\users\\rohad\\anaconda3\\envs\\env1\\lib\\site-packages (from pandas) (1.21.2)\n",
      "Requirement already satisfied: six>=1.5 in c:\\users\\rohad\\anaconda3\\envs\\env1\\lib\\site-packages (from python-dateutil>=2.8.1->pandas) (1.16.0)\n",
      "Installing collected packages: pytz, pandas\n",
      "Successfully installed pandas-1.4.0 pytz-2021.3\n",
      "Note: you may need to restart the kernel to use updated packages.\n"
     ]
    }
   ],
   "source": [
    "pip install pandas"
   ]
  },
  {
   "cell_type": "code",
   "execution_count": 10,
   "id": "7cdfe182",
   "metadata": {},
   "outputs": [
    {
     "name": "stdout",
     "output_type": "stream",
     "text": [
      "Requirement already satisfied: shapely in c:\\users\\rohad\\anaconda3\\envs\\env1\\lib\\site-packages (1.8.0)\n",
      "Note: you may need to restart the kernel to use updated packages.\n"
     ]
    }
   ],
   "source": [
    "pip install shapely"
   ]
  },
  {
   "cell_type": "code",
   "execution_count": 11,
   "id": "e7ecb281",
   "metadata": {},
   "outputs": [
    {
     "name": "stdout",
     "output_type": "stream",
     "text": [
      "Requirement already satisfied: gdal in c:\\users\\rohad\\anaconda3\\envs\\env1\\lib\\site-packages (3.0.2)\n",
      "Note: you may need to restart the kernel to use updated packages.\n"
     ]
    }
   ],
   "source": [
    "pip install gdal"
   ]
  },
  {
   "cell_type": "code",
   "execution_count": null,
   "id": "3592ccb2",
   "metadata": {},
   "outputs": [],
   "source": [
    "pip install fiona"
   ]
  },
  {
   "cell_type": "code",
   "execution_count": null,
   "id": "f65acdf9",
   "metadata": {},
   "outputs": [],
   "source": [
    "pip install pyproj"
   ]
  },
  {
   "cell_type": "code",
   "execution_count": null,
   "id": "8d82f3b4",
   "metadata": {},
   "outputs": [],
   "source": [
    "pip "
   ]
  },
  {
   "cell_type": "code",
   "execution_count": null,
   "id": "2cd662eb",
   "metadata": {},
   "outputs": [],
   "source": [
    "pipwin install pandas\n",
    "pipwin install shapely\n",
    "pipwin install gdal\n",
    "pipwin install fiona\n",
    "pipwin install pyproj\n",
    "pipwin install six\n",
    "pipwin install rtree\n",
    "pipwin install geopandas"
   ]
  }
 ],
 "metadata": {
  "kernelspec": {
   "display_name": "Python 3 (ipykernel)",
   "language": "python",
   "name": "python3"
  },
  "language_info": {
   "codemirror_mode": {
    "name": "ipython",
    "version": 3
   },
   "file_extension": ".py",
   "mimetype": "text/x-python",
   "name": "python",
   "nbconvert_exporter": "python",
   "pygments_lexer": "ipython3",
   "version": "3.8.12"
  }
 },
 "nbformat": 4,
 "nbformat_minor": 5
}
