{
 "cells": [
  {
   "cell_type": "markdown",
   "id": "8b994341",
   "metadata": {},
   "source": [
    "# Support Vector Machine"
   ]
  },
  {
   "cell_type": "code",
   "execution_count": 1,
   "id": "1b21010f",
   "metadata": {},
   "outputs": [],
   "source": [
    "# Loading modules required for data manipulation an EDA\n",
    "import pandas as pd\n",
    "import numpy as np\n",
    "import matplotlib.pyplot as plt\n",
    "import seaborn as sns\n",
    "\n",
    "# Loading modules required for modelling\n",
    "from sklearn.svm import SVR                             # To access the Support-vector regresssor\n",
    "from sklearn.model_selection import KFold               # To create training/testing sets\n",
    "from sklearn.model_selection import GridSearchCV        # To creat a tuning grid for hyperparameters\n",
    "from sklearn.decomposition import PCA                   # Feature selection tool\n",
    "from sklearn.pipeline import make_pipeline              # Lets us build a pipeline\n",
    "\n",
    "# Loading modules to assess error\n",
    "from sklearn.metrics import mean_squared_error          # To measure the mean of residual errors \n",
    "from sklearn.metrics import r2_score                    # To measure the accuracy of the fit\n",
    "\n",
    "# loading modules to assess model\n",
    "from sklearn.model_selection import cross_val_score     # To determine the model's cross validation accuracy scores\n",
    "from sklearn.metrics import accuracy_score              # To determine the model's accuracy\n",
    "from sklearn.dummy import DummyRegressor                # To create a regressor baseline\n",
    "\n",
    "# Loading modules to plot confusion matrix\n",
    "import matplotlib.pyplot as plt                         # This one\n",
    "import seaborn as sns                                   # ... and this one are used to create figure objects\n",
    "from sklearn.metrics import confusion_matrix            # To create confusion matrix\n",
    "%matplotlib inline"
   ]
  },
  {
   "cell_type": "code",
   "execution_count": 2,
   "id": "d58af28c",
   "metadata": {},
   "outputs": [],
   "source": [
    "# Importing Data\n",
    "features = pd.read_csv('X.csv')\n",
    "target = pd.read_csv('y.csv')"
   ]
  },
  {
   "cell_type": "markdown",
   "id": "4fe9c001",
   "metadata": {},
   "source": [
    "## Data Segregation\n",
    "Splitting the data into 5 folds (80/20 split) and eabling reproducibility"
   ]
  },
  {
   "cell_type": "code",
   "execution_count": 3,
   "id": "a7f25e9b",
   "metadata": {},
   "outputs": [
    {
     "name": "stdout",
     "output_type": "stream",
     "text": [
      "Number of splits:  5\n",
      "Dataset shapes:  (822, 30) and  (822, 1)\n",
      "Training set shape:  (658, 30) and (658, 1)\n",
      "Testing set shape:  (164, 30) and  (164, 1)\n"
     ]
    }
   ],
   "source": [
    "# Creating numpy arrays of data to get k-folds \n",
    "X = np.array(features)\n",
    "y = np.array(target)\n",
    "kf = KFold(n_splits = 5, random_state = 42, shuffle =True)\n",
    "print('Number of splits: ', kf.get_n_splits(X))\n",
    "\n",
    "# Assigning the training and testing sets data based on the splits\n",
    "for train_index, test_index in kf.split(X):\n",
    "    X_train, X_test = X[train_index], X[test_index]\n",
    "    y_train, y_test = y[train_index], y[test_index]\n",
    "\n",
    "# Returning array back to Dataframe\n",
    "X_train = pd.DataFrame(X_train)\n",
    "y_train = pd.DataFrame(y_train)\n",
    "X_test = pd.DataFrame(X_test)\n",
    "y_test = pd.DataFrame(y_test)\n",
    "\n",
    "# Assessing sets\n",
    "print('Dataset shapes: ', features.shape, \"and \", target.shape)\n",
    "print('Training set shape: ', X_train.shape, \"and\", y_train.shape)\n",
    "print('Testing set shape: ', X_test.shape, \"and \", y_test.shape)"
   ]
  },
  {
   "cell_type": "markdown",
   "id": "51af8dc9",
   "metadata": {},
   "source": [
    "### Creating Baseline\n",
    "Using the two from the course"
   ]
  },
  {
   "cell_type": "code",
   "execution_count": 11,
   "id": "086f97e6",
   "metadata": {},
   "outputs": [],
   "source": [
    "# Creating naive baseline to compare with\n",
    "baseline = np.mean(y_train.iloc[:, 0].to_numpy())\n",
    "y_baseline = np.repeat(baseline, len(y_test.iloc[:, 0].to_numpy()))\n",
    "naive_MSE = mean_squared_error(y_test, y_baseline)\n",
    "naive_RMSE = np.sqrt(naive_MSE)\n",
    "naive_rr = r2_score(y_test, y_baseline)\n",
    "\n",
    "# Creating a DummyRegressor baseline\n",
    "dummy_mean = DummyRegressor(strategy = 'mean').fit(X_train, y_train)\n",
    "y_predict_dummy_mean = dummy_mean.predict(X_test)\n",
    "dummy_MSE = mean_squared_error(y_test, y_predict_dummy_mean)\n",
    "dummy_RMSE = np.sqrt(dummy_MSE)\n",
    "dummy_rr = r2_score(y_test, y_predict_dummy_mean)"
   ]
  },
  {
   "cell_type": "markdown",
   "id": "0bddcd27",
   "metadata": {},
   "source": [
    "## Model Trainning\n",
    "Deviating from the default slightly by using the linear 'kernel' and increasin C from 1 to 100."
   ]
  },
  {
   "cell_type": "code",
   "execution_count": 5,
   "id": "697c9e94",
   "metadata": {},
   "outputs": [],
   "source": [
    "# Building the model\n",
    "model_svr = SVR(kernel = 'linear', C = 100)    "
   ]
  },
  {
   "cell_type": "code",
   "execution_count": 6,
   "id": "16c84761",
   "metadata": {},
   "outputs": [
    {
     "name": "stdout",
     "output_type": "stream",
     "text": [
      "Parameters passed to train model: \n",
      " {'C': 100, 'cache_size': 200, 'coef0': 0.0, 'degree': 3, 'epsilon': 0.1, 'gamma': 'scale', 'kernel': 'linear', 'max_iter': -1, 'shrinking': True, 'tol': 0.001, 'verbose': False}\n"
     ]
    }
   ],
   "source": [
    "# Trainning the model on training data\n",
    "model_svr.fit(X_train, y_train.iloc[:, 0].to_numpy())\n",
    "print(\"Parameters passed to train model: \\n\", model_svr.get_params())"
   ]
  },
  {
   "cell_type": "code",
   "execution_count": 7,
   "id": "9cd8e07a",
   "metadata": {},
   "outputs": [
    {
     "name": "stdout",
     "output_type": "stream",
     "text": [
      "Cross Validation scores (untuned):  [0.84925756 0.51829923 0.77757214 0.82267965 0.78882086] \n",
      "CV score =  0.7513258905990029\n",
      "\n",
      "Here are some performace metrics associated with the mean baseline and the untuned model:\n"
     ]
    },
    {
     "data": {
      "text/html": [
       "<div>\n",
       "<style scoped>\n",
       "    .dataframe tbody tr th:only-of-type {\n",
       "        vertical-align: middle;\n",
       "    }\n",
       "\n",
       "    .dataframe tbody tr th {\n",
       "        vertical-align: top;\n",
       "    }\n",
       "\n",
       "    .dataframe thead th {\n",
       "        text-align: right;\n",
       "    }\n",
       "</style>\n",
       "<table border=\"1\" class=\"dataframe\">\n",
       "  <thead>\n",
       "    <tr style=\"text-align: right;\">\n",
       "      <th></th>\n",
       "      <th>Test</th>\n",
       "      <th>MSE</th>\n",
       "      <th>RMSE</th>\n",
       "      <th>R-squared</th>\n",
       "    </tr>\n",
       "  </thead>\n",
       "  <tbody>\n",
       "    <tr>\n",
       "      <th>0</th>\n",
       "      <td>Naive Baseline</td>\n",
       "      <td>0.02372</td>\n",
       "      <td>0.15403</td>\n",
       "      <td>-0.00029</td>\n",
       "    </tr>\n",
       "    <tr>\n",
       "      <th>1</th>\n",
       "      <td>Dummy Baseline</td>\n",
       "      <td>0.02372</td>\n",
       "      <td>0.15403</td>\n",
       "      <td>-0.00029</td>\n",
       "    </tr>\n",
       "    <tr>\n",
       "      <th>2</th>\n",
       "      <td>SVR on Training</td>\n",
       "      <td>0.00390</td>\n",
       "      <td>0.06249</td>\n",
       "      <td>0.83615</td>\n",
       "    </tr>\n",
       "    <tr>\n",
       "      <th>3</th>\n",
       "      <td>SVR on Testing</td>\n",
       "      <td>0.00453</td>\n",
       "      <td>0.06733</td>\n",
       "      <td>0.80885</td>\n",
       "    </tr>\n",
       "  </tbody>\n",
       "</table>\n",
       "</div>"
      ],
      "text/plain": [
       "              Test      MSE     RMSE  R-squared\n",
       "0   Naive Baseline  0.02372  0.15403   -0.00029\n",
       "1   Dummy Baseline  0.02372  0.15403   -0.00029\n",
       "2  SVR on Training  0.00390  0.06249    0.83615\n",
       "3   SVR on Testing  0.00453  0.06733    0.80885"
      ]
     },
     "execution_count": 7,
     "metadata": {},
     "output_type": "execute_result"
    }
   ],
   "source": [
    "# Testing the model on training and on testing sets\n",
    "preds_train_untuned_svr = model_svr.predict(X_train)\n",
    "preds_test_untuned_svr = model_svr.predict(X_test)\n",
    "\n",
    "# Determining Cross validation scores\n",
    "def average(lst):\n",
    "    return sum(lst) / len(lst)\n",
    "score_untuned_svr = cross_val_score(model_svr, features, target.iloc[:, 0].to_numpy(), cv = 5)\n",
    "print(\"Cross Validation scores (untuned): \", score_untuned_svr, \"\\nCV score = \", average(score_untuned_svr)) \n",
    "\n",
    "# Measuring MSE\n",
    "MSE_training_preds = mean_squared_error(y_train, preds_train_untuned_svr)\n",
    "MSE_testing_preds = mean_squared_error(y_test, preds_test_untuned_svr)\n",
    "\n",
    "# Measuring RMSE\n",
    "RMSE_training_preds = np.sqrt(MSE_training_preds)\n",
    "RMSE_testing_preds = np.sqrt(MSE_testing_preds)\n",
    "\n",
    "# Measuring R-squared\n",
    "rsq_training_preds = r2_score(y_train, preds_train_untuned_svr)\n",
    "rsq_testing_preds = r2_score(y_test, preds_test_untuned_svr)\n",
    "\n",
    "\n",
    "scores = {'Test':  ['Naive Baseline', 'Dummy Baseline', 'SVR on Training', 'SVR on Testing'],\n",
    "          'MSE': [round(naive_MSE, 5), round(dummy_MSE, 5), round(MSE_training_preds, 5), round(MSE_testing_preds, 5)],\n",
    "          'RMSE': [round(naive_RMSE, 5), round(dummy_RMSE, 5), round(RMSE_training_preds, 5), round(RMSE_testing_preds, 5)],\n",
    "          'R-squared': [round(naive_rr, 5), round(dummy_rr, 5), round(rsq_training_preds, 5), round(rsq_testing_preds, 5)]\n",
    "        }\n",
    "\n",
    "scores_df = pd.DataFrame(scores)\n",
    "print(\"\\nHere are some performace metrics associated with the mean baseline and the untuned model:\")\n",
    "scores_df.head()"
   ]
  },
  {
   "cell_type": "markdown",
   "id": "975f16a0",
   "metadata": {},
   "source": [
    "## Model Tuning "
   ]
  },
  {
   "cell_type": "code",
   "execution_count": 8,
   "id": "25cfef44",
   "metadata": {},
   "outputs": [],
   "source": [
    "# Hyperparameters to calibrate \n",
    "param_grid = {'C': [1, 10, 50, 100], # 200 was taking too long\n",
    "              'gamma': [ 0.01, 0.1, 0.9, 'scale'], # 0.0001, 0.001, taking days \n",
    "              'epsilon': [0.001, 0.01, 1], \n",
    "              'kernel' : ['linear']} # 'rbf', 'poly' were too time costly, \n",
    "\n",
    "# Hyperparameters to calibrate \n",
    "tuned_svr = GridSearchCV(model_svr, param_grid, cv = 5)"
   ]
  },
  {
   "cell_type": "code",
   "execution_count": 28,
   "id": "3537ddf9",
   "metadata": {},
   "outputs": [
    {
     "name": "stdout",
     "output_type": "stream",
     "text": [
      "{'C': 100, 'epsilon': 0.001, 'gamma': 0.01, 'kernel': 'linear'}\n",
      "Cross Validation scores (tuned):  [0.85538156 0.65150101 0.82817304 0.86258075 0.73680423] \n",
      "CV score =  0.7868881186249002\n",
      "\n",
      "Here are some performace metrics associated with the mean baseline and the tuned model:\n"
     ]
    },
    {
     "data": {
      "text/html": [
       "<div>\n",
       "<style scoped>\n",
       "    .dataframe tbody tr th:only-of-type {\n",
       "        vertical-align: middle;\n",
       "    }\n",
       "\n",
       "    .dataframe tbody tr th {\n",
       "        vertical-align: top;\n",
       "    }\n",
       "\n",
       "    .dataframe thead th {\n",
       "        text-align: right;\n",
       "    }\n",
       "</style>\n",
       "<table border=\"1\" class=\"dataframe\">\n",
       "  <thead>\n",
       "    <tr style=\"text-align: right;\">\n",
       "      <th></th>\n",
       "      <th>Test</th>\n",
       "      <th>MSE</th>\n",
       "      <th>RMSE</th>\n",
       "      <th>R-squared</th>\n",
       "    </tr>\n",
       "  </thead>\n",
       "  <tbody>\n",
       "    <tr>\n",
       "      <th>0</th>\n",
       "      <td>Naive Baseline</td>\n",
       "      <td>0.02372</td>\n",
       "      <td>0.15403</td>\n",
       "      <td>-0.00029</td>\n",
       "    </tr>\n",
       "    <tr>\n",
       "      <th>1</th>\n",
       "      <td>Dummy Baseline</td>\n",
       "      <td>0.02372</td>\n",
       "      <td>0.15403</td>\n",
       "      <td>-0.00029</td>\n",
       "    </tr>\n",
       "    <tr>\n",
       "      <th>2</th>\n",
       "      <td>SVR on Training</td>\n",
       "      <td>0.00352</td>\n",
       "      <td>0.05929</td>\n",
       "      <td>0.85246</td>\n",
       "    </tr>\n",
       "    <tr>\n",
       "      <th>3</th>\n",
       "      <td>SVR on Testing</td>\n",
       "      <td>0.00365</td>\n",
       "      <td>0.06038</td>\n",
       "      <td>0.84629</td>\n",
       "    </tr>\n",
       "  </tbody>\n",
       "</table>\n",
       "</div>"
      ],
      "text/plain": [
       "              Test      MSE     RMSE  R-squared\n",
       "0   Naive Baseline  0.02372  0.15403   -0.00029\n",
       "1   Dummy Baseline  0.02372  0.15403   -0.00029\n",
       "2  SVR on Training  0.00352  0.05929    0.85246\n",
       "3   SVR on Testing  0.00365  0.06038    0.84629"
      ]
     },
     "execution_count": 28,
     "metadata": {},
     "output_type": "execute_result"
    }
   ],
   "source": [
    "# Training the tuned model on training data\n",
    "#tuned_svr = tuned_svr.fit(X_train, y_train.iloc[:, 0].to_numpy())\n",
    "print(tuned_svr.best_params_)\n",
    "\n",
    "# Testing the model on training set and on testing set\n",
    "preds_train_tuned_svr = tuned_svr.predict(X_train)\n",
    "preds_test_tuned_svr = tuned_svr.predict(X_test)\n",
    "\n",
    "# Determining Cross validation scores\n",
    "score_tuned_svr = cross_val_score(tuned_svr, features, target.iloc[:, 0].to_numpy(), cv = 5)\n",
    "print(\"Cross Validation scores (tuned): \", score_tuned_svr, \"\\nCV score = \", average(score_tuned_svr)) \n",
    "\n",
    "# Measuring MSE \n",
    "MSE_training_preds = mean_squared_error(y_train, preds_train_tuned_svr)\n",
    "MSE_testing_preds = mean_squared_error(y_test, preds_test_tuned_svr)\n",
    "\n",
    "# Measuring RMSE \n",
    "RMSE_training_preds = np.sqrt(MSE_training_preds)\n",
    "RMSE_testing_preds = np.sqrt(MSE_testing_preds)\n",
    "\n",
    "# Measuring R-squared\n",
    "rsq_training_preds = r2_score(y_train, preds_train_tuned_svr)\n",
    "rsq_testing_preds = r2_score(y_test, preds_test_tuned_svr)\n",
    "\n",
    "\n",
    "scores = {'Test':  ['Naive Baseline', 'Dummy Baseline', 'SVR on Training', 'SVR on Testing'],\n",
    "          'MSE': [round(naive_MSE, 5), round(dummy_MSE, 5), round(MSE_training_preds, 5), round(MSE_testing_preds, 5)],\n",
    "          'RMSE': [round(naive_RMSE, 5), round(dummy_RMSE, 5), round(RMSE_training_preds, 5), round(RMSE_testing_preds, 5)],\n",
    "          'R-squared': [round(naive_rr, 5), round(dummy_rr, 5), round(rsq_training_preds, 5), round(rsq_testing_preds, 5)]\n",
    "        }\n",
    "\n",
    "scores_df = pd.DataFrame(scores)\n",
    "print(\"\\nHere are some performace metrics associated with the mean baseline and the tuned model:\")\n",
    "scores_df.head()"
   ]
  },
  {
   "cell_type": "code",
   "execution_count": null,
   "id": "93ed8b4c",
   "metadata": {},
   "outputs": [],
   "source": [
    "# Creating model with feature selection (PCA)\n",
    "pca = PCA(whiten = True,                                # Using uncorrelated components\n",
    "          random_state = 42)                            # Setting a seed\n",
    "\n",
    "model_pca_svr = make_pipeline(pca, tuned_svr)\n",
    "\n",
    "# Tuning model\n",
    "param_svr = { 'pca__n_components': [#5, 10, 15, 20, 25, tested all these, just making sure 30 components truly was the best\n",
    "                29, 30],\n",
    "            } # 30 indicates no reduction\n",
    "\n",
    "tuned_svr_pca = GridSearchCV(model_pca_svr, param_svr, cv = 5)\n",
    "\n",
    "# Trainning model on training data\n",
    "tuned_svr_pca = tuned_svr_pca.fit(X_train, y_train.iloc[:, 0].to_numpy())\n",
    "print(tuned_svr_pca.best_params_)\n",
    "\n",
    "# Testing model on training and testing set\n",
    "pca_train_tuned_prediction = tuned_svr_pca.predict(X_train)\n",
    "pca_test_tuned_prediction = tuned_svr_pca.predict(X_test)\n",
    "\n",
    "# Determining Cross validation scores\n",
    "#score_tuned_svr_pca = cross_val_score(tuned_svr_pca, features, target.iloc[:, 0].to_numpy(), cv = 5)\n",
    "#print(\"Cross Validation scores (tuned): \", score_tuned_svr_pca, \"\\nCV score = \", average(score_tuned_svr_pca)) \n",
    "\n",
    "# Measuring MSE \n",
    "MSE_training_preds_pca = mean_squared_error(y_train, pca_train_tuned_prediction)\n",
    "MSE_testing_preds_pca = mean_squared_error(y_test, pca_test_tuned_prediction)\n",
    "\n",
    "# Measuring RMSE \n",
    "RMSE_training_preds_pca = np.sqrt(MSE_training_preds_pca)\n",
    "RMSE_testing_preds_pca = np.sqrt(MSE_testing_preds_pca)\n",
    "\n",
    "# Measuring R-squared\n",
    "rsq_training_preds = r2_score(y_train, pca_train_tuned_prediction)\n",
    "rsq_testing_preds = r2_score(y_test, pca_test_tuned_prediction)\n",
    "\n",
    "\n",
    "scores = {'Test':  ['Naive Baseline', 'Dummy Baseline', 'SVR on Training', 'SVR on Testing'],\n",
    "          'MSE': [round(naive_MSE, 5), round(dummy_MSE, 5), round(MSE_training_preds, 5), round(MSE_testing_preds, 5)],\n",
    "          'RMSE': [round(naive_RMSE, 5), round(dummy_RSME, 5), round(RMSE_training_preds, 5), round(RMSE_testing_preds, 5)],\n",
    "          'R-squared': [round(naive_rr, 5), round(dummy_rr, 5), round(rsq_training_preds, 5), round(rsq_testing_preds, 5)]\n",
    "        }\n",
    "\n",
    "scores_df = pd.DataFrame(scores)\n",
    "print(\"\\nHere are some performace metrics associated with the mean baseline and the PCA/tuned model:\")\n",
    "scores_df.head()"
   ]
  },
  {
   "cell_type": "code",
   "execution_count": 23,
   "id": "6606e077",
   "metadata": {},
   "outputs": [
    {
     "name": "stdout",
     "output_type": "stream",
     "text": [
      "\n",
      "Here are some performace metrics associated with the mean baseline and the PCA/tuned model:\n"
     ]
    },
    {
     "data": {
      "text/html": [
       "<div>\n",
       "<style scoped>\n",
       "    .dataframe tbody tr th:only-of-type {\n",
       "        vertical-align: middle;\n",
       "    }\n",
       "\n",
       "    .dataframe tbody tr th {\n",
       "        vertical-align: top;\n",
       "    }\n",
       "\n",
       "    .dataframe thead th {\n",
       "        text-align: right;\n",
       "    }\n",
       "</style>\n",
       "<table border=\"1\" class=\"dataframe\">\n",
       "  <thead>\n",
       "    <tr style=\"text-align: right;\">\n",
       "      <th></th>\n",
       "      <th>Test</th>\n",
       "      <th>MSE</th>\n",
       "      <th>RMSE</th>\n",
       "      <th>R-squared</th>\n",
       "    </tr>\n",
       "  </thead>\n",
       "  <tbody>\n",
       "    <tr>\n",
       "      <th>0</th>\n",
       "      <td>Naive Baseline</td>\n",
       "      <td>0.02372</td>\n",
       "      <td>0.15403</td>\n",
       "      <td>-0.00029</td>\n",
       "    </tr>\n",
       "    <tr>\n",
       "      <th>1</th>\n",
       "      <td>Dummy Baseline</td>\n",
       "      <td>0.02372</td>\n",
       "      <td>0.15403</td>\n",
       "      <td>-0.00029</td>\n",
       "    </tr>\n",
       "    <tr>\n",
       "      <th>2</th>\n",
       "      <td>SVR on Training</td>\n",
       "      <td>0.00352</td>\n",
       "      <td>0.05929</td>\n",
       "      <td>0.85317</td>\n",
       "    </tr>\n",
       "    <tr>\n",
       "      <th>3</th>\n",
       "      <td>SVR on Testing</td>\n",
       "      <td>0.00365</td>\n",
       "      <td>0.06038</td>\n",
       "      <td>0.84719</td>\n",
       "    </tr>\n",
       "  </tbody>\n",
       "</table>\n",
       "</div>"
      ],
      "text/plain": [
       "              Test      MSE     RMSE  R-squared\n",
       "0   Naive Baseline  0.02372  0.15403   -0.00029\n",
       "1   Dummy Baseline  0.02372  0.15403   -0.00029\n",
       "2  SVR on Training  0.00352  0.05929    0.85317\n",
       "3   SVR on Testing  0.00365  0.06038    0.84719"
      ]
     },
     "execution_count": 23,
     "metadata": {},
     "output_type": "execute_result"
    }
   ],
   "source": [
    "# I stupidly decided to rerun this.tried to rerun this at 9:00 am the morning this was due and it was getting too close for comfort. \n",
    "# But it used 30 components and gave the output below."
   ]
  },
  {
   "cell_type": "code",
   "execution_count": 17,
   "id": "76d462d1",
   "metadata": {
    "scrolled": false
   },
   "outputs": [
    {
     "data": {
      "text/plain": [
       "Text(0, 0.5, 'Fitted values')"
      ]
     },
     "execution_count": 17,
     "metadata": {},
     "output_type": "execute_result"
    },
    {
     "data": {
      "image/png": "[encoded data removed]",
      "text/plain": [
       "<Figure size 1440x1440 with 5 Axes>"
      ]
     },
     "metadata": {
      "needs_background": "light"
     },
     "output_type": "display_data"
    }
   ],
   "source": [
    "fig = plt.figure(figsize = (20,20))\n",
    "fig.subplots_adjust( left = 0, right = 1, bottom = 0, top = 1, hspace =0.5, wspace = 0.5)\n",
    "\n",
    "ax = fig.add_subplot(5,1, 1)\n",
    "plt.scatter(y_test, y_baseline, color = 'red')\n",
    "plt.plot(range(1,4), range(1,4),  color = 'green')\n",
    "plt.title(\"The naive baseline\", fontsize=18)\n",
    "plt.xlabel('True values', fontsize = 16)\n",
    "plt.ylabel('Fitted values', fontsize = 16)\n",
    "\n",
    "ax = fig.add_subplot(5,1, 2)\n",
    "plt.scatter(y_test, y_predict_dummy_mean, color = 'magenta')\n",
    "plt.plot(range(1,4), range(1,4),  color = 'green')\n",
    "plt.title(\"The dummy regressor baseline\", fontsize=18)\n",
    "plt.xlabel('True values', fontsize = 16)\n",
    "plt.ylabel('Fitted values', fontsize = 16)\n",
    "\n",
    "\n",
    "ax = fig.add_subplot(5,1, 3)\n",
    "plt.scatter(y_test, preds_test_untuned_svr, color = 'blue')\n",
    "plt.plot(range(1,4), range(1,4),  color = 'green')\n",
    "plt.title(\"The untuned SVR model\", fontsize=18)\n",
    "plt.xlabel('True values', fontsize = 16)\n",
    "plt.ylabel('Fitted values', fontsize = 16)\n",
    "\n",
    "ax = fig.add_subplot(5,1, 4)\n",
    "plt.scatter(y_test, preds_test_tuned_svr, color = 'navy')\n",
    "plt.plot(range(1,4), range(1,4),  color = 'green')\n",
    "plt.title(\"The tuned SVR model\", fontsize=18)\n",
    "plt.xlabel('True values', fontsize = 16)\n",
    "plt.ylabel('Fitted values', fontsize = 16)\n",
    "\n",
    "ax = fig.add_subplot(5,1, 5)\n",
    "plt.scatter(y_test, pca_test_tuned_prediction, color = 'navy')\n",
    "plt.plot(range(1,4), range(1,4),  color = 'green')\n",
    "plt.title(\"The tuned SVR model with PCA feature selection\", fontsize=18)\n",
    "plt.xlabel('True values', fontsize = 16)\n",
    "plt.ylabel('Fitted values', fontsize = 16)"
   ]
  },
  {
   "cell_type": "code",
   "execution_count": null,
   "id": "8b4ee5c2",
   "metadata": {},
   "outputs": [],
   "source": []
  }
 ],
 "metadata": {
  "kernelspec": {
   "display_name": "Python 3 (ipykernel)",
   "language": "python",
   "name": "python3"
  },
  "language_info": {
   "codemirror_mode": {
    "name": "ipython",
    "version": 3
   },
   "file_extension": ".py",
   "mimetype": "text/x-python",
   "name": "python",
   "nbconvert_exporter": "python",
   "pygments_lexer": "ipython3",
   "version": "3.9.13"
  }
 },
 "nbformat": 4,
 "nbformat_minor": 5
}
