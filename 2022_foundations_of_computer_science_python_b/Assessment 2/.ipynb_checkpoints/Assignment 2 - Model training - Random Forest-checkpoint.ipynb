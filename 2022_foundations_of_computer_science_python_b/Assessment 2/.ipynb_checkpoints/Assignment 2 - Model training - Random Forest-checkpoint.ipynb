{
 "cells": [
  {
   "cell_type": "markdown",
   "id": "2ae14a21",
   "metadata": {},
   "source": [
    "# Random Forest Regressor"
   ]
  },
  {
   "cell_type": "code",
   "execution_count": 1,
   "id": "9db551c6",
   "metadata": {},
   "outputs": [],
   "source": [
    "# Loading modules required for data manipulation an EDA\n",
    "import pandas as pd\n",
    "import numpy as np\n",
    "import matplotlib.pyplot as plt\n",
    "import seaborn as sns\n",
    "\n",
    "# Loading modules required for modelling\n",
    "from sklearn.ensemble import RandomForestRegressor      # To access the Random forest regressor\n",
    "from sklearn.model_selection import KFold               # To create training/testing sets\n",
    "from sklearn.model_selection import GridSearchCV        # To creat a tuning grid for hyperparameters\n",
    "from sklearn.decomposition import PCA                   # Feature selection tool\n",
    "from sklearn.pipeline import make_pipeline              # Lets us build a pipeline\n",
    "\n",
    "# Loading modules to assess error\n",
    "from sklearn.metrics import mean_squared_error          # To measure the mean of residual errors \n",
    "from sklearn.metrics import r2_score                    # To measure the accuracy of the fit\n",
    "\n",
    "# loading modules to assess model\n",
    "from sklearn.model_selection import cross_val_score     # To determine the model's cross validation accuracy scores\n",
    "from sklearn.metrics import accuracy_score              # To determine the model's accuracy\n",
    "from sklearn.dummy import DummyRegressor                # To create a regressor baseline\n",
    "\n",
    "# Loading modules to plot confusion matrix\n",
    "import matplotlib.pyplot as plt                         # This one\n",
    "import seaborn as sns                                   # ... and this one are used to create figure objects\n",
    "from sklearn.metrics import confusion_matrix            # To create confusion matrix\n",
    "%matplotlib inline"
   ]
  },
  {
   "cell_type": "code",
   "execution_count": 2,
   "id": "f0dd0f59",
   "metadata": {},
   "outputs": [],
   "source": [
    "# Importing Data\n",
    "features = pd.read_csv('X.csv')\n",
    "target = pd.read_csv('y.csv')\n",
    "\n",
    "# Random forests are good at finding the latent information from features"
   ]
  },
  {
   "cell_type": "markdown",
   "id": "a1b724d7",
   "metadata": {},
   "source": [
    "## Data Segregation\n",
    "Splitting the data into 5 folds (80/20 split) and eabling reproducibility"
   ]
  },
  {
   "cell_type": "code",
   "execution_count": 38,
   "id": "8c1800ba",
   "metadata": {},
   "outputs": [
    {
     "name": "stdout",
     "output_type": "stream",
     "text": [
      "Number of splits:  5\n",
      "Dataset shapes:  (822, 30) and  (822, 1)\n",
      "Training set shape:  (658, 30) and (658, 1)\n",
      "Testing set shape:  (164, 30) and  (164, 1)\n"
     ]
    }
   ],
   "source": [
    "# Creating numpy arrays of data to get k-folds \n",
    "X = np.array(features)\n",
    "y = np.array(target)\n",
    "kf = KFold(n_splits = 5, random_state = 42, shuffle = True)\n",
    "print('Number of splits: ', kf.get_n_splits(X))\n",
    "\n",
    "# Assigning the training and testing sets data based on the splits\n",
    "for train_index, test_index in kf.split(X):\n",
    "    X_train, X_test = X[train_index], X[test_index]\n",
    "    y_train, y_test = y[train_index], y[test_index]\n",
    "\n",
    "# Returning array back to Dataframe\n",
    "X_train = pd.DataFrame(X_train)\n",
    "y_train = pd.DataFrame(y_train)\n",
    "X_test = pd.DataFrame(X_test)\n",
    "y_test = pd.DataFrame(y_test)\n",
    "\n",
    "# Assessing sets\n",
    "print('Dataset shapes: ', features.shape, \"and \", target.shape)\n",
    "print('Training set shape: ', X_train.shape, \"and\", y_train.shape)\n",
    "print('Testing set shape: ', X_test.shape, \"and \", y_test.shape)"
   ]
  },
  {
   "cell_type": "markdown",
   "id": "99db1248",
   "metadata": {},
   "source": [
    "#### Creating Baseline"
   ]
  },
  {
   "cell_type": "code",
   "execution_count": 39,
   "id": "a4eb57a5",
   "metadata": {},
   "outputs": [],
   "source": [
    "# Creating naive baseline to compare with\n",
    "baseline = np.mean(y_train.iloc[:, 0].to_numpy())\n",
    "y_baseline = np.repeat(baseline, len(y_test.iloc[:, 0].to_numpy()))\n",
    "naive_MSE = mean_squared_error(y_test, y_baseline)\n",
    "naive_RMSE = np.sqrt(naive_MSE)\n",
    "naive_rr = r2_score(y_test, y_baseline)\n",
    "\n",
    "# Creating a DummyRegressor baseline\n",
    "dummy_mean = DummyRegressor(strategy = 'mean').fit(X_train, y_train)\n",
    "y_predict_dummy_mean = dummy_mean.predict(X_test)\n",
    "dummy_MSE = mean_squared_error(y_test, y_predict_dummy_mean)\n",
    "dummy_RMSE = np.sqrt(dummy_MSE)\n",
    "dummy_rr = r2_score(y_test, y_predict_dummy_mean)"
   ]
  },
  {
   "cell_type": "markdown",
   "id": "5609501e",
   "metadata": {},
   "source": [
    "## Training Model\n",
    "Deviating from the default slightly by setting the number of trees to 200 and the maximum depth to 4. Reproducibility has also been ensured."
   ]
  },
  {
   "cell_type": "code",
   "execution_count": 44,
   "id": "41c517f0",
   "metadata": {},
   "outputs": [
    {
     "name": "stdout",
     "output_type": "stream",
     "text": [
      "Before optimization with tuning:  {'bootstrap': True, 'ccp_alpha': 0.0, 'criterion': 'squared_error', 'max_depth': 4, 'max_features': 1.0, 'max_leaf_nodes': None, 'max_samples': None, 'min_impurity_decrease': 0.0, 'min_samples_leaf': 1, 'min_samples_split': 2, 'min_weight_fraction_leaf': 0.0, 'n_estimators': 200, 'n_jobs': None, 'oob_score': False, 'random_state': 42, 'verbose': 0, 'warm_start': False}\n"
     ]
    }
   ],
   "source": [
    "# Creating model\n",
    "model_rf = RandomForestRegressor(n_estimators = 200, max_depth = 4, random_state = 42)\n",
    "print(\"Before optimization with tuning: \", model_rf.get_params())"
   ]
  },
  {
   "cell_type": "code",
   "execution_count": 45,
   "id": "1b866e5d",
   "metadata": {},
   "outputs": [
    {
     "data": {
      "text/plain": [
       "{'bootstrap': True,\n",
       " 'ccp_alpha': 0.0,\n",
       " 'criterion': 'squared_error',\n",
       " 'max_depth': 4,\n",
       " 'max_features': 1.0,\n",
       " 'max_leaf_nodes': None,\n",
       " 'max_samples': None,\n",
       " 'min_impurity_decrease': 0.0,\n",
       " 'min_samples_leaf': 1,\n",
       " 'min_samples_split': 2,\n",
       " 'min_weight_fraction_leaf': 0.0,\n",
       " 'n_estimators': 200,\n",
       " 'n_jobs': None,\n",
       " 'oob_score': False,\n",
       " 'random_state': 42,\n",
       " 'verbose': 0,\n",
       " 'warm_start': False}"
      ]
     },
     "execution_count": 45,
     "metadata": {},
     "output_type": "execute_result"
    }
   ],
   "source": [
    "# Training the model on training data\n",
    "model_rf.fit(X_train, y_train.iloc[:, 0].to_numpy())\n",
    "model_rf.get_params()"
   ]
  },
  {
   "cell_type": "code",
   "execution_count": 46,
   "id": "0ec2b6af",
   "metadata": {},
   "outputs": [
    {
     "name": "stdout",
     "output_type": "stream",
     "text": [
      "Cross Validation scores (untuned):  [0.90770677 0.22289526 0.81462055 0.86609359 0.85101234] \n",
      "CV score =  0.7324657025457155\n"
     ]
    }
   ],
   "source": [
    "# Deteriming cross fold validation scores\n",
    "    # Creating a function to calculate the average\n",
    "def average(lst):\n",
    "    return sum(lst) / len(lst)\n",
    "\n",
    "score_untuned_rf = cross_val_score(model_rf, features, target.iloc[:, 0].to_numpy(), cv = 5)\n",
    "print(\"Cross Validation scores (untuned): \", score_untuned_rf, \"\\nCV score = \", average(score_untuned_rf)) "
   ]
  },
  {
   "cell_type": "code",
   "execution_count": 47,
   "id": "14f292fa",
   "metadata": {},
   "outputs": [
    {
     "name": "stdout",
     "output_type": "stream",
     "text": [
      "\n",
      "Here are some performace metrics associated with the mean baseline and the untuned model:\n"
     ]
    },
    {
     "data": {
      "text/html": [
       "<div>\n",
       "<style scoped>\n",
       "    .dataframe tbody tr th:only-of-type {\n",
       "        vertical-align: middle;\n",
       "    }\n",
       "\n",
       "    .dataframe tbody tr th {\n",
       "        vertical-align: top;\n",
       "    }\n",
       "\n",
       "    .dataframe thead th {\n",
       "        text-align: right;\n",
       "    }\n",
       "</style>\n",
       "<table border=\"1\" class=\"dataframe\">\n",
       "  <thead>\n",
       "    <tr style=\"text-align: right;\">\n",
       "      <th></th>\n",
       "      <th>Test</th>\n",
       "      <th>MSE</th>\n",
       "      <th>RMSE</th>\n",
       "      <th>R-squared</th>\n",
       "    </tr>\n",
       "  </thead>\n",
       "  <tbody>\n",
       "    <tr>\n",
       "      <th>0</th>\n",
       "      <td>Naive Baseline</td>\n",
       "      <td>0.02372</td>\n",
       "      <td>0.15403</td>\n",
       "      <td>-0.00029</td>\n",
       "    </tr>\n",
       "    <tr>\n",
       "      <th>1</th>\n",
       "      <td>Dummy Baseline</td>\n",
       "      <td>0.02372</td>\n",
       "      <td>0.15403</td>\n",
       "      <td>-0.00029</td>\n",
       "    </tr>\n",
       "    <tr>\n",
       "      <th>2</th>\n",
       "      <td>Random Forest on Training</td>\n",
       "      <td>0.00196</td>\n",
       "      <td>0.04425</td>\n",
       "      <td>0.91784</td>\n",
       "    </tr>\n",
       "    <tr>\n",
       "      <th>3</th>\n",
       "      <td>Random Forest on Testing</td>\n",
       "      <td>0.00340</td>\n",
       "      <td>0.05829</td>\n",
       "      <td>0.85674</td>\n",
       "    </tr>\n",
       "  </tbody>\n",
       "</table>\n",
       "</div>"
      ],
      "text/plain": [
       "                        Test      MSE     RMSE  R-squared\n",
       "0             Naive Baseline  0.02372  0.15403   -0.00029\n",
       "1             Dummy Baseline  0.02372  0.15403   -0.00029\n",
       "2  Random Forest on Training  0.00196  0.04425    0.91784\n",
       "3   Random Forest on Testing  0.00340  0.05829    0.85674"
      ]
     },
     "execution_count": 47,
     "metadata": {},
     "output_type": "execute_result"
    }
   ],
   "source": [
    "# Making prediction and assessing\n",
    "preds_train_untuned_rf = model_rf.predict(X_train)\n",
    "preds_test_untuned_rf = model_rf.predict(X_test)\n",
    "\n",
    "# Measuring MSE\n",
    "MSE_training_preds = mean_squared_error(y_train, preds_train_untuned_rf)\n",
    "MSE_testing_preds = mean_squared_error(y_test, preds_test_untuned_rf)\n",
    "\n",
    "# Measuring RMSE\n",
    "RMSE_training_preds = np.sqrt(MSE_training_preds)\n",
    "RMSE_testing_preds = np.sqrt(MSE_testing_preds)\n",
    "\n",
    "# Measuring R-squared\n",
    "rsq_training_preds = r2_score(y_train, preds_train_untuned_rf)\n",
    "rsq_testing_preds = r2_score(y_test, preds_test_untuned_rf)\n",
    "\n",
    "\n",
    "scores = {'Test':  ['Naive Baseline', 'Dummy Baseline', 'Random Forest on Training', 'Random Forest on Testing'],\n",
    "          'MSE': [round(naive_MSE, 5), round(dummy_MSE, 5), round(MSE_training_preds, 5), round(MSE_testing_preds, 5)],\n",
    "          'RMSE': [round(naive_RMSE, 5), round(dummy_RMSE, 5), round(RMSE_training_preds, 5), round(RMSE_testing_preds, 5)],\n",
    "          'R-squared': [round(naive_rr, 5), round(dummy_rr, 5), round(rsq_training_preds, 5), round(rsq_testing_preds, 5)]\n",
    "        }\n",
    "\n",
    "scores_df = pd.DataFrame(scores)\n",
    "print(\"\\nHere are some performace metrics associated with the mean baseline and the untuned model:\")\n",
    "scores_df.head()"
   ]
  },
  {
   "cell_type": "markdown",
   "id": "9fb70bed",
   "metadata": {},
   "source": [
    "## Model Tuning\n",
    "The above model may have some overfitting issues, but after many hours no solution has been obtained. More data required, but not the best model choice anyway. (Good thing I decided to try learn an extra!)."
   ]
  },
  {
   "cell_type": "code",
   "execution_count": 51,
   "id": "1e534df9",
   "metadata": {},
   "outputs": [
    {
     "name": "stdout",
     "output_type": "stream",
     "text": [
      "{'max_depth': 10, 'max_features': 10, 'n_estimators': 500}\n",
      "Cross Validation scores (tuned):  [0.83310556 0.14649046 0.85909778 0.88824993 0.82016326] \n",
      "CV score =  0.7094213967310998\n"
     ]
    }
   ],
   "source": [
    "# Creatinga grid of hyperparameters\n",
    "grid_rf = {'n_estimators': [100, 200, 500],\n",
    "           'max_depth': [4, 7, 10], # 11 caused overfitting issues\n",
    "           'max_features': [1, 5, 10],\n",
    "           }\n",
    "\n",
    "# Tuning hyperparameters\n",
    "tuned_rf = GridSearchCV(model_rf, grid_rf, cv = 5)\n",
    "\n",
    "# Building tuned model on training data\n",
    "tuned_rf.fit(X_train, y_train.iloc[:, 0].to_numpy()) \n",
    "print(tuned_rf.best_params_)\n",
    "\n",
    "# Deteriming cross fold validation scores\n",
    "score_tuned_rf = cross_val_score(tuned_rf, features, target.iloc[:, 0].to_numpy(), cv = 5)\n",
    "print(\"Cross Validation scores (tuned): \", score_tuned_rf, \"\\nCV score = \", average(score_tuned_rf)) "
   ]
  },
  {
   "cell_type": "code",
   "execution_count": 52,
   "id": "a4cdbf0d",
   "metadata": {},
   "outputs": [
    {
     "name": "stdout",
     "output_type": "stream",
     "text": [
      "\n",
      "Here are some performace metrics associated with the mean baseline and the tuned model:\n"
     ]
    },
    {
     "data": {
      "text/html": [
       "<div>\n",
       "<style scoped>\n",
       "    .dataframe tbody tr th:only-of-type {\n",
       "        vertical-align: middle;\n",
       "    }\n",
       "\n",
       "    .dataframe tbody tr th {\n",
       "        vertical-align: top;\n",
       "    }\n",
       "\n",
       "    .dataframe thead th {\n",
       "        text-align: right;\n",
       "    }\n",
       "</style>\n",
       "<table border=\"1\" class=\"dataframe\">\n",
       "  <thead>\n",
       "    <tr style=\"text-align: right;\">\n",
       "      <th></th>\n",
       "      <th>Test</th>\n",
       "      <th>MSE</th>\n",
       "      <th>RMSE</th>\n",
       "      <th>R-squared</th>\n",
       "    </tr>\n",
       "  </thead>\n",
       "  <tbody>\n",
       "    <tr>\n",
       "      <th>0</th>\n",
       "      <td>Naive Baseline</td>\n",
       "      <td>0.02372</td>\n",
       "      <td>0.15403</td>\n",
       "      <td>-0.00029</td>\n",
       "    </tr>\n",
       "    <tr>\n",
       "      <th>1</th>\n",
       "      <td>Dummy Baseline</td>\n",
       "      <td>0.02372</td>\n",
       "      <td>0.15403</td>\n",
       "      <td>-0.00029</td>\n",
       "    </tr>\n",
       "    <tr>\n",
       "      <th>2</th>\n",
       "      <td>Random Forest on Training</td>\n",
       "      <td>0.00049</td>\n",
       "      <td>0.02221</td>\n",
       "      <td>0.97930</td>\n",
       "    </tr>\n",
       "    <tr>\n",
       "      <th>3</th>\n",
       "      <td>Random Forest on Testing</td>\n",
       "      <td>0.00261</td>\n",
       "      <td>0.05105</td>\n",
       "      <td>0.89013</td>\n",
       "    </tr>\n",
       "  </tbody>\n",
       "</table>\n",
       "</div>"
      ],
      "text/plain": [
       "                        Test      MSE     RMSE  R-squared\n",
       "0             Naive Baseline  0.02372  0.15403   -0.00029\n",
       "1             Dummy Baseline  0.02372  0.15403   -0.00029\n",
       "2  Random Forest on Training  0.00049  0.02221    0.97930\n",
       "3   Random Forest on Testing  0.00261  0.05105    0.89013"
      ]
     },
     "execution_count": 52,
     "metadata": {},
     "output_type": "execute_result"
    }
   ],
   "source": [
    "# Making prediction and assessing tuned model\n",
    "preds_train_tuned_rf = tuned_rf.predict(X_train)\n",
    "preds_test_tuned_rf = tuned_rf.predict(X_test)\n",
    "\n",
    "# Measuring MSE\n",
    "MSE_training_preds = mean_squared_error(y_train, preds_train_tuned_rf)\n",
    "MSE_testing_preds = mean_squared_error(y_test, preds_test_tuned_rf)\n",
    "\n",
    "# Measuring RMSE\n",
    "RMSE_training_preds = np.sqrt(MSE_training_preds)\n",
    "RMSE_testing_preds = np.sqrt(MSE_testing_preds)\n",
    "\n",
    "# Measuring R-squared\n",
    "rsq_training_preds = r2_score(y_train, preds_train_tuned_rf)\n",
    "rsq_testing_preds = r2_score(y_test, preds_test_tuned_rf)\n",
    "\n",
    "\n",
    "scores = {'Test':  ['Naive Baseline', 'Dummy Baseline', 'Random Forest on Training', 'Random Forest on Testing'],\n",
    "          'MSE': [round(naive_MSE, 5), round(dummy_MSE, 5), round(MSE_training_preds, 5), round(MSE_testing_preds, 5)],\n",
    "          'RMSE': [round(naive_RMSE, 5), round(dummy_RMSE, 5), round(RMSE_training_preds, 5), round(RMSE_testing_preds, 5)],\n",
    "          'R-squared': [round(naive_rr, 5), round(dummy_rr, 5), round(rsq_training_preds, 5), round(rsq_testing_preds, 5)]\n",
    "        }\n",
    "\n",
    "scores_df = pd.DataFrame(scores)\n",
    "print(\"\\nHere are some performace metrics associated with the mean baseline and the tuned model:\")\n",
    "scores_df.head()"
   ]
  },
  {
   "cell_type": "code",
   "execution_count": 57,
   "id": "c7f43113",
   "metadata": {
    "scrolled": false
   },
   "outputs": [
    {
     "name": "stdout",
     "output_type": "stream",
     "text": [
      "{'pca__n_components': 29}\n",
      "\n",
      "Here are some performace metrics associated with the mean baseline and the PCA/tuned model:\n"
     ]
    },
    {
     "data": {
      "text/html": [
       "<div>\n",
       "<style scoped>\n",
       "    .dataframe tbody tr th:only-of-type {\n",
       "        vertical-align: middle;\n",
       "    }\n",
       "\n",
       "    .dataframe tbody tr th {\n",
       "        vertical-align: top;\n",
       "    }\n",
       "\n",
       "    .dataframe thead th {\n",
       "        text-align: right;\n",
       "    }\n",
       "</style>\n",
       "<table border=\"1\" class=\"dataframe\">\n",
       "  <thead>\n",
       "    <tr style=\"text-align: right;\">\n",
       "      <th></th>\n",
       "      <th>Test</th>\n",
       "      <th>MSE</th>\n",
       "      <th>RMSE</th>\n",
       "      <th>R-squared</th>\n",
       "    </tr>\n",
       "  </thead>\n",
       "  <tbody>\n",
       "    <tr>\n",
       "      <th>0</th>\n",
       "      <td>Naive Baseline</td>\n",
       "      <td>0.02372</td>\n",
       "      <td>0.15403</td>\n",
       "      <td>-0.00029</td>\n",
       "    </tr>\n",
       "    <tr>\n",
       "      <th>1</th>\n",
       "      <td>Dummy Baseline</td>\n",
       "      <td>0.02372</td>\n",
       "      <td>0.15403</td>\n",
       "      <td>-0.00029</td>\n",
       "    </tr>\n",
       "    <tr>\n",
       "      <th>2</th>\n",
       "      <td>Random Forest on Training</td>\n",
       "      <td>0.00049</td>\n",
       "      <td>0.02221</td>\n",
       "      <td>0.94063</td>\n",
       "    </tr>\n",
       "    <tr>\n",
       "      <th>3</th>\n",
       "      <td>Random Forest on Testing</td>\n",
       "      <td>0.00261</td>\n",
       "      <td>0.05105</td>\n",
       "      <td>0.71865</td>\n",
       "    </tr>\n",
       "  </tbody>\n",
       "</table>\n",
       "</div>"
      ],
      "text/plain": [
       "                        Test      MSE     RMSE  R-squared\n",
       "0             Naive Baseline  0.02372  0.15403   -0.00029\n",
       "1             Dummy Baseline  0.02372  0.15403   -0.00029\n",
       "2  Random Forest on Training  0.00049  0.02221    0.94063\n",
       "3   Random Forest on Testing  0.00261  0.05105    0.71865"
      ]
     },
     "execution_count": 57,
     "metadata": {},
     "output_type": "execute_result"
    }
   ],
   "source": [
    "# Creating model with feature selection (PCA)\n",
    "pca = PCA(whiten = True,                                # Using uncorrelated components\n",
    "          random_state = 42)                            # Setting a seed\n",
    "\n",
    "model_pca_rf = make_pipeline(pca, tuned_rf)\n",
    "\n",
    "# Tuning model\n",
    "grid_rf = {'pca__n_components': [#1, 5, 10, 15, \n",
    "                                20, 25, 27, 28, 29, 30],\n",
    "           }\n",
    "\n",
    "tuned_rf_pca = GridSearchCV(model_pca_rf, grid_rf, cv = 5)\n",
    "\n",
    "# Trainning model on trainning data\n",
    "tuned_rf_pca.fit(X_train, y_train.iloc[:, 0].to_numpy())\n",
    "print(tuned_rf_pca.best_params_)\n",
    "\n",
    "# Testing model on training and testing set\n",
    "pca_train_untuned_prediction = tuned_rf_pca.predict(X_train)\n",
    "pca_test_untuned_prediction = tuned_rf_pca.predict(X_test)\n",
    "\n",
    "# Measuring MSE \n",
    "RMSE_training_preds_pca = mean_squared_error(y_train, pca_train_untuned_prediction)\n",
    "RMSE_testing_preds_pca = mean_squared_error(y_test, pca_test_untuned_prediction)\n",
    "\n",
    "# Measuring RMSE \n",
    "RMSE_training_preds_pca = np.sqrt(RMSE_training_preds_pca)\n",
    "RMSE_testing_preds_pca = np.sqrt(RMSE_testing_preds_pca)\n",
    "\n",
    "# Measuring R-squared\n",
    "rsq_training_preds = r2_score(y_train, pca_train_untuned_prediction)\n",
    "rsq_testing_preds = r2_score(y_test, pca_test_untuned_prediction)\n",
    "\n",
    "\n",
    "scores = {'Test':  ['Naive Baseline', 'Dummy Baseline', 'Random Forest on Training', 'Random Forest on Testing'],\n",
    "          'MSE': [round(naive_MSE, 5), round(dummy_MSE, 5), round(MSE_training_preds, 5), round(MSE_testing_preds, 5)],\n",
    "          'RMSE': [round(naive_RMSE, 5), round(dummy_RMSE, 5), round(RMSE_training_preds, 5), round(RMSE_testing_preds, 5)],\n",
    "          'R-squared': [round(naive_rr, 5), round(dummy_rr, 5), round(rsq_training_preds, 5), round(rsq_testing_preds, 5)]\n",
    "        }\n",
    "\n",
    "scores_df = pd.DataFrame(scores)\n",
    "print(\"\\nHere are some performace metrics associated with the mean baseline and the PCA/tuned model:\")\n",
    "scores_df.head()"
   ]
  },
  {
   "cell_type": "code",
   "execution_count": 59,
   "id": "6b82342f",
   "metadata": {},
   "outputs": [
    {
     "data": {
      "text/plain": [
       "Text(0, 0.5, 'Fitted values')"
      ]
     },
     "execution_count": 59,
     "metadata": {},
     "output_type": "execute_result"
    },
    {
     "data": {
      "image/png": "[encoded data removed]",
      "text/plain": [
       "<Figure size 1440x1440 with 5 Axes>"
      ]
     },
     "metadata": {
      "needs_background": "light"
     },
     "output_type": "display_data"
    }
   ],
   "source": [
    "# Plotting model\n",
    "fig = plt.figure(figsize = (20,20))\n",
    "fig.subplots_adjust( left = 0, right = 1, bottom = 0, top = 1, hspace =0.5, wspace = 0.5)\n",
    "\n",
    "ax = fig.add_subplot(5, 1, 1)\n",
    "plt.scatter(y_test, y_baseline, color = 'red')\n",
    "plt.plot(range(1,4), range(1,4),  color = 'green')\n",
    "plt.title(\"The naive baseline\", fontsize=18)\n",
    "plt.xlabel('True values', fontsize = 16)\n",
    "plt.ylabel('Fitted values', fontsize = 16)\n",
    "\n",
    "ax = fig.add_subplot(5, 1, 2)\n",
    "plt.scatter(y_test, y_predict_dummy_mean, color = 'magenta')\n",
    "plt.plot(range(1,4), range(1,4),  color = 'green')\n",
    "plt.title(\"The dummy regressor baseline\", fontsize=18)\n",
    "plt.xlabel('True values', fontsize = 16)\n",
    "plt.ylabel('Fitted values', fontsize = 16)\n",
    "\n",
    "ax = fig.add_subplot(5, 1, 3)\n",
    "plt.scatter(y_test, preds_test_untuned_rf, color = 'blue')\n",
    "plt.plot(range(1,4), range(1,4),  color = 'green')\n",
    "plt.title(\"The untuned random forest regression model\", fontsize=18)\n",
    "plt.xlabel('True values', fontsize = 16)\n",
    "plt.ylabel('Fitted values', fontsize = 16)\n",
    "\n",
    "ax = fig.add_subplot(5, 1, 4)\n",
    "plt.scatter(y_test, preds_test_tuned_rf, color = 'NAVY')\n",
    "plt.plot(range(1,4), range(1,4),  color = 'green')\n",
    "plt.title(\"The tuned random forest regression model\", fontsize=18)\n",
    "plt.xlabel('True values', fontsize = 16)\n",
    "plt.ylabel('Fitted values', fontsize = 16)\n",
    "\n",
    "ax = fig.add_subplot(5, 1, 5)\n",
    "plt.scatter(y_test, pca_test_untuned_prediction, color = 'black')\n",
    "plt.plot(range(1,4), range(1,4),  color = 'green')\n",
    "plt.title(\"The tuned random forest regression model using principal components\", fontsize=18)\n",
    "plt.xlabel('True values', fontsize = 16)\n",
    "plt.ylabel('Fitted values', fontsize = 16)"
   ]
  },
  {
   "cell_type": "code",
   "execution_count": null,
   "id": "90a08a1b",
   "metadata": {},
   "outputs": [],
   "source": []
  }
 ],
 "metadata": {
  "kernelspec": {
   "display_name": "Python 3 (ipykernel)",
   "language": "python",
   "name": "python3"
  },
  "language_info": {
   "codemirror_mode": {
    "name": "ipython",
    "version": 3
   },
   "file_extension": ".py",
   "mimetype": "text/x-python",
   "name": "python",
   "nbconvert_exporter": "python",
   "pygments_lexer": "ipython3",
   "version": "3.9.13"
  }
 },
 "nbformat": 4,
 "nbformat_minor": 5
}
