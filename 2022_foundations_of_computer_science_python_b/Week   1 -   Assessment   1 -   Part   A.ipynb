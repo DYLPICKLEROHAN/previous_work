{
 "cells": [
  {
   "cell_type": "markdown",
   "id": "05fd2f23",
   "metadata": {},
   "source": [
    "Dylan Rohan - a1844790\n",
    "***"
   ]
  },
  {
   "cell_type": "markdown",
   "id": "86bfbc52",
   "metadata": {},
   "source": [
    "## Week 1 - Assessment 1 - Part A"
   ]
  },
  {
   "cell_type": "markdown",
   "id": "466ec15c",
   "metadata": {},
   "source": [
    "### Section 1 -  Inheritance Relationship Demonstration"
   ]
  },
  {
   "cell_type": "markdown",
   "id": "6b5c7a59",
   "metadata": {},
   "source": [
    "To demonstrate the application of inheritance relationships, I have decided to use the real life entity of 'food' as my superclass. I've given the class name, kind, and weight arguments. I then introduced three subclasses of the superclass; fruit, vegetable, and chocolate. These subclasses have an additional taste arguement, additionally chocolate has a brand arguement. \n",
    "\n",
    "I have created a categorising function and weight description function for the food superclass. A categorising function and flavour function for the fruit and vegetable classes. And flavour and producer description functions for the chocolate subclass."
   ]
  },
  {
   "cell_type": "code",
   "execution_count": 82,
   "id": "2458dbe0",
   "metadata": {},
   "outputs": [
    {
     "name": "stdout",
     "output_type": "stream",
     "text": [
      "Demonstarting the functionality of the classes created above:\n",
      "mass function:  The apple weighs 150 grams.\n",
      "category function:  The/An apple is a fruit.\n",
      "\n",
      "fruits category function:  This fruit is a/an apple.\n",
      "fruits falvour function:  This fruit tastes sweet\n",
      "\n",
      "vegetables category function:  This vegetable is a/an Pumpkin.\n",
      "vegetable flavour function:  The vegetable tastes sweet/savoury\n",
      "\n",
      "category functions:  The/An Mars bar is a chocolate bar.\n",
      "chocolate producer function:  The/ An Mars bar is produced by Mars wrigley\n",
      "chocolate flavour description:  The An Mars bar tastes sweet\n",
      "\n"
     ]
    }
   ],
   "source": [
    "# Creating a Food Superclass\n",
    "class Food():\n",
    "    \"\"\"Creating a food class with name, kind and weight paramaters:\n",
    "    1. name - the name of the ingredient\n",
    "    2. kind - the kind of food it is\n",
    "    3. weight - an approximate ingredient weight\"\"\"\n",
    "    # Creating an object with name, kind, and weight paramaters\n",
    "    def __init__(self, name, kind, weight):\n",
    "        self.name = name\n",
    "        self.kind = kind\n",
    "        self.weight = weight\n",
    "    \n",
    "    # Creating a function that will print a line indicating the approximate weight of the ingredient\n",
    "    def mass_description(self):\n",
    "        return (\"The \" + self.name + \" weighs \" + str(self.weight) + \" grams.\")\n",
    "    # Creating a function that will print a line indicating the category of food\n",
    "    def category_description(self):\n",
    "        return (\"The/An \" + self.name + \" is a \" + self.kind + \".\")\n",
    "    \n",
    "# Creating subclasses for fruits, vegetables, and chocolates\n",
    "class Fruit(Food):\n",
    "    \"\"\"Creating a food class with name, kind, weight, and taste paramaters:\n",
    "    1. name - the name of the ingredient\n",
    "    2. kind - the kind of food it is\n",
    "    3. weight - an approximate ingredient weight\n",
    "    4. taste - a summary of the flavour\"\"\"\n",
    "    def __init__(self, name, kind, weight, taste):\n",
    "        self.name = name\n",
    "        self.kind = kind\n",
    "        self.weight = weight\n",
    "        self.taste = taste\n",
    "    # Creating a function that will print a line indicating the category of fruit\n",
    "    def category_description(self):\n",
    "        return (\"This fruit is a/an \" + self.kind + \".\")\n",
    "    # Creating a function that will print a line describing the fruit's flavour\n",
    "    def flavour_description(self):\n",
    "        return (\"This fruit tastes \" + self.taste)\n",
    "    \n",
    "class Vegetable(Food):\n",
    "    \"\"\"Creating a food class with name, kind, weight, and taste paramaters:\n",
    "    1. name - the name of the ingredient\n",
    "    2. kind - the kind of food it is\n",
    "    3. weight - an approximate ingredient weight\n",
    "    4. taste - a summary of the flavour\"\"\"\n",
    "    def __init__(self, name, kind, weight, taste):\n",
    "        self.name = name\n",
    "        self.kind = kind\n",
    "        self.weight = weight\n",
    "        self.taste = taste\n",
    "    \n",
    "    # Creating a function that will print a line indicating the category of vegetable \n",
    "    def category_description(self):\n",
    "        return (\"This vegetable is a/an \" + self.kind + \".\")\n",
    "    # Creating a function that will print a line describing the vegetable's flavour\n",
    "    def flavour_description(self):\n",
    "        return (\"The vegetable tastes \" + self.taste)\n",
    "    \n",
    "class Chocolate(Food):\n",
    "    \"\"\"Creating a food class with name, kind, weight, and taste paramaters:\n",
    "    1. name - the name of the ingredient\n",
    "    2. kind - the kind of food it is\n",
    "    3. weight - an approximate ingredient weight\n",
    "    4. taste - a summary of the flavour\"\"\"\n",
    "    def __init__(self, name, kind, weight, taste, brand):\n",
    "        self.name = name\n",
    "        self.kind = kind\n",
    "        self.weight = weight\n",
    "        self.taste = taste\n",
    "        self.brand = brand\n",
    "    \n",
    "    def flavour_description(self):\n",
    "        return (\"The An \" + self.name + \" tastes \" + self.taste)\n",
    "    def producer_description(self):\n",
    "        return ( \"The/ An \" + self.name + \" is produced by \" + self.brand )\n",
    "    \n",
    "print(\"Demonstarting the functionality of the classes created above:\")\n",
    "ingredient_1 = Food(\"apple\", \"fruit\", 150)\n",
    "print(\"mass function: \", ingredient_1.mass_description())\n",
    "print(\"category function: \", ingredient_1.category_description())\n",
    "print()\n",
    "\n",
    "pink_lady = Fruit(\"pink lady\", \"apple\", 100, \"sweet\")\n",
    "print(\"fruits category function: \", pink_lady.category_description())\n",
    "print(\"fruits falvour function: \", pink_lady.flavour_description())\n",
    "print()\n",
    "\n",
    "kent = Vegetable(\"Kent\", \"Pumpkin\", 5000, \"sweet/savoury\")\n",
    "print(\"vegetables category function: \", kent.category_description())\n",
    "print(\"vegetable flavour function: \", kent.flavour_description())\n",
    "\n",
    "print()\n",
    "\n",
    "mars = Chocolate(\"Mars bar\", \"chocolate bar\", 100, \"sweet\", \"Mars wrigley\")\n",
    "print(\"category functions: \", mars.category_description())\n",
    "print(\"chocolate producer function: \", mars.producer_description())\n",
    "print(\"chocolate flavour description: \", mars.flavour_description())\n",
    "print()\n"
   ]
  },
  {
   "cell_type": "markdown",
   "id": "d99c9fd2",
   "metadata": {},
   "source": [
    "### Section 2 - Aggregation and composition relationships"
   ]
  },
  {
   "cell_type": "markdown",
   "id": "7b765195",
   "metadata": {},
   "source": [
    "Composition is a situation where one class is dependent on another. Aggregation is less strict, the parts can function independently with one belonging to another. In practice this means that once class is dependent (tightly coupled) with another in composition, but this is not the case for aggregation where two classes are lossely coupled but independent of eachother (see below).\n",
    "\n",
    "The three real-life entities I have selected are A sports club, it's members, and game tickets.\n",
    "If Club does not exist, then Member does not make sense; this is a composition relationship.\n",
    "A member can own a ticket, but both entities will still exist independently of one another; this is an aggregation relationship."
   ]
  },
  {
   "cell_type": "code",
   "execution_count": 74,
   "id": "64e05fab",
   "metadata": {},
   "outputs": [
    {
     "name": "stdout",
     "output_type": "stream",
     "text": [
      "Registration number function for Member:stk1010-STK\n",
      "Member registration function for CLub: STK00001-Saint Kilda\n",
      "Owner function for ticket :This ticket belongs to stk100101\n",
      "Owner function for ticket :This ticket is not owned by a member\n"
     ]
    }
   ],
   "source": [
    "# Example of composition and aggregation\n",
    "# This replicates \n",
    "class Member():\n",
    "    \"\"\"Creating a class for members of a club with attributes of Id number\"\"\"\n",
    "    \n",
    "# Assigning given id value to the object's id attribute\n",
    "    def __init__(self, member_id):\n",
    "        self.member_id = member_id   \n",
    "# Creating a function that will print the Club and id number of that member    \n",
    "    def registration_number(self, club_id) -> str:\n",
    "        return str(self.member_id) + '-' + club_id\n",
    "\n",
    "class Club():\n",
    "    \"\"\" Creating a class for a Club with attributes of club_id and member_id\"\"\"\n",
    "    def __init__(self, club_id, member_id):\n",
    "        self._id = club_id\n",
    "        self._member = Member(member_id)                          # Composition relationship\n",
    "    def member_registration(self):\n",
    "        return self._member.registration_number(self._id)\n",
    "\n",
    "class Ticket():\n",
    "    \"\"\" Creating a class for a game ticket with attributes of ticket number and game dexcription\"\"\"\n",
    "    def __init__(self, ticket_num, game_descrip, member_id=None):\n",
    "        self.ticket_num = ticket_num\n",
    "        self.game_descrip = game_descrip\n",
    "        self.member_id = member_id          \n",
    "    def owner(self):                                              # Aggregation relationship\n",
    "        if self.member_id == None:\n",
    "            return (\"This ticket is not owned by a member\")\n",
    "        else:\n",
    "            return (\"This ticket belongs to \" + self.member_id)\n",
    "\n",
    "member1 = Member(\"stk1010\")\n",
    "print(\"Registration number function for Member:\" + member1.registration_number(club_id=\"STK\"))      \n",
    "\n",
    "club = Club('Saint Kilda', \"STK00001\") # this calls on the Member() class\n",
    "print(\"Member registration function for CLub: \"+ club.member_registration())\n",
    "\n",
    "my_ticket = Ticket(1, \"Saints vs Swans\", \"stk100101\")\n",
    "print(\"Owner function for ticket :\" + my_ticket.owner())\n",
    "\n",
    "ticket2 = Ticket(1, \"Saints vs Swans\")\n",
    "print(\"Owner function for ticket :\" + ticket2.owner())"
   ]
  },
  {
   "cell_type": "markdown",
   "id": "9a811067",
   "metadata": {},
   "source": [
    "### Section 3 - Polymorphism\n",
    "Polymorphism is a mechanism that enables the same function call to be used on mulitple object types. Essentially polymorphsim is when the same function can act on different objects; but not necessarily in the same way, observe below:"
   ]
  },
  {
   "cell_type": "code",
   "execution_count": 135,
   "id": "4bedbec6",
   "metadata": {},
   "outputs": [
    {
     "name": "stdout",
     "output_type": "stream",
     "text": [
      " 2+2 = 4\n",
      " '2' + '2' = 22\n",
      "The + operator can be called on numerical objects but also on string objects, acting differently on each\n",
      "\n",
      "The area of the circle object: \n",
      "50.26548245743669\n",
      "The area of the square object: \n",
      "6\n",
      "\n",
      "Polymorpohism of the area function allows each to operate appropriately on their object type.\n",
      "Polymorphism is also visible in section one as each category functions output has been altered to relfect it's object type.\n"
     ]
    }
   ],
   "source": [
    "import math\n",
    "# Example 1\n",
    "# Demonstratuion of polymorphism in operators\n",
    "answer = 2+2 \n",
    "print(\" 2+2 = \"+ str(answer))\n",
    "answer2 = \"2\"+\"2\"\n",
    "print(\" '2' + '2' = \"+ str(answer2))\n",
    "print(\"The + operator can be called on numerical objects but also on string objects, acting differently on each\\n\")\n",
    "\n",
    "# Example 2\n",
    "# Demonstration of polymorphism in different object types\n",
    "class Shape():\n",
    "    def __init__(self, shape, length = None, radius = None):\n",
    "        self.shape = shape\n",
    "        self.length = length\n",
    "        self.radius = radius\n",
    "        \n",
    "class Square(Shape):\n",
    "    def __init__(self, length):\n",
    "        self.length = length\n",
    "    def area(self):\n",
    "        print(self.length^2)\n",
    "\n",
    "class Circle(Shape):\n",
    "    def __init__(self, radius):\n",
    "        self.radius = radius\n",
    "    def area(self):\n",
    "        print(math.pi*self.radius**2)\n",
    "\n",
    "circle = Circle(4)\n",
    "print(\"The area of the circle object: \")\n",
    "circle.area()\n",
    "\n",
    "square = Square(4)\n",
    "print(\"The area of the square object: \")\n",
    "square.area()\n",
    "\n",
    "print(\"\\nPolymorpohism of the area function allows each to operate appropriately on their object type.\\nPolymorphism is also visible in section one as each category functions output has been altered to relfect it's object type.\")"
   ]
  }
 ],
 "metadata": {
  "kernelspec": {
   "display_name": "Python 3 (ipykernel)",
   "language": "python",
   "name": "python3"
  },
  "language_info": {
   "codemirror_mode": {
    "name": "ipython",
    "version": 3
   },
   "file_extension": ".py",
   "mimetype": "text/x-python",
   "name": "python",
   "nbconvert_exporter": "python",
   "pygments_lexer": "ipython3",
   "version": "3.9.7"
  }
 },
 "nbformat": 4,
 "nbformat_minor": 5
}
