{
 "cells": [
  {
   "cell_type": "code",
   "execution_count": 102,
   "id": "3f4611aa",
   "metadata": {},
   "outputs": [
    {
     "name": "stdout",
     "output_type": "stream",
     "text": [
      "{'Aday':         Date type variable  value\n",
      "0  1/01/2022    A      day   10.0\n",
      "4  2/01/2022    A      day   20.0\n",
      "8  3/01/2022    A      day    5.0, 'Anight':          Date type variable  value\n",
      "12  1/01/2022    A    night    5.0\n",
      "16  2/01/2022    A    night   10.0\n",
      "20  3/01/2022    A    night   10.0, 'Bday':         Date type variable  value\n",
      "1  1/01/2022    B      day   25.0\n",
      "5  2/01/2022    B      day   30.0\n",
      "9  3/01/2022    B      day   15.0, 'Bnight':          Date type variable  value\n",
      "13  1/01/2022    B    night   10.0\n",
      "17  2/01/2022    B    night    0.0\n",
      "21  3/01/2022    B    night   15.0, 'Cday':          Date type variable  value\n",
      "2   1/01/2022    C      day   15.0\n",
      "6   2/01/2022    C      day   10.0\n",
      "10  3/01/2022    C      day    5.0, 'Cnight':          Date type variable  value\n",
      "14  1/01/2022    C    night   10.0\n",
      "18  2/01/2022    C    night   10.0\n",
      "22  3/01/2022    C    night    5.0, 'Dday':          Date type variable  value\n",
      "3   1/01/2022    D      day    5.0\n",
      "7   2/01/2022    D      day   20.0\n",
      "11  3/01/2022    D      day    0.0, 'Dnight':          Date type variable  value\n",
      "15  1/01/2022    D    night    0.0\n",
      "19  2/01/2022    D    night    5.0\n",
      "23  3/01/2022    D    night    0.0}\n"
     ]
    },
    {
     "data": {
      "image/png": "[encoded data removed]",
      "text/plain": [
       "<Figure size 720x720 with 1 Axes>"
      ]
     },
     "metadata": {
      "needs_background": "light"
     },
     "output_type": "display_data"
    }
   ],
   "source": [
    "import pandas as pd\n",
    "import numpy as np\n",
    "import matplotlib.pyplot as plt\n",
    "import seaborn as sns\n",
    "import datetime\n",
    "%matplotlib inline\n",
    "\n",
    "\n",
    "\n",
    "test = pd.read_csv('wt.csv')\n",
    "test = test.fillna(0)\n",
    "\n",
    "def convertdate(dstring):\n",
    "    return datetime.datetime.strptime(dstring, '%d/%m/%Y')\n",
    "\n",
    "for row in test['Date']:\n",
    "    convertdate(row)\n",
    "    \n",
    "# Long form\n",
    "test1 = pd.melt(test, id_vars = ['Date', 'type'], value_vars=['day', 'night'])\n",
    "\n",
    "# Plotting\n",
    "sns.set_palette(\"Blues\")\n",
    "\n",
    "labels = test1['Date'].drop_duplicates()  # getting dates for x-axis labels\n",
    "x0 = np.arange(len(labels))  # needed for spacing\n",
    "\n",
    "# converting dataframe to dictionary\n",
    "test1.to_dict()\n",
    "\n",
    "\n",
    "# create the data groups with a dict comprehension and groupby\n",
    "data = {''.join(k): v for k, v in test1.groupby(['type', 'variable'])}\n",
    "print(data)\n",
    "# build the plots\n",
    "variable = test1.variable.unique()\n",
    "stacks = len(variable)  # how many stacks in each group for a tick location\n",
    "types = test1.type.unique()\n",
    "\n",
    "# set the width\n",
    "w = 0.35\n",
    "\n",
    "# this needs to be adjusted based on the number of stacks; each location needs to be split into the proper number of locations\n",
    "x1 = [x0 - w/stacks, x0 + w/stacks]\n",
    "\n",
    "fig, ax = plt.subplots(figsize = (10,10))\n",
    "for x, var in zip(x1, variable):\n",
    "    bottom = 0\n",
    "    for typ in types:\n",
    "        height = data[f'{typ}{var}'].value.to_numpy()\n",
    "        b = ax.bar(x = x, height = height, width = w, bottom = bottom)\n",
    "        ax.bar_label(b, label_type='center', fontsize = 14)\n",
    "        bottom += height\n",
    "\n",
    "ax.set_xticks(x0)\n",
    "ax.legend(['A','B', 'C', 'D'])\n",
    "_ = ax.set_xticklabels(labels)"
   ]
  },
  {
   "cell_type": "code",
   "execution_count": null,
   "id": "0de44b60",
   "metadata": {},
   "outputs": [],
   "source": []
  }
 ],
 "metadata": {
  "kernelspec": {
   "display_name": "Python 3 (ipykernel)",
   "language": "python",
   "name": "python3"
  },
  "language_info": {
   "codemirror_mode": {
    "name": "ipython",
    "version": 3
   },
   "file_extension": ".py",
   "mimetype": "text/x-python",
   "name": "python",
   "nbconvert_exporter": "python",
   "pygments_lexer": "ipython3",
   "version": "3.9.12"
  }
 },
 "nbformat": 4,
 "nbformat_minor": 5
}
